{
 "cells": [
  {
   "cell_type": "markdown",
   "metadata": {},
   "source": [
    "\n",
    "\n",
    "\n",
    "# Vision Transformer (ViT)\n",
    "### Alumna: Qualindi Noelia\n",
    "#### Año 2024 - Cohorte 14\n",
    "\n",
    "El Vision Transformer (ViT), propuesto por Dosovitskiy et al. (2020), utiliza una arquitectura basada en Transformers para tareas de visión por computadora. A diferencia de las CNN, el ViT aplica **Multi-Head Self-Attention (MHSA)** para modelar relaciones globales entre partes de la imagen.\n",
    "\n",
    "## Arquitectura\n",
    "\n",
    "El ViT divide las imágenes en **patches** y las convierte en una secuencia de vectores de características (embeddings), que luego se procesan mediante capas Transformer. A continuación, se aplica el mecanismo de self-attention para modelar las relaciones entre estos patches.\n",
    "\n",
    "- **Embeddings**: Cada parche se aplana y se proyecta en un espacio de mayor dimensión.\n",
    "- **Positional Encoding**: Se agrega un embebido posicional para cada parche, permitiendo que el modelo capture las posiciones espaciales.\n",
    "---\n",
    "## ¿Cómo funciona el Self-Attention en ViT?\n",
    "\n",
    "Cada uno de los parches se considera un token similar a las palabras en el procesamiento del lenguaje natural (NLP).\n",
    "En el mecanismo de Self-Attention, cada uno de estos tokens (parches) puede interactuar con los demás tokens. Para hacerlo, el modelo calcula tres vectores para cada token: \n",
    "\n",
    "- **Query:** Representa qué está buscando el token.\n",
    "\n",
    "- **Key:** Representa una descripción de los demás tokens.\n",
    "\n",
    "- **Value:** Es la información que tiene cada token y que podría ser relevante para otros tokens.\n",
    "\n",
    "Luego, se calculan las similitudes entre el *Query* de un token y el *Key* de todos los demás tokens, lo que genera una \"puntuación de atención\". Esta puntuación determina cuánta atención debe prestar un token a otros. El valor *Value* de cada token se pondera según esta puntuación, lo que permite que un token integre información de todo el resto de la imagen.\n",
    "\n",
    "Este mecanismo es lo que permite que cada token (parche) en una imagen entienda no solo lo que está ocurriendo en su área local, sino también pueda considerar qué está sucediendo en otras partes de la imagen. \n",
    "\n",
    "La fórmula utilizada para calcular la atención es:\n",
    "\n",
    "$$\n",
    "\\text{Attention}(Q, K, V) = \\text{softmax}\\left(\\frac{QK^T}{\\sqrt{d_k}}\\right)V\n",
    "$$\n",
    "\n",
    "Donde:\n",
    "- **$Q$ (queries)**, **$K$ (keys)**, y **$V$ (values)** son las proyecciones lineales de los embeddings de los patches.\n",
    "- **$d_k$** es la dimensionalidad de las proyecciones, usada para escalar el producto punto y estabilizar el entrenamiento.\n",
    "\n",
    "Este proceso se aplica en múltiples cabezas, lo que permite al modelo aprender distintas representaciones.\n",
    "\n",
    "El mecanismo de self-attention utiliza las proyecciones:\n",
    "\n",
    "$$Q = XW_Q, \\quad K = XW_K, \\quad V = XW_V$$\n",
    "\n",
    "Donde $X$ es el input y $W_Q$, $W_K$, y $W_V$ son matrices de pesos aprendidos.\n",
    "\n",
    "Después de aplicar el mecanismo de Self-Attention, los tokens se actualizan, ya que ahora tienen información de los demás tokens. Este proceso se repite varias veces en distintas capas de atención, profundizando la interacción entre los parches.\n",
    "\n",
    "Salida Final: Después de aplicar múltiples capas de Self-Attention, el modelo agrupa los tokens procesados para predecir la clase de la imagen o realizar otras tareas de visión.\n",
    "\n",
    "\n",
    "![Vision Transformer](vit_gif.gif)\n",
    "\n",
    "*Crédito: [lucidrains](https://github.com/lucidrains/vit-pytorch)*\n"
   ]
  },
  {
   "cell_type": "markdown",
   "metadata": {},
   "source": [
    "## Tareas:\n",
    "\n",
    "1. **Implementar la arquitectura de un Vision Transformer** \n",
    "\n",
    "2. **Ingresar y ajustar los parametros del modelo***\n",
    "\n",
    "3. **Probar diferentes técnicas de data augmentation** "
   ]
  },
  {
   "cell_type": "code",
   "execution_count": 10,
   "metadata": {},
   "outputs": [
    {
     "name": "stdout",
     "output_type": "stream",
     "text": [
      "Collecting scikit-learn==1.5.2\n",
      "  Using cached scikit_learn-1.5.2-cp311-cp311-macosx_12_0_arm64.whl.metadata (13 kB)\n",
      "Requirement already satisfied: numpy>=1.19.5 in /opt/anaconda3/envs/anaconda_python_3_11/lib/python3.11/site-packages (from scikit-learn==1.5.2) (1.23.5)\n",
      "Requirement already satisfied: scipy>=1.6.0 in /opt/anaconda3/envs/anaconda_python_3_11/lib/python3.11/site-packages (from scikit-learn==1.5.2) (1.10.0)\n",
      "Requirement already satisfied: joblib>=1.2.0 in /opt/anaconda3/envs/anaconda_python_3_11/lib/python3.11/site-packages (from scikit-learn==1.5.2) (1.4.0)\n",
      "Requirement already satisfied: threadpoolctl>=3.1.0 in /opt/anaconda3/envs/anaconda_python_3_11/lib/python3.11/site-packages (from scikit-learn==1.5.2) (3.5.0)\n",
      "Using cached scikit_learn-1.5.2-cp311-cp311-macosx_12_0_arm64.whl (11.0 MB)\n",
      "Installing collected packages: scikit-learn\n",
      "  Attempting uninstall: scikit-learn\n",
      "    Found existing installation: scikit-learn 1.5.0\n",
      "    Uninstalling scikit-learn-1.5.0:\n",
      "      Successfully uninstalled scikit-learn-1.5.0\n",
      "Successfully installed scikit-learn-1.5.2\n"
     ]
    }
   ],
   "source": [
    "# !pip install scikit-learn==1.5.2"
   ]
  },
  {
   "cell_type": "code",
   "execution_count": 212,
   "metadata": {},
   "outputs": [
    {
     "name": "stdout",
     "output_type": "stream",
     "text": [
      "Dispositivo:  mps\n",
      "Torch version:  2.2.0.post100\n"
     ]
    }
   ],
   "source": [
    "from tqdm import tqdm\n",
    "import numpy as np\n",
    "import math\n",
    "import os\n",
    "import torch\n",
    "from torch import Tensor\n",
    "import torch.nn as nn\n",
    "import torchvision.transforms.functional as TF\n",
    "import matplotlib.pyplot as plt\n",
    "from PIL import Image\n",
    "import torch.optim as optim\n",
    "from torch.optim.lr_scheduler import StepLR\n",
    "import torch.nn.functional as F\n",
    "import torch\n",
    "from torchvision import datasets, transforms\n",
    "import torch._dynamo\n",
    "torch._dynamo.config.suppress_errors = True\n",
    "from trainer import Trainer\n",
    "\n",
    "device = 'cuda' if torch.cuda.is_available() else 'mps' if torch.backends.mps.is_available() else 'cpu'\n",
    "print('Dispositivo: ',device)\n",
    "print('Torch version: ',torch.__version__)"
   ]
  },
  {
   "cell_type": "code",
   "execution_count": 93,
   "metadata": {},
   "outputs": [],
   "source": [
    "# La configuración, carga y preprocesamiento\n",
    "class ConfigPreprocess:\n",
    "    def __init__(self, device: str, img_path: str, img_size: int, patch_size: int):\n",
    "        self.device = device\n",
    "        self.img_path = img_path\n",
    "        self.img_size = img_size\n",
    "        self.patch_size = patch_size\n",
    "        self.test_img = self.load_image()\n",
    "\n",
    "    def load_image(self):\n",
    "        return TF.to_tensor(Image.open(self.img_path).resize((self.img_size, self.img_size))).unsqueeze(0).to(self.device)\n",
    "\n",
    "    def extract_patches(self, image: Tensor) -> Tensor:\n",
    "        patches = image.unfold(1, self.patch_size, self.patch_size).unfold(2, self.patch_size, self.patch_size)\n",
    "        patches = patches.contiguous().view(image.shape[0], -1, self.patch_size, self.patch_size)\n",
    "        return patches\n",
    "    \n",
    "\n",
    "class PatchEmbedding(nn.Module):\n",
    "    def __init__(self, img_size: int, patch_size: int, in_channels: int = 3, embed_dim: int = 8):\n",
    "        super(PatchEmbedding, self).__init__()\n",
    "        self.img_size = img_size\n",
    "        self.patch_size = patch_size\n",
    "        self.num_patches = (img_size // patch_size) ** 2\n",
    "        self.proj = nn.Conv2d(in_channels, embed_dim, kernel_size=patch_size, stride=patch_size)\n",
    "\n",
    "    def forward(self, x):\n",
    "        x = self.proj(x)  # (B, embed_dim, H/patch_size, W/patch_size)\n",
    "        x = x.flatten(2)  # (B, embed_dim, num_patches)\n",
    "        x = x.transpose(1, 2)  # (B, num_patches, embed_dim)\n",
    "        return x\n",
    "\n",
    "class PositionalEncodingLearned(nn.Module):\n",
    "    def __init__(self, num_patches, embed_dim):\n",
    "        super(PositionalEncodingLearned, self).__init__()\n",
    "        self.pos_embedding = nn.Parameter(torch.randn(1, num_patches, embed_dim))\n",
    "\n",
    "    def forward(self, x):\n",
    "        return x + self.pos_embedding"
   ]
  },
  {
   "cell_type": "code",
   "execution_count": 23,
   "metadata": {},
   "outputs": [],
   "source": [
    "# Parámetros\n",
    "img_path = \"raccoon.jpg\"\n",
    "img_size = 900\n",
    "patch_size = 64\n",
    "embed_dim = 8\n",
    "patch_idx = 0  # El índice del parche para el cual queres visualiizar la codificación posicional\n",
    "\n",
    "# Preprocesamiento\n",
    "config = ConfigPreprocess(device,img_path, img_size, patch_size)\n",
    "\n",
    "# Extracción de parches y visualización\n",
    "patches = config.extract_patches(config.test_img.squeeze(0))\n",
    "\n",
    "# Generación de embeddings\n",
    "embedded_patches = PatchEmbedding(img_size, patch_size, 3, embed_dim).to(config.device)\n",
    "patches = embedded_patches(config.test_img)\n",
    "\n",
    "# Codificación posicional\n",
    "\n",
    "num_patches = (img_size // patch_size) ** 2\n",
    "try:\n",
    "    positional_encoding = PositionalEncodingLearned(num_patches, embed_dim).to(config.device)\n",
    "    pos_embeddings = positional_encoding(patches)\n",
    "\n",
    "except Exception as e:\n",
    "    print(f\"Revise la existencia de la función PositionalEncodingLearned. Se produjo error durante la compilación: \\n {e}.\")\n"
   ]
  },
  {
   "cell_type": "markdown",
   "metadata": {},
   "source": [
    "# Transformer Encoder"
   ]
  },
  {
   "cell_type": "code",
   "execution_count": 24,
   "metadata": {},
   "outputs": [],
   "source": [
    "class TransformerEncoder(nn.Module):\n",
    "    def __init__(self, embed_dim: int, num_heads: int, ff_dim: int, num_layers: int, dropout=0.1):\n",
    "        super(TransformerEncoder, self).__init__()\n",
    "        encoder_layer = nn.TransformerEncoderLayer(d_model=embed_dim, nhead=num_heads, dim_feedforward=ff_dim, dropout=dropout)\n",
    "        self.transformer_encoder = nn.TransformerEncoder(encoder_layer, num_layers=num_layers)\n",
    "\n",
    "    def forward(self, x):\n",
    "        return self.transformer_encoder(x)"
   ]
  },
  {
   "cell_type": "markdown",
   "metadata": {},
   "source": [
    "# Vision Transformer\n",
    "Model\n",
    "> \n",
    "```ViT-Base ViT-Large ViT-Huge\n",
    "    Layers Hidden size D 12 768\n",
    "    24 1024 32 1280\n",
    "    MLP size Heads\n",
    "    Params\n",
    "    3072 12 86M 4096 16 307M 5120 16 632M\n",
    "```\n"
   ]
  },
  {
   "cell_type": "code",
   "execution_count": 183,
   "metadata": {},
   "outputs": [],
   "source": [
    "class VisionTransformer(nn.Module):\n",
    "    def __init__(self, img_size, patch_size, num_classes, embed_dim, num_heads, ff_dim, num_layers, dropout):\n",
    "        super(VisionTransformer, self).__init__()\n",
    "        self.img_size = img_size\n",
    "        self.patch_size = patch_size\n",
    "        self.embed_dim = embed_dim\n",
    "        \n",
    "        self.num_patches = (img_size // patch_size) * (img_size // patch_size)  # Para imágenes cuadradas\n",
    "        \n",
    "        # Capa de patch embedding\n",
    "        self.patch_embedding = nn.Conv2d(3, embed_dim, kernel_size=patch_size, stride=patch_size)\n",
    "        \n",
    "        # inic. de pos_embedding con el tamaño correcto\n",
    "        self.pos_embedding = nn.Parameter(torch.randn(1, self.num_patches, embed_dim)) # se ajusta al numero de parches\n",
    "        \n",
    "        # capa del Transformer\n",
    "        transformer_layer = nn.TransformerEncoderLayer(\n",
    "            d_model=embed_dim,\n",
    "            nhead=num_heads,\n",
    "            dim_feedforward=ff_dim,\n",
    "            dropout=dropout\n",
    "        )\n",
    "        self.transformer_layers = nn.TransformerEncoder(transformer_layer, num_layers=num_layers)\n",
    "        \n",
    "        # Capa de clasificación\n",
    "        self.fc = nn.Linear(embed_dim, num_classes)\n",
    "        \n",
    "    def forward(self, x):\n",
    "        #print(f\"Input shape: {x.shape}\") \n",
    "        \n",
    "        # capa de embedding\n",
    "        x = self.patch_embedding(x)  # Shape: [batch_size, embed_dim, num_patches, num_patches]\n",
    "        \n",
    "        # se redimensiona para que sea compatible con el modelo Transformer\n",
    "        x = x.flatten(2).transpose(1, 2)  # Shape: [batch_size, num_patches, embed_dim]\n",
    "        \n",
    "        #print(f\"After patch embedding shape: {x.shape}\")\n",
    "        \n",
    "        # Sumar el pos_embedding\n",
    "        x = x + self.pos_embedding  # Ahora debería coincidir el tamaño de los tensores\n",
    "        \n",
    "        #print(f\"After adding pos_embedding shape: {x.shape}\")\n",
    "        \n",
    "        # capas de Transformer\n",
    "        x = self.transformer_layers(x)\n",
    "        \n",
    "        # primer token para la clasificación\n",
    "        x = x[:, 0]\n",
    "        \n",
    "        # Clasificación\n",
    "        x = self.fc(x)\n",
    "        return x\n"
   ]
  },
  {
   "cell_type": "markdown",
   "metadata": {},
   "source": [
    "# CIFAR10"
   ]
  },
  {
   "cell_type": "code",
   "execution_count": 4,
   "metadata": {},
   "outputs": [
    {
     "name": "stdout",
     "output_type": "stream",
     "text": [
      "Downloading https://www.cs.toronto.edu/~kriz/cifar-10-python.tar.gz to ./data/cifar-10-python.tar.gz\n"
     ]
    },
    {
     "name": "stderr",
     "output_type": "stream",
     "text": [
      "100%|██████████| 170498071/170498071 [08:15<00:00, 344071.55it/s] \n"
     ]
    },
    {
     "name": "stdout",
     "output_type": "stream",
     "text": [
      "Extracting ./data/cifar-10-python.tar.gz to ./data\n",
      "Files already downloaded and verified\n"
     ]
    }
   ],
   "source": [
    "\n",
    "# Define transformations for the input data\n",
    "transform = transforms.Compose([\n",
    "    #transforms.Resize((256, 256)),\n",
    "    transforms.RandomHorizontalFlip(),\n",
    "    transforms.RandomResizedCrop((32, 32), scale=(0.8, 1.0), ratio=(0.9, 1.1)),\n",
    "    transforms.ToTensor(),\n",
    "    transforms.Normalize([0.49139968, 0.48215841, 0.44653091], [0.24703223, 0.24348513, 0.26158784]),\n",
    "    #transforms.ToTensor(),\n",
    "    #transforms.Normalize(mean=[0.485, 0.456, 0.406], std=[0.229, 0.224, 0.225])\n",
    "])"
   ]
  },
  {
   "cell_type": "code",
   "execution_count": null,
   "metadata": {},
   "outputs": [],
   "source": [
    "batch_size = 512 #original"
   ]
  },
  {
   "cell_type": "code",
   "execution_count": 113,
   "metadata": {},
   "outputs": [
    {
     "name": "stdout",
     "output_type": "stream",
     "text": [
      "Files already downloaded and verified\n",
      "Files already downloaded and verified\n"
     ]
    }
   ],
   "source": [
    "train_dataset = datasets.CIFAR10(root='./data', train=True, download=True, transform=transform)\n",
    "train_loader = torch.utils.data.DataLoader(train_dataset, batch_size=batch_size, shuffle=True)\n",
    "\n",
    "test_dataset = datasets.CIFAR10(root='./data', train=False, download=True, transform=transform)\n",
    "test_loader = torch.utils.data.DataLoader(test_dataset, batch_size=batch_size, shuffle=True)"
   ]
  },
  {
   "cell_type": "code",
   "execution_count": 28,
   "metadata": {},
   "outputs": [
    {
     "name": "stdout",
     "output_type": "stream",
     "text": [
      "Tamaño de carpeta: 340.19 MB\n"
     ]
    }
   ],
   "source": [
    "def get_folder_size(folder_path :os.PathLike) -> str:\n",
    "    total_size = 0\n",
    "    for dirpath, _, filenames in os.walk(folder_path):\n",
    "        for filename in filenames:\n",
    "            file_path = os.path.join(dirpath, filename)\n",
    "\n",
    "            if not os.path.islink(file_path):\n",
    "                total_size += os.path.getsize(file_path)\n",
    "\n",
    "    if total_size == 0:\n",
    "        return \"0B\"\n",
    "    size_name = (\"B\", \"KB\", \"MB\", \"GB\", \"TB\")\n",
    "    i = int(math.floor(math.log(total_size, 1024)))\n",
    "    p = math.pow(1024, i)\n",
    "    s = round(total_size / p, 2)\n",
    "    return f\"{s} {size_name[i]}\"\n",
    "\n",
    "\n",
    "folder_path = './data'\n",
    "size_in_bytes = get_folder_size(folder_path)\n",
    "print(f\"Tamaño de carpeta: {size_in_bytes}\")"
   ]
  },
  {
   "cell_type": "markdown",
   "metadata": {},
   "source": [
    "# Modelo"
   ]
  },
  {
   "cell_type": "code",
   "execution_count": 114,
   "metadata": {},
   "outputs": [
    {
     "name": "stderr",
     "output_type": "stream",
     "text": [
      "/opt/anaconda3/envs/anaconda_python_3_11/lib/python3.11/site-packages/torch/nn/modules/transformer.py:286: UserWarning: enable_nested_tensor is True, but self.use_nested_tensor is False because encoder_layer.self_attn.batch_first was not True(use batch_first for better inference performance)\n",
      "  warnings.warn(f\"enable_nested_tensor is True, but self.use_nested_tensor is False because {why_not_sparsity_fast_path}\")\n"
     ]
    },
    {
     "name": "stdout",
     "output_type": "stream",
     "text": [
      "Parametros del modelo: [Parameter containing:\n",
      "tensor([[[ 0.1253, -0.9531,  0.8763,  ..., -0.2667, -0.8534, -0.2254],\n",
      "         [ 0.3769,  0.9383, -0.6187,  ...,  0.6517, -1.5488,  0.0236],\n",
      "         [ 0.6100,  1.8860,  1.1434,  ..., -0.0172, -0.3160,  0.7455],\n",
      "         ...,\n",
      "         [-0.6163,  0.8316,  0.1501,  ..., -1.1981,  0.1617, -1.1552],\n",
      "         [ 0.1291, -0.9211, -1.0002,  ...,  1.3439, -0.6244,  0.4138],\n",
      "         [ 0.0333, -0.3689,  0.6652,  ..., -0.3620, -1.0711,  0.9535]]],\n",
      "       device='mps:0', requires_grad=True), Parameter containing:\n",
      "tensor([[[[-8.6968e-03, -1.2294e-02, -1.3524e-02,  ...,  1.1594e-02,\n",
      "           -1.1964e-02, -2.8904e-03],\n",
      "          [ 1.6770e-02, -1.2499e-02,  3.7328e-04,  ...,  1.5082e-02,\n",
      "           -1.5775e-02, -9.1742e-03],\n",
      "          [-2.1499e-04,  5.3991e-03, -1.4973e-02,  ...,  9.0713e-03,\n",
      "            5.5406e-03,  9.7892e-03],\n",
      "          ...,\n",
      "          [ 1.5095e-02, -5.1751e-03,  1.4752e-02,  ...,  1.1794e-03,\n",
      "           -6.9522e-03, -1.5262e-02],\n",
      "          [ 1.3589e-02, -4.2888e-03, -1.7013e-02,  ..., -1.2946e-02,\n",
      "           -1.1057e-02,  1.6109e-03],\n",
      "          [ 1.4690e-02,  1.4512e-02, -1.2502e-02,  ..., -8.5578e-03,\n",
      "            3.0611e-03, -1.1255e-02]],\n",
      "\n",
      "         [[ 4.3857e-03, -1.6314e-02,  1.9355e-03,  ...,  2.1122e-03,\n",
      "            9.6940e-03, -1.4298e-02],\n",
      "          [-8.3764e-03,  1.1496e-02, -8.5734e-03,  ..., -1.3306e-03,\n",
      "            1.2707e-02, -8.0295e-03],\n",
      "          [ 7.5579e-03,  1.1872e-02, -8.2347e-03,  ...,  3.9840e-03,\n",
      "           -2.2870e-03, -5.9314e-04],\n",
      "          ...,\n",
      "          [-8.6440e-03,  8.2841e-03, -7.1964e-03,  ...,  9.1979e-03,\n",
      "           -9.0773e-03,  1.7394e-02],\n",
      "          [ 1.5478e-02,  1.9596e-03, -1.0499e-02,  ..., -1.2260e-02,\n",
      "           -1.5700e-02, -4.7700e-03],\n",
      "          [-2.3008e-03,  1.1952e-02,  1.7020e-02,  ..., -8.3250e-03,\n",
      "           -1.6446e-02,  3.7399e-04]],\n",
      "\n",
      "         [[-1.7484e-02, -1.4234e-02, -7.3673e-03,  ..., -1.5453e-02,\n",
      "           -1.1043e-02, -1.5978e-02],\n",
      "          [ 7.0069e-03, -7.4758e-03, -4.2073e-04,  ..., -1.2242e-02,\n",
      "            1.7216e-02,  3.6428e-03],\n",
      "          [ 1.0487e-03, -5.4146e-03,  1.4820e-02,  ..., -2.5074e-03,\n",
      "           -1.3447e-02,  2.6287e-03],\n",
      "          ...,\n",
      "          [ 7.5092e-03, -1.5781e-02,  1.4924e-02,  ...,  1.7630e-02,\n",
      "           -1.4180e-02, -1.1175e-02],\n",
      "          [ 1.7671e-02, -1.0101e-02, -1.5849e-02,  ...,  3.2894e-03,\n",
      "            8.4796e-03, -1.7376e-02],\n",
      "          [ 1.3012e-02, -5.9755e-03, -1.5177e-02,  ...,  2.9000e-03,\n",
      "           -1.4185e-02, -1.2727e-02]]],\n",
      "\n",
      "\n",
      "        [[[ 1.8190e-03,  7.7305e-03,  4.2351e-04,  ..., -1.5633e-03,\n",
      "           -1.0323e-02,  9.6336e-03],\n",
      "          [ 2.3661e-03, -1.7120e-03,  9.6338e-03,  ..., -1.7971e-03,\n",
      "            1.0842e-02,  1.4046e-04],\n",
      "          [ 2.2365e-03, -9.1707e-03,  8.9326e-03,  ..., -1.7155e-02,\n",
      "           -1.4884e-02,  1.6654e-02],\n",
      "          ...,\n",
      "          [ 6.9411e-03, -1.1529e-02,  1.6529e-02,  ..., -9.0399e-04,\n",
      "           -9.8004e-03,  2.3268e-03],\n",
      "          [-1.6185e-02, -9.5142e-03, -7.1185e-03,  ..., -5.7567e-03,\n",
      "           -4.7232e-03, -6.3328e-03],\n",
      "          [-2.1568e-03, -4.3575e-03, -1.7467e-02,  ...,  5.0828e-03,\n",
      "            5.3759e-03,  3.3281e-03]],\n",
      "\n",
      "         [[-5.7322e-03,  7.3666e-03, -1.5719e-02,  ..., -8.9775e-03,\n",
      "            9.1757e-03,  3.6846e-03],\n",
      "          [ 1.6538e-02,  3.1844e-03, -1.3493e-02,  ...,  1.0011e-02,\n",
      "           -1.7529e-02, -8.1832e-04],\n",
      "          [ 1.5824e-02,  5.2438e-03, -9.4494e-03,  ...,  1.2370e-03,\n",
      "           -5.3721e-03, -5.9369e-03],\n",
      "          ...,\n",
      "          [-1.6230e-02,  7.8967e-03, -1.1934e-02,  ...,  7.1541e-03,\n",
      "            4.2552e-03,  1.6062e-04],\n",
      "          [-1.4882e-02, -4.0778e-03, -4.9869e-03,  ...,  1.1071e-02,\n",
      "           -1.2548e-02,  1.5127e-03],\n",
      "          [ 8.8003e-03,  9.9899e-03,  5.6116e-03,  ..., -1.6632e-02,\n",
      "           -1.1409e-02,  9.3806e-03]],\n",
      "\n",
      "         [[-3.4533e-03,  1.4599e-02,  4.7892e-03,  ..., -1.7102e-02,\n",
      "            9.4631e-03, -8.1485e-03],\n",
      "          [-3.3061e-03,  1.5335e-02,  1.5113e-02,  ...,  2.6163e-03,\n",
      "            4.0446e-04,  1.5238e-02],\n",
      "          [ 1.2903e-03, -1.7199e-02,  1.2248e-02,  ..., -1.6703e-02,\n",
      "           -5.9368e-03, -1.2278e-02],\n",
      "          ...,\n",
      "          [ 8.9137e-03,  5.5962e-03,  1.5612e-02,  ..., -1.6047e-02,\n",
      "            7.9028e-03, -7.7678e-05],\n",
      "          [-7.6343e-04, -9.5419e-03,  1.7644e-02,  ..., -4.8432e-03,\n",
      "            1.1267e-02, -5.1221e-03],\n",
      "          [ 3.0765e-03,  1.1878e-03,  6.2625e-03,  ...,  6.5140e-04,\n",
      "            4.0323e-03,  1.1940e-02]]],\n",
      "\n",
      "\n",
      "        [[[ 4.4766e-03, -3.0121e-03,  4.5896e-03,  ..., -2.3067e-03,\n",
      "            1.2791e-02,  5.7488e-03],\n",
      "          [ 1.2920e-03,  1.6024e-02, -9.3769e-04,  ...,  5.4731e-03,\n",
      "           -5.1226e-03,  4.7966e-03],\n",
      "          [-1.3078e-02, -1.7833e-02,  3.5917e-03,  ...,  1.2900e-03,\n",
      "           -2.8956e-03,  5.8273e-03],\n",
      "          ...,\n",
      "          [-7.7866e-03,  1.6075e-02, -1.0931e-02,  ...,  8.1765e-03,\n",
      "            3.4360e-03, -1.4489e-02],\n",
      "          [-1.4844e-02,  7.3463e-04, -1.3446e-02,  ..., -1.4367e-02,\n",
      "            5.1664e-03, -1.2131e-03],\n",
      "          [ 4.7942e-03, -1.7187e-02, -9.9443e-03,  ...,  4.7774e-03,\n",
      "            1.2936e-02,  9.5946e-03]],\n",
      "\n",
      "         [[-1.3594e-02,  6.6781e-03,  2.1657e-03,  ..., -1.1723e-02,\n",
      "            1.2342e-02, -1.5321e-02],\n",
      "          [-1.6299e-02, -1.6349e-02,  5.9552e-03,  ...,  1.0878e-02,\n",
      "           -1.0838e-02,  3.9069e-03],\n",
      "          [ 2.5572e-03, -1.0911e-02,  1.3589e-02,  ..., -1.1210e-02,\n",
      "           -1.3852e-02, -1.1701e-02],\n",
      "          ...,\n",
      "          [-8.8648e-03, -8.4635e-03, -1.8152e-03,  ...,  1.3601e-03,\n",
      "           -1.2591e-02, -9.8046e-03],\n",
      "          [ 1.8919e-03,  9.4488e-04, -1.4191e-02,  ..., -2.1854e-03,\n",
      "           -8.5411e-04, -8.1005e-03],\n",
      "          [-4.4441e-03,  9.3784e-03,  5.6343e-03,  ..., -9.2334e-06,\n",
      "           -4.8252e-03,  7.4176e-03]],\n",
      "\n",
      "         [[ 1.7862e-03, -4.0818e-03,  1.7254e-02,  ..., -5.5736e-03,\n",
      "            2.1665e-03, -1.9079e-03],\n",
      "          [-5.5294e-03, -6.7299e-03,  1.3320e-02,  ..., -5.0200e-03,\n",
      "           -1.2723e-02, -8.6832e-03],\n",
      "          [-1.0571e-02, -1.6847e-02, -9.0241e-03,  ...,  1.7148e-02,\n",
      "           -4.4739e-03, -9.1833e-04],\n",
      "          ...,\n",
      "          [ 1.0695e-02, -1.5298e-02,  1.1324e-02,  ...,  4.8323e-03,\n",
      "           -8.0120e-03, -3.6553e-03],\n",
      "          [ 2.8798e-03, -1.7812e-02,  8.7719e-03,  ...,  7.2426e-05,\n",
      "           -1.0552e-02, -8.3324e-05],\n",
      "          [-1.3536e-02, -1.2436e-02,  1.0460e-02,  ...,  4.4226e-03,\n",
      "           -1.2862e-02, -9.6872e-03]]],\n",
      "\n",
      "\n",
      "        ...,\n",
      "\n",
      "\n",
      "        [[[ 1.7437e-02, -1.6440e-02, -4.0217e-03,  ..., -1.2194e-03,\n",
      "           -4.2703e-03,  1.3823e-02],\n",
      "          [-1.6811e-02, -1.7386e-03, -1.4330e-02,  ..., -9.0482e-03,\n",
      "            3.8648e-03, -1.5119e-02],\n",
      "          [-3.4989e-04,  6.2829e-03, -1.6221e-02,  ...,  1.3593e-02,\n",
      "           -1.2310e-02, -1.6495e-02],\n",
      "          ...,\n",
      "          [ 1.0042e-02,  1.6463e-02, -1.2208e-02,  ...,  5.8362e-03,\n",
      "            8.2253e-03, -7.9838e-03],\n",
      "          [ 3.1624e-03, -8.5170e-03, -1.3469e-03,  ...,  1.4966e-02,\n",
      "           -1.0244e-02, -4.5561e-03],\n",
      "          [ 6.6264e-03, -1.7977e-03, -1.4328e-02,  ..., -1.5169e-02,\n",
      "           -1.2903e-02,  1.2383e-02]],\n",
      "\n",
      "         [[ 1.4346e-02, -1.0832e-03, -1.0456e-02,  ..., -5.4430e-03,\n",
      "           -2.5484e-03,  1.6680e-03],\n",
      "          [-1.5626e-02,  1.4718e-02,  1.0309e-02,  ...,  1.0983e-02,\n",
      "            5.3730e-04, -6.7761e-03],\n",
      "          [ 3.3950e-03,  6.4971e-03, -1.6266e-02,  ..., -6.7157e-03,\n",
      "           -1.0298e-02, -9.2603e-03],\n",
      "          ...,\n",
      "          [-1.6896e-02, -1.6404e-02,  1.2798e-02,  ...,  9.2900e-03,\n",
      "            8.0511e-03, -9.6431e-03],\n",
      "          [ 9.9615e-03, -1.3256e-02, -1.5152e-02,  ...,  1.0924e-02,\n",
      "            1.7447e-02,  1.2332e-02],\n",
      "          [-1.2100e-02, -6.3272e-03, -7.6696e-03,  ...,  3.4709e-03,\n",
      "            5.6413e-03, -1.3896e-02]],\n",
      "\n",
      "         [[-4.2430e-03, -8.1414e-03, -4.2471e-03,  ...,  1.7798e-02,\n",
      "           -8.8958e-03, -2.2685e-03],\n",
      "          [ 1.6524e-02,  2.2915e-03, -4.2327e-03,  ..., -8.7593e-04,\n",
      "            7.1090e-03,  1.7172e-02],\n",
      "          [-1.7425e-02,  6.3620e-04,  3.6867e-03,  ...,  7.7414e-04,\n",
      "           -1.2086e-03,  1.7410e-02],\n",
      "          ...,\n",
      "          [ 1.1148e-02,  1.9938e-03,  7.4087e-03,  ..., -6.1796e-03,\n",
      "            1.1289e-02,  6.0176e-03],\n",
      "          [-7.7542e-03, -1.0298e-02, -6.7839e-03,  ..., -1.4453e-02,\n",
      "            1.0869e-02, -1.5083e-02],\n",
      "          [-4.4414e-04, -3.0342e-03,  6.7889e-03,  ...,  4.0015e-03,\n",
      "            1.1579e-02, -1.1237e-02]]],\n",
      "\n",
      "\n",
      "        [[[ 1.0887e-02, -1.6804e-02, -1.3360e-02,  ..., -1.4538e-02,\n",
      "            4.0332e-03,  1.3274e-02],\n",
      "          [-2.1301e-03,  1.1326e-02, -5.5827e-03,  ...,  1.7354e-02,\n",
      "            1.2626e-02,  4.3328e-03],\n",
      "          [ 3.8293e-03, -1.6800e-02, -4.5818e-04,  ...,  2.2564e-03,\n",
      "           -9.0401e-03,  6.3640e-03],\n",
      "          ...,\n",
      "          [-1.6146e-02, -1.4247e-02, -4.3999e-03,  ..., -4.1945e-03,\n",
      "           -6.5031e-03, -4.8274e-03],\n",
      "          [ 2.3360e-03, -3.2957e-03, -9.6171e-04,  ...,  3.5923e-05,\n",
      "           -9.5591e-04,  2.7410e-03],\n",
      "          [ 5.3370e-03, -7.0008e-03, -1.0106e-03,  ...,  1.1150e-02,\n",
      "            1.5328e-02, -7.0021e-03]],\n",
      "\n",
      "         [[-7.5136e-03, -4.8365e-03, -8.2688e-03,  ..., -1.3749e-03,\n",
      "           -3.1659e-03,  4.8393e-07],\n",
      "          [-1.7016e-02,  6.3817e-03, -2.6850e-03,  ..., -7.8224e-03,\n",
      "            2.7214e-04,  1.4702e-02],\n",
      "          [ 1.3474e-02, -1.5921e-02, -6.4496e-03,  ..., -9.3655e-03,\n",
      "            3.2440e-03, -2.6537e-03],\n",
      "          ...,\n",
      "          [-1.7155e-02,  4.3493e-05, -1.3942e-02,  ...,  8.9633e-03,\n",
      "            1.4210e-02,  5.9670e-03],\n",
      "          [-2.7771e-03,  2.5706e-03,  6.2267e-04,  ...,  7.9791e-03,\n",
      "            4.4500e-03,  9.3377e-03],\n",
      "          [ 8.1762e-03,  3.0118e-03, -1.7241e-02,  ..., -1.7207e-02,\n",
      "            1.2637e-02,  1.6591e-02]],\n",
      "\n",
      "         [[ 1.0243e-02,  1.4078e-02, -3.1625e-03,  ..., -8.5596e-03,\n",
      "            8.4062e-03,  1.1167e-02],\n",
      "          [-1.5050e-02, -2.0168e-03, -7.2263e-03,  ...,  5.3432e-03,\n",
      "            1.1464e-02,  4.0797e-03],\n",
      "          [ 2.5493e-04,  1.4110e-02,  7.1547e-03,  ...,  1.5396e-02,\n",
      "            1.3086e-02,  9.1488e-03],\n",
      "          ...,\n",
      "          [-6.8508e-03,  6.0310e-03,  1.4229e-02,  ...,  5.8130e-03,\n",
      "            1.6245e-02, -6.3725e-03],\n",
      "          [ 1.3347e-02, -3.7377e-04, -1.6334e-02,  ...,  4.1595e-03,\n",
      "           -1.6861e-02, -1.5163e-02],\n",
      "          [ 1.3316e-02,  3.4484e-04, -7.0090e-03,  ...,  2.9931e-03,\n",
      "            1.3038e-02,  1.5544e-02]]],\n",
      "\n",
      "\n",
      "        [[[ 6.7203e-04, -8.3145e-03,  9.9093e-03,  ...,  8.0223e-03,\n",
      "            8.6922e-03, -1.6736e-02],\n",
      "          [-1.7485e-02, -8.9663e-03, -1.3959e-02,  ..., -1.7140e-02,\n",
      "           -1.4957e-02, -1.9446e-03],\n",
      "          [-6.3458e-03,  2.8709e-03,  1.2732e-02,  ...,  4.5843e-03,\n",
      "            2.0254e-04,  7.9559e-03],\n",
      "          ...,\n",
      "          [-7.3213e-03,  3.1944e-03,  1.7355e-02,  ..., -1.0282e-02,\n",
      "           -6.1092e-03,  1.3008e-02],\n",
      "          [ 1.3526e-02,  7.8944e-03,  5.7142e-03,  ..., -1.1062e-02,\n",
      "            3.5975e-03,  3.7473e-03],\n",
      "          [-6.8143e-03,  1.7514e-02, -6.0179e-03,  ...,  7.5264e-03,\n",
      "           -7.7014e-03, -9.7741e-03]],\n",
      "\n",
      "         [[ 1.3473e-02,  1.2705e-02, -6.3691e-03,  ...,  3.8584e-03,\n",
      "            1.2118e-02, -1.1550e-02],\n",
      "          [-4.6041e-03,  5.1140e-03, -2.2980e-03,  ...,  4.0611e-03,\n",
      "           -3.6368e-03, -6.1486e-03],\n",
      "          [ 1.2230e-02, -9.6965e-03, -7.3734e-03,  ...,  1.4051e-02,\n",
      "            1.0965e-02, -8.5402e-04],\n",
      "          ...,\n",
      "          [-1.7567e-02,  9.0567e-03, -6.0523e-03,  ...,  1.6135e-02,\n",
      "           -1.7430e-02, -2.3514e-04],\n",
      "          [ 8.6813e-03, -1.7406e-03, -1.4797e-02,  ..., -2.8693e-03,\n",
      "           -8.9329e-03, -1.1675e-02],\n",
      "          [-1.3284e-03,  1.2974e-02, -1.4022e-02,  ...,  3.3343e-04,\n",
      "            3.5662e-03,  4.4622e-03]],\n",
      "\n",
      "         [[ 1.5064e-02,  1.3801e-03, -5.6149e-03,  ..., -1.2879e-02,\n",
      "            1.1860e-02, -1.7330e-02],\n",
      "          [-5.5961e-03, -1.7493e-02, -1.6528e-02,  ..., -1.0578e-03,\n",
      "            3.0614e-03, -9.6055e-03],\n",
      "          [-3.9620e-03, -7.1036e-04,  2.5859e-03,  ..., -1.7658e-02,\n",
      "           -7.9904e-05,  1.2612e-02],\n",
      "          ...,\n",
      "          [-8.9521e-03,  4.1379e-03,  8.5473e-03,  ...,  1.6467e-02,\n",
      "           -1.4109e-02, -1.2558e-02],\n",
      "          [-1.1016e-02, -4.1291e-03,  1.4563e-02,  ...,  7.7324e-03,\n",
      "            4.4574e-03,  8.0839e-03],\n",
      "          [-9.4720e-03, -5.0756e-03,  1.1405e-02,  ..., -6.1200e-03,\n",
      "           -1.0126e-02, -1.5926e-03]]]], device='mps:0', requires_grad=True), Parameter containing:\n",
      "tensor([ 0.0018,  0.0138,  0.0111,  0.0102,  0.0002, -0.0044,  0.0046, -0.0025,\n",
      "         0.0146,  0.0088, -0.0054,  0.0083, -0.0067,  0.0038, -0.0163,  0.0028,\n",
      "         0.0128, -0.0119,  0.0072, -0.0081,  0.0018, -0.0151, -0.0018, -0.0148,\n",
      "         0.0122,  0.0005,  0.0010,  0.0121,  0.0159, -0.0011,  0.0085,  0.0111],\n",
      "       device='mps:0', requires_grad=True), Parameter containing:\n",
      "tensor([[ 0.2052, -0.1048,  0.1596,  ...,  0.1377, -0.0049,  0.1665],\n",
      "        [-0.1115, -0.2148,  0.0825,  ..., -0.0143,  0.0378,  0.1065],\n",
      "        [-0.1719,  0.1189, -0.1129,  ..., -0.0652, -0.0781,  0.1228],\n",
      "        ...,\n",
      "        [ 0.1531,  0.1921, -0.2149,  ...,  0.1468,  0.1055,  0.0210],\n",
      "        [ 0.0472,  0.0370,  0.0007,  ..., -0.1605, -0.0634,  0.0722],\n",
      "        [-0.1694, -0.1591, -0.1639,  ..., -0.1952, -0.1389,  0.0014]],\n",
      "       device='mps:0', requires_grad=True), Parameter containing:\n",
      "tensor([0., 0., 0., 0., 0., 0., 0., 0., 0., 0., 0., 0., 0., 0., 0., 0., 0., 0., 0., 0., 0., 0., 0., 0.,\n",
      "        0., 0., 0., 0., 0., 0., 0., 0., 0., 0., 0., 0., 0., 0., 0., 0., 0., 0., 0., 0., 0., 0., 0., 0.,\n",
      "        0., 0., 0., 0., 0., 0., 0., 0., 0., 0., 0., 0., 0., 0., 0., 0., 0., 0., 0., 0., 0., 0., 0., 0.,\n",
      "        0., 0., 0., 0., 0., 0., 0., 0., 0., 0., 0., 0., 0., 0., 0., 0., 0., 0., 0., 0., 0., 0., 0., 0.],\n",
      "       device='mps:0', requires_grad=True), Parameter containing:\n",
      "tensor([[-0.0443,  0.1399, -0.1358,  ...,  0.0196,  0.0556, -0.1650],\n",
      "        [ 0.0193,  0.1723,  0.0049,  ..., -0.1390,  0.0784, -0.0988],\n",
      "        [ 0.0023, -0.1612, -0.1158,  ..., -0.0050,  0.1765, -0.0942],\n",
      "        ...,\n",
      "        [-0.0114, -0.1042, -0.0944,  ...,  0.1286, -0.0179, -0.1087],\n",
      "        [-0.1508, -0.0544,  0.0464,  ...,  0.1492,  0.1130,  0.0026],\n",
      "        [-0.0025,  0.0898, -0.1068,  ..., -0.1125, -0.0825, -0.0730]],\n",
      "       device='mps:0', requires_grad=True), Parameter containing:\n",
      "tensor([0., 0., 0., 0., 0., 0., 0., 0., 0., 0., 0., 0., 0., 0., 0., 0., 0., 0., 0., 0., 0., 0., 0., 0.,\n",
      "        0., 0., 0., 0., 0., 0., 0., 0.], device='mps:0', requires_grad=True), Parameter containing:\n",
      "tensor([[-0.0585, -0.1634, -0.0350,  ..., -0.0225,  0.0503,  0.0936],\n",
      "        [ 0.0814,  0.0216, -0.1310,  ...,  0.0700,  0.0093, -0.1593],\n",
      "        [-0.0850,  0.0252, -0.1025,  ...,  0.0405,  0.1184,  0.1662],\n",
      "        ...,\n",
      "        [-0.1522, -0.0901,  0.1760,  ...,  0.1531,  0.1399,  0.0024],\n",
      "        [-0.0598,  0.0066,  0.1553,  ...,  0.0567, -0.0403, -0.0325],\n",
      "        [ 0.1218,  0.1374,  0.0809,  ..., -0.0371,  0.0037,  0.1437]],\n",
      "       device='mps:0', requires_grad=True), Parameter containing:\n",
      "tensor([ 0.0580,  0.1709, -0.0889,  0.0013,  0.1087, -0.1146,  0.0622, -0.1718,\n",
      "         0.0262, -0.0110,  0.0350, -0.1180,  0.0408, -0.1027, -0.0382, -0.0403,\n",
      "         0.0454,  0.0305, -0.0412, -0.0237, -0.1215, -0.0358, -0.1501,  0.0881,\n",
      "         0.0655, -0.1352,  0.1084, -0.1724, -0.1704,  0.0787,  0.1301, -0.0120,\n",
      "        -0.0337,  0.0978,  0.0904, -0.0267,  0.1195,  0.0558,  0.1523, -0.0322,\n",
      "         0.0376, -0.0403,  0.0975, -0.1046, -0.1689, -0.0837, -0.0400,  0.1175,\n",
      "         0.0336, -0.1464,  0.0241, -0.1739,  0.0428,  0.1184, -0.0457,  0.1512,\n",
      "         0.1572, -0.0916,  0.0319, -0.0751, -0.1182, -0.0807, -0.0151, -0.1347],\n",
      "       device='mps:0', requires_grad=True), Parameter containing:\n",
      "tensor([[ 0.0569, -0.0453,  0.1096,  ..., -0.0569,  0.0288,  0.0501],\n",
      "        [ 0.0385, -0.0268, -0.0327,  ...,  0.1229,  0.1246, -0.1230],\n",
      "        [ 0.1225,  0.0658, -0.0404,  ...,  0.0038, -0.0922,  0.1239],\n",
      "        ...,\n",
      "        [ 0.1054,  0.0396, -0.0117,  ..., -0.1121,  0.0809,  0.0117],\n",
      "        [-0.0518, -0.0259,  0.1095,  ...,  0.1066, -0.0005, -0.0701],\n",
      "        [-0.0239, -0.1149,  0.1056,  ..., -0.0942,  0.0931,  0.1060]],\n",
      "       device='mps:0', requires_grad=True), Parameter containing:\n",
      "tensor([ 0.0540, -0.0058, -0.0228, -0.0449, -0.1105, -0.1046,  0.0723,  0.0222,\n",
      "        -0.0089, -0.0337,  0.1161, -0.0525, -0.0976,  0.0349, -0.0206, -0.0710,\n",
      "        -0.0009,  0.0782, -0.0378, -0.0374, -0.1162,  0.0064, -0.0841,  0.1229,\n",
      "         0.0123, -0.0293,  0.0633,  0.0724, -0.0835,  0.1246, -0.0559, -0.0311],\n",
      "       device='mps:0', requires_grad=True), Parameter containing:\n",
      "tensor([1., 1., 1., 1., 1., 1., 1., 1., 1., 1., 1., 1., 1., 1., 1., 1., 1., 1.,\n",
      "        1., 1., 1., 1., 1., 1., 1., 1., 1., 1., 1., 1., 1., 1.],\n",
      "       device='mps:0', requires_grad=True), Parameter containing:\n",
      "tensor([0., 0., 0., 0., 0., 0., 0., 0., 0., 0., 0., 0., 0., 0., 0., 0., 0., 0., 0., 0., 0., 0., 0., 0.,\n",
      "        0., 0., 0., 0., 0., 0., 0., 0.], device='mps:0', requires_grad=True), Parameter containing:\n",
      "tensor([1., 1., 1., 1., 1., 1., 1., 1., 1., 1., 1., 1., 1., 1., 1., 1., 1., 1.,\n",
      "        1., 1., 1., 1., 1., 1., 1., 1., 1., 1., 1., 1., 1., 1.],\n",
      "       device='mps:0', requires_grad=True), Parameter containing:\n",
      "tensor([0., 0., 0., 0., 0., 0., 0., 0., 0., 0., 0., 0., 0., 0., 0., 0., 0., 0., 0., 0., 0., 0., 0., 0.,\n",
      "        0., 0., 0., 0., 0., 0., 0., 0.], device='mps:0', requires_grad=True), Parameter containing:\n",
      "tensor([[ 0.2052, -0.1048,  0.1596,  ...,  0.1377, -0.0049,  0.1665],\n",
      "        [-0.1115, -0.2148,  0.0825,  ..., -0.0143,  0.0378,  0.1065],\n",
      "        [-0.1719,  0.1189, -0.1129,  ..., -0.0652, -0.0781,  0.1228],\n",
      "        ...,\n",
      "        [ 0.1531,  0.1921, -0.2149,  ...,  0.1468,  0.1055,  0.0210],\n",
      "        [ 0.0472,  0.0370,  0.0007,  ..., -0.1605, -0.0634,  0.0722],\n",
      "        [-0.1694, -0.1591, -0.1639,  ..., -0.1952, -0.1389,  0.0014]],\n",
      "       device='mps:0', requires_grad=True), Parameter containing:\n",
      "tensor([0., 0., 0., 0., 0., 0., 0., 0., 0., 0., 0., 0., 0., 0., 0., 0., 0., 0., 0., 0., 0., 0., 0., 0.,\n",
      "        0., 0., 0., 0., 0., 0., 0., 0., 0., 0., 0., 0., 0., 0., 0., 0., 0., 0., 0., 0., 0., 0., 0., 0.,\n",
      "        0., 0., 0., 0., 0., 0., 0., 0., 0., 0., 0., 0., 0., 0., 0., 0., 0., 0., 0., 0., 0., 0., 0., 0.,\n",
      "        0., 0., 0., 0., 0., 0., 0., 0., 0., 0., 0., 0., 0., 0., 0., 0., 0., 0., 0., 0., 0., 0., 0., 0.],\n",
      "       device='mps:0', requires_grad=True), Parameter containing:\n",
      "tensor([[-0.0443,  0.1399, -0.1358,  ...,  0.0196,  0.0556, -0.1650],\n",
      "        [ 0.0193,  0.1723,  0.0049,  ..., -0.1390,  0.0784, -0.0988],\n",
      "        [ 0.0023, -0.1612, -0.1158,  ..., -0.0050,  0.1765, -0.0942],\n",
      "        ...,\n",
      "        [-0.0114, -0.1042, -0.0944,  ...,  0.1286, -0.0179, -0.1087],\n",
      "        [-0.1508, -0.0544,  0.0464,  ...,  0.1492,  0.1130,  0.0026],\n",
      "        [-0.0025,  0.0898, -0.1068,  ..., -0.1125, -0.0825, -0.0730]],\n",
      "       device='mps:0', requires_grad=True), Parameter containing:\n",
      "tensor([0., 0., 0., 0., 0., 0., 0., 0., 0., 0., 0., 0., 0., 0., 0., 0., 0., 0., 0., 0., 0., 0., 0., 0.,\n",
      "        0., 0., 0., 0., 0., 0., 0., 0.], device='mps:0', requires_grad=True), Parameter containing:\n",
      "tensor([[-0.0585, -0.1634, -0.0350,  ..., -0.0225,  0.0503,  0.0936],\n",
      "        [ 0.0814,  0.0216, -0.1310,  ...,  0.0700,  0.0093, -0.1593],\n",
      "        [-0.0850,  0.0252, -0.1025,  ...,  0.0405,  0.1184,  0.1662],\n",
      "        ...,\n",
      "        [-0.1522, -0.0901,  0.1760,  ...,  0.1531,  0.1399,  0.0024],\n",
      "        [-0.0598,  0.0066,  0.1553,  ...,  0.0567, -0.0403, -0.0325],\n",
      "        [ 0.1218,  0.1374,  0.0809,  ..., -0.0371,  0.0037,  0.1437]],\n",
      "       device='mps:0', requires_grad=True), Parameter containing:\n",
      "tensor([ 0.0580,  0.1709, -0.0889,  0.0013,  0.1087, -0.1146,  0.0622, -0.1718,\n",
      "         0.0262, -0.0110,  0.0350, -0.1180,  0.0408, -0.1027, -0.0382, -0.0403,\n",
      "         0.0454,  0.0305, -0.0412, -0.0237, -0.1215, -0.0358, -0.1501,  0.0881,\n",
      "         0.0655, -0.1352,  0.1084, -0.1724, -0.1704,  0.0787,  0.1301, -0.0120,\n",
      "        -0.0337,  0.0978,  0.0904, -0.0267,  0.1195,  0.0558,  0.1523, -0.0322,\n",
      "         0.0376, -0.0403,  0.0975, -0.1046, -0.1689, -0.0837, -0.0400,  0.1175,\n",
      "         0.0336, -0.1464,  0.0241, -0.1739,  0.0428,  0.1184, -0.0457,  0.1512,\n",
      "         0.1572, -0.0916,  0.0319, -0.0751, -0.1182, -0.0807, -0.0151, -0.1347],\n",
      "       device='mps:0', requires_grad=True), Parameter containing:\n",
      "tensor([[ 0.0569, -0.0453,  0.1096,  ..., -0.0569,  0.0288,  0.0501],\n",
      "        [ 0.0385, -0.0268, -0.0327,  ...,  0.1229,  0.1246, -0.1230],\n",
      "        [ 0.1225,  0.0658, -0.0404,  ...,  0.0038, -0.0922,  0.1239],\n",
      "        ...,\n",
      "        [ 0.1054,  0.0396, -0.0117,  ..., -0.1121,  0.0809,  0.0117],\n",
      "        [-0.0518, -0.0259,  0.1095,  ...,  0.1066, -0.0005, -0.0701],\n",
      "        [-0.0239, -0.1149,  0.1056,  ..., -0.0942,  0.0931,  0.1060]],\n",
      "       device='mps:0', requires_grad=True), Parameter containing:\n",
      "tensor([ 0.0540, -0.0058, -0.0228, -0.0449, -0.1105, -0.1046,  0.0723,  0.0222,\n",
      "        -0.0089, -0.0337,  0.1161, -0.0525, -0.0976,  0.0349, -0.0206, -0.0710,\n",
      "        -0.0009,  0.0782, -0.0378, -0.0374, -0.1162,  0.0064, -0.0841,  0.1229,\n",
      "         0.0123, -0.0293,  0.0633,  0.0724, -0.0835,  0.1246, -0.0559, -0.0311],\n",
      "       device='mps:0', requires_grad=True), Parameter containing:\n",
      "tensor([1., 1., 1., 1., 1., 1., 1., 1., 1., 1., 1., 1., 1., 1., 1., 1., 1., 1.,\n",
      "        1., 1., 1., 1., 1., 1., 1., 1., 1., 1., 1., 1., 1., 1.],\n",
      "       device='mps:0', requires_grad=True), Parameter containing:\n",
      "tensor([0., 0., 0., 0., 0., 0., 0., 0., 0., 0., 0., 0., 0., 0., 0., 0., 0., 0., 0., 0., 0., 0., 0., 0.,\n",
      "        0., 0., 0., 0., 0., 0., 0., 0.], device='mps:0', requires_grad=True), Parameter containing:\n",
      "tensor([1., 1., 1., 1., 1., 1., 1., 1., 1., 1., 1., 1., 1., 1., 1., 1., 1., 1.,\n",
      "        1., 1., 1., 1., 1., 1., 1., 1., 1., 1., 1., 1., 1., 1.],\n",
      "       device='mps:0', requires_grad=True), Parameter containing:\n",
      "tensor([0., 0., 0., 0., 0., 0., 0., 0., 0., 0., 0., 0., 0., 0., 0., 0., 0., 0., 0., 0., 0., 0., 0., 0.,\n",
      "        0., 0., 0., 0., 0., 0., 0., 0.], device='mps:0', requires_grad=True), Parameter containing:\n",
      "tensor([[ 0.2052, -0.1048,  0.1596,  ...,  0.1377, -0.0049,  0.1665],\n",
      "        [-0.1115, -0.2148,  0.0825,  ..., -0.0143,  0.0378,  0.1065],\n",
      "        [-0.1719,  0.1189, -0.1129,  ..., -0.0652, -0.0781,  0.1228],\n",
      "        ...,\n",
      "        [ 0.1531,  0.1921, -0.2149,  ...,  0.1468,  0.1055,  0.0210],\n",
      "        [ 0.0472,  0.0370,  0.0007,  ..., -0.1605, -0.0634,  0.0722],\n",
      "        [-0.1694, -0.1591, -0.1639,  ..., -0.1952, -0.1389,  0.0014]],\n",
      "       device='mps:0', requires_grad=True), Parameter containing:\n",
      "tensor([0., 0., 0., 0., 0., 0., 0., 0., 0., 0., 0., 0., 0., 0., 0., 0., 0., 0., 0., 0., 0., 0., 0., 0.,\n",
      "        0., 0., 0., 0., 0., 0., 0., 0., 0., 0., 0., 0., 0., 0., 0., 0., 0., 0., 0., 0., 0., 0., 0., 0.,\n",
      "        0., 0., 0., 0., 0., 0., 0., 0., 0., 0., 0., 0., 0., 0., 0., 0., 0., 0., 0., 0., 0., 0., 0., 0.,\n",
      "        0., 0., 0., 0., 0., 0., 0., 0., 0., 0., 0., 0., 0., 0., 0., 0., 0., 0., 0., 0., 0., 0., 0., 0.],\n",
      "       device='mps:0', requires_grad=True), Parameter containing:\n",
      "tensor([[-0.0443,  0.1399, -0.1358,  ...,  0.0196,  0.0556, -0.1650],\n",
      "        [ 0.0193,  0.1723,  0.0049,  ..., -0.1390,  0.0784, -0.0988],\n",
      "        [ 0.0023, -0.1612, -0.1158,  ..., -0.0050,  0.1765, -0.0942],\n",
      "        ...,\n",
      "        [-0.0114, -0.1042, -0.0944,  ...,  0.1286, -0.0179, -0.1087],\n",
      "        [-0.1508, -0.0544,  0.0464,  ...,  0.1492,  0.1130,  0.0026],\n",
      "        [-0.0025,  0.0898, -0.1068,  ..., -0.1125, -0.0825, -0.0730]],\n",
      "       device='mps:0', requires_grad=True), Parameter containing:\n",
      "tensor([0., 0., 0., 0., 0., 0., 0., 0., 0., 0., 0., 0., 0., 0., 0., 0., 0., 0., 0., 0., 0., 0., 0., 0.,\n",
      "        0., 0., 0., 0., 0., 0., 0., 0.], device='mps:0', requires_grad=True), Parameter containing:\n",
      "tensor([[-0.0585, -0.1634, -0.0350,  ..., -0.0225,  0.0503,  0.0936],\n",
      "        [ 0.0814,  0.0216, -0.1310,  ...,  0.0700,  0.0093, -0.1593],\n",
      "        [-0.0850,  0.0252, -0.1025,  ...,  0.0405,  0.1184,  0.1662],\n",
      "        ...,\n",
      "        [-0.1522, -0.0901,  0.1760,  ...,  0.1531,  0.1399,  0.0024],\n",
      "        [-0.0598,  0.0066,  0.1553,  ...,  0.0567, -0.0403, -0.0325],\n",
      "        [ 0.1218,  0.1374,  0.0809,  ..., -0.0371,  0.0037,  0.1437]],\n",
      "       device='mps:0', requires_grad=True), Parameter containing:\n",
      "tensor([ 0.0580,  0.1709, -0.0889,  0.0013,  0.1087, -0.1146,  0.0622, -0.1718,\n",
      "         0.0262, -0.0110,  0.0350, -0.1180,  0.0408, -0.1027, -0.0382, -0.0403,\n",
      "         0.0454,  0.0305, -0.0412, -0.0237, -0.1215, -0.0358, -0.1501,  0.0881,\n",
      "         0.0655, -0.1352,  0.1084, -0.1724, -0.1704,  0.0787,  0.1301, -0.0120,\n",
      "        -0.0337,  0.0978,  0.0904, -0.0267,  0.1195,  0.0558,  0.1523, -0.0322,\n",
      "         0.0376, -0.0403,  0.0975, -0.1046, -0.1689, -0.0837, -0.0400,  0.1175,\n",
      "         0.0336, -0.1464,  0.0241, -0.1739,  0.0428,  0.1184, -0.0457,  0.1512,\n",
      "         0.1572, -0.0916,  0.0319, -0.0751, -0.1182, -0.0807, -0.0151, -0.1347],\n",
      "       device='mps:0', requires_grad=True), Parameter containing:\n",
      "tensor([[ 0.0569, -0.0453,  0.1096,  ..., -0.0569,  0.0288,  0.0501],\n",
      "        [ 0.0385, -0.0268, -0.0327,  ...,  0.1229,  0.1246, -0.1230],\n",
      "        [ 0.1225,  0.0658, -0.0404,  ...,  0.0038, -0.0922,  0.1239],\n",
      "        ...,\n",
      "        [ 0.1054,  0.0396, -0.0117,  ..., -0.1121,  0.0809,  0.0117],\n",
      "        [-0.0518, -0.0259,  0.1095,  ...,  0.1066, -0.0005, -0.0701],\n",
      "        [-0.0239, -0.1149,  0.1056,  ..., -0.0942,  0.0931,  0.1060]],\n",
      "       device='mps:0', requires_grad=True), Parameter containing:\n",
      "tensor([ 0.0540, -0.0058, -0.0228, -0.0449, -0.1105, -0.1046,  0.0723,  0.0222,\n",
      "        -0.0089, -0.0337,  0.1161, -0.0525, -0.0976,  0.0349, -0.0206, -0.0710,\n",
      "        -0.0009,  0.0782, -0.0378, -0.0374, -0.1162,  0.0064, -0.0841,  0.1229,\n",
      "         0.0123, -0.0293,  0.0633,  0.0724, -0.0835,  0.1246, -0.0559, -0.0311],\n",
      "       device='mps:0', requires_grad=True), Parameter containing:\n",
      "tensor([1., 1., 1., 1., 1., 1., 1., 1., 1., 1., 1., 1., 1., 1., 1., 1., 1., 1.,\n",
      "        1., 1., 1., 1., 1., 1., 1., 1., 1., 1., 1., 1., 1., 1.],\n",
      "       device='mps:0', requires_grad=True), Parameter containing:\n",
      "tensor([0., 0., 0., 0., 0., 0., 0., 0., 0., 0., 0., 0., 0., 0., 0., 0., 0., 0., 0., 0., 0., 0., 0., 0.,\n",
      "        0., 0., 0., 0., 0., 0., 0., 0.], device='mps:0', requires_grad=True), Parameter containing:\n",
      "tensor([1., 1., 1., 1., 1., 1., 1., 1., 1., 1., 1., 1., 1., 1., 1., 1., 1., 1.,\n",
      "        1., 1., 1., 1., 1., 1., 1., 1., 1., 1., 1., 1., 1., 1.],\n",
      "       device='mps:0', requires_grad=True), Parameter containing:\n",
      "tensor([0., 0., 0., 0., 0., 0., 0., 0., 0., 0., 0., 0., 0., 0., 0., 0., 0., 0., 0., 0., 0., 0., 0., 0.,\n",
      "        0., 0., 0., 0., 0., 0., 0., 0.], device='mps:0', requires_grad=True), Parameter containing:\n",
      "tensor([[ 0.2052, -0.1048,  0.1596,  ...,  0.1377, -0.0049,  0.1665],\n",
      "        [-0.1115, -0.2148,  0.0825,  ..., -0.0143,  0.0378,  0.1065],\n",
      "        [-0.1719,  0.1189, -0.1129,  ..., -0.0652, -0.0781,  0.1228],\n",
      "        ...,\n",
      "        [ 0.1531,  0.1921, -0.2149,  ...,  0.1468,  0.1055,  0.0210],\n",
      "        [ 0.0472,  0.0370,  0.0007,  ..., -0.1605, -0.0634,  0.0722],\n",
      "        [-0.1694, -0.1591, -0.1639,  ..., -0.1952, -0.1389,  0.0014]],\n",
      "       device='mps:0', requires_grad=True), Parameter containing:\n",
      "tensor([0., 0., 0., 0., 0., 0., 0., 0., 0., 0., 0., 0., 0., 0., 0., 0., 0., 0., 0., 0., 0., 0., 0., 0.,\n",
      "        0., 0., 0., 0., 0., 0., 0., 0., 0., 0., 0., 0., 0., 0., 0., 0., 0., 0., 0., 0., 0., 0., 0., 0.,\n",
      "        0., 0., 0., 0., 0., 0., 0., 0., 0., 0., 0., 0., 0., 0., 0., 0., 0., 0., 0., 0., 0., 0., 0., 0.,\n",
      "        0., 0., 0., 0., 0., 0., 0., 0., 0., 0., 0., 0., 0., 0., 0., 0., 0., 0., 0., 0., 0., 0., 0., 0.],\n",
      "       device='mps:0', requires_grad=True), Parameter containing:\n",
      "tensor([[-0.0443,  0.1399, -0.1358,  ...,  0.0196,  0.0556, -0.1650],\n",
      "        [ 0.0193,  0.1723,  0.0049,  ..., -0.1390,  0.0784, -0.0988],\n",
      "        [ 0.0023, -0.1612, -0.1158,  ..., -0.0050,  0.1765, -0.0942],\n",
      "        ...,\n",
      "        [-0.0114, -0.1042, -0.0944,  ...,  0.1286, -0.0179, -0.1087],\n",
      "        [-0.1508, -0.0544,  0.0464,  ...,  0.1492,  0.1130,  0.0026],\n",
      "        [-0.0025,  0.0898, -0.1068,  ..., -0.1125, -0.0825, -0.0730]],\n",
      "       device='mps:0', requires_grad=True), Parameter containing:\n",
      "tensor([0., 0., 0., 0., 0., 0., 0., 0., 0., 0., 0., 0., 0., 0., 0., 0., 0., 0., 0., 0., 0., 0., 0., 0.,\n",
      "        0., 0., 0., 0., 0., 0., 0., 0.], device='mps:0', requires_grad=True), Parameter containing:\n",
      "tensor([[-0.0585, -0.1634, -0.0350,  ..., -0.0225,  0.0503,  0.0936],\n",
      "        [ 0.0814,  0.0216, -0.1310,  ...,  0.0700,  0.0093, -0.1593],\n",
      "        [-0.0850,  0.0252, -0.1025,  ...,  0.0405,  0.1184,  0.1662],\n",
      "        ...,\n",
      "        [-0.1522, -0.0901,  0.1760,  ...,  0.1531,  0.1399,  0.0024],\n",
      "        [-0.0598,  0.0066,  0.1553,  ...,  0.0567, -0.0403, -0.0325],\n",
      "        [ 0.1218,  0.1374,  0.0809,  ..., -0.0371,  0.0037,  0.1437]],\n",
      "       device='mps:0', requires_grad=True), Parameter containing:\n",
      "tensor([ 0.0580,  0.1709, -0.0889,  0.0013,  0.1087, -0.1146,  0.0622, -0.1718,\n",
      "         0.0262, -0.0110,  0.0350, -0.1180,  0.0408, -0.1027, -0.0382, -0.0403,\n",
      "         0.0454,  0.0305, -0.0412, -0.0237, -0.1215, -0.0358, -0.1501,  0.0881,\n",
      "         0.0655, -0.1352,  0.1084, -0.1724, -0.1704,  0.0787,  0.1301, -0.0120,\n",
      "        -0.0337,  0.0978,  0.0904, -0.0267,  0.1195,  0.0558,  0.1523, -0.0322,\n",
      "         0.0376, -0.0403,  0.0975, -0.1046, -0.1689, -0.0837, -0.0400,  0.1175,\n",
      "         0.0336, -0.1464,  0.0241, -0.1739,  0.0428,  0.1184, -0.0457,  0.1512,\n",
      "         0.1572, -0.0916,  0.0319, -0.0751, -0.1182, -0.0807, -0.0151, -0.1347],\n",
      "       device='mps:0', requires_grad=True), Parameter containing:\n",
      "tensor([[ 0.0569, -0.0453,  0.1096,  ..., -0.0569,  0.0288,  0.0501],\n",
      "        [ 0.0385, -0.0268, -0.0327,  ...,  0.1229,  0.1246, -0.1230],\n",
      "        [ 0.1225,  0.0658, -0.0404,  ...,  0.0038, -0.0922,  0.1239],\n",
      "        ...,\n",
      "        [ 0.1054,  0.0396, -0.0117,  ..., -0.1121,  0.0809,  0.0117],\n",
      "        [-0.0518, -0.0259,  0.1095,  ...,  0.1066, -0.0005, -0.0701],\n",
      "        [-0.0239, -0.1149,  0.1056,  ..., -0.0942,  0.0931,  0.1060]],\n",
      "       device='mps:0', requires_grad=True), Parameter containing:\n",
      "tensor([ 0.0540, -0.0058, -0.0228, -0.0449, -0.1105, -0.1046,  0.0723,  0.0222,\n",
      "        -0.0089, -0.0337,  0.1161, -0.0525, -0.0976,  0.0349, -0.0206, -0.0710,\n",
      "        -0.0009,  0.0782, -0.0378, -0.0374, -0.1162,  0.0064, -0.0841,  0.1229,\n",
      "         0.0123, -0.0293,  0.0633,  0.0724, -0.0835,  0.1246, -0.0559, -0.0311],\n",
      "       device='mps:0', requires_grad=True), Parameter containing:\n",
      "tensor([1., 1., 1., 1., 1., 1., 1., 1., 1., 1., 1., 1., 1., 1., 1., 1., 1., 1.,\n",
      "        1., 1., 1., 1., 1., 1., 1., 1., 1., 1., 1., 1., 1., 1.],\n",
      "       device='mps:0', requires_grad=True), Parameter containing:\n",
      "tensor([0., 0., 0., 0., 0., 0., 0., 0., 0., 0., 0., 0., 0., 0., 0., 0., 0., 0., 0., 0., 0., 0., 0., 0.,\n",
      "        0., 0., 0., 0., 0., 0., 0., 0.], device='mps:0', requires_grad=True), Parameter containing:\n",
      "tensor([1., 1., 1., 1., 1., 1., 1., 1., 1., 1., 1., 1., 1., 1., 1., 1., 1., 1.,\n",
      "        1., 1., 1., 1., 1., 1., 1., 1., 1., 1., 1., 1., 1., 1.],\n",
      "       device='mps:0', requires_grad=True), Parameter containing:\n",
      "tensor([0., 0., 0., 0., 0., 0., 0., 0., 0., 0., 0., 0., 0., 0., 0., 0., 0., 0., 0., 0., 0., 0., 0., 0.,\n",
      "        0., 0., 0., 0., 0., 0., 0., 0.], device='mps:0', requires_grad=True), Parameter containing:\n",
      "tensor([[-0.1650, -0.0545,  0.0519, -0.0506, -0.1094, -0.0934,  0.0157, -0.1476,\n",
      "          0.0309,  0.1585,  0.0301,  0.1035,  0.0828,  0.0553,  0.1077,  0.1627,\n",
      "         -0.0566, -0.1463,  0.1022,  0.1542, -0.0384, -0.1245,  0.0369, -0.0111,\n",
      "         -0.0993, -0.0085, -0.1721, -0.1570, -0.1675,  0.1184,  0.0684, -0.0912],\n",
      "        [-0.0177, -0.0058, -0.0600,  0.0622,  0.0012, -0.0831,  0.0605, -0.1453,\n",
      "          0.1551, -0.0660,  0.1200, -0.0025,  0.0165, -0.1436,  0.0836, -0.1344,\n",
      "         -0.0346,  0.0304, -0.1115, -0.1544, -0.1543, -0.1696, -0.1483,  0.1053,\n",
      "          0.0727,  0.1196, -0.1455,  0.0773, -0.1382,  0.1711, -0.0279,  0.1442],\n",
      "        [-0.0288, -0.1703,  0.0507,  0.0130,  0.1693, -0.1256, -0.0020,  0.1243,\n",
      "         -0.0147,  0.1570,  0.0839,  0.0789,  0.1335,  0.0827, -0.0337,  0.0195,\n",
      "         -0.1596, -0.0599, -0.0112,  0.0269, -0.1633,  0.0742,  0.1696,  0.0638,\n",
      "         -0.0478, -0.1172,  0.0661,  0.0006, -0.0070,  0.0797, -0.1622,  0.1716],\n",
      "        [-0.1197,  0.0050,  0.1029, -0.0724, -0.1450,  0.1398,  0.1132,  0.0899,\n",
      "         -0.0006, -0.0247,  0.0573, -0.0473, -0.1667,  0.0105,  0.0367,  0.0602,\n",
      "          0.1345,  0.1527,  0.1087, -0.1442,  0.0219,  0.0134, -0.1621,  0.0138,\n",
      "         -0.0414,  0.1417, -0.0012, -0.1190, -0.1649,  0.0064,  0.1373, -0.0065],\n",
      "        [-0.0382, -0.0409,  0.1522, -0.0935, -0.1609,  0.1244,  0.0127, -0.1130,\n",
      "          0.1455,  0.0836,  0.1655,  0.0984,  0.1535, -0.1081, -0.1267,  0.0094,\n",
      "          0.1754,  0.1141, -0.0016, -0.0596,  0.0672, -0.1573,  0.1528,  0.0252,\n",
      "         -0.0444, -0.1285, -0.1453, -0.0473,  0.1658,  0.0203,  0.1256, -0.1385],\n",
      "        [-0.1011,  0.0800, -0.0448, -0.0506, -0.1300,  0.0683,  0.1171,  0.0070,\n",
      "          0.0323,  0.0650,  0.1104,  0.0895, -0.1547,  0.1256, -0.1274,  0.0089,\n",
      "          0.1201,  0.1440,  0.1248, -0.0145,  0.1406, -0.1357, -0.1489, -0.0523,\n",
      "         -0.1358, -0.1018,  0.0509, -0.0956, -0.1451,  0.0848,  0.0791, -0.0773],\n",
      "        [ 0.1221,  0.0945, -0.1222, -0.0397,  0.0750, -0.0925, -0.1569, -0.0397,\n",
      "         -0.0729, -0.0700, -0.0588, -0.1035, -0.0536, -0.1021, -0.1431,  0.0608,\n",
      "         -0.1303,  0.0861, -0.0343,  0.0512, -0.0173, -0.1209, -0.0912,  0.1008,\n",
      "         -0.1120,  0.1463,  0.1423,  0.0704,  0.0068, -0.1036, -0.1581,  0.0393],\n",
      "        [ 0.1630, -0.1462,  0.0819, -0.0723,  0.0076,  0.1665, -0.0738, -0.0527,\n",
      "         -0.0887,  0.1579, -0.1343,  0.0483, -0.1690,  0.1474, -0.0713, -0.0795,\n",
      "         -0.0927,  0.0120, -0.1252, -0.0009,  0.1622,  0.1286,  0.1365, -0.0719,\n",
      "          0.0444,  0.0531, -0.1499, -0.1721, -0.1750, -0.0488,  0.1463, -0.0187],\n",
      "        [ 0.0626,  0.1446,  0.0770,  0.0231, -0.0402, -0.1488, -0.1572,  0.1605,\n",
      "         -0.1593, -0.0006, -0.1729,  0.0910,  0.1579, -0.0169, -0.1127, -0.0155,\n",
      "          0.1662, -0.1665,  0.1533, -0.1363,  0.0951,  0.1569, -0.1694,  0.0343,\n",
      "         -0.0852, -0.1735, -0.0228,  0.0428, -0.0570, -0.0369,  0.0052, -0.1249],\n",
      "        [-0.0326,  0.1254, -0.1147,  0.1376, -0.0313,  0.0125, -0.0394,  0.1339,\n",
      "         -0.0727,  0.0129,  0.0789,  0.0210,  0.1637, -0.0732, -0.1467, -0.1732,\n",
      "          0.0472, -0.1304,  0.1158, -0.1194,  0.0774,  0.1438,  0.1305, -0.0306,\n",
      "          0.0515, -0.0724, -0.1135, -0.0575,  0.0599,  0.0388,  0.1192,  0.1532]],\n",
      "       device='mps:0', requires_grad=True), Parameter containing:\n",
      "tensor([ 0.0073,  0.0330, -0.0975, -0.1057,  0.0906, -0.0681, -0.1409, -0.0301,\n",
      "         0.1691, -0.0533], device='mps:0', requires_grad=True)]\n"
     ]
    }
   ],
   "source": [
    "'''\n",
    "Parámetros del modelo\n",
    "\n",
    "'''\n",
    "\n",
    "num_epochs = 10\n",
    "img_size = 224  \n",
    "patch_size = 32  # Tamaño de parche razonable para img_size reducido\n",
    "embed_dim = 32\n",
    "num_heads = 2\n",
    "ff_dim = 64\n",
    "num_layers = 4\n",
    "num_classes = 10\n",
    "dropout = 0.1\n",
    "\n",
    "# Inicializa el modelo\n",
    "model = VisionTransformer(\n",
    "    img_size=img_size, \n",
    "    patch_size=patch_size, \n",
    "    num_classes=num_classes, \n",
    "    embed_dim=embed_dim, \n",
    "    num_heads=num_heads, \n",
    "    ff_dim=ff_dim, \n",
    "    num_layers=num_layers, \n",
    "    dropout=dropout\n",
    ").to(device)\n",
    "\n",
    "\n",
    "print(\"Parametros del modelo:\", list(model.parameters()))\n",
    "\n",
    "# Definimos funciones de loss y optimizador\n",
    "criterion = nn.CrossEntropyLoss()\n",
    "optimizer = optim.AdamW(model.parameters(), lr=3e-4)\n",
    "scheduler = StepLR(optimizer, step_size=2, gamma=0.1)\n",
    "\n",
    "model = model.to(device)\n",
    "\n",
    "try:\n",
    "    model = torch.compile(model)\n",
    "except Exception as e:\n",
    "    print(\"Se produjo error durante la compilación:\", e)"
   ]
  },
  {
   "cell_type": "code",
   "execution_count": 273,
   "metadata": {},
   "outputs": [
    {
     "name": "stdout",
     "output_type": "stream",
     "text": [
      "Número de parámetros: 0.33 millones\n"
     ]
    }
   ],
   "source": [
    "def count_parameters(model: nn.Module) -> int:\n",
    "    \"\"\"\n",
    "    Count the number of trainable parameters in a PyTorch model.\n",
    "\n",
    "    Args:\n",
    "        model (nn.Module): The PyTorch model.\n",
    "\n",
    "    Returns:\n",
    "        int: The total number of trainable parameters.\n",
    "    \"\"\"\n",
    "    return sum(p.numel() for p in model.parameters() if p.requires_grad) / 1_000_000\n",
    "\n",
    "torch.mps.empty_cache()\n",
    "print(\"Número de parámetros: {:.2f} millones\".format(count_parameters(model)))"
   ]
  },
  {
   "cell_type": "code",
   "execution_count": 82,
   "metadata": {},
   "outputs": [
    {
     "name": "stdout",
     "output_type": "stream",
     "text": [
      "Época 1/10\n"
     ]
    },
    {
     "name": "stderr",
     "output_type": "stream",
     "text": [
      "  0%|          | 0/98 [00:00<?, ?it/s]"
     ]
    },
    {
     "name": "stdout",
     "output_type": "stream",
     "text": [
      "Input shape: torch.Size([512, 3, 32, 32])\n",
      "After patch embedding shape: torch.Size([512, 1, 32])\n",
      "After adding pos_embedding shape: torch.Size([512, 49, 32])\n"
     ]
    },
    {
     "name": "stderr",
     "output_type": "stream",
     "text": [
      "loss 1.95618:   2%|▏         | 2/98 [00:00<00:25,  3.73it/s]"
     ]
    },
    {
     "name": "stdout",
     "output_type": "stream",
     "text": [
      "Input shape: torch.Size([512, 3, 32, 32])\n",
      "After patch embedding shape: torch.Size([512, 1, 32])\n",
      "After adding pos_embedding shape: torch.Size([512, 49, 32])\n",
      "Input shape: torch.Size([512, 3, 32, 32])\n",
      "After patch embedding shape: torch.Size([512, 1, 32])\n",
      "After adding pos_embedding shape: torch.Size([512, 49, 32])\n"
     ]
    },
    {
     "name": "stderr",
     "output_type": "stream",
     "text": [
      "loss 1.90504:   4%|▍         | 4/98 [00:00<00:20,  4.61it/s]"
     ]
    },
    {
     "name": "stdout",
     "output_type": "stream",
     "text": [
      "Input shape: torch.Size([512, 3, 32, 32])\n",
      "After patch embedding shape: torch.Size([512, 1, 32])\n",
      "After adding pos_embedding shape: torch.Size([512, 49, 32])\n",
      "Input shape: torch.Size([512, 3, 32, 32])\n",
      "After patch embedding shape: torch.Size([512, 1, 32])\n",
      "After adding pos_embedding shape: torch.Size([512, 49, 32])\n"
     ]
    },
    {
     "name": "stderr",
     "output_type": "stream",
     "text": [
      "loss 1.90658:   6%|▌         | 6/98 [00:01<00:18,  4.94it/s]"
     ]
    },
    {
     "name": "stdout",
     "output_type": "stream",
     "text": [
      "Input shape: torch.Size([512, 3, 32, 32])\n",
      "After patch embedding shape: torch.Size([512, 1, 32])\n",
      "After adding pos_embedding shape: torch.Size([512, 49, 32])\n",
      "Input shape: torch.Size([512, 3, 32, 32])\n",
      "After patch embedding shape: torch.Size([512, 1, 32])\n",
      "After adding pos_embedding shape: torch.Size([512, 49, 32])\n"
     ]
    },
    {
     "name": "stderr",
     "output_type": "stream",
     "text": [
      "loss 1.90877:   8%|▊         | 8/98 [00:01<00:17,  5.05it/s]"
     ]
    },
    {
     "name": "stdout",
     "output_type": "stream",
     "text": [
      "Input shape: torch.Size([512, 3, 32, 32])\n",
      "After patch embedding shape: torch.Size([512, 1, 32])\n",
      "After adding pos_embedding shape: torch.Size([512, 49, 32])\n",
      "Input shape: torch.Size([512, 3, 32, 32])\n",
      "After patch embedding shape: torch.Size([512, 1, 32])\n",
      "After adding pos_embedding shape: torch.Size([512, 49, 32])\n"
     ]
    },
    {
     "name": "stderr",
     "output_type": "stream",
     "text": [
      "loss 1.95010:  10%|█         | 10/98 [00:02<00:17,  5.09it/s]"
     ]
    },
    {
     "name": "stdout",
     "output_type": "stream",
     "text": [
      "Input shape: torch.Size([512, 3, 32, 32])\n",
      "After patch embedding shape: torch.Size([512, 1, 32])\n",
      "After adding pos_embedding shape: torch.Size([512, 49, 32])\n",
      "Input shape: torch.Size([512, 3, 32, 32])\n",
      "After patch embedding shape: torch.Size([512, 1, 32])\n",
      "After adding pos_embedding shape: torch.Size([512, 49, 32])\n"
     ]
    },
    {
     "name": "stderr",
     "output_type": "stream",
     "text": [
      "loss 1.85753:  12%|█▏        | 12/98 [00:02<00:17,  4.96it/s]"
     ]
    },
    {
     "name": "stdout",
     "output_type": "stream",
     "text": [
      "Input shape: torch.Size([512, 3, 32, 32])\n",
      "After patch embedding shape: torch.Size([512, 1, 32])\n",
      "After adding pos_embedding shape: torch.Size([512, 49, 32])\n",
      "Input shape: torch.Size([512, 3, 32, 32])\n",
      "After patch embedding shape: torch.Size([512, 1, 32])\n",
      "After adding pos_embedding shape: torch.Size([512, 49, 32])\n"
     ]
    },
    {
     "name": "stderr",
     "output_type": "stream",
     "text": [
      "loss 1.96014:  14%|█▍        | 14/98 [00:02<00:16,  5.08it/s]"
     ]
    },
    {
     "name": "stdout",
     "output_type": "stream",
     "text": [
      "Input shape: torch.Size([512, 3, 32, 32])\n",
      "After patch embedding shape: torch.Size([512, 1, 32])\n",
      "After adding pos_embedding shape: torch.Size([512, 49, 32])\n",
      "Input shape: torch.Size([512, 3, 32, 32])\n",
      "After patch embedding shape: torch.Size([512, 1, 32])\n",
      "After adding pos_embedding shape: torch.Size([512, 49, 32])\n"
     ]
    },
    {
     "name": "stderr",
     "output_type": "stream",
     "text": [
      "loss 1.92470:  16%|█▋        | 16/98 [00:03<00:15,  5.14it/s]"
     ]
    },
    {
     "name": "stdout",
     "output_type": "stream",
     "text": [
      "Input shape: torch.Size([512, 3, 32, 32])\n",
      "After patch embedding shape: torch.Size([512, 1, 32])\n",
      "After adding pos_embedding shape: torch.Size([512, 49, 32])\n",
      "Input shape: torch.Size([512, 3, 32, 32])\n",
      "After patch embedding shape: torch.Size([512, 1, 32])\n",
      "After adding pos_embedding shape: torch.Size([512, 49, 32])\n"
     ]
    },
    {
     "name": "stderr",
     "output_type": "stream",
     "text": [
      "loss 1.86127:  18%|█▊        | 18/98 [00:03<00:15,  5.19it/s]"
     ]
    },
    {
     "name": "stdout",
     "output_type": "stream",
     "text": [
      "Input shape: torch.Size([512, 3, 32, 32])\n",
      "After patch embedding shape: torch.Size([512, 1, 32])\n",
      "After adding pos_embedding shape: torch.Size([512, 49, 32])\n",
      "Input shape: torch.Size([512, 3, 32, 32])\n",
      "After patch embedding shape: torch.Size([512, 1, 32])\n",
      "After adding pos_embedding shape: torch.Size([512, 49, 32])\n"
     ]
    },
    {
     "name": "stderr",
     "output_type": "stream",
     "text": [
      "loss 1.88311:  20%|██        | 20/98 [00:04<00:15,  5.17it/s]"
     ]
    },
    {
     "name": "stdout",
     "output_type": "stream",
     "text": [
      "Input shape: torch.Size([512, 3, 32, 32])\n",
      "After patch embedding shape: torch.Size([512, 1, 32])\n",
      "After adding pos_embedding shape: torch.Size([512, 49, 32])\n",
      "Input shape: torch.Size([512, 3, 32, 32])\n",
      "After patch embedding shape: torch.Size([512, 1, 32])\n",
      "After adding pos_embedding shape: torch.Size([512, 49, 32])\n"
     ]
    },
    {
     "name": "stderr",
     "output_type": "stream",
     "text": [
      "loss 1.87850:  22%|██▏       | 22/98 [00:04<00:14,  5.14it/s]"
     ]
    },
    {
     "name": "stdout",
     "output_type": "stream",
     "text": [
      "Input shape: torch.Size([512, 3, 32, 32])\n",
      "After patch embedding shape: torch.Size([512, 1, 32])\n",
      "After adding pos_embedding shape: torch.Size([512, 49, 32])\n",
      "Input shape: torch.Size([512, 3, 32, 32])\n",
      "After patch embedding shape: torch.Size([512, 1, 32])\n",
      "After adding pos_embedding shape: torch.Size([512, 49, 32])\n"
     ]
    },
    {
     "name": "stderr",
     "output_type": "stream",
     "text": [
      "loss 1.83635:  24%|██▍       | 24/98 [00:04<00:14,  5.15it/s]"
     ]
    },
    {
     "name": "stdout",
     "output_type": "stream",
     "text": [
      "Input shape: torch.Size([512, 3, 32, 32])\n",
      "After patch embedding shape: torch.Size([512, 1, 32])\n",
      "After adding pos_embedding shape: torch.Size([512, 49, 32])\n",
      "Input shape: torch.Size([512, 3, 32, 32])\n",
      "After patch embedding shape: torch.Size([512, 1, 32])\n",
      "After adding pos_embedding shape: torch.Size([512, 49, 32])\n"
     ]
    },
    {
     "name": "stderr",
     "output_type": "stream",
     "text": [
      "loss 1.79245:  27%|██▋       | 26/98 [00:05<00:14,  5.12it/s]"
     ]
    },
    {
     "name": "stdout",
     "output_type": "stream",
     "text": [
      "Input shape: torch.Size([512, 3, 32, 32])\n",
      "After patch embedding shape: torch.Size([512, 1, 32])\n",
      "After adding pos_embedding shape: torch.Size([512, 49, 32])\n",
      "Input shape: torch.Size([512, 3, 32, 32])\n",
      "After patch embedding shape: torch.Size([512, 1, 32])\n",
      "After adding pos_embedding shape: torch.Size([512, 49, 32])\n"
     ]
    },
    {
     "name": "stderr",
     "output_type": "stream",
     "text": [
      "loss 1.81320:  29%|██▊       | 28/98 [00:05<00:13,  5.18it/s]"
     ]
    },
    {
     "name": "stdout",
     "output_type": "stream",
     "text": [
      "Input shape: torch.Size([512, 3, 32, 32])\n",
      "After patch embedding shape: torch.Size([512, 1, 32])\n",
      "After adding pos_embedding shape: torch.Size([512, 49, 32])\n",
      "Input shape: torch.Size([512, 3, 32, 32])\n",
      "After patch embedding shape: torch.Size([512, 1, 32])\n",
      "After adding pos_embedding shape: torch.Size([512, 49, 32])\n"
     ]
    },
    {
     "name": "stderr",
     "output_type": "stream",
     "text": [
      "loss 1.83464:  31%|███       | 30/98 [00:05<00:13,  5.19it/s]"
     ]
    },
    {
     "name": "stdout",
     "output_type": "stream",
     "text": [
      "Input shape: torch.Size([512, 3, 32, 32])\n",
      "After patch embedding shape: torch.Size([512, 1, 32])\n",
      "After adding pos_embedding shape: torch.Size([512, 49, 32])\n",
      "Input shape: torch.Size([512, 3, 32, 32])\n",
      "After patch embedding shape: torch.Size([512, 1, 32])\n",
      "After adding pos_embedding shape: torch.Size([512, 49, 32])\n"
     ]
    },
    {
     "name": "stderr",
     "output_type": "stream",
     "text": [
      "loss 1.84036:  33%|███▎      | 32/98 [00:06<00:12,  5.13it/s]"
     ]
    },
    {
     "name": "stdout",
     "output_type": "stream",
     "text": [
      "Input shape: torch.Size([512, 3, 32, 32])\n",
      "After patch embedding shape: torch.Size([512, 1, 32])\n",
      "After adding pos_embedding shape: torch.Size([512, 49, 32])\n",
      "Input shape: torch.Size([512, 3, 32, 32])\n",
      "After patch embedding shape: torch.Size([512, 1, 32])\n",
      "After adding pos_embedding shape: torch.Size([512, 49, 32])\n"
     ]
    },
    {
     "name": "stderr",
     "output_type": "stream",
     "text": [
      "loss 1.84142:  35%|███▍      | 34/98 [00:06<00:12,  5.12it/s]"
     ]
    },
    {
     "name": "stdout",
     "output_type": "stream",
     "text": [
      "Input shape: torch.Size([512, 3, 32, 32])\n",
      "After patch embedding shape: torch.Size([512, 1, 32])\n",
      "After adding pos_embedding shape: torch.Size([512, 49, 32])\n",
      "Input shape: torch.Size([512, 3, 32, 32])\n",
      "After patch embedding shape: torch.Size([512, 1, 32])\n",
      "After adding pos_embedding shape: torch.Size([512, 49, 32])\n"
     ]
    },
    {
     "name": "stderr",
     "output_type": "stream",
     "text": [
      "loss 1.79724:  37%|███▋      | 36/98 [00:07<00:12,  5.16it/s]"
     ]
    },
    {
     "name": "stdout",
     "output_type": "stream",
     "text": [
      "Input shape: torch.Size([512, 3, 32, 32])\n",
      "After patch embedding shape: torch.Size([512, 1, 32])\n",
      "After adding pos_embedding shape: torch.Size([512, 49, 32])\n",
      "Input shape: torch.Size([512, 3, 32, 32])\n",
      "After patch embedding shape: torch.Size([512, 1, 32])\n",
      "After adding pos_embedding shape: torch.Size([512, 49, 32])\n"
     ]
    },
    {
     "name": "stderr",
     "output_type": "stream",
     "text": [
      "loss 1.78861:  39%|███▉      | 38/98 [00:07<00:11,  5.20it/s]"
     ]
    },
    {
     "name": "stdout",
     "output_type": "stream",
     "text": [
      "Input shape: torch.Size([512, 3, 32, 32])\n",
      "After patch embedding shape: torch.Size([512, 1, 32])\n",
      "After adding pos_embedding shape: torch.Size([512, 49, 32])\n",
      "Input shape: torch.Size([512, 3, 32, 32])\n",
      "After patch embedding shape: torch.Size([512, 1, 32])\n",
      "After adding pos_embedding shape: torch.Size([512, 49, 32])\n"
     ]
    },
    {
     "name": "stderr",
     "output_type": "stream",
     "text": [
      "loss 1.85844:  41%|████      | 40/98 [00:07<00:11,  5.22it/s]"
     ]
    },
    {
     "name": "stdout",
     "output_type": "stream",
     "text": [
      "Input shape: torch.Size([512, 3, 32, 32])\n",
      "After patch embedding shape: torch.Size([512, 1, 32])\n",
      "After adding pos_embedding shape: torch.Size([512, 49, 32])\n",
      "Input shape: torch.Size([512, 3, 32, 32])\n",
      "After patch embedding shape: torch.Size([512, 1, 32])\n",
      "After adding pos_embedding shape: torch.Size([512, 49, 32])\n"
     ]
    },
    {
     "name": "stderr",
     "output_type": "stream",
     "text": [
      "loss 1.82969:  43%|████▎     | 42/98 [00:08<00:11,  5.04it/s]"
     ]
    },
    {
     "name": "stdout",
     "output_type": "stream",
     "text": [
      "Input shape: torch.Size([512, 3, 32, 32])\n",
      "After patch embedding shape: torch.Size([512, 1, 32])\n",
      "After adding pos_embedding shape: torch.Size([512, 49, 32])\n",
      "Input shape: torch.Size([512, 3, 32, 32])\n",
      "After patch embedding shape: torch.Size([512, 1, 32])\n",
      "After adding pos_embedding shape: torch.Size([512, 49, 32])\n"
     ]
    },
    {
     "name": "stderr",
     "output_type": "stream",
     "text": [
      "loss 1.88739:  45%|████▍     | 44/98 [00:08<00:10,  5.07it/s]"
     ]
    },
    {
     "name": "stdout",
     "output_type": "stream",
     "text": [
      "Input shape: torch.Size([512, 3, 32, 32])\n",
      "After patch embedding shape: torch.Size([512, 1, 32])\n",
      "After adding pos_embedding shape: torch.Size([512, 49, 32])\n",
      "Input shape: torch.Size([512, 3, 32, 32])\n",
      "After patch embedding shape: torch.Size([512, 1, 32])\n",
      "After adding pos_embedding shape: torch.Size([512, 49, 32])\n"
     ]
    },
    {
     "name": "stderr",
     "output_type": "stream",
     "text": [
      "loss 1.77585:  47%|████▋     | 46/98 [00:09<00:10,  5.11it/s]"
     ]
    },
    {
     "name": "stdout",
     "output_type": "stream",
     "text": [
      "Input shape: torch.Size([512, 3, 32, 32])\n",
      "After patch embedding shape: torch.Size([512, 1, 32])\n",
      "After adding pos_embedding shape: torch.Size([512, 49, 32])\n",
      "Input shape: torch.Size([512, 3, 32, 32])\n",
      "After patch embedding shape: torch.Size([512, 1, 32])\n",
      "After adding pos_embedding shape: torch.Size([512, 49, 32])\n"
     ]
    },
    {
     "name": "stderr",
     "output_type": "stream",
     "text": [
      "loss 1.80768:  49%|████▉     | 48/98 [00:09<00:09,  5.15it/s]"
     ]
    },
    {
     "name": "stdout",
     "output_type": "stream",
     "text": [
      "Input shape: torch.Size([512, 3, 32, 32])\n",
      "After patch embedding shape: torch.Size([512, 1, 32])\n",
      "After adding pos_embedding shape: torch.Size([512, 49, 32])\n",
      "Input shape: torch.Size([512, 3, 32, 32])\n",
      "After patch embedding shape: torch.Size([512, 1, 32])\n",
      "After adding pos_embedding shape: torch.Size([512, 49, 32])\n"
     ]
    },
    {
     "name": "stderr",
     "output_type": "stream",
     "text": [
      "loss 1.78221:  51%|█████     | 50/98 [00:09<00:09,  5.17it/s]"
     ]
    },
    {
     "name": "stdout",
     "output_type": "stream",
     "text": [
      "Input shape: torch.Size([512, 3, 32, 32])\n",
      "After patch embedding shape: torch.Size([512, 1, 32])\n",
      "After adding pos_embedding shape: torch.Size([512, 49, 32])\n",
      "Input shape: torch.Size([512, 3, 32, 32])\n",
      "After patch embedding shape: torch.Size([512, 1, 32])\n",
      "After adding pos_embedding shape: torch.Size([512, 49, 32])\n"
     ]
    },
    {
     "name": "stderr",
     "output_type": "stream",
     "text": [
      "loss 1.76113:  53%|█████▎    | 52/98 [00:10<00:08,  5.12it/s]"
     ]
    },
    {
     "name": "stdout",
     "output_type": "stream",
     "text": [
      "Input shape: torch.Size([512, 3, 32, 32])\n",
      "After patch embedding shape: torch.Size([512, 1, 32])\n",
      "After adding pos_embedding shape: torch.Size([512, 49, 32])\n",
      "Input shape: torch.Size([512, 3, 32, 32])\n",
      "After patch embedding shape: torch.Size([512, 1, 32])\n",
      "After adding pos_embedding shape: torch.Size([512, 49, 32])\n"
     ]
    },
    {
     "name": "stderr",
     "output_type": "stream",
     "text": [
      "loss 1.88690:  55%|█████▌    | 54/98 [00:10<00:08,  5.12it/s]"
     ]
    },
    {
     "name": "stdout",
     "output_type": "stream",
     "text": [
      "Input shape: torch.Size([512, 3, 32, 32])\n",
      "After patch embedding shape: torch.Size([512, 1, 32])\n",
      "After adding pos_embedding shape: torch.Size([512, 49, 32])\n",
      "Input shape: torch.Size([512, 3, 32, 32])\n",
      "After patch embedding shape: torch.Size([512, 1, 32])\n",
      "After adding pos_embedding shape: torch.Size([512, 49, 32])\n"
     ]
    },
    {
     "name": "stderr",
     "output_type": "stream",
     "text": [
      "loss 1.82951:  57%|█████▋    | 56/98 [00:11<00:08,  5.04it/s]"
     ]
    },
    {
     "name": "stdout",
     "output_type": "stream",
     "text": [
      "Input shape: torch.Size([512, 3, 32, 32])\n",
      "After patch embedding shape: torch.Size([512, 1, 32])\n",
      "After adding pos_embedding shape: torch.Size([512, 49, 32])\n"
     ]
    },
    {
     "name": "stderr",
     "output_type": "stream",
     "text": [
      "loss 1.83802:  58%|█████▊    | 57/98 [00:11<00:08,  4.85it/s]"
     ]
    },
    {
     "name": "stdout",
     "output_type": "stream",
     "text": [
      "Input shape: torch.Size([512, 3, 32, 32])\n",
      "After patch embedding shape: torch.Size([512, 1, 32])\n",
      "After adding pos_embedding shape: torch.Size([512, 49, 32])\n"
     ]
    },
    {
     "name": "stderr",
     "output_type": "stream",
     "text": [
      "loss 1.82991:  59%|█████▉    | 58/98 [00:11<00:08,  4.71it/s]"
     ]
    },
    {
     "name": "stdout",
     "output_type": "stream",
     "text": [
      "Input shape: torch.Size([512, 3, 32, 32])\n",
      "After patch embedding shape: torch.Size([512, 1, 32])\n",
      "After adding pos_embedding shape: torch.Size([512, 49, 32])\n"
     ]
    },
    {
     "name": "stderr",
     "output_type": "stream",
     "text": [
      "loss 1.80969:  60%|██████    | 59/98 [00:11<00:08,  4.60it/s]"
     ]
    },
    {
     "name": "stdout",
     "output_type": "stream",
     "text": [
      "Input shape: torch.Size([512, 3, 32, 32])\n",
      "After patch embedding shape: torch.Size([512, 1, 32])\n",
      "After adding pos_embedding shape: torch.Size([512, 49, 32])\n"
     ]
    },
    {
     "name": "stderr",
     "output_type": "stream",
     "text": [
      "loss 1.79413:  61%|██████    | 60/98 [00:11<00:08,  4.70it/s]"
     ]
    },
    {
     "name": "stdout",
     "output_type": "stream",
     "text": [
      "Input shape: torch.Size([512, 3, 32, 32])\n",
      "After patch embedding shape: torch.Size([512, 1, 32])\n",
      "After adding pos_embedding shape: torch.Size([512, 49, 32])\n",
      "Input shape: torch.Size([512, 3, 32, 32])\n"
     ]
    },
    {
     "name": "stderr",
     "output_type": "stream",
     "text": [
      "loss 1.78147:  62%|██████▏   | 61/98 [00:12<00:07,  4.80it/s]"
     ]
    },
    {
     "name": "stdout",
     "output_type": "stream",
     "text": [
      "After patch embedding shape: torch.Size([512, 1, 32])\n",
      "After adding pos_embedding shape: torch.Size([512, 49, 32])\n",
      "Input shape: torch.Size([512, 3, 32, 32])\n",
      "After patch embedding shape: torch.Size([512, 1, 32])\n",
      "After adding pos_embedding shape: torch.Size([512, 49, 32])\n"
     ]
    },
    {
     "name": "stderr",
     "output_type": "stream",
     "text": [
      "loss 1.77245:  64%|██████▍   | 63/98 [00:12<00:07,  4.95it/s]"
     ]
    },
    {
     "name": "stdout",
     "output_type": "stream",
     "text": [
      "Input shape: torch.Size([512, 3, 32, 32])\n",
      "After patch embedding shape: torch.Size([512, 1, 32])\n",
      "After adding pos_embedding shape: torch.Size([512, 49, 32])\n",
      "Input shape: torch.Size([512, 3, 32, 32])\n",
      "After patch embedding shape: torch.Size([512, 1, 32])\n",
      "After adding pos_embedding shape: torch.Size([512, 49, 32])\n"
     ]
    },
    {
     "name": "stderr",
     "output_type": "stream",
     "text": [
      "loss 1.84682:  66%|██████▋   | 65/98 [00:12<00:06,  4.85it/s]"
     ]
    },
    {
     "name": "stdout",
     "output_type": "stream",
     "text": [
      "Input shape: torch.Size([512, 3, 32, 32])\n",
      "After patch embedding shape: torch.Size([512, 1, 32])\n",
      "After adding pos_embedding shape: torch.Size([512, 49, 32])\n",
      "Input shape: torch.Size([512, 3, 32, 32])\n",
      "After patch embedding shape: torch.Size([512, 1, 32])\n",
      "After adding pos_embedding shape: torch.Size([512, 49, 32])\n"
     ]
    },
    {
     "name": "stderr",
     "output_type": "stream",
     "text": [
      "loss 1.74248:  68%|██████▊   | 67/98 [00:13<00:06,  4.96it/s]"
     ]
    },
    {
     "name": "stdout",
     "output_type": "stream",
     "text": [
      "Input shape: torch.Size([512, 3, 32, 32])\n",
      "After patch embedding shape: torch.Size([512, 1, 32])\n",
      "After adding pos_embedding shape: torch.Size([512, 49, 32])\n",
      "Input shape: torch.Size([512, 3, 32, 32])\n",
      "After patch embedding shape: torch.Size([512, 1, 32])\n",
      "After adding pos_embedding shape: torch.Size([512, 49, 32])\n"
     ]
    },
    {
     "name": "stderr",
     "output_type": "stream",
     "text": [
      "loss 1.76245:  70%|███████   | 69/98 [00:13<00:05,  5.03it/s]"
     ]
    },
    {
     "name": "stdout",
     "output_type": "stream",
     "text": [
      "Input shape: torch.Size([512, 3, 32, 32])\n",
      "After patch embedding shape: torch.Size([512, 1, 32])\n",
      "After adding pos_embedding shape: torch.Size([512, 49, 32])\n",
      "Input shape: torch.Size([512, 3, 32, 32])\n",
      "After patch embedding shape: torch.Size([512, 1, 32])\n",
      "After adding pos_embedding shape: torch.Size([512, 49, 32])\n"
     ]
    },
    {
     "name": "stderr",
     "output_type": "stream",
     "text": [
      "loss 1.85204:  72%|███████▏  | 71/98 [00:14<00:05,  5.10it/s]"
     ]
    },
    {
     "name": "stdout",
     "output_type": "stream",
     "text": [
      "Input shape: torch.Size([512, 3, 32, 32])\n",
      "After patch embedding shape: torch.Size([512, 1, 32])\n",
      "After adding pos_embedding shape: torch.Size([512, 49, 32])\n",
      "Input shape: torch.Size([512, 3, 32, 32])\n",
      "After patch embedding shape: torch.Size([512, 1, 32])\n",
      "After adding pos_embedding shape: torch.Size([512, 49, 32])\n"
     ]
    },
    {
     "name": "stderr",
     "output_type": "stream",
     "text": [
      "loss 1.77392:  74%|███████▍  | 73/98 [00:14<00:04,  5.09it/s]"
     ]
    },
    {
     "name": "stdout",
     "output_type": "stream",
     "text": [
      "Input shape: torch.Size([512, 3, 32, 32])\n",
      "After patch embedding shape: torch.Size([512, 1, 32])\n",
      "After adding pos_embedding shape: torch.Size([512, 49, 32])\n",
      "Input shape: torch.Size([512, 3, 32, 32])\n",
      "After patch embedding shape: torch.Size([512, 1, 32])\n",
      "After adding pos_embedding shape: torch.Size([512, 49, 32])\n"
     ]
    },
    {
     "name": "stderr",
     "output_type": "stream",
     "text": [
      "loss 1.78809:  77%|███████▋  | 75/98 [00:14<00:04,  5.09it/s]"
     ]
    },
    {
     "name": "stdout",
     "output_type": "stream",
     "text": [
      "Input shape: torch.Size([512, 3, 32, 32])\n",
      "After patch embedding shape: torch.Size([512, 1, 32])\n",
      "After adding pos_embedding shape: torch.Size([512, 49, 32])\n",
      "Input shape: torch.Size([512, 3, 32, 32])\n",
      "After patch embedding shape: torch.Size([512, 1, 32])\n",
      "After adding pos_embedding shape: torch.Size([512, 49, 32])\n"
     ]
    },
    {
     "name": "stderr",
     "output_type": "stream",
     "text": [
      "loss 1.72782:  79%|███████▊  | 77/98 [00:15<00:04,  5.07it/s]"
     ]
    },
    {
     "name": "stdout",
     "output_type": "stream",
     "text": [
      "Input shape: torch.Size([512, 3, 32, 32])\n",
      "After patch embedding shape: torch.Size([512, 1, 32])\n",
      "After adding pos_embedding shape: torch.Size([512, 49, 32])\n",
      "Input shape: torch.Size([512, 3, 32, 32])\n",
      "After patch embedding shape: torch.Size([512, 1, 32])\n",
      "After adding pos_embedding shape: torch.Size([512, 49, 32])\n"
     ]
    },
    {
     "name": "stderr",
     "output_type": "stream",
     "text": [
      "loss 1.77477:  81%|████████  | 79/98 [00:15<00:03,  4.82it/s]"
     ]
    },
    {
     "name": "stdout",
     "output_type": "stream",
     "text": [
      "Input shape: torch.Size([512, 3, 32, 32])\n",
      "After patch embedding shape: torch.Size([512, 1, 32])\n",
      "After adding pos_embedding shape: torch.Size([512, 49, 32])\n",
      "Input shape: torch.Size([512, 3, 32, 32])\n",
      "After patch embedding shape: torch.Size([512, 1, 32])\n",
      "After adding pos_embedding shape: torch.Size([512, 49, 32])\n"
     ]
    },
    {
     "name": "stderr",
     "output_type": "stream",
     "text": [
      "loss 1.76896:  83%|████████▎ | 81/98 [00:17<00:08,  1.91it/s]"
     ]
    },
    {
     "name": "stdout",
     "output_type": "stream",
     "text": [
      "Input shape: torch.Size([512, 3, 32, 32])\n",
      "After patch embedding shape: torch.Size([512, 1, 32])\n",
      "After adding pos_embedding shape: torch.Size([512, 49, 32])\n"
     ]
    },
    {
     "name": "stderr",
     "output_type": "stream",
     "text": [
      "loss 1.79827:  84%|████████▎ | 82/98 [00:17<00:06,  2.33it/s]"
     ]
    },
    {
     "name": "stdout",
     "output_type": "stream",
     "text": [
      "Input shape: torch.Size([512, 3, 32, 32])\n",
      "After patch embedding shape: torch.Size([512, 1, 32])\n",
      "After adding pos_embedding shape: torch.Size([512, 49, 32])\n"
     ]
    },
    {
     "name": "stderr",
     "output_type": "stream",
     "text": [
      "loss 1.72933:  85%|████████▍ | 83/98 [00:18<00:05,  2.63it/s]"
     ]
    },
    {
     "name": "stdout",
     "output_type": "stream",
     "text": [
      "Input shape: torch.Size([512, 3, 32, 32])\n",
      "After patch embedding shape: torch.Size([512, 1, 32])\n",
      "After adding pos_embedding shape: torch.Size([512, 49, 32])\n"
     ]
    },
    {
     "name": "stderr",
     "output_type": "stream",
     "text": [
      "loss 1.75865:  86%|████████▌ | 84/98 [00:18<00:04,  2.99it/s]"
     ]
    },
    {
     "name": "stdout",
     "output_type": "stream",
     "text": [
      "Input shape: torch.Size([512, 3, 32, 32])\n",
      "After patch embedding shape: torch.Size([512, 1, 32])\n",
      "After adding pos_embedding shape: torch.Size([512, 49, 32])\n"
     ]
    },
    {
     "name": "stderr",
     "output_type": "stream",
     "text": [
      "loss 1.71261:  87%|████████▋ | 85/98 [00:18<00:03,  3.40it/s]"
     ]
    },
    {
     "name": "stdout",
     "output_type": "stream",
     "text": [
      "Input shape: torch.Size([512, 3, 32, 32])\n",
      "After patch embedding shape: torch.Size([512, 1, 32])\n",
      "After adding pos_embedding shape: torch.Size([512, 49, 32])\n",
      "Input shape: torch.Size([512, 3, 32, 32])\n",
      "After patch embedding shape: torch.Size([512, 1, 32])\n",
      "After adding pos_embedding shape: torch.Size([512, 49, 32])\n"
     ]
    },
    {
     "name": "stderr",
     "output_type": "stream",
     "text": [
      "loss 1.70584:  89%|████████▉ | 87/98 [00:18<00:02,  4.06it/s]"
     ]
    },
    {
     "name": "stdout",
     "output_type": "stream",
     "text": [
      "Input shape: torch.Size([512, 3, 32, 32])\n",
      "After patch embedding shape: torch.Size([512, 1, 32])\n",
      "After adding pos_embedding shape: torch.Size([512, 49, 32])\n",
      "Input shape: torch.Size([512, 3, 32, 32])\n",
      "After patch embedding shape: torch.Size([512, 1, 32])\n",
      "After adding pos_embedding shape: torch.Size([512, 49, 32])\n"
     ]
    },
    {
     "name": "stderr",
     "output_type": "stream",
     "text": [
      "loss 1.75312:  91%|█████████ | 89/98 [00:19<00:01,  4.50it/s]"
     ]
    },
    {
     "name": "stdout",
     "output_type": "stream",
     "text": [
      "Input shape: torch.Size([512, 3, 32, 32])\n",
      "After patch embedding shape: torch.Size([512, 1, 32])\n",
      "After adding pos_embedding shape: torch.Size([512, 49, 32])\n",
      "Input shape: torch.Size([512, 3, 32, 32])\n",
      "After patch embedding shape: torch.Size([512, 1, 32])\n",
      "After adding pos_embedding shape: torch.Size([512, 49, 32])\n"
     ]
    },
    {
     "name": "stderr",
     "output_type": "stream",
     "text": [
      "loss 1.79736:  93%|█████████▎| 91/98 [00:19<00:01,  4.77it/s]"
     ]
    },
    {
     "name": "stdout",
     "output_type": "stream",
     "text": [
      "Input shape: torch.Size([512, 3, 32, 32])\n",
      "After patch embedding shape: torch.Size([512, 1, 32])\n",
      "After adding pos_embedding shape: torch.Size([512, 49, 32])\n",
      "Input shape: torch.Size([512, 3, 32, 32])\n",
      "After patch embedding shape: torch.Size([512, 1, 32])\n",
      "After adding pos_embedding shape: torch.Size([512, 49, 32])\n"
     ]
    },
    {
     "name": "stderr",
     "output_type": "stream",
     "text": [
      "loss 1.74267:  95%|█████████▍| 93/98 [00:20<00:01,  4.75it/s]"
     ]
    },
    {
     "name": "stdout",
     "output_type": "stream",
     "text": [
      "Input shape: torch.Size([512, 3, 32, 32])\n",
      "After patch embedding shape: torch.Size([512, 1, 32])\n",
      "After adding pos_embedding shape: torch.Size([512, 49, 32])\n",
      "Input shape: torch.Size([512, 3, 32, 32])\n",
      "After patch embedding shape: torch.Size([512, 1, 32])\n",
      "After adding pos_embedding shape: torch.Size([512, 49, 32])\n"
     ]
    },
    {
     "name": "stderr",
     "output_type": "stream",
     "text": [
      "loss 1.76273:  97%|█████████▋| 95/98 [00:20<00:00,  4.93it/s]"
     ]
    },
    {
     "name": "stdout",
     "output_type": "stream",
     "text": [
      "Input shape: torch.Size([512, 3, 32, 32])\n",
      "After patch embedding shape: torch.Size([512, 1, 32])\n",
      "After adding pos_embedding shape: torch.Size([512, 49, 32])\n",
      "Input shape: torch.Size([512, 3, 32, 32])\n",
      "After patch embedding shape: torch.Size([512, 1, 32])\n",
      "After adding pos_embedding shape: torch.Size([512, 49, 32])\n"
     ]
    },
    {
     "name": "stderr",
     "output_type": "stream",
     "text": [
      "loss 1.79169:  99%|█████████▉| 97/98 [00:20<00:00,  5.00it/s]"
     ]
    },
    {
     "name": "stdout",
     "output_type": "stream",
     "text": [
      "Input shape: torch.Size([512, 3, 32, 32])\n",
      "After patch embedding shape: torch.Size([512, 1, 32])\n",
      "After adding pos_embedding shape: torch.Size([512, 49, 32])\n",
      "Input shape: torch.Size([336, 3, 32, 32])\n",
      "After patch embedding shape: torch.Size([336, 1, 32])\n",
      "After adding pos_embedding shape: torch.Size([336, 49, 32])\n"
     ]
    },
    {
     "name": "stderr",
     "output_type": "stream",
     "text": [
      "loss 1.74410: 100%|██████████| 98/98 [00:21<00:00,  4.50it/s]\n"
     ]
    },
    {
     "name": "stdout",
     "output_type": "stream",
     "text": [
      "Época 2/10\n"
     ]
    },
    {
     "name": "stderr",
     "output_type": "stream",
     "text": [
      "  0%|          | 0/98 [00:00<?, ?it/s]/opt/anaconda3/envs/anaconda_python_3_11/lib/python3.11/site-packages/torch/amp/autocast_mode.py:250: UserWarning: User provided device_type of 'cuda', but CUDA is not available. Disabling\n",
      "  warnings.warn(\n"
     ]
    },
    {
     "name": "stdout",
     "output_type": "stream",
     "text": [
      "Input shape: torch.Size([512, 3, 32, 32])\n",
      "After patch embedding shape: torch.Size([512, 1, 32])\n",
      "After adding pos_embedding shape: torch.Size([512, 49, 32])\n"
     ]
    },
    {
     "name": "stderr",
     "output_type": "stream",
     "text": [
      "loss 1.73644:   1%|          | 1/98 [00:00<00:19,  4.99it/s]"
     ]
    },
    {
     "name": "stdout",
     "output_type": "stream",
     "text": [
      "Input shape: torch.Size([512, 3, 32, 32])\n",
      "After patch embedding shape: torch.Size([512, 1, 32])\n",
      "After adding pos_embedding shape: torch.Size([512, 49, 32])\n"
     ]
    },
    {
     "name": "stderr",
     "output_type": "stream",
     "text": [
      "loss 1.78730:   2%|▏         | 2/98 [00:00<00:19,  4.97it/s]"
     ]
    },
    {
     "name": "stdout",
     "output_type": "stream",
     "text": [
      "Input shape: torch.Size([512, 3, 32, 32])\n",
      "After patch embedding shape: torch.Size([512, 1, 32])\n",
      "After adding pos_embedding shape: torch.Size([512, 49, 32])\n"
     ]
    },
    {
     "name": "stderr",
     "output_type": "stream",
     "text": [
      "loss 1.73589:   3%|▎         | 3/98 [00:00<00:18,  5.03it/s]"
     ]
    },
    {
     "name": "stdout",
     "output_type": "stream",
     "text": [
      "Input shape: torch.Size([512, 3, 32, 32])\n",
      "After patch embedding shape: torch.Size([512, 1, 32])\n",
      "After adding pos_embedding shape: torch.Size([512, 49, 32])\n"
     ]
    },
    {
     "name": "stderr",
     "output_type": "stream",
     "text": [
      "loss 1.72879:   4%|▍         | 4/98 [00:00<00:18,  5.04it/s]"
     ]
    },
    {
     "name": "stdout",
     "output_type": "stream",
     "text": [
      "Input shape: torch.Size([512, 3, 32, 32])\n",
      "After patch embedding shape: torch.Size([512, 1, 32])\n",
      "After adding pos_embedding shape: torch.Size([512, 49, 32])\n"
     ]
    },
    {
     "name": "stderr",
     "output_type": "stream",
     "text": [
      "loss 1.70839:   5%|▌         | 5/98 [00:00<00:18,  5.06it/s]"
     ]
    },
    {
     "name": "stdout",
     "output_type": "stream",
     "text": [
      "Input shape: torch.Size([512, 3, 32, 32])\n",
      "After patch embedding shape: torch.Size([512, 1, 32])\n",
      "After adding pos_embedding shape: torch.Size([512, 49, 32])\n"
     ]
    },
    {
     "name": "stderr",
     "output_type": "stream",
     "text": [
      "loss 1.76259:   6%|▌         | 6/98 [00:01<00:18,  5.09it/s]"
     ]
    },
    {
     "name": "stdout",
     "output_type": "stream",
     "text": [
      "Input shape: torch.Size([512, 3, 32, 32])\n",
      "After patch embedding shape: torch.Size([512, 1, 32])\n",
      "After adding pos_embedding shape: torch.Size([512, 49, 32])\n"
     ]
    },
    {
     "name": "stderr",
     "output_type": "stream",
     "text": [
      "loss 1.80522:   7%|▋         | 7/98 [00:01<00:17,  5.10it/s]"
     ]
    },
    {
     "name": "stdout",
     "output_type": "stream",
     "text": [
      "Input shape: torch.Size([512, 3, 32, 32])\n",
      "After patch embedding shape: torch.Size([512, 1, 32])\n",
      "After adding pos_embedding shape: torch.Size([512, 49, 32])\n"
     ]
    },
    {
     "name": "stderr",
     "output_type": "stream",
     "text": [
      "loss 1.75597:   9%|▉         | 9/98 [00:01<00:17,  4.99it/s]"
     ]
    },
    {
     "name": "stdout",
     "output_type": "stream",
     "text": [
      "Input shape: torch.Size([512, 3, 32, 32])\n",
      "After patch embedding shape: torch.Size([512, 1, 32])\n",
      "After adding pos_embedding shape: torch.Size([512, 49, 32])\n",
      "Input shape: torch.Size([512, 3, 32, 32])\n",
      "After patch embedding shape: torch.Size([512, 1, 32])\n",
      "After adding pos_embedding shape: torch.Size([512, 49, 32])\n"
     ]
    },
    {
     "name": "stderr",
     "output_type": "stream",
     "text": [
      "loss 1.81025:  11%|█         | 11/98 [00:02<00:17,  5.08it/s]"
     ]
    },
    {
     "name": "stdout",
     "output_type": "stream",
     "text": [
      "Input shape: torch.Size([512, 3, 32, 32])\n",
      "After patch embedding shape: torch.Size([512, 1, 32])\n",
      "After adding pos_embedding shape: torch.Size([512, 49, 32])\n",
      "Input shape: torch.Size([512, 3, 32, 32])\n",
      "After patch embedding shape: torch.Size([512, 1, 32])\n",
      "After adding pos_embedding shape: torch.Size([512, 49, 32])\n"
     ]
    },
    {
     "name": "stderr",
     "output_type": "stream",
     "text": [
      "loss 1.74752:  13%|█▎        | 13/98 [00:02<00:16,  5.13it/s]"
     ]
    },
    {
     "name": "stdout",
     "output_type": "stream",
     "text": [
      "Input shape: torch.Size([512, 3, 32, 32])\n",
      "After patch embedding shape: torch.Size([512, 1, 32])\n",
      "After adding pos_embedding shape: torch.Size([512, 49, 32])\n",
      "Input shape: torch.Size([512, 3, 32, 32])\n",
      "After patch embedding shape: torch.Size([512, 1, 32])\n",
      "After adding pos_embedding shape: torch.Size([512, 49, 32])\n"
     ]
    },
    {
     "name": "stderr",
     "output_type": "stream",
     "text": [
      "loss 1.80917:  15%|█▌        | 15/98 [00:02<00:16,  5.17it/s]"
     ]
    },
    {
     "name": "stdout",
     "output_type": "stream",
     "text": [
      "Input shape: torch.Size([512, 3, 32, 32])\n",
      "After patch embedding shape: torch.Size([512, 1, 32])\n",
      "After adding pos_embedding shape: torch.Size([512, 49, 32])\n",
      "Input shape: torch.Size([512, 3, 32, 32])\n",
      "After patch embedding shape: torch.Size([512, 1, 32])\n",
      "After adding pos_embedding shape: torch.Size([512, 49, 32])\n"
     ]
    },
    {
     "name": "stderr",
     "output_type": "stream",
     "text": [
      "loss 1.74292:  17%|█▋        | 17/98 [00:03<00:15,  5.20it/s]"
     ]
    },
    {
     "name": "stdout",
     "output_type": "stream",
     "text": [
      "Input shape: torch.Size([512, 3, 32, 32])\n",
      "After patch embedding shape: torch.Size([512, 1, 32])\n",
      "After adding pos_embedding shape: torch.Size([512, 49, 32])\n",
      "Input shape: torch.Size([512, 3, 32, 32])\n",
      "After patch embedding shape: torch.Size([512, 1, 32])\n",
      "After adding pos_embedding shape: torch.Size([512, 49, 32])\n"
     ]
    },
    {
     "name": "stderr",
     "output_type": "stream",
     "text": [
      "loss 1.71705:  19%|█▉        | 19/98 [00:03<00:15,  5.00it/s]"
     ]
    },
    {
     "name": "stdout",
     "output_type": "stream",
     "text": [
      "Input shape: torch.Size([512, 3, 32, 32])\n",
      "After patch embedding shape: torch.Size([512, 1, 32])\n",
      "After adding pos_embedding shape: torch.Size([512, 49, 32])\n",
      "Input shape: torch.Size([512, 3, 32, 32])\n",
      "After patch embedding shape: torch.Size([512, 1, 32])\n",
      "After adding pos_embedding shape: torch.Size([512, 49, 32])\n"
     ]
    },
    {
     "name": "stderr",
     "output_type": "stream",
     "text": [
      "loss 1.74932:  21%|██▏       | 21/98 [00:04<00:15,  5.07it/s]"
     ]
    },
    {
     "name": "stdout",
     "output_type": "stream",
     "text": [
      "Input shape: torch.Size([512, 3, 32, 32])\n",
      "After patch embedding shape: torch.Size([512, 1, 32])\n",
      "After adding pos_embedding shape: torch.Size([512, 49, 32])\n",
      "Input shape: torch.Size([512, 3, 32, 32])\n",
      "After patch embedding shape: torch.Size([512, 1, 32])\n",
      "After adding pos_embedding shape: torch.Size([512, 49, 32])\n"
     ]
    },
    {
     "name": "stderr",
     "output_type": "stream",
     "text": [
      "loss 1.72373:  23%|██▎       | 23/98 [00:04<00:14,  5.10it/s]"
     ]
    },
    {
     "name": "stdout",
     "output_type": "stream",
     "text": [
      "Input shape: torch.Size([512, 3, 32, 32])\n",
      "After patch embedding shape: torch.Size([512, 1, 32])\n",
      "After adding pos_embedding shape: torch.Size([512, 49, 32])\n",
      "Input shape: torch.Size([512, 3, 32, 32])\n",
      "After patch embedding shape: torch.Size([512, 1, 32])\n",
      "After adding pos_embedding shape: torch.Size([512, 49, 32])\n"
     ]
    },
    {
     "name": "stderr",
     "output_type": "stream",
     "text": [
      "loss 1.72419:  26%|██▌       | 25/98 [00:04<00:14,  5.11it/s]"
     ]
    },
    {
     "name": "stdout",
     "output_type": "stream",
     "text": [
      "Input shape: torch.Size([512, 3, 32, 32])\n",
      "After patch embedding shape: torch.Size([512, 1, 32])\n",
      "After adding pos_embedding shape: torch.Size([512, 49, 32])\n",
      "Input shape: torch.Size([512, 3, 32, 32])\n",
      "After patch embedding shape: torch.Size([512, 1, 32])\n",
      "After adding pos_embedding shape: torch.Size([512, 49, 32])\n"
     ]
    },
    {
     "name": "stderr",
     "output_type": "stream",
     "text": [
      "loss 1.69030:  28%|██▊       | 27/98 [00:05<00:13,  5.11it/s]"
     ]
    },
    {
     "name": "stdout",
     "output_type": "stream",
     "text": [
      "Input shape: torch.Size([512, 3, 32, 32])\n",
      "After patch embedding shape: torch.Size([512, 1, 32])\n",
      "After adding pos_embedding shape: torch.Size([512, 49, 32])\n",
      "Input shape: torch.Size([512, 3, 32, 32])\n",
      "After patch embedding shape: torch.Size([512, 1, 32])\n",
      "After adding pos_embedding shape: torch.Size([512, 49, 32])\n"
     ]
    },
    {
     "name": "stderr",
     "output_type": "stream",
     "text": [
      "loss 1.69276:  30%|██▉       | 29/98 [00:05<00:13,  4.97it/s]"
     ]
    },
    {
     "name": "stdout",
     "output_type": "stream",
     "text": [
      "Input shape: torch.Size([512, 3, 32, 32])\n",
      "After patch embedding shape: torch.Size([512, 1, 32])\n",
      "After adding pos_embedding shape: torch.Size([512, 49, 32])\n",
      "Input shape: torch.Size([512, 3, 32, 32])\n",
      "After patch embedding shape: torch.Size([512, 1, 32])\n",
      "After adding pos_embedding shape: torch.Size([512, 49, 32])\n"
     ]
    },
    {
     "name": "stderr",
     "output_type": "stream",
     "text": [
      "loss 1.72263:  32%|███▏      | 31/98 [00:06<00:13,  5.06it/s]"
     ]
    },
    {
     "name": "stdout",
     "output_type": "stream",
     "text": [
      "Input shape: torch.Size([512, 3, 32, 32])\n",
      "After patch embedding shape: torch.Size([512, 1, 32])\n",
      "After adding pos_embedding shape: torch.Size([512, 49, 32])\n",
      "Input shape: torch.Size([512, 3, 32, 32])\n",
      "After patch embedding shape: torch.Size([512, 1, 32])\n",
      "After adding pos_embedding shape: torch.Size([512, 49, 32])\n"
     ]
    },
    {
     "name": "stderr",
     "output_type": "stream",
     "text": [
      "loss 1.67208:  34%|███▎      | 33/98 [00:06<00:12,  5.08it/s]"
     ]
    },
    {
     "name": "stdout",
     "output_type": "stream",
     "text": [
      "Input shape: torch.Size([512, 3, 32, 32])\n",
      "After patch embedding shape: torch.Size([512, 1, 32])\n",
      "After adding pos_embedding shape: torch.Size([512, 49, 32])\n",
      "Input shape: torch.Size([512, 3, 32, 32])\n",
      "After patch embedding shape: torch.Size([512, 1, 32])\n",
      "After adding pos_embedding shape: torch.Size([512, 49, 32])\n"
     ]
    },
    {
     "name": "stderr",
     "output_type": "stream",
     "text": [
      "loss 1.73280:  36%|███▌      | 35/98 [00:06<00:12,  5.12it/s]"
     ]
    },
    {
     "name": "stdout",
     "output_type": "stream",
     "text": [
      "Input shape: torch.Size([512, 3, 32, 32])\n",
      "After patch embedding shape: torch.Size([512, 1, 32])\n",
      "After adding pos_embedding shape: torch.Size([512, 49, 32])\n",
      "Input shape: torch.Size([512, 3, 32, 32])\n",
      "After patch embedding shape: torch.Size([512, 1, 32])\n",
      "After adding pos_embedding shape: torch.Size([512, 49, 32])\n"
     ]
    },
    {
     "name": "stderr",
     "output_type": "stream",
     "text": [
      "loss 1.73347:  38%|███▊      | 37/98 [00:07<00:11,  5.11it/s]"
     ]
    },
    {
     "name": "stdout",
     "output_type": "stream",
     "text": [
      "Input shape: torch.Size([512, 3, 32, 32])\n",
      "After patch embedding shape: torch.Size([512, 1, 32])\n",
      "After adding pos_embedding shape: torch.Size([512, 49, 32])\n",
      "Input shape: torch.Size([512, 3, 32, 32])\n",
      "After patch embedding shape: torch.Size([512, 1, 32])\n",
      "After adding pos_embedding shape: torch.Size([512, 49, 32])\n"
     ]
    },
    {
     "name": "stderr",
     "output_type": "stream",
     "text": [
      "loss 1.70588:  40%|███▉      | 39/98 [00:07<00:11,  4.97it/s]"
     ]
    },
    {
     "name": "stdout",
     "output_type": "stream",
     "text": [
      "Input shape: torch.Size([512, 3, 32, 32])\n",
      "After patch embedding shape: torch.Size([512, 1, 32])\n",
      "After adding pos_embedding shape: torch.Size([512, 49, 32])\n",
      "Input shape: torch.Size([512, 3, 32, 32])\n",
      "After patch embedding shape: torch.Size([512, 1, 32])\n",
      "After adding pos_embedding shape: torch.Size([512, 49, 32])\n"
     ]
    },
    {
     "name": "stderr",
     "output_type": "stream",
     "text": [
      "loss 1.69645:  42%|████▏     | 41/98 [00:08<00:11,  5.06it/s]"
     ]
    },
    {
     "name": "stdout",
     "output_type": "stream",
     "text": [
      "Input shape: torch.Size([512, 3, 32, 32])\n",
      "After patch embedding shape: torch.Size([512, 1, 32])\n",
      "After adding pos_embedding shape: torch.Size([512, 49, 32])\n",
      "Input shape: torch.Size([512, 3, 32, 32])\n",
      "After patch embedding shape: torch.Size([512, 1, 32])\n",
      "After adding pos_embedding shape: torch.Size([512, 49, 32])\n"
     ]
    },
    {
     "name": "stderr",
     "output_type": "stream",
     "text": [
      "loss 1.69059:  44%|████▍     | 43/98 [00:08<00:10,  5.10it/s]"
     ]
    },
    {
     "name": "stdout",
     "output_type": "stream",
     "text": [
      "Input shape: torch.Size([512, 3, 32, 32])\n",
      "After patch embedding shape: torch.Size([512, 1, 32])\n",
      "After adding pos_embedding shape: torch.Size([512, 49, 32])\n",
      "Input shape: torch.Size([512, 3, 32, 32])\n",
      "After patch embedding shape: torch.Size([512, 1, 32])\n",
      "After adding pos_embedding shape: torch.Size([512, 49, 32])\n"
     ]
    },
    {
     "name": "stderr",
     "output_type": "stream",
     "text": [
      "loss 1.68212:  46%|████▌     | 45/98 [00:08<00:10,  5.13it/s]"
     ]
    },
    {
     "name": "stdout",
     "output_type": "stream",
     "text": [
      "Input shape: torch.Size([512, 3, 32, 32])\n",
      "After patch embedding shape: torch.Size([512, 1, 32])\n",
      "After adding pos_embedding shape: torch.Size([512, 49, 32])\n",
      "Input shape: torch.Size([512, 3, 32, 32])\n",
      "After patch embedding shape: torch.Size([512, 1, 32])\n",
      "After adding pos_embedding shape: torch.Size([512, 49, 32])\n"
     ]
    },
    {
     "name": "stderr",
     "output_type": "stream",
     "text": [
      "loss 1.76331:  48%|████▊     | 47/98 [00:09<00:09,  5.15it/s]"
     ]
    },
    {
     "name": "stdout",
     "output_type": "stream",
     "text": [
      "Input shape: torch.Size([512, 3, 32, 32])\n",
      "After patch embedding shape: torch.Size([512, 1, 32])\n",
      "After adding pos_embedding shape: torch.Size([512, 49, 32])\n",
      "Input shape: torch.Size([512, 3, 32, 32])\n",
      "After patch embedding shape: torch.Size([512, 1, 32])\n",
      "After adding pos_embedding shape: torch.Size([512, 49, 32])\n"
     ]
    },
    {
     "name": "stderr",
     "output_type": "stream",
     "text": [
      "loss 1.71786:  50%|█████     | 49/98 [00:09<00:09,  4.97it/s]"
     ]
    },
    {
     "name": "stdout",
     "output_type": "stream",
     "text": [
      "Input shape: torch.Size([512, 3, 32, 32])\n",
      "After patch embedding shape: torch.Size([512, 1, 32])\n",
      "After adding pos_embedding shape: torch.Size([512, 49, 32])\n",
      "Input shape: torch.Size([512, 3, 32, 32])\n",
      "After patch embedding shape: torch.Size([512, 1, 32])\n",
      "After adding pos_embedding shape: torch.Size([512, 49, 32])\n"
     ]
    },
    {
     "name": "stderr",
     "output_type": "stream",
     "text": [
      "loss 1.67783:  52%|█████▏    | 51/98 [00:10<00:09,  5.05it/s]"
     ]
    },
    {
     "name": "stdout",
     "output_type": "stream",
     "text": [
      "Input shape: torch.Size([512, 3, 32, 32])\n",
      "After patch embedding shape: torch.Size([512, 1, 32])\n",
      "After adding pos_embedding shape: torch.Size([512, 49, 32])\n",
      "Input shape: torch.Size([512, 3, 32, 32])\n",
      "After patch embedding shape: torch.Size([512, 1, 32])\n",
      "After adding pos_embedding shape: torch.Size([512, 49, 32])\n"
     ]
    },
    {
     "name": "stderr",
     "output_type": "stream",
     "text": [
      "loss 1.67483:  54%|█████▍    | 53/98 [00:10<00:08,  5.08it/s]"
     ]
    },
    {
     "name": "stdout",
     "output_type": "stream",
     "text": [
      "Input shape: torch.Size([512, 3, 32, 32])\n",
      "After patch embedding shape: torch.Size([512, 1, 32])\n",
      "After adding pos_embedding shape: torch.Size([512, 49, 32])\n",
      "Input shape: torch.Size([512, 3, 32, 32])\n",
      "After patch embedding shape: torch.Size([512, 1, 32])\n",
      "After adding pos_embedding shape: torch.Size([512, 49, 32])\n"
     ]
    },
    {
     "name": "stderr",
     "output_type": "stream",
     "text": [
      "loss 1.71521:  56%|█████▌    | 55/98 [00:10<00:08,  5.07it/s]"
     ]
    },
    {
     "name": "stdout",
     "output_type": "stream",
     "text": [
      "Input shape: torch.Size([512, 3, 32, 32])\n",
      "After patch embedding shape: torch.Size([512, 1, 32])\n",
      "After adding pos_embedding shape: torch.Size([512, 49, 32])\n",
      "Input shape: torch.Size([512, 3, 32, 32])\n",
      "After patch embedding shape: torch.Size([512, 1, 32])\n",
      "After adding pos_embedding shape: torch.Size([512, 49, 32])\n"
     ]
    },
    {
     "name": "stderr",
     "output_type": "stream",
     "text": [
      "loss 1.66674:  58%|█████▊    | 57/98 [00:11<00:08,  5.12it/s]"
     ]
    },
    {
     "name": "stdout",
     "output_type": "stream",
     "text": [
      "Input shape: torch.Size([512, 3, 32, 32])\n",
      "After patch embedding shape: torch.Size([512, 1, 32])\n",
      "After adding pos_embedding shape: torch.Size([512, 49, 32])\n",
      "Input shape: torch.Size([512, 3, 32, 32])\n",
      "After patch embedding shape: torch.Size([512, 1, 32])\n",
      "After adding pos_embedding shape: torch.Size([512, 49, 32])\n"
     ]
    },
    {
     "name": "stderr",
     "output_type": "stream",
     "text": [
      "loss 1.73358:  60%|██████    | 59/98 [00:11<00:07,  4.97it/s]"
     ]
    },
    {
     "name": "stdout",
     "output_type": "stream",
     "text": [
      "Input shape: torch.Size([512, 3, 32, 32])\n",
      "After patch embedding shape: torch.Size([512, 1, 32])\n",
      "After adding pos_embedding shape: torch.Size([512, 49, 32])\n",
      "Input shape: torch.Size([512, 3, 32, 32])\n",
      "After patch embedding shape: torch.Size([512, 1, 32])\n",
      "After adding pos_embedding shape: torch.Size([512, 49, 32])\n"
     ]
    },
    {
     "name": "stderr",
     "output_type": "stream",
     "text": [
      "loss 1.68293:  62%|██████▏   | 61/98 [00:12<00:07,  4.97it/s]"
     ]
    },
    {
     "name": "stdout",
     "output_type": "stream",
     "text": [
      "Input shape: torch.Size([512, 3, 32, 32])\n",
      "After patch embedding shape: torch.Size([512, 1, 32])\n",
      "After adding pos_embedding shape: torch.Size([512, 49, 32])\n",
      "Input shape: torch.Size([512, 3, 32, 32])\n",
      "After patch embedding shape: torch.Size([512, 1, 32])\n",
      "After adding pos_embedding shape: torch.Size([512, 49, 32])\n"
     ]
    },
    {
     "name": "stderr",
     "output_type": "stream",
     "text": [
      "loss 1.72610:  64%|██████▍   | 63/98 [00:12<00:06,  5.05it/s]"
     ]
    },
    {
     "name": "stdout",
     "output_type": "stream",
     "text": [
      "Input shape: torch.Size([512, 3, 32, 32])\n",
      "After patch embedding shape: torch.Size([512, 1, 32])\n",
      "After adding pos_embedding shape: torch.Size([512, 49, 32])\n",
      "Input shape: torch.Size([512, 3, 32, 32])\n",
      "After patch embedding shape: torch.Size([512, 1, 32])\n",
      "After adding pos_embedding shape: torch.Size([512, 49, 32])\n"
     ]
    },
    {
     "name": "stderr",
     "output_type": "stream",
     "text": [
      "loss 1.71586:  66%|██████▋   | 65/98 [00:12<00:06,  5.11it/s]"
     ]
    },
    {
     "name": "stdout",
     "output_type": "stream",
     "text": [
      "Input shape: torch.Size([512, 3, 32, 32])\n",
      "After patch embedding shape: torch.Size([512, 1, 32])\n",
      "After adding pos_embedding shape: torch.Size([512, 49, 32])\n",
      "Input shape: torch.Size([512, 3, 32, 32])\n",
      "After patch embedding shape: torch.Size([512, 1, 32])\n",
      "After adding pos_embedding shape: torch.Size([512, 49, 32])\n"
     ]
    },
    {
     "name": "stderr",
     "output_type": "stream",
     "text": [
      "loss 1.72771:  68%|██████▊   | 67/98 [00:13<00:06,  5.12it/s]"
     ]
    },
    {
     "name": "stdout",
     "output_type": "stream",
     "text": [
      "Input shape: torch.Size([512, 3, 32, 32])\n",
      "After patch embedding shape: torch.Size([512, 1, 32])\n",
      "After adding pos_embedding shape: torch.Size([512, 49, 32])\n",
      "Input shape: torch.Size([512, 3, 32, 32])\n",
      "After patch embedding shape: torch.Size([512, 1, 32])\n",
      "After adding pos_embedding shape: torch.Size([512, 49, 32])\n"
     ]
    },
    {
     "name": "stderr",
     "output_type": "stream",
     "text": [
      "loss 1.78142:  70%|███████   | 69/98 [00:13<00:05,  5.08it/s]"
     ]
    },
    {
     "name": "stdout",
     "output_type": "stream",
     "text": [
      "Input shape: torch.Size([512, 3, 32, 32])\n",
      "After patch embedding shape: torch.Size([512, 1, 32])\n",
      "After adding pos_embedding shape: torch.Size([512, 49, 32])\n",
      "Input shape: torch.Size([512, 3, 32, 32])\n",
      "After patch embedding shape: torch.Size([512, 1, 32])\n",
      "After adding pos_embedding shape: torch.Size([512, 49, 32])\n"
     ]
    },
    {
     "name": "stderr",
     "output_type": "stream",
     "text": [
      "loss 1.66292:  72%|███████▏  | 71/98 [00:13<00:05,  5.12it/s]"
     ]
    },
    {
     "name": "stdout",
     "output_type": "stream",
     "text": [
      "Input shape: torch.Size([512, 3, 32, 32])\n",
      "After patch embedding shape: torch.Size([512, 1, 32])\n",
      "After adding pos_embedding shape: torch.Size([512, 49, 32])\n",
      "Input shape: torch.Size([512, 3, 32, 32])\n",
      "After patch embedding shape: torch.Size([512, 1, 32])\n",
      "After adding pos_embedding shape: torch.Size([512, 49, 32])\n"
     ]
    },
    {
     "name": "stderr",
     "output_type": "stream",
     "text": [
      "loss 1.66419:  74%|███████▍  | 73/98 [00:14<00:04,  5.14it/s]"
     ]
    },
    {
     "name": "stdout",
     "output_type": "stream",
     "text": [
      "Input shape: torch.Size([512, 3, 32, 32])\n",
      "After patch embedding shape: torch.Size([512, 1, 32])\n",
      "After adding pos_embedding shape: torch.Size([512, 49, 32])\n",
      "Input shape: torch.Size([512, 3, 32, 32])\n",
      "After patch embedding shape: torch.Size([512, 1, 32])\n",
      "After adding pos_embedding shape: torch.Size([512, 49, 32])\n"
     ]
    },
    {
     "name": "stderr",
     "output_type": "stream",
     "text": [
      "loss 1.64639:  77%|███████▋  | 75/98 [00:14<00:04,  5.16it/s]"
     ]
    },
    {
     "name": "stdout",
     "output_type": "stream",
     "text": [
      "Input shape: torch.Size([512, 3, 32, 32])\n",
      "After patch embedding shape: torch.Size([512, 1, 32])\n",
      "After adding pos_embedding shape: torch.Size([512, 49, 32])\n",
      "Input shape: torch.Size([512, 3, 32, 32])\n",
      "After patch embedding shape: torch.Size([512, 1, 32])\n",
      "After adding pos_embedding shape: torch.Size([512, 49, 32])\n"
     ]
    },
    {
     "name": "stderr",
     "output_type": "stream",
     "text": [
      "loss 1.63048:  79%|███████▊  | 77/98 [00:15<00:04,  5.17it/s]"
     ]
    },
    {
     "name": "stdout",
     "output_type": "stream",
     "text": [
      "Input shape: torch.Size([512, 3, 32, 32])\n",
      "After patch embedding shape: torch.Size([512, 1, 32])\n",
      "After adding pos_embedding shape: torch.Size([512, 49, 32])\n"
     ]
    },
    {
     "name": "stderr",
     "output_type": "stream",
     "text": [
      "loss 1.74918:  80%|███████▉  | 78/98 [00:15<00:04,  4.99it/s]"
     ]
    },
    {
     "name": "stdout",
     "output_type": "stream",
     "text": [
      "Input shape: torch.Size([512, 3, 32, 32])\n",
      "After patch embedding shape: torch.Size([512, 1, 32])\n",
      "After adding pos_embedding shape: torch.Size([512, 49, 32])\n",
      "Input shape: torch.Size([512, 3, 32, 32])\n",
      "After patch embedding shape: torch.Size([512, 1, 32])\n",
      "After adding pos_embedding shape: torch.Size([512, 49, 32])\n"
     ]
    },
    {
     "name": "stderr",
     "output_type": "stream",
     "text": [
      "loss 1.69802:  82%|████████▏ | 80/98 [00:15<00:03,  5.07it/s]"
     ]
    },
    {
     "name": "stdout",
     "output_type": "stream",
     "text": [
      "Input shape: torch.Size([512, 3, 32, 32])\n",
      "After patch embedding shape: torch.Size([512, 1, 32])\n",
      "After adding pos_embedding shape: torch.Size([512, 49, 32])\n",
      "Input shape: torch.Size([512, 3, 32, 32])\n",
      "After patch embedding shape: torch.Size([512, 1, 32])\n",
      "After adding pos_embedding shape: torch.Size([512, 49, 32])\n"
     ]
    },
    {
     "name": "stderr",
     "output_type": "stream",
     "text": [
      "loss 1.67206:  84%|████████▎ | 82/98 [00:16<00:03,  5.13it/s]"
     ]
    },
    {
     "name": "stdout",
     "output_type": "stream",
     "text": [
      "Input shape: torch.Size([512, 3, 32, 32])\n",
      "After patch embedding shape: torch.Size([512, 1, 32])\n",
      "After adding pos_embedding shape: torch.Size([512, 49, 32])\n",
      "Input shape: torch.Size([512, 3, 32, 32])\n",
      "After patch embedding shape: torch.Size([512, 1, 32])\n",
      "After adding pos_embedding shape: torch.Size([512, 49, 32])\n"
     ]
    },
    {
     "name": "stderr",
     "output_type": "stream",
     "text": [
      "loss 1.69336:  86%|████████▌ | 84/98 [00:16<00:02,  5.16it/s]"
     ]
    },
    {
     "name": "stdout",
     "output_type": "stream",
     "text": [
      "Input shape: torch.Size([512, 3, 32, 32])\n",
      "After patch embedding shape: torch.Size([512, 1, 32])\n",
      "After adding pos_embedding shape: torch.Size([512, 49, 32])\n",
      "Input shape: torch.Size([512, 3, 32, 32])\n",
      "After patch embedding shape: torch.Size([512, 1, 32])\n",
      "After adding pos_embedding shape: torch.Size([512, 49, 32])\n"
     ]
    },
    {
     "name": "stderr",
     "output_type": "stream",
     "text": [
      "loss 1.70240:  88%|████████▊ | 86/98 [00:16<00:02,  5.14it/s]"
     ]
    },
    {
     "name": "stdout",
     "output_type": "stream",
     "text": [
      "Input shape: torch.Size([512, 3, 32, 32])\n",
      "After patch embedding shape: torch.Size([512, 1, 32])\n",
      "After adding pos_embedding shape: torch.Size([512, 49, 32])\n",
      "Input shape: torch.Size([512, 3, 32, 32])\n",
      "After patch embedding shape: torch.Size([512, 1, 32])\n",
      "After adding pos_embedding shape: torch.Size([512, 49, 32])\n"
     ]
    },
    {
     "name": "stderr",
     "output_type": "stream",
     "text": [
      "loss 1.71144:  90%|████████▉ | 88/98 [00:17<00:01,  5.12it/s]"
     ]
    },
    {
     "name": "stdout",
     "output_type": "stream",
     "text": [
      "Input shape: torch.Size([512, 3, 32, 32])\n",
      "After patch embedding shape: torch.Size([512, 1, 32])\n",
      "After adding pos_embedding shape: torch.Size([512, 49, 32])\n",
      "Input shape: torch.Size([512, 3, 32, 32])\n",
      "After patch embedding shape: torch.Size([512, 1, 32])\n",
      "After adding pos_embedding shape: torch.Size([512, 49, 32])\n"
     ]
    },
    {
     "name": "stderr",
     "output_type": "stream",
     "text": [
      "loss 1.66258:  92%|█████████▏| 90/98 [00:17<00:01,  5.14it/s]"
     ]
    },
    {
     "name": "stdout",
     "output_type": "stream",
     "text": [
      "Input shape: torch.Size([512, 3, 32, 32])\n",
      "After patch embedding shape: torch.Size([512, 1, 32])\n",
      "After adding pos_embedding shape: torch.Size([512, 49, 32])\n",
      "Input shape: torch.Size([512, 3, 32, 32])\n",
      "After patch embedding shape: torch.Size([512, 1, 32])\n",
      "After adding pos_embedding shape: torch.Size([512, 49, 32])\n"
     ]
    },
    {
     "name": "stderr",
     "output_type": "stream",
     "text": [
      "loss 1.70902:  94%|█████████▍| 92/98 [00:18<00:01,  5.14it/s]"
     ]
    },
    {
     "name": "stdout",
     "output_type": "stream",
     "text": [
      "Input shape: torch.Size([512, 3, 32, 32])\n",
      "After patch embedding shape: torch.Size([512, 1, 32])\n",
      "After adding pos_embedding shape: torch.Size([512, 49, 32])\n",
      "Input shape: torch.Size([512, 3, 32, 32])\n",
      "After patch embedding shape: torch.Size([512, 1, 32])\n",
      "After adding pos_embedding shape: torch.Size([512, 49, 32])\n"
     ]
    },
    {
     "name": "stderr",
     "output_type": "stream",
     "text": [
      "loss 1.71479:  96%|█████████▌| 94/98 [00:18<00:00,  5.14it/s]"
     ]
    },
    {
     "name": "stdout",
     "output_type": "stream",
     "text": [
      "Input shape: torch.Size([512, 3, 32, 32])\n",
      "After patch embedding shape: torch.Size([512, 1, 32])\n",
      "After adding pos_embedding shape: torch.Size([512, 49, 32])\n",
      "Input shape: torch.Size([512, 3, 32, 32])\n",
      "After patch embedding shape: torch.Size([512, 1, 32])\n",
      "After adding pos_embedding shape: torch.Size([512, 49, 32])\n"
     ]
    },
    {
     "name": "stderr",
     "output_type": "stream",
     "text": [
      "loss 1.67169:  98%|█████████▊| 96/98 [00:18<00:00,  5.11it/s]"
     ]
    },
    {
     "name": "stdout",
     "output_type": "stream",
     "text": [
      "Input shape: torch.Size([512, 3, 32, 32])\n",
      "After patch embedding shape: torch.Size([512, 1, 32])\n",
      "After adding pos_embedding shape: torch.Size([512, 49, 32])\n"
     ]
    },
    {
     "name": "stderr",
     "output_type": "stream",
     "text": [
      "loss 1.68906:  99%|█████████▉| 97/98 [00:19<00:00,  4.84it/s]"
     ]
    },
    {
     "name": "stdout",
     "output_type": "stream",
     "text": [
      "Input shape: torch.Size([512, 3, 32, 32])\n",
      "After patch embedding shape: torch.Size([512, 1, 32])\n",
      "After adding pos_embedding shape: torch.Size([512, 49, 32])\n",
      "Input shape: torch.Size([336, 3, 32, 32])\n",
      "After patch embedding shape: torch.Size([336, 1, 32])\n",
      "After adding pos_embedding shape: torch.Size([336, 49, 32])\n"
     ]
    },
    {
     "name": "stderr",
     "output_type": "stream",
     "text": [
      "loss 1.69367: 100%|██████████| 98/98 [00:19<00:00,  5.11it/s]\n"
     ]
    },
    {
     "name": "stdout",
     "output_type": "stream",
     "text": [
      "Época 3/10\n"
     ]
    },
    {
     "name": "stderr",
     "output_type": "stream",
     "text": [
      "  0%|          | 0/98 [00:00<?, ?it/s]"
     ]
    },
    {
     "name": "stdout",
     "output_type": "stream",
     "text": [
      "Input shape: torch.Size([512, 3, 32, 32])\n",
      "After patch embedding shape: torch.Size([512, 1, 32])\n",
      "After adding pos_embedding shape: torch.Size([512, 49, 32])\n"
     ]
    },
    {
     "name": "stderr",
     "output_type": "stream",
     "text": [
      "loss 1.62691:   1%|          | 1/98 [00:00<00:19,  4.99it/s]"
     ]
    },
    {
     "name": "stdout",
     "output_type": "stream",
     "text": [
      "Input shape: torch.Size([512, 3, 32, 32])\n",
      "After patch embedding shape: torch.Size([512, 1, 32])\n",
      "After adding pos_embedding shape: torch.Size([512, 49, 32])\n"
     ]
    },
    {
     "name": "stderr",
     "output_type": "stream",
     "text": [
      "loss 1.68708:   2%|▏         | 2/98 [00:00<00:18,  5.10it/s]"
     ]
    },
    {
     "name": "stdout",
     "output_type": "stream",
     "text": [
      "Input shape: torch.Size([512, 3, 32, 32])\n",
      "After patch embedding shape: torch.Size([512, 1, 32])\n",
      "After adding pos_embedding shape: torch.Size([512, 49, 32])\n"
     ]
    },
    {
     "name": "stderr",
     "output_type": "stream",
     "text": [
      "loss 1.65251:   3%|▎         | 3/98 [00:00<00:18,  5.12it/s]"
     ]
    },
    {
     "name": "stdout",
     "output_type": "stream",
     "text": [
      "Input shape: torch.Size([512, 3, 32, 32])\n",
      "After patch embedding shape: torch.Size([512, 1, 32])\n",
      "After adding pos_embedding shape: torch.Size([512, 49, 32])\n"
     ]
    },
    {
     "name": "stderr",
     "output_type": "stream",
     "text": [
      "loss 1.65359:   5%|▌         | 5/98 [00:00<00:18,  5.09it/s]"
     ]
    },
    {
     "name": "stdout",
     "output_type": "stream",
     "text": [
      "Input shape: torch.Size([512, 3, 32, 32])\n",
      "After patch embedding shape: torch.Size([512, 1, 32])\n",
      "After adding pos_embedding shape: torch.Size([512, 49, 32])\n",
      "Input shape: torch.Size([512, 3, 32, 32])\n",
      "After patch embedding shape: torch.Size([512, 1, 32])\n",
      "After adding pos_embedding shape: torch.Size([512, 49, 32])\n"
     ]
    },
    {
     "name": "stderr",
     "output_type": "stream",
     "text": [
      "loss 1.65088:   7%|▋         | 7/98 [00:01<00:17,  5.11it/s]"
     ]
    },
    {
     "name": "stdout",
     "output_type": "stream",
     "text": [
      "Input shape: torch.Size([512, 3, 32, 32])\n",
      "After patch embedding shape: torch.Size([512, 1, 32])\n",
      "After adding pos_embedding shape: torch.Size([512, 49, 32])\n",
      "Input shape: torch.Size([512, 3, 32, 32])\n",
      "After patch embedding shape: torch.Size([512, 1, 32])\n",
      "After adding pos_embedding shape: torch.Size([512, 49, 32])\n"
     ]
    },
    {
     "name": "stderr",
     "output_type": "stream",
     "text": [
      "loss 1.64881:   9%|▉         | 9/98 [00:01<00:17,  5.12it/s]"
     ]
    },
    {
     "name": "stdout",
     "output_type": "stream",
     "text": [
      "Input shape: torch.Size([512, 3, 32, 32])\n",
      "After patch embedding shape: torch.Size([512, 1, 32])\n",
      "After adding pos_embedding shape: torch.Size([512, 49, 32])\n",
      "Input shape: torch.Size([512, 3, 32, 32])\n",
      "After patch embedding shape: torch.Size([512, 1, 32])\n",
      "After adding pos_embedding shape: torch.Size([512, 49, 32])\n"
     ]
    },
    {
     "name": "stderr",
     "output_type": "stream",
     "text": [
      "loss 1.63460:  11%|█         | 11/98 [00:02<00:16,  5.15it/s]"
     ]
    },
    {
     "name": "stdout",
     "output_type": "stream",
     "text": [
      "Input shape: torch.Size([512, 3, 32, 32])\n",
      "After patch embedding shape: torch.Size([512, 1, 32])\n",
      "After adding pos_embedding shape: torch.Size([512, 49, 32])\n",
      "Input shape: torch.Size([512, 3, 32, 32])\n",
      "After patch embedding shape: torch.Size([512, 1, 32])\n",
      "After adding pos_embedding shape: torch.Size([512, 49, 32])\n"
     ]
    },
    {
     "name": "stderr",
     "output_type": "stream",
     "text": [
      "loss 1.57538:  13%|█▎        | 13/98 [00:02<00:16,  5.17it/s]"
     ]
    },
    {
     "name": "stdout",
     "output_type": "stream",
     "text": [
      "Input shape: torch.Size([512, 3, 32, 32])\n",
      "After patch embedding shape: torch.Size([512, 1, 32])\n",
      "After adding pos_embedding shape: torch.Size([512, 49, 32])\n"
     ]
    },
    {
     "name": "stderr",
     "output_type": "stream",
     "text": [
      "loss 1.70375:  14%|█▍        | 14/98 [00:02<00:16,  4.99it/s]"
     ]
    },
    {
     "name": "stdout",
     "output_type": "stream",
     "text": [
      "Input shape: torch.Size([512, 3, 32, 32])\n",
      "After patch embedding shape: torch.Size([512, 1, 32])\n",
      "After adding pos_embedding shape: torch.Size([512, 49, 32])\n",
      "Input shape: torch.Size([512, 3, 32, 32])\n",
      "After patch embedding shape: torch.Size([512, 1, 32])\n",
      "After adding pos_embedding shape: torch.Size([512, 49, 32])\n"
     ]
    },
    {
     "name": "stderr",
     "output_type": "stream",
     "text": [
      "loss 1.65983:  16%|█▋        | 16/98 [00:03<00:16,  5.06it/s]"
     ]
    },
    {
     "name": "stdout",
     "output_type": "stream",
     "text": [
      "Input shape: torch.Size([512, 3, 32, 32])\n",
      "After patch embedding shape: torch.Size([512, 1, 32])\n",
      "After adding pos_embedding shape: torch.Size([512, 49, 32])\n",
      "Input shape: torch.Size([512, 3, 32, 32])\n",
      "After patch embedding shape: torch.Size([512, 1, 32])\n",
      "After adding pos_embedding shape: torch.Size([512, 49, 32])\n"
     ]
    },
    {
     "name": "stderr",
     "output_type": "stream",
     "text": [
      "loss 1.69512:  18%|█▊        | 18/98 [00:03<00:15,  5.12it/s]"
     ]
    },
    {
     "name": "stdout",
     "output_type": "stream",
     "text": [
      "Input shape: torch.Size([512, 3, 32, 32])\n",
      "After patch embedding shape: torch.Size([512, 1, 32])\n",
      "After adding pos_embedding shape: torch.Size([512, 49, 32])\n",
      "Input shape: torch.Size([512, 3, 32, 32])\n",
      "After patch embedding shape: torch.Size([512, 1, 32])\n",
      "After adding pos_embedding shape: torch.Size([512, 49, 32])\n"
     ]
    },
    {
     "name": "stderr",
     "output_type": "stream",
     "text": [
      "loss 1.68740:  20%|██        | 20/98 [00:03<00:15,  5.15it/s]"
     ]
    },
    {
     "name": "stdout",
     "output_type": "stream",
     "text": [
      "Input shape: torch.Size([512, 3, 32, 32])\n",
      "After patch embedding shape: torch.Size([512, 1, 32])\n",
      "After adding pos_embedding shape: torch.Size([512, 49, 32])\n",
      "Input shape: torch.Size([512, 3, 32, 32])\n",
      "After patch embedding shape: torch.Size([512, 1, 32])\n",
      "After adding pos_embedding shape: torch.Size([512, 49, 32])\n"
     ]
    },
    {
     "name": "stderr",
     "output_type": "stream",
     "text": [
      "loss 1.65185:  22%|██▏       | 22/98 [00:04<00:15,  4.98it/s]"
     ]
    },
    {
     "name": "stdout",
     "output_type": "stream",
     "text": [
      "Input shape: torch.Size([512, 3, 32, 32])\n",
      "After patch embedding shape: torch.Size([512, 1, 32])\n",
      "After adding pos_embedding shape: torch.Size([512, 49, 32])\n"
     ]
    },
    {
     "name": "stderr",
     "output_type": "stream",
     "text": [
      "loss 1.64789:  23%|██▎       | 23/98 [00:04<00:15,  4.88it/s]"
     ]
    },
    {
     "name": "stdout",
     "output_type": "stream",
     "text": [
      "Input shape: torch.Size([512, 3, 32, 32])\n",
      "After patch embedding shape: torch.Size([512, 1, 32])\n",
      "After adding pos_embedding shape: torch.Size([512, 49, 32])\n",
      "Input shape: torch.Size([512, 3, 32, 32])\n",
      "After patch embedding shape: torch.Size([512, 1, 32])\n",
      "After adding pos_embedding shape: torch.Size([512, 49, 32])\n"
     ]
    },
    {
     "name": "stderr",
     "output_type": "stream",
     "text": [
      "loss 1.70281:  26%|██▌       | 25/98 [00:04<00:14,  5.02it/s]"
     ]
    },
    {
     "name": "stdout",
     "output_type": "stream",
     "text": [
      "Input shape: torch.Size([512, 3, 32, 32])\n",
      "After patch embedding shape: torch.Size([512, 1, 32])\n",
      "After adding pos_embedding shape: torch.Size([512, 49, 32])\n",
      "Input shape: torch.Size([512, 3, 32, 32])\n",
      "After patch embedding shape: torch.Size([512, 1, 32])\n",
      "After adding pos_embedding shape: torch.Size([512, 49, 32])\n"
     ]
    },
    {
     "name": "stderr",
     "output_type": "stream",
     "text": [
      "loss 1.63336:  28%|██▊       | 27/98 [00:05<00:13,  5.07it/s]"
     ]
    },
    {
     "name": "stdout",
     "output_type": "stream",
     "text": [
      "Input shape: torch.Size([512, 3, 32, 32])\n",
      "After patch embedding shape: torch.Size([512, 1, 32])\n",
      "After adding pos_embedding shape: torch.Size([512, 49, 32])\n",
      "Input shape: torch.Size([512, 3, 32, 32])\n",
      "After patch embedding shape: torch.Size([512, 1, 32])\n",
      "After adding pos_embedding shape: torch.Size([512, 49, 32])\n"
     ]
    },
    {
     "name": "stderr",
     "output_type": "stream",
     "text": [
      "loss 1.58312:  30%|██▉       | 29/98 [00:05<00:13,  5.13it/s]"
     ]
    },
    {
     "name": "stdout",
     "output_type": "stream",
     "text": [
      "Input shape: torch.Size([512, 3, 32, 32])\n",
      "After patch embedding shape: torch.Size([512, 1, 32])\n",
      "After adding pos_embedding shape: torch.Size([512, 49, 32])\n",
      "Input shape: torch.Size([512, 3, 32, 32])\n",
      "After patch embedding shape: torch.Size([512, 1, 32])\n",
      "After adding pos_embedding shape: torch.Size([512, 49, 32])\n"
     ]
    },
    {
     "name": "stderr",
     "output_type": "stream",
     "text": [
      "loss 1.66629:  32%|███▏      | 31/98 [00:06<00:13,  4.97it/s]"
     ]
    },
    {
     "name": "stdout",
     "output_type": "stream",
     "text": [
      "Input shape: torch.Size([512, 3, 32, 32])\n",
      "After patch embedding shape: torch.Size([512, 1, 32])\n",
      "After adding pos_embedding shape: torch.Size([512, 49, 32])\n",
      "Input shape: torch.Size([512, 3, 32, 32])\n",
      "After patch embedding shape: torch.Size([512, 1, 32])\n",
      "After adding pos_embedding shape: torch.Size([512, 49, 32])\n"
     ]
    },
    {
     "name": "stderr",
     "output_type": "stream",
     "text": [
      "loss 1.65453:  34%|███▎      | 33/98 [00:06<00:12,  5.07it/s]"
     ]
    },
    {
     "name": "stdout",
     "output_type": "stream",
     "text": [
      "Input shape: torch.Size([512, 3, 32, 32])\n",
      "After patch embedding shape: torch.Size([512, 1, 32])\n",
      "After adding pos_embedding shape: torch.Size([512, 49, 32])\n",
      "Input shape: torch.Size([512, 3, 32, 32])\n",
      "After patch embedding shape: torch.Size([512, 1, 32])\n",
      "After adding pos_embedding shape: torch.Size([512, 49, 32])\n"
     ]
    },
    {
     "name": "stderr",
     "output_type": "stream",
     "text": [
      "loss 1.77565:  36%|███▌      | 35/98 [00:06<00:12,  5.12it/s]"
     ]
    },
    {
     "name": "stdout",
     "output_type": "stream",
     "text": [
      "Input shape: torch.Size([512, 3, 32, 32])\n",
      "After patch embedding shape: torch.Size([512, 1, 32])\n",
      "After adding pos_embedding shape: torch.Size([512, 49, 32])\n",
      "Input shape: torch.Size([512, 3, 32, 32])\n",
      "After patch embedding shape: torch.Size([512, 1, 32])\n",
      "After adding pos_embedding shape: torch.Size([512, 49, 32])\n"
     ]
    },
    {
     "name": "stderr",
     "output_type": "stream",
     "text": [
      "loss 1.68422:  38%|███▊      | 37/98 [00:07<00:11,  5.14it/s]"
     ]
    },
    {
     "name": "stdout",
     "output_type": "stream",
     "text": [
      "Input shape: torch.Size([512, 3, 32, 32])\n",
      "After patch embedding shape: torch.Size([512, 1, 32])\n",
      "After adding pos_embedding shape: torch.Size([512, 49, 32])\n",
      "Input shape: torch.Size([512, 3, 32, 32])\n",
      "After patch embedding shape: torch.Size([512, 1, 32])\n",
      "After adding pos_embedding shape: torch.Size([512, 49, 32])\n"
     ]
    },
    {
     "name": "stderr",
     "output_type": "stream",
     "text": [
      "loss 1.65403:  40%|███▉      | 39/98 [00:07<00:11,  5.17it/s]"
     ]
    },
    {
     "name": "stdout",
     "output_type": "stream",
     "text": [
      "Input shape: torch.Size([512, 3, 32, 32])\n",
      "After patch embedding shape: torch.Size([512, 1, 32])\n",
      "After adding pos_embedding shape: torch.Size([512, 49, 32])\n",
      "Input shape: torch.Size([512, 3, 32, 32])\n",
      "After patch embedding shape: torch.Size([512, 1, 32])\n",
      "After adding pos_embedding shape: torch.Size([512, 49, 32])\n"
     ]
    },
    {
     "name": "stderr",
     "output_type": "stream",
     "text": [
      "loss 1.64119:  42%|████▏     | 41/98 [00:08<00:11,  5.13it/s]"
     ]
    },
    {
     "name": "stdout",
     "output_type": "stream",
     "text": [
      "Input shape: torch.Size([512, 3, 32, 32])\n",
      "After patch embedding shape: torch.Size([512, 1, 32])\n",
      "After adding pos_embedding shape: torch.Size([512, 49, 32])\n",
      "Input shape: torch.Size([512, 3, 32, 32])\n",
      "After patch embedding shape: torch.Size([512, 1, 32])\n",
      "After adding pos_embedding shape: torch.Size([512, 49, 32])\n"
     ]
    },
    {
     "name": "stderr",
     "output_type": "stream",
     "text": [
      "loss 1.60711:  44%|████▍     | 43/98 [00:08<00:10,  5.16it/s]"
     ]
    },
    {
     "name": "stdout",
     "output_type": "stream",
     "text": [
      "Input shape: torch.Size([512, 3, 32, 32])\n",
      "After patch embedding shape: torch.Size([512, 1, 32])\n",
      "After adding pos_embedding shape: torch.Size([512, 49, 32])\n",
      "Input shape: torch.Size([512, 3, 32, 32])\n",
      "After patch embedding shape: torch.Size([512, 1, 32])\n",
      "After adding pos_embedding shape: torch.Size([512, 49, 32])\n"
     ]
    },
    {
     "name": "stderr",
     "output_type": "stream",
     "text": [
      "loss 1.64124:  46%|████▌     | 45/98 [00:08<00:10,  5.13it/s]"
     ]
    },
    {
     "name": "stdout",
     "output_type": "stream",
     "text": [
      "Input shape: torch.Size([512, 3, 32, 32])\n",
      "After patch embedding shape: torch.Size([512, 1, 32])\n",
      "After adding pos_embedding shape: torch.Size([512, 49, 32])\n",
      "Input shape: torch.Size([512, 3, 32, 32])\n",
      "After patch embedding shape: torch.Size([512, 1, 32])\n",
      "After adding pos_embedding shape: torch.Size([512, 49, 32])\n"
     ]
    },
    {
     "name": "stderr",
     "output_type": "stream",
     "text": [
      "loss 1.66141:  48%|████▊     | 47/98 [00:09<00:09,  5.19it/s]"
     ]
    },
    {
     "name": "stdout",
     "output_type": "stream",
     "text": [
      "Input shape: torch.Size([512, 3, 32, 32])\n",
      "After patch embedding shape: torch.Size([512, 1, 32])\n",
      "After adding pos_embedding shape: torch.Size([512, 49, 32])\n",
      "Input shape: torch.Size([512, 3, 32, 32])\n",
      "After patch embedding shape: torch.Size([512, 1, 32])\n",
      "After adding pos_embedding shape: torch.Size([512, 49, 32])\n"
     ]
    },
    {
     "name": "stderr",
     "output_type": "stream",
     "text": [
      "loss 1.65623:  50%|█████     | 49/98 [00:09<00:09,  5.20it/s]"
     ]
    },
    {
     "name": "stdout",
     "output_type": "stream",
     "text": [
      "Input shape: torch.Size([512, 3, 32, 32])\n",
      "After patch embedding shape: torch.Size([512, 1, 32])\n",
      "After adding pos_embedding shape: torch.Size([512, 49, 32])\n"
     ]
    },
    {
     "name": "stderr",
     "output_type": "stream",
     "text": [
      "loss 1.66383:  51%|█████     | 50/98 [00:09<00:09,  5.04it/s]"
     ]
    },
    {
     "name": "stdout",
     "output_type": "stream",
     "text": [
      "Input shape: torch.Size([512, 3, 32, 32])\n",
      "After patch embedding shape: torch.Size([512, 1, 32])\n",
      "After adding pos_embedding shape: torch.Size([512, 49, 32])\n",
      "Input shape: torch.Size([512, 3, 32, 32])\n",
      "After patch embedding shape: torch.Size([512, 1, 32])\n",
      "After adding pos_embedding shape: torch.Size([512, 49, 32])\n"
     ]
    },
    {
     "name": "stderr",
     "output_type": "stream",
     "text": [
      "loss 1.66413:  53%|█████▎    | 52/98 [00:10<00:08,  5.14it/s]"
     ]
    },
    {
     "name": "stdout",
     "output_type": "stream",
     "text": [
      "Input shape: torch.Size([512, 3, 32, 32])\n",
      "After patch embedding shape: torch.Size([512, 1, 32])\n",
      "After adding pos_embedding shape: torch.Size([512, 49, 32])\n",
      "Input shape: torch.Size([512, 3, 32, 32])\n",
      "After patch embedding shape: torch.Size([512, 1, 32])\n",
      "After adding pos_embedding shape: torch.Size([512, 49, 32])\n"
     ]
    },
    {
     "name": "stderr",
     "output_type": "stream",
     "text": [
      "loss 1.64116:  55%|█████▌    | 54/98 [00:10<00:08,  5.19it/s]"
     ]
    },
    {
     "name": "stdout",
     "output_type": "stream",
     "text": [
      "Input shape: torch.Size([512, 3, 32, 32])\n",
      "After patch embedding shape: torch.Size([512, 1, 32])\n",
      "After adding pos_embedding shape: torch.Size([512, 49, 32])\n",
      "Input shape: torch.Size([512, 3, 32, 32])\n",
      "After patch embedding shape: torch.Size([512, 1, 32])\n",
      "After adding pos_embedding shape: torch.Size([512, 49, 32])\n"
     ]
    },
    {
     "name": "stderr",
     "output_type": "stream",
     "text": [
      "loss 1.63294:  57%|█████▋    | 56/98 [00:10<00:08,  5.22it/s]"
     ]
    },
    {
     "name": "stdout",
     "output_type": "stream",
     "text": [
      "Input shape: torch.Size([512, 3, 32, 32])\n",
      "After patch embedding shape: torch.Size([512, 1, 32])\n",
      "After adding pos_embedding shape: torch.Size([512, 49, 32])\n",
      "Input shape: torch.Size([512, 3, 32, 32])\n",
      "After patch embedding shape: torch.Size([512, 1, 32])\n",
      "After adding pos_embedding shape: torch.Size([512, 49, 32])\n"
     ]
    },
    {
     "name": "stderr",
     "output_type": "stream",
     "text": [
      "loss 1.63551:  59%|█████▉    | 58/98 [00:11<00:07,  5.06it/s]"
     ]
    },
    {
     "name": "stdout",
     "output_type": "stream",
     "text": [
      "Input shape: torch.Size([512, 3, 32, 32])\n",
      "After patch embedding shape: torch.Size([512, 1, 32])\n",
      "After adding pos_embedding shape: torch.Size([512, 49, 32])\n",
      "Input shape: torch.Size([512, 3, 32, 32])\n",
      "After patch embedding shape: torch.Size([512, 1, 32])\n",
      "After adding pos_embedding shape: torch.Size([512, 49, 32])\n"
     ]
    },
    {
     "name": "stderr",
     "output_type": "stream",
     "text": [
      "loss 1.64744:  61%|██████    | 60/98 [00:11<00:07,  5.15it/s]"
     ]
    },
    {
     "name": "stdout",
     "output_type": "stream",
     "text": [
      "Input shape: torch.Size([512, 3, 32, 32])\n",
      "After patch embedding shape: torch.Size([512, 1, 32])\n",
      "After adding pos_embedding shape: torch.Size([512, 49, 32])\n",
      "Input shape: torch.Size([512, 3, 32, 32])\n",
      "After patch embedding shape: torch.Size([512, 1, 32])\n",
      "After adding pos_embedding shape: torch.Size([512, 49, 32])\n"
     ]
    },
    {
     "name": "stderr",
     "output_type": "stream",
     "text": [
      "loss 1.59243:  63%|██████▎   | 62/98 [00:12<00:06,  5.20it/s]"
     ]
    },
    {
     "name": "stdout",
     "output_type": "stream",
     "text": [
      "Input shape: torch.Size([512, 3, 32, 32])\n",
      "After patch embedding shape: torch.Size([512, 1, 32])\n",
      "After adding pos_embedding shape: torch.Size([512, 49, 32])\n",
      "Input shape: torch.Size([512, 3, 32, 32])\n",
      "After patch embedding shape: torch.Size([512, 1, 32])\n",
      "After adding pos_embedding shape: torch.Size([512, 49, 32])\n"
     ]
    },
    {
     "name": "stderr",
     "output_type": "stream",
     "text": [
      "loss 1.65967:  65%|██████▌   | 64/98 [00:12<00:06,  5.24it/s]"
     ]
    },
    {
     "name": "stdout",
     "output_type": "stream",
     "text": [
      "Input shape: torch.Size([512, 3, 32, 32])\n",
      "After patch embedding shape: torch.Size([512, 1, 32])\n",
      "After adding pos_embedding shape: torch.Size([512, 49, 32])\n",
      "Input shape: torch.Size([512, 3, 32, 32])\n",
      "After patch embedding shape: torch.Size([512, 1, 32])\n",
      "After adding pos_embedding shape: torch.Size([512, 49, 32])\n"
     ]
    },
    {
     "name": "stderr",
     "output_type": "stream",
     "text": [
      "loss 1.68551:  67%|██████▋   | 66/98 [00:12<00:06,  5.26it/s]"
     ]
    },
    {
     "name": "stdout",
     "output_type": "stream",
     "text": [
      "Input shape: torch.Size([512, 3, 32, 32])\n",
      "After patch embedding shape: torch.Size([512, 1, 32])\n",
      "After adding pos_embedding shape: torch.Size([512, 49, 32])\n",
      "Input shape: torch.Size([512, 3, 32, 32])\n",
      "After patch embedding shape: torch.Size([512, 1, 32])\n",
      "After adding pos_embedding shape: torch.Size([512, 49, 32])\n"
     ]
    },
    {
     "name": "stderr",
     "output_type": "stream",
     "text": [
      "loss 1.66132:  69%|██████▉   | 68/98 [00:13<00:05,  5.24it/s]"
     ]
    },
    {
     "name": "stdout",
     "output_type": "stream",
     "text": [
      "Input shape: torch.Size([512, 3, 32, 32])\n",
      "After patch embedding shape: torch.Size([512, 1, 32])\n",
      "After adding pos_embedding shape: torch.Size([512, 49, 32])\n",
      "Input shape: torch.Size([512, 3, 32, 32])\n",
      "After patch embedding shape: torch.Size([512, 1, 32])\n",
      "After adding pos_embedding shape: torch.Size([512, 49, 32])\n"
     ]
    },
    {
     "name": "stderr",
     "output_type": "stream",
     "text": [
      "loss 1.62867:  71%|███████▏  | 70/98 [00:13<00:05,  5.25it/s]"
     ]
    },
    {
     "name": "stdout",
     "output_type": "stream",
     "text": [
      "Input shape: torch.Size([512, 3, 32, 32])\n",
      "After patch embedding shape: torch.Size([512, 1, 32])\n",
      "After adding pos_embedding shape: torch.Size([512, 49, 32])\n",
      "Input shape: torch.Size([512, 3, 32, 32])\n",
      "After patch embedding shape: torch.Size([512, 1, 32])\n",
      "After adding pos_embedding shape: torch.Size([512, 49, 32])\n"
     ]
    },
    {
     "name": "stderr",
     "output_type": "stream",
     "text": [
      "loss 1.64551:  73%|███████▎  | 72/98 [00:14<00:04,  5.25it/s]"
     ]
    },
    {
     "name": "stdout",
     "output_type": "stream",
     "text": [
      "Input shape: torch.Size([512, 3, 32, 32])\n",
      "After patch embedding shape: torch.Size([512, 1, 32])\n",
      "After adding pos_embedding shape: torch.Size([512, 49, 32])\n",
      "Input shape: torch.Size([512, 3, 32, 32])\n",
      "After patch embedding shape: torch.Size([512, 1, 32])\n",
      "After adding pos_embedding shape: torch.Size([512, 49, 32])\n"
     ]
    },
    {
     "name": "stderr",
     "output_type": "stream",
     "text": [
      "loss 1.64254:  76%|███████▌  | 74/98 [00:14<00:04,  5.21it/s]"
     ]
    },
    {
     "name": "stdout",
     "output_type": "stream",
     "text": [
      "Input shape: torch.Size([512, 3, 32, 32])\n",
      "After patch embedding shape: torch.Size([512, 1, 32])\n",
      "After adding pos_embedding shape: torch.Size([512, 49, 32])\n",
      "Input shape: torch.Size([512, 3, 32, 32])\n",
      "After patch embedding shape: torch.Size([512, 1, 32])\n",
      "After adding pos_embedding shape: torch.Size([512, 49, 32])\n"
     ]
    },
    {
     "name": "stderr",
     "output_type": "stream",
     "text": [
      "loss 1.58707:  78%|███████▊  | 76/98 [00:14<00:04,  5.02it/s]"
     ]
    },
    {
     "name": "stdout",
     "output_type": "stream",
     "text": [
      "Input shape: torch.Size([512, 3, 32, 32])\n",
      "After patch embedding shape: torch.Size([512, 1, 32])\n",
      "After adding pos_embedding shape: torch.Size([512, 49, 32])\n",
      "Input shape: torch.Size([512, 3, 32, 32])\n",
      "After patch embedding shape: torch.Size([512, 1, 32])\n",
      "After adding pos_embedding shape: torch.Size([512, 49, 32])\n"
     ]
    },
    {
     "name": "stderr",
     "output_type": "stream",
     "text": [
      "loss 1.67709:  80%|███████▉  | 78/98 [00:15<00:03,  5.10it/s]"
     ]
    },
    {
     "name": "stdout",
     "output_type": "stream",
     "text": [
      "Input shape: torch.Size([512, 3, 32, 32])\n",
      "After patch embedding shape: torch.Size([512, 1, 32])\n",
      "After adding pos_embedding shape: torch.Size([512, 49, 32])\n",
      "Input shape: torch.Size([512, 3, 32, 32])\n",
      "After patch embedding shape: torch.Size([512, 1, 32])\n",
      "After adding pos_embedding shape: torch.Size([512, 49, 32])\n"
     ]
    },
    {
     "name": "stderr",
     "output_type": "stream",
     "text": [
      "loss 1.64316:  82%|████████▏ | 80/98 [00:15<00:03,  5.14it/s]"
     ]
    },
    {
     "name": "stdout",
     "output_type": "stream",
     "text": [
      "Input shape: torch.Size([512, 3, 32, 32])\n",
      "After patch embedding shape: torch.Size([512, 1, 32])\n",
      "After adding pos_embedding shape: torch.Size([512, 49, 32])\n",
      "Input shape: torch.Size([512, 3, 32, 32])\n",
      "After patch embedding shape: torch.Size([512, 1, 32])\n",
      "After adding pos_embedding shape: torch.Size([512, 49, 32])\n"
     ]
    },
    {
     "name": "stderr",
     "output_type": "stream",
     "text": [
      "loss 1.64443:  84%|████████▎ | 82/98 [00:15<00:03,  5.17it/s]"
     ]
    },
    {
     "name": "stdout",
     "output_type": "stream",
     "text": [
      "Input shape: torch.Size([512, 3, 32, 32])\n",
      "After patch embedding shape: torch.Size([512, 1, 32])\n",
      "After adding pos_embedding shape: torch.Size([512, 49, 32])\n",
      "Input shape: torch.Size([512, 3, 32, 32])\n",
      "After patch embedding shape: torch.Size([512, 1, 32])\n",
      "After adding pos_embedding shape: torch.Size([512, 49, 32])\n"
     ]
    },
    {
     "name": "stderr",
     "output_type": "stream",
     "text": [
      "loss 1.68091:  86%|████████▌ | 84/98 [00:16<00:02,  5.17it/s]"
     ]
    },
    {
     "name": "stdout",
     "output_type": "stream",
     "text": [
      "Input shape: torch.Size([512, 3, 32, 32])\n",
      "After patch embedding shape: torch.Size([512, 1, 32])\n",
      "After adding pos_embedding shape: torch.Size([512, 49, 32])\n",
      "Input shape: torch.Size([512, 3, 32, 32])\n",
      "After patch embedding shape: torch.Size([512, 1, 32])\n",
      "After adding pos_embedding shape: torch.Size([512, 49, 32])\n"
     ]
    },
    {
     "name": "stderr",
     "output_type": "stream",
     "text": [
      "loss 1.65728:  88%|████████▊ | 86/98 [00:16<00:02,  5.15it/s]"
     ]
    },
    {
     "name": "stdout",
     "output_type": "stream",
     "text": [
      "Input shape: torch.Size([512, 3, 32, 32])\n",
      "After patch embedding shape: torch.Size([512, 1, 32])\n",
      "After adding pos_embedding shape: torch.Size([512, 49, 32])\n",
      "Input shape: torch.Size([512, 3, 32, 32])\n",
      "After patch embedding shape: torch.Size([512, 1, 32])\n",
      "After adding pos_embedding shape: torch.Size([512, 49, 32])\n"
     ]
    },
    {
     "name": "stderr",
     "output_type": "stream",
     "text": [
      "loss 1.67915:  90%|████████▉ | 88/98 [00:17<00:01,  5.15it/s]"
     ]
    },
    {
     "name": "stdout",
     "output_type": "stream",
     "text": [
      "Input shape: torch.Size([512, 3, 32, 32])\n",
      "After patch embedding shape: torch.Size([512, 1, 32])\n",
      "After adding pos_embedding shape: torch.Size([512, 49, 32])\n",
      "Input shape: torch.Size([512, 3, 32, 32])\n",
      "After patch embedding shape: torch.Size([512, 1, 32])\n",
      "After adding pos_embedding shape: torch.Size([512, 49, 32])\n"
     ]
    },
    {
     "name": "stderr",
     "output_type": "stream",
     "text": [
      "loss 1.60266:  92%|█████████▏| 90/98 [00:17<00:01,  5.17it/s]"
     ]
    },
    {
     "name": "stdout",
     "output_type": "stream",
     "text": [
      "Input shape: torch.Size([512, 3, 32, 32])\n",
      "After patch embedding shape: torch.Size([512, 1, 32])\n",
      "After adding pos_embedding shape: torch.Size([512, 49, 32])\n",
      "Input shape: torch.Size([512, 3, 32, 32])\n",
      "After patch embedding shape: torch.Size([512, 1, 32])\n",
      "After adding pos_embedding shape: torch.Size([512, 49, 32])\n"
     ]
    },
    {
     "name": "stderr",
     "output_type": "stream",
     "text": [
      "loss 1.63504:  94%|█████████▍| 92/98 [00:17<00:01,  5.19it/s]"
     ]
    },
    {
     "name": "stdout",
     "output_type": "stream",
     "text": [
      "Input shape: torch.Size([512, 3, 32, 32])\n",
      "After patch embedding shape: torch.Size([512, 1, 32])\n",
      "After adding pos_embedding shape: torch.Size([512, 49, 32])\n",
      "Input shape: torch.Size([512, 3, 32, 32])\n",
      "After patch embedding shape: torch.Size([512, 1, 32])\n",
      "After adding pos_embedding shape: torch.Size([512, 49, 32])\n"
     ]
    },
    {
     "name": "stderr",
     "output_type": "stream",
     "text": [
      "loss 1.70098:  96%|█████████▌| 94/98 [00:18<00:00,  5.02it/s]"
     ]
    },
    {
     "name": "stdout",
     "output_type": "stream",
     "text": [
      "Input shape: torch.Size([512, 3, 32, 32])\n",
      "After patch embedding shape: torch.Size([512, 1, 32])\n",
      "After adding pos_embedding shape: torch.Size([512, 49, 32])\n",
      "Input shape: torch.Size([512, 3, 32, 32])\n",
      "After patch embedding shape: torch.Size([512, 1, 32])\n",
      "After adding pos_embedding shape: torch.Size([512, 49, 32])\n"
     ]
    },
    {
     "name": "stderr",
     "output_type": "stream",
     "text": [
      "loss 1.67122:  98%|█████████▊| 96/98 [00:18<00:00,  5.11it/s]"
     ]
    },
    {
     "name": "stdout",
     "output_type": "stream",
     "text": [
      "Input shape: torch.Size([512, 3, 32, 32])\n",
      "After patch embedding shape: torch.Size([512, 1, 32])\n",
      "After adding pos_embedding shape: torch.Size([512, 49, 32])\n",
      "Input shape: torch.Size([512, 3, 32, 32])\n",
      "After patch embedding shape: torch.Size([512, 1, 32])\n",
      "After adding pos_embedding shape: torch.Size([512, 49, 32])\n"
     ]
    },
    {
     "name": "stderr",
     "output_type": "stream",
     "text": [
      "loss 1.67493: 100%|██████████| 98/98 [00:19<00:00,  5.15it/s]\n"
     ]
    },
    {
     "name": "stdout",
     "output_type": "stream",
     "text": [
      "Input shape: torch.Size([336, 3, 32, 32])\n",
      "After patch embedding shape: torch.Size([336, 1, 32])\n",
      "After adding pos_embedding shape: torch.Size([336, 49, 32])\n",
      "Época 4/10\n"
     ]
    },
    {
     "name": "stderr",
     "output_type": "stream",
     "text": [
      "  0%|          | 0/98 [00:00<?, ?it/s]"
     ]
    },
    {
     "name": "stdout",
     "output_type": "stream",
     "text": [
      "Input shape: torch.Size([512, 3, 32, 32])\n",
      "After patch embedding shape: torch.Size([512, 1, 32])\n",
      "After adding pos_embedding shape: torch.Size([512, 49, 32])\n"
     ]
    },
    {
     "name": "stderr",
     "output_type": "stream",
     "text": [
      "loss 1.67947:   1%|          | 1/98 [00:00<00:19,  5.06it/s]"
     ]
    },
    {
     "name": "stdout",
     "output_type": "stream",
     "text": [
      "Input shape: torch.Size([512, 3, 32, 32])\n",
      "After patch embedding shape: torch.Size([512, 1, 32])\n",
      "After adding pos_embedding shape: torch.Size([512, 49, 32])\n"
     ]
    },
    {
     "name": "stderr",
     "output_type": "stream",
     "text": [
      "loss 1.59849:   3%|▎         | 3/98 [00:00<00:19,  4.88it/s]"
     ]
    },
    {
     "name": "stdout",
     "output_type": "stream",
     "text": [
      "Input shape: torch.Size([512, 3, 32, 32])\n",
      "After patch embedding shape: torch.Size([512, 1, 32])\n",
      "After adding pos_embedding shape: torch.Size([512, 49, 32])\n",
      "Input shape: torch.Size([512, 3, 32, 32])\n",
      "After patch embedding shape: torch.Size([512, 1, 32])\n",
      "After adding pos_embedding shape: torch.Size([512, 49, 32])\n"
     ]
    },
    {
     "name": "stderr",
     "output_type": "stream",
     "text": [
      "loss 1.66918:   5%|▌         | 5/98 [00:00<00:18,  5.06it/s]"
     ]
    },
    {
     "name": "stdout",
     "output_type": "stream",
     "text": [
      "Input shape: torch.Size([512, 3, 32, 32])\n",
      "After patch embedding shape: torch.Size([512, 1, 32])\n",
      "After adding pos_embedding shape: torch.Size([512, 49, 32])\n",
      "Input shape: torch.Size([512, 3, 32, 32])\n",
      "After patch embedding shape: torch.Size([512, 1, 32])\n",
      "After adding pos_embedding shape: torch.Size([512, 49, 32])\n"
     ]
    },
    {
     "name": "stderr",
     "output_type": "stream",
     "text": [
      "loss 1.63366:   7%|▋         | 7/98 [00:01<00:17,  5.12it/s]"
     ]
    },
    {
     "name": "stdout",
     "output_type": "stream",
     "text": [
      "Input shape: torch.Size([512, 3, 32, 32])\n",
      "After patch embedding shape: torch.Size([512, 1, 32])\n",
      "After adding pos_embedding shape: torch.Size([512, 49, 32])\n",
      "Input shape: torch.Size([512, 3, 32, 32])\n",
      "After patch embedding shape: torch.Size([512, 1, 32])\n",
      "After adding pos_embedding shape: torch.Size([512, 49, 32])\n"
     ]
    },
    {
     "name": "stderr",
     "output_type": "stream",
     "text": [
      "loss 1.63828:   9%|▉         | 9/98 [00:01<00:17,  5.02it/s]"
     ]
    },
    {
     "name": "stdout",
     "output_type": "stream",
     "text": [
      "Input shape: torch.Size([512, 3, 32, 32])\n",
      "After patch embedding shape: torch.Size([512, 1, 32])\n",
      "After adding pos_embedding shape: torch.Size([512, 49, 32])\n"
     ]
    },
    {
     "name": "stderr",
     "output_type": "stream",
     "text": [
      "loss 1.68612:  10%|█         | 10/98 [00:01<00:17,  5.04it/s]"
     ]
    },
    {
     "name": "stdout",
     "output_type": "stream",
     "text": [
      "Input shape: torch.Size([512, 3, 32, 32])\n",
      "After patch embedding shape: torch.Size([512, 1, 32])\n",
      "After adding pos_embedding shape: torch.Size([512, 49, 32])\n",
      "Input shape: torch.Size([512, 3, 32, 32])\n",
      "After patch embedding shape: torch.Size([512, 1, 32])\n",
      "After adding pos_embedding shape: torch.Size([512, 49, 32])\n"
     ]
    },
    {
     "name": "stderr",
     "output_type": "stream",
     "text": [
      "loss 1.60409:  12%|█▏        | 12/98 [00:02<00:17,  4.93it/s]"
     ]
    },
    {
     "name": "stdout",
     "output_type": "stream",
     "text": [
      "Input shape: torch.Size([512, 3, 32, 32])\n",
      "After patch embedding shape: torch.Size([512, 1, 32])\n",
      "After adding pos_embedding shape: torch.Size([512, 49, 32])\n",
      "Input shape: torch.Size([512, 3, 32, 32])\n",
      "After patch embedding shape: torch.Size([512, 1, 32])\n",
      "After adding pos_embedding shape: torch.Size([512, 49, 32])\n"
     ]
    },
    {
     "name": "stderr",
     "output_type": "stream",
     "text": [
      "loss 1.61265:  14%|█▍        | 14/98 [00:02<00:16,  5.06it/s]"
     ]
    },
    {
     "name": "stdout",
     "output_type": "stream",
     "text": [
      "Input shape: torch.Size([512, 3, 32, 32])\n",
      "After patch embedding shape: torch.Size([512, 1, 32])\n",
      "After adding pos_embedding shape: torch.Size([512, 49, 32])\n",
      "Input shape: torch.Size([512, 3, 32, 32])\n",
      "After patch embedding shape: torch.Size([512, 1, 32])\n",
      "After adding pos_embedding shape: torch.Size([512, 49, 32])\n"
     ]
    },
    {
     "name": "stderr",
     "output_type": "stream",
     "text": [
      "loss 1.68069:  16%|█▋        | 16/98 [00:03<00:16,  5.10it/s]"
     ]
    },
    {
     "name": "stdout",
     "output_type": "stream",
     "text": [
      "Input shape: torch.Size([512, 3, 32, 32])\n",
      "After patch embedding shape: torch.Size([512, 1, 32])\n",
      "After adding pos_embedding shape: torch.Size([512, 49, 32])\n",
      "Input shape: torch.Size([512, 3, 32, 32])\n",
      "After patch embedding shape: torch.Size([512, 1, 32])\n",
      "After adding pos_embedding shape: torch.Size([512, 49, 32])\n"
     ]
    },
    {
     "name": "stderr",
     "output_type": "stream",
     "text": [
      "loss 1.63606:  18%|█▊        | 18/98 [00:03<00:15,  5.14it/s]"
     ]
    },
    {
     "name": "stdout",
     "output_type": "stream",
     "text": [
      "Input shape: torch.Size([512, 3, 32, 32])\n",
      "After patch embedding shape: torch.Size([512, 1, 32])\n",
      "After adding pos_embedding shape: torch.Size([512, 49, 32])\n",
      "Input shape: torch.Size([512, 3, 32, 32])\n",
      "After patch embedding shape: torch.Size([512, 1, 32])\n",
      "After adding pos_embedding shape: torch.Size([512, 49, 32])\n"
     ]
    },
    {
     "name": "stderr",
     "output_type": "stream",
     "text": [
      "loss 1.68055:  20%|██        | 20/98 [00:03<00:15,  5.17it/s]"
     ]
    },
    {
     "name": "stdout",
     "output_type": "stream",
     "text": [
      "Input shape: torch.Size([512, 3, 32, 32])\n",
      "After patch embedding shape: torch.Size([512, 1, 32])\n",
      "After adding pos_embedding shape: torch.Size([512, 49, 32])\n",
      "Input shape: torch.Size([512, 3, 32, 32])\n",
      "After patch embedding shape: torch.Size([512, 1, 32])\n",
      "After adding pos_embedding shape: torch.Size([512, 49, 32])\n"
     ]
    },
    {
     "name": "stderr",
     "output_type": "stream",
     "text": [
      "loss 1.62692:  22%|██▏       | 22/98 [00:04<00:14,  5.15it/s]"
     ]
    },
    {
     "name": "stdout",
     "output_type": "stream",
     "text": [
      "Input shape: torch.Size([512, 3, 32, 32])\n",
      "After patch embedding shape: torch.Size([512, 1, 32])\n",
      "After adding pos_embedding shape: torch.Size([512, 49, 32])\n",
      "Input shape: torch.Size([512, 3, 32, 32])\n",
      "After patch embedding shape: torch.Size([512, 1, 32])\n",
      "After adding pos_embedding shape: torch.Size([512, 49, 32])\n"
     ]
    },
    {
     "name": "stderr",
     "output_type": "stream",
     "text": [
      "loss 1.71222:  24%|██▍       | 24/98 [00:04<00:14,  5.11it/s]"
     ]
    },
    {
     "name": "stdout",
     "output_type": "stream",
     "text": [
      "Input shape: torch.Size([512, 3, 32, 32])\n",
      "After patch embedding shape: torch.Size([512, 1, 32])\n",
      "After adding pos_embedding shape: torch.Size([512, 49, 32])\n",
      "Input shape: torch.Size([512, 3, 32, 32])\n",
      "After patch embedding shape: torch.Size([512, 1, 32])\n",
      "After adding pos_embedding shape: torch.Size([512, 49, 32])\n"
     ]
    },
    {
     "name": "stderr",
     "output_type": "stream",
     "text": [
      "loss 1.66122:  27%|██▋       | 26/98 [00:05<00:13,  5.16it/s]"
     ]
    },
    {
     "name": "stdout",
     "output_type": "stream",
     "text": [
      "Input shape: torch.Size([512, 3, 32, 32])\n",
      "After patch embedding shape: torch.Size([512, 1, 32])\n",
      "After adding pos_embedding shape: torch.Size([512, 49, 32])\n",
      "Input shape: torch.Size([512, 3, 32, 32])\n",
      "After patch embedding shape: torch.Size([512, 1, 32])\n",
      "After adding pos_embedding shape: torch.Size([512, 49, 32])\n"
     ]
    },
    {
     "name": "stderr",
     "output_type": "stream",
     "text": [
      "loss 1.59653:  29%|██▊       | 28/98 [00:05<00:13,  5.20it/s]"
     ]
    },
    {
     "name": "stdout",
     "output_type": "stream",
     "text": [
      "Input shape: torch.Size([512, 3, 32, 32])\n",
      "After patch embedding shape: torch.Size([512, 1, 32])\n",
      "After adding pos_embedding shape: torch.Size([512, 49, 32])\n",
      "Input shape: torch.Size([512, 3, 32, 32])\n",
      "After patch embedding shape: torch.Size([512, 1, 32])\n",
      "After adding pos_embedding shape: torch.Size([512, 49, 32])\n"
     ]
    },
    {
     "name": "stderr",
     "output_type": "stream",
     "text": [
      "loss 1.66031:  31%|███       | 30/98 [00:05<00:13,  5.05it/s]"
     ]
    },
    {
     "name": "stdout",
     "output_type": "stream",
     "text": [
      "Input shape: torch.Size([512, 3, 32, 32])\n",
      "After patch embedding shape: torch.Size([512, 1, 32])\n",
      "After adding pos_embedding shape: torch.Size([512, 49, 32])\n",
      "Input shape: torch.Size([512, 3, 32, 32])\n",
      "After patch embedding shape: torch.Size([512, 1, 32])\n",
      "After adding pos_embedding shape: torch.Size([512, 49, 32])\n"
     ]
    },
    {
     "name": "stderr",
     "output_type": "stream",
     "text": [
      "loss 1.58232:  33%|███▎      | 32/98 [00:06<00:12,  5.14it/s]"
     ]
    },
    {
     "name": "stdout",
     "output_type": "stream",
     "text": [
      "Input shape: torch.Size([512, 3, 32, 32])\n",
      "After patch embedding shape: torch.Size([512, 1, 32])\n",
      "After adding pos_embedding shape: torch.Size([512, 49, 32])\n",
      "Input shape: torch.Size([512, 3, 32, 32])\n",
      "After patch embedding shape: torch.Size([512, 1, 32])\n",
      "After adding pos_embedding shape: torch.Size([512, 49, 32])\n"
     ]
    },
    {
     "name": "stderr",
     "output_type": "stream",
     "text": [
      "loss 1.67424:  35%|███▍      | 34/98 [00:06<00:12,  5.20it/s]"
     ]
    },
    {
     "name": "stdout",
     "output_type": "stream",
     "text": [
      "Input shape: torch.Size([512, 3, 32, 32])\n",
      "After patch embedding shape: torch.Size([512, 1, 32])\n",
      "After adding pos_embedding shape: torch.Size([512, 49, 32])\n",
      "Input shape: torch.Size([512, 3, 32, 32])\n",
      "After patch embedding shape: torch.Size([512, 1, 32])\n",
      "After adding pos_embedding shape: torch.Size([512, 49, 32])\n"
     ]
    },
    {
     "name": "stderr",
     "output_type": "stream",
     "text": [
      "loss 1.62598:  37%|███▋      | 36/98 [00:07<00:11,  5.22it/s]"
     ]
    },
    {
     "name": "stdout",
     "output_type": "stream",
     "text": [
      "Input shape: torch.Size([512, 3, 32, 32])\n",
      "After patch embedding shape: torch.Size([512, 1, 32])\n",
      "After adding pos_embedding shape: torch.Size([512, 49, 32])\n",
      "Input shape: torch.Size([512, 3, 32, 32])\n",
      "After patch embedding shape: torch.Size([512, 1, 32])\n",
      "After adding pos_embedding shape: torch.Size([512, 49, 32])\n"
     ]
    },
    {
     "name": "stderr",
     "output_type": "stream",
     "text": [
      "loss 1.65878:  39%|███▉      | 38/98 [00:07<00:11,  5.23it/s]"
     ]
    },
    {
     "name": "stdout",
     "output_type": "stream",
     "text": [
      "Input shape: torch.Size([512, 3, 32, 32])\n",
      "After patch embedding shape: torch.Size([512, 1, 32])\n",
      "After adding pos_embedding shape: torch.Size([512, 49, 32])\n",
      "Input shape: torch.Size([512, 3, 32, 32])\n",
      "After patch embedding shape: torch.Size([512, 1, 32])\n",
      "After adding pos_embedding shape: torch.Size([512, 49, 32])\n"
     ]
    },
    {
     "name": "stderr",
     "output_type": "stream",
     "text": [
      "loss 1.64789:  41%|████      | 40/98 [00:07<00:11,  5.07it/s]"
     ]
    },
    {
     "name": "stdout",
     "output_type": "stream",
     "text": [
      "Input shape: torch.Size([512, 3, 32, 32])\n",
      "After patch embedding shape: torch.Size([512, 1, 32])\n",
      "After adding pos_embedding shape: torch.Size([512, 49, 32])\n",
      "Input shape: torch.Size([512, 3, 32, 32])\n",
      "After patch embedding shape: torch.Size([512, 1, 32])\n",
      "After adding pos_embedding shape: torch.Size([512, 49, 32])\n"
     ]
    },
    {
     "name": "stderr",
     "output_type": "stream",
     "text": [
      "loss 1.57888:  43%|████▎     | 42/98 [00:08<00:10,  5.17it/s]"
     ]
    },
    {
     "name": "stdout",
     "output_type": "stream",
     "text": [
      "Input shape: torch.Size([512, 3, 32, 32])\n",
      "After patch embedding shape: torch.Size([512, 1, 32])\n",
      "After adding pos_embedding shape: torch.Size([512, 49, 32])\n",
      "Input shape: torch.Size([512, 3, 32, 32])\n",
      "After patch embedding shape: torch.Size([512, 1, 32])\n",
      "After adding pos_embedding shape: torch.Size([512, 49, 32])\n"
     ]
    },
    {
     "name": "stderr",
     "output_type": "stream",
     "text": [
      "loss 1.63775:  45%|████▍     | 44/98 [00:08<00:10,  5.21it/s]"
     ]
    },
    {
     "name": "stdout",
     "output_type": "stream",
     "text": [
      "Input shape: torch.Size([512, 3, 32, 32])\n",
      "After patch embedding shape: torch.Size([512, 1, 32])\n",
      "After adding pos_embedding shape: torch.Size([512, 49, 32])\n",
      "Input shape: torch.Size([512, 3, 32, 32])\n",
      "After patch embedding shape: torch.Size([512, 1, 32])\n",
      "After adding pos_embedding shape: torch.Size([512, 49, 32])\n"
     ]
    },
    {
     "name": "stderr",
     "output_type": "stream",
     "text": [
      "loss 1.68596:  47%|████▋     | 46/98 [00:08<00:09,  5.23it/s]"
     ]
    },
    {
     "name": "stdout",
     "output_type": "stream",
     "text": [
      "Input shape: torch.Size([512, 3, 32, 32])\n",
      "After patch embedding shape: torch.Size([512, 1, 32])\n",
      "After adding pos_embedding shape: torch.Size([512, 49, 32])\n",
      "Input shape: torch.Size([512, 3, 32, 32])\n",
      "After patch embedding shape: torch.Size([512, 1, 32])\n",
      "After adding pos_embedding shape: torch.Size([512, 49, 32])\n"
     ]
    },
    {
     "name": "stderr",
     "output_type": "stream",
     "text": [
      "loss 1.65738:  49%|████▉     | 48/98 [00:09<00:09,  5.07it/s]"
     ]
    },
    {
     "name": "stdout",
     "output_type": "stream",
     "text": [
      "Input shape: torch.Size([512, 3, 32, 32])\n",
      "After patch embedding shape: torch.Size([512, 1, 32])\n",
      "After adding pos_embedding shape: torch.Size([512, 49, 32])\n",
      "Input shape: torch.Size([512, 3, 32, 32])\n",
      "After patch embedding shape: torch.Size([512, 1, 32])\n",
      "After adding pos_embedding shape: torch.Size([512, 49, 32])\n"
     ]
    },
    {
     "name": "stderr",
     "output_type": "stream",
     "text": [
      "loss 1.71821:  51%|█████     | 50/98 [00:09<00:09,  5.15it/s]"
     ]
    },
    {
     "name": "stdout",
     "output_type": "stream",
     "text": [
      "Input shape: torch.Size([512, 3, 32, 32])\n",
      "After patch embedding shape: torch.Size([512, 1, 32])\n",
      "After adding pos_embedding shape: torch.Size([512, 49, 32])\n",
      "Input shape: torch.Size([512, 3, 32, 32])\n",
      "After patch embedding shape: torch.Size([512, 1, 32])\n",
      "After adding pos_embedding shape: torch.Size([512, 49, 32])\n"
     ]
    },
    {
     "name": "stderr",
     "output_type": "stream",
     "text": [
      "loss 1.63730:  53%|█████▎    | 52/98 [00:10<00:08,  5.21it/s]"
     ]
    },
    {
     "name": "stdout",
     "output_type": "stream",
     "text": [
      "Input shape: torch.Size([512, 3, 32, 32])\n",
      "After patch embedding shape: torch.Size([512, 1, 32])\n",
      "After adding pos_embedding shape: torch.Size([512, 49, 32])\n",
      "Input shape: torch.Size([512, 3, 32, 32])\n",
      "After patch embedding shape: torch.Size([512, 1, 32])\n",
      "After adding pos_embedding shape: torch.Size([512, 49, 32])\n"
     ]
    },
    {
     "name": "stderr",
     "output_type": "stream",
     "text": [
      "loss 1.67605:  55%|█████▌    | 54/98 [00:10<00:08,  5.20it/s]"
     ]
    },
    {
     "name": "stdout",
     "output_type": "stream",
     "text": [
      "Input shape: torch.Size([512, 3, 32, 32])\n",
      "After patch embedding shape: torch.Size([512, 1, 32])\n",
      "After adding pos_embedding shape: torch.Size([512, 49, 32])\n",
      "Input shape: torch.Size([512, 3, 32, 32])\n",
      "After patch embedding shape: torch.Size([512, 1, 32])\n",
      "After adding pos_embedding shape: torch.Size([512, 49, 32])\n"
     ]
    },
    {
     "name": "stderr",
     "output_type": "stream",
     "text": [
      "loss 1.66203:  57%|█████▋    | 56/98 [00:10<00:08,  5.20it/s]"
     ]
    },
    {
     "name": "stdout",
     "output_type": "stream",
     "text": [
      "Input shape: torch.Size([512, 3, 32, 32])\n",
      "After patch embedding shape: torch.Size([512, 1, 32])\n",
      "After adding pos_embedding shape: torch.Size([512, 49, 32])\n",
      "Input shape: torch.Size([512, 3, 32, 32])\n",
      "After patch embedding shape: torch.Size([512, 1, 32])\n",
      "After adding pos_embedding shape: torch.Size([512, 49, 32])\n"
     ]
    },
    {
     "name": "stderr",
     "output_type": "stream",
     "text": [
      "loss 1.64793:  59%|█████▉    | 58/98 [00:11<00:07,  5.19it/s]"
     ]
    },
    {
     "name": "stdout",
     "output_type": "stream",
     "text": [
      "Input shape: torch.Size([512, 3, 32, 32])\n",
      "After patch embedding shape: torch.Size([512, 1, 32])\n",
      "After adding pos_embedding shape: torch.Size([512, 49, 32])\n",
      "Input shape: torch.Size([512, 3, 32, 32])\n",
      "After patch embedding shape: torch.Size([512, 1, 32])\n",
      "After adding pos_embedding shape: torch.Size([512, 49, 32])\n"
     ]
    },
    {
     "name": "stderr",
     "output_type": "stream",
     "text": [
      "loss 1.65351:  61%|██████    | 60/98 [00:11<00:07,  5.21it/s]"
     ]
    },
    {
     "name": "stdout",
     "output_type": "stream",
     "text": [
      "Input shape: torch.Size([512, 3, 32, 32])\n",
      "After patch embedding shape: torch.Size([512, 1, 32])\n",
      "After adding pos_embedding shape: torch.Size([512, 49, 32])\n",
      "Input shape: torch.Size([512, 3, 32, 32])\n",
      "After patch embedding shape: torch.Size([512, 1, 32])\n",
      "After adding pos_embedding shape: torch.Size([512, 49, 32])\n"
     ]
    },
    {
     "name": "stderr",
     "output_type": "stream",
     "text": [
      "loss 1.64242:  63%|██████▎   | 62/98 [00:12<00:06,  5.23it/s]"
     ]
    },
    {
     "name": "stdout",
     "output_type": "stream",
     "text": [
      "Input shape: torch.Size([512, 3, 32, 32])\n",
      "After patch embedding shape: torch.Size([512, 1, 32])\n",
      "After adding pos_embedding shape: torch.Size([512, 49, 32])\n",
      "Input shape: torch.Size([512, 3, 32, 32])\n",
      "After patch embedding shape: torch.Size([512, 1, 32])\n",
      "After adding pos_embedding shape: torch.Size([512, 49, 32])\n"
     ]
    },
    {
     "name": "stderr",
     "output_type": "stream",
     "text": [
      "loss 1.58739:  65%|██████▌   | 64/98 [00:12<00:06,  5.22it/s]"
     ]
    },
    {
     "name": "stdout",
     "output_type": "stream",
     "text": [
      "Input shape: torch.Size([512, 3, 32, 32])\n",
      "After patch embedding shape: torch.Size([512, 1, 32])\n",
      "After adding pos_embedding shape: torch.Size([512, 49, 32])\n",
      "Input shape: torch.Size([512, 3, 32, 32])\n",
      "After patch embedding shape: torch.Size([512, 1, 32])\n",
      "After adding pos_embedding shape: torch.Size([512, 49, 32])\n"
     ]
    },
    {
     "name": "stderr",
     "output_type": "stream",
     "text": [
      "loss 1.64337:  67%|██████▋   | 66/98 [00:12<00:06,  5.06it/s]"
     ]
    },
    {
     "name": "stdout",
     "output_type": "stream",
     "text": [
      "Input shape: torch.Size([512, 3, 32, 32])\n",
      "After patch embedding shape: torch.Size([512, 1, 32])\n",
      "After adding pos_embedding shape: torch.Size([512, 49, 32])\n",
      "Input shape: torch.Size([512, 3, 32, 32])\n",
      "After patch embedding shape: torch.Size([512, 1, 32])\n",
      "After adding pos_embedding shape: torch.Size([512, 49, 32])\n"
     ]
    },
    {
     "name": "stderr",
     "output_type": "stream",
     "text": [
      "loss 1.67671:  69%|██████▉   | 68/98 [00:13<00:05,  5.11it/s]"
     ]
    },
    {
     "name": "stdout",
     "output_type": "stream",
     "text": [
      "Input shape: torch.Size([512, 3, 32, 32])\n",
      "After patch embedding shape: torch.Size([512, 1, 32])\n",
      "After adding pos_embedding shape: torch.Size([512, 49, 32])\n",
      "Input shape: torch.Size([512, 3, 32, 32])\n",
      "After patch embedding shape: torch.Size([512, 1, 32])\n",
      "After adding pos_embedding shape: torch.Size([512, 49, 32])\n"
     ]
    },
    {
     "name": "stderr",
     "output_type": "stream",
     "text": [
      "loss 1.67233:  71%|███████▏  | 70/98 [00:13<00:05,  5.18it/s]"
     ]
    },
    {
     "name": "stdout",
     "output_type": "stream",
     "text": [
      "Input shape: torch.Size([512, 3, 32, 32])\n",
      "After patch embedding shape: torch.Size([512, 1, 32])\n",
      "After adding pos_embedding shape: torch.Size([512, 49, 32])\n",
      "Input shape: torch.Size([512, 3, 32, 32])\n",
      "After patch embedding shape: torch.Size([512, 1, 32])\n",
      "After adding pos_embedding shape: torch.Size([512, 49, 32])\n"
     ]
    },
    {
     "name": "stderr",
     "output_type": "stream",
     "text": [
      "loss 1.65256:  73%|███████▎  | 72/98 [00:13<00:04,  5.21it/s]"
     ]
    },
    {
     "name": "stdout",
     "output_type": "stream",
     "text": [
      "Input shape: torch.Size([512, 3, 32, 32])\n",
      "After patch embedding shape: torch.Size([512, 1, 32])\n",
      "After adding pos_embedding shape: torch.Size([512, 49, 32])\n",
      "Input shape: torch.Size([512, 3, 32, 32])\n",
      "After patch embedding shape: torch.Size([512, 1, 32])\n",
      "After adding pos_embedding shape: torch.Size([512, 49, 32])\n"
     ]
    },
    {
     "name": "stderr",
     "output_type": "stream",
     "text": [
      "loss 1.63245:  76%|███████▌  | 74/98 [00:14<00:04,  5.22it/s]"
     ]
    },
    {
     "name": "stdout",
     "output_type": "stream",
     "text": [
      "Input shape: torch.Size([512, 3, 32, 32])\n",
      "After patch embedding shape: torch.Size([512, 1, 32])\n",
      "After adding pos_embedding shape: torch.Size([512, 49, 32])\n",
      "Input shape: torch.Size([512, 3, 32, 32])\n",
      "After patch embedding shape: torch.Size([512, 1, 32])\n",
      "After adding pos_embedding shape: torch.Size([512, 49, 32])\n"
     ]
    },
    {
     "name": "stderr",
     "output_type": "stream",
     "text": [
      "loss 1.58113:  78%|███████▊  | 76/98 [00:14<00:04,  5.20it/s]"
     ]
    },
    {
     "name": "stdout",
     "output_type": "stream",
     "text": [
      "Input shape: torch.Size([512, 3, 32, 32])\n",
      "After patch embedding shape: torch.Size([512, 1, 32])\n",
      "After adding pos_embedding shape: torch.Size([512, 49, 32])\n",
      "Input shape: torch.Size([512, 3, 32, 32])\n",
      "After patch embedding shape: torch.Size([512, 1, 32])\n",
      "After adding pos_embedding shape: torch.Size([512, 49, 32])\n"
     ]
    },
    {
     "name": "stderr",
     "output_type": "stream",
     "text": [
      "loss 1.62271:  80%|███████▉  | 78/98 [00:15<00:03,  5.23it/s]"
     ]
    },
    {
     "name": "stdout",
     "output_type": "stream",
     "text": [
      "Input shape: torch.Size([512, 3, 32, 32])\n",
      "After patch embedding shape: torch.Size([512, 1, 32])\n",
      "After adding pos_embedding shape: torch.Size([512, 49, 32])\n",
      "Input shape: torch.Size([512, 3, 32, 32])\n",
      "After patch embedding shape: torch.Size([512, 1, 32])\n",
      "After adding pos_embedding shape: torch.Size([512, 49, 32])\n"
     ]
    },
    {
     "name": "stderr",
     "output_type": "stream",
     "text": [
      "loss 1.59503:  82%|████████▏ | 80/98 [00:15<00:03,  5.21it/s]"
     ]
    },
    {
     "name": "stdout",
     "output_type": "stream",
     "text": [
      "Input shape: torch.Size([512, 3, 32, 32])\n",
      "After patch embedding shape: torch.Size([512, 1, 32])\n",
      "After adding pos_embedding shape: torch.Size([512, 49, 32])\n",
      "Input shape: torch.Size([512, 3, 32, 32])\n",
      "After patch embedding shape: torch.Size([512, 1, 32])\n",
      "After adding pos_embedding shape: torch.Size([512, 49, 32])\n"
     ]
    },
    {
     "name": "stderr",
     "output_type": "stream",
     "text": [
      "loss 1.62221:  84%|████████▎ | 82/98 [00:15<00:03,  5.11it/s]"
     ]
    },
    {
     "name": "stdout",
     "output_type": "stream",
     "text": [
      "Input shape: torch.Size([512, 3, 32, 32])\n",
      "After patch embedding shape: torch.Size([512, 1, 32])\n",
      "After adding pos_embedding shape: torch.Size([512, 49, 32])\n",
      "Input shape: torch.Size([512, 3, 32, 32])\n",
      "After patch embedding shape: torch.Size([512, 1, 32])\n",
      "After adding pos_embedding shape: torch.Size([512, 49, 32])\n"
     ]
    },
    {
     "name": "stderr",
     "output_type": "stream",
     "text": [
      "loss 1.62236:  86%|████████▌ | 84/98 [00:16<00:02,  4.96it/s]"
     ]
    },
    {
     "name": "stdout",
     "output_type": "stream",
     "text": [
      "Input shape: torch.Size([512, 3, 32, 32])\n",
      "After patch embedding shape: torch.Size([512, 1, 32])\n",
      "After adding pos_embedding shape: torch.Size([512, 49, 32])\n",
      "Input shape: torch.Size([512, 3, 32, 32])\n",
      "After patch embedding shape: torch.Size([512, 1, 32])\n",
      "After adding pos_embedding shape: torch.Size([512, 49, 32])\n"
     ]
    },
    {
     "name": "stderr",
     "output_type": "stream",
     "text": [
      "loss 1.53818:  88%|████████▊ | 86/98 [00:16<00:02,  5.06it/s]"
     ]
    },
    {
     "name": "stdout",
     "output_type": "stream",
     "text": [
      "Input shape: torch.Size([512, 3, 32, 32])\n",
      "After patch embedding shape: torch.Size([512, 1, 32])\n",
      "After adding pos_embedding shape: torch.Size([512, 49, 32])\n",
      "Input shape: torch.Size([512, 3, 32, 32])\n",
      "After patch embedding shape: torch.Size([512, 1, 32])\n",
      "After adding pos_embedding shape: torch.Size([512, 49, 32])\n"
     ]
    },
    {
     "name": "stderr",
     "output_type": "stream",
     "text": [
      "loss 1.67984:  90%|████████▉ | 88/98 [00:17<00:01,  5.14it/s]"
     ]
    },
    {
     "name": "stdout",
     "output_type": "stream",
     "text": [
      "Input shape: torch.Size([512, 3, 32, 32])\n",
      "After patch embedding shape: torch.Size([512, 1, 32])\n",
      "After adding pos_embedding shape: torch.Size([512, 49, 32])\n",
      "Input shape: torch.Size([512, 3, 32, 32])\n",
      "After patch embedding shape: torch.Size([512, 1, 32])\n",
      "After adding pos_embedding shape: torch.Size([512, 49, 32])\n"
     ]
    },
    {
     "name": "stderr",
     "output_type": "stream",
     "text": [
      "loss 1.63568:  92%|█████████▏| 90/98 [00:17<00:01,  5.20it/s]"
     ]
    },
    {
     "name": "stdout",
     "output_type": "stream",
     "text": [
      "Input shape: torch.Size([512, 3, 32, 32])\n",
      "After patch embedding shape: torch.Size([512, 1, 32])\n",
      "After adding pos_embedding shape: torch.Size([512, 49, 32])\n",
      "Input shape: torch.Size([512, 3, 32, 32])\n",
      "After patch embedding shape: torch.Size([512, 1, 32])\n",
      "After adding pos_embedding shape: torch.Size([512, 49, 32])\n"
     ]
    },
    {
     "name": "stderr",
     "output_type": "stream",
     "text": [
      "loss 1.66912:  94%|█████████▍| 92/98 [00:17<00:01,  5.24it/s]"
     ]
    },
    {
     "name": "stdout",
     "output_type": "stream",
     "text": [
      "Input shape: torch.Size([512, 3, 32, 32])\n",
      "After patch embedding shape: torch.Size([512, 1, 32])\n",
      "After adding pos_embedding shape: torch.Size([512, 49, 32])\n"
     ]
    },
    {
     "name": "stderr",
     "output_type": "stream",
     "text": [
      "loss 1.67425:  95%|█████████▍| 93/98 [00:18<00:00,  5.05it/s]"
     ]
    },
    {
     "name": "stdout",
     "output_type": "stream",
     "text": [
      "Input shape: torch.Size([512, 3, 32, 32])\n",
      "After patch embedding shape: torch.Size([512, 1, 32])\n",
      "After adding pos_embedding shape: torch.Size([512, 49, 32])\n",
      "Input shape: torch.Size([512, 3, 32, 32])\n",
      "After patch embedding shape: torch.Size([512, 1, 32])\n",
      "After adding pos_embedding shape: torch.Size([512, 49, 32])\n"
     ]
    },
    {
     "name": "stderr",
     "output_type": "stream",
     "text": [
      "loss 1.66080:  97%|█████████▋| 95/98 [00:18<00:00,  5.12it/s]"
     ]
    },
    {
     "name": "stdout",
     "output_type": "stream",
     "text": [
      "Input shape: torch.Size([512, 3, 32, 32])\n",
      "After patch embedding shape: torch.Size([512, 1, 32])\n",
      "After adding pos_embedding shape: torch.Size([512, 49, 32])\n",
      "Input shape: torch.Size([512, 3, 32, 32])\n",
      "After patch embedding shape: torch.Size([512, 1, 32])\n",
      "After adding pos_embedding shape: torch.Size([512, 49, 32])\n"
     ]
    },
    {
     "name": "stderr",
     "output_type": "stream",
     "text": [
      "loss 1.63253:  99%|█████████▉| 97/98 [00:18<00:00,  5.19it/s]"
     ]
    },
    {
     "name": "stdout",
     "output_type": "stream",
     "text": [
      "Input shape: torch.Size([512, 3, 32, 32])\n",
      "After patch embedding shape: torch.Size([512, 1, 32])\n",
      "After adding pos_embedding shape: torch.Size([512, 49, 32])\n",
      "Input shape: torch.Size([336, 3, 32, 32])\n",
      "After patch embedding shape: torch.Size([336, 1, 32])\n",
      "After adding pos_embedding shape: torch.Size([336, 49, 32])\n"
     ]
    },
    {
     "name": "stderr",
     "output_type": "stream",
     "text": [
      "loss 1.65667: 100%|██████████| 98/98 [00:18<00:00,  5.17it/s]\n"
     ]
    },
    {
     "name": "stdout",
     "output_type": "stream",
     "text": [
      "Época 5/10\n"
     ]
    },
    {
     "name": "stderr",
     "output_type": "stream",
     "text": [
      "  0%|          | 0/98 [00:00<?, ?it/s]"
     ]
    },
    {
     "name": "stdout",
     "output_type": "stream",
     "text": [
      "Input shape: torch.Size([512, 3, 32, 32])\n",
      "After patch embedding shape: torch.Size([512, 1, 32])\n",
      "After adding pos_embedding shape: torch.Size([512, 49, 32])\n"
     ]
    },
    {
     "name": "stderr",
     "output_type": "stream",
     "text": [
      "loss 1.59710:   1%|          | 1/98 [00:00<00:21,  4.57it/s]"
     ]
    },
    {
     "name": "stdout",
     "output_type": "stream",
     "text": [
      "Input shape: torch.Size([512, 3, 32, 32])\n",
      "After patch embedding shape: torch.Size([512, 1, 32])\n",
      "After adding pos_embedding shape: torch.Size([512, 49, 32])\n"
     ]
    },
    {
     "name": "stderr",
     "output_type": "stream",
     "text": [
      "loss 1.69221:   2%|▏         | 2/98 [00:00<00:19,  4.93it/s]"
     ]
    },
    {
     "name": "stdout",
     "output_type": "stream",
     "text": [
      "Input shape: torch.Size([512, 3, 32, 32])\n",
      "After patch embedding shape: torch.Size([512, 1, 32])\n",
      "After adding pos_embedding shape: torch.Size([512, 49, 32])\n"
     ]
    },
    {
     "name": "stderr",
     "output_type": "stream",
     "text": [
      "loss 1.63416:   3%|▎         | 3/98 [00:00<00:18,  5.04it/s]"
     ]
    },
    {
     "name": "stdout",
     "output_type": "stream",
     "text": [
      "Input shape: torch.Size([512, 3, 32, 32])\n",
      "After patch embedding shape: torch.Size([512, 1, 32])\n",
      "After adding pos_embedding shape: torch.Size([512, 49, 32])\n"
     ]
    },
    {
     "name": "stderr",
     "output_type": "stream",
     "text": [
      "loss 1.63814:   4%|▍         | 4/98 [00:00<00:18,  5.10it/s]"
     ]
    },
    {
     "name": "stdout",
     "output_type": "stream",
     "text": [
      "Input shape: torch.Size([512, 3, 32, 32])\n",
      "After patch embedding shape: torch.Size([512, 1, 32])\n",
      "After adding pos_embedding shape: torch.Size([512, 49, 32])\n"
     ]
    },
    {
     "name": "stderr",
     "output_type": "stream",
     "text": [
      "loss 1.57655:   5%|▌         | 5/98 [00:00<00:18,  5.09it/s]"
     ]
    },
    {
     "name": "stdout",
     "output_type": "stream",
     "text": [
      "Input shape: torch.Size([512, 3, 32, 32])\n",
      "After patch embedding shape: torch.Size([512, 1, 32])\n",
      "After adding pos_embedding shape: torch.Size([512, 49, 32])\n"
     ]
    },
    {
     "name": "stderr",
     "output_type": "stream",
     "text": [
      "loss 1.60536:   6%|▌         | 6/98 [00:01<00:17,  5.15it/s]"
     ]
    },
    {
     "name": "stdout",
     "output_type": "stream",
     "text": [
      "Input shape: torch.Size([512, 3, 32, 32])\n",
      "After patch embedding shape: torch.Size([512, 1, 32])\n",
      "After adding pos_embedding shape: torch.Size([512, 49, 32])\n"
     ]
    },
    {
     "name": "stderr",
     "output_type": "stream",
     "text": [
      "loss 1.64358:   7%|▋         | 7/98 [00:01<00:17,  5.13it/s]"
     ]
    },
    {
     "name": "stdout",
     "output_type": "stream",
     "text": [
      "Input shape: torch.Size([512, 3, 32, 32])\n",
      "After patch embedding shape: torch.Size([512, 1, 32])\n",
      "After adding pos_embedding shape: torch.Size([512, 49, 32])\n"
     ]
    },
    {
     "name": "stderr",
     "output_type": "stream",
     "text": [
      "loss 1.63611:   8%|▊         | 8/98 [00:01<00:17,  5.16it/s]"
     ]
    },
    {
     "name": "stdout",
     "output_type": "stream",
     "text": [
      "Input shape: torch.Size([512, 3, 32, 32])\n",
      "After patch embedding shape: torch.Size([512, 1, 32])\n",
      "After adding pos_embedding shape: torch.Size([512, 49, 32])\n"
     ]
    },
    {
     "name": "stderr",
     "output_type": "stream",
     "text": [
      "loss 1.65014:   9%|▉         | 9/98 [00:01<00:17,  5.17it/s]"
     ]
    },
    {
     "name": "stdout",
     "output_type": "stream",
     "text": [
      "Input shape: torch.Size([512, 3, 32, 32])\n",
      "After patch embedding shape: torch.Size([512, 1, 32])\n",
      "After adding pos_embedding shape: torch.Size([512, 49, 32])\n"
     ]
    },
    {
     "name": "stderr",
     "output_type": "stream",
     "text": [
      "loss 1.60116:  10%|█         | 10/98 [00:01<00:16,  5.19it/s]"
     ]
    },
    {
     "name": "stdout",
     "output_type": "stream",
     "text": [
      "Input shape: torch.Size([512, 3, 32, 32])\n",
      "After patch embedding shape: torch.Size([512, 1, 32])\n",
      "After adding pos_embedding shape: torch.Size([512, 49, 32])\n"
     ]
    },
    {
     "name": "stderr",
     "output_type": "stream",
     "text": [
      "loss 1.59480:  11%|█         | 11/98 [00:02<00:16,  5.21it/s]"
     ]
    },
    {
     "name": "stdout",
     "output_type": "stream",
     "text": [
      "Input shape: torch.Size([512, 3, 32, 32])\n",
      "After patch embedding shape: torch.Size([512, 1, 32])\n",
      "After adding pos_embedding shape: torch.Size([512, 49, 32])\n"
     ]
    },
    {
     "name": "stderr",
     "output_type": "stream",
     "text": [
      "loss 1.64332:  12%|█▏        | 12/98 [00:02<00:16,  5.21it/s]"
     ]
    },
    {
     "name": "stdout",
     "output_type": "stream",
     "text": [
      "Input shape: torch.Size([512, 3, 32, 32])\n",
      "After patch embedding shape: torch.Size([512, 1, 32])\n",
      "After adding pos_embedding shape: torch.Size([512, 49, 32])\n"
     ]
    },
    {
     "name": "stderr",
     "output_type": "stream",
     "text": [
      "loss 1.64679:  14%|█▍        | 14/98 [00:02<00:16,  4.96it/s]"
     ]
    },
    {
     "name": "stdout",
     "output_type": "stream",
     "text": [
      "Input shape: torch.Size([512, 3, 32, 32])\n",
      "After patch embedding shape: torch.Size([512, 1, 32])\n",
      "After adding pos_embedding shape: torch.Size([512, 49, 32])\n",
      "Input shape: torch.Size([512, 3, 32, 32])\n",
      "After patch embedding shape: torch.Size([512, 1, 32])\n",
      "After adding pos_embedding shape: torch.Size([512, 49, 32])\n"
     ]
    },
    {
     "name": "stderr",
     "output_type": "stream",
     "text": [
      "loss 1.61721:  16%|█▋        | 16/98 [00:03<00:16,  5.11it/s]"
     ]
    },
    {
     "name": "stdout",
     "output_type": "stream",
     "text": [
      "Input shape: torch.Size([512, 3, 32, 32])\n",
      "After patch embedding shape: torch.Size([512, 1, 32])\n",
      "After adding pos_embedding shape: torch.Size([512, 49, 32])\n",
      "Input shape: torch.Size([512, 3, 32, 32])\n",
      "After patch embedding shape: torch.Size([512, 1, 32])\n",
      "After adding pos_embedding shape: torch.Size([512, 49, 32])\n"
     ]
    },
    {
     "name": "stderr",
     "output_type": "stream",
     "text": [
      "loss 1.60546:  18%|█▊        | 18/98 [00:03<00:15,  5.19it/s]"
     ]
    },
    {
     "name": "stdout",
     "output_type": "stream",
     "text": [
      "Input shape: torch.Size([512, 3, 32, 32])\n",
      "After patch embedding shape: torch.Size([512, 1, 32])\n",
      "After adding pos_embedding shape: torch.Size([512, 49, 32])\n",
      "Input shape: torch.Size([512, 3, 32, 32])\n",
      "After patch embedding shape: torch.Size([512, 1, 32])\n",
      "After adding pos_embedding shape: torch.Size([512, 49, 32])\n"
     ]
    },
    {
     "name": "stderr",
     "output_type": "stream",
     "text": [
      "loss 1.69013:  20%|██        | 20/98 [00:03<00:14,  5.23it/s]"
     ]
    },
    {
     "name": "stdout",
     "output_type": "stream",
     "text": [
      "Input shape: torch.Size([512, 3, 32, 32])\n",
      "After patch embedding shape: torch.Size([512, 1, 32])\n",
      "After adding pos_embedding shape: torch.Size([512, 49, 32])\n",
      "Input shape: torch.Size([512, 3, 32, 32])\n",
      "After patch embedding shape: torch.Size([512, 1, 32])\n",
      "After adding pos_embedding shape: torch.Size([512, 49, 32])\n"
     ]
    },
    {
     "name": "stderr",
     "output_type": "stream",
     "text": [
      "loss 1.61250:  22%|██▏       | 22/98 [00:04<00:14,  5.21it/s]"
     ]
    },
    {
     "name": "stdout",
     "output_type": "stream",
     "text": [
      "Input shape: torch.Size([512, 3, 32, 32])\n",
      "After patch embedding shape: torch.Size([512, 1, 32])\n",
      "After adding pos_embedding shape: torch.Size([512, 49, 32])\n"
     ]
    },
    {
     "name": "stderr",
     "output_type": "stream",
     "text": [
      "loss 1.60401:  23%|██▎       | 23/98 [00:04<00:14,  5.04it/s]"
     ]
    },
    {
     "name": "stdout",
     "output_type": "stream",
     "text": [
      "Input shape: torch.Size([512, 3, 32, 32])\n",
      "After patch embedding shape: torch.Size([512, 1, 32])\n",
      "After adding pos_embedding shape: torch.Size([512, 49, 32])\n",
      "Input shape: torch.Size([512, 3, 32, 32])\n",
      "After patch embedding shape: torch.Size([512, 1, 32])\n",
      "After adding pos_embedding shape: torch.Size([512, 49, 32])\n"
     ]
    },
    {
     "name": "stderr",
     "output_type": "stream",
     "text": [
      "loss 1.69014:  26%|██▌       | 25/98 [00:04<00:14,  5.14it/s]"
     ]
    },
    {
     "name": "stdout",
     "output_type": "stream",
     "text": [
      "Input shape: torch.Size([512, 3, 32, 32])\n",
      "After patch embedding shape: torch.Size([512, 1, 32])\n",
      "After adding pos_embedding shape: torch.Size([512, 49, 32])\n",
      "Input shape: torch.Size([512, 3, 32, 32])\n",
      "After patch embedding shape: torch.Size([512, 1, 32])\n",
      "After adding pos_embedding shape: torch.Size([512, 49, 32])\n"
     ]
    },
    {
     "name": "stderr",
     "output_type": "stream",
     "text": [
      "loss 1.73681:  28%|██▊       | 27/98 [00:05<00:13,  5.20it/s]"
     ]
    },
    {
     "name": "stdout",
     "output_type": "stream",
     "text": [
      "Input shape: torch.Size([512, 3, 32, 32])\n",
      "After patch embedding shape: torch.Size([512, 1, 32])\n",
      "After adding pos_embedding shape: torch.Size([512, 49, 32])\n",
      "Input shape: torch.Size([512, 3, 32, 32])\n",
      "After patch embedding shape: torch.Size([512, 1, 32])\n",
      "After adding pos_embedding shape: torch.Size([512, 49, 32])\n"
     ]
    },
    {
     "name": "stderr",
     "output_type": "stream",
     "text": [
      "loss 1.66138:  30%|██▉       | 29/98 [00:05<00:13,  5.22it/s]"
     ]
    },
    {
     "name": "stdout",
     "output_type": "stream",
     "text": [
      "Input shape: torch.Size([512, 3, 32, 32])\n",
      "After patch embedding shape: torch.Size([512, 1, 32])\n",
      "After adding pos_embedding shape: torch.Size([512, 49, 32])\n",
      "Input shape: torch.Size([512, 3, 32, 32])\n",
      "After patch embedding shape: torch.Size([512, 1, 32])\n",
      "After adding pos_embedding shape: torch.Size([512, 49, 32])\n"
     ]
    },
    {
     "name": "stderr",
     "output_type": "stream",
     "text": [
      "loss 1.62903:  32%|███▏      | 31/98 [00:06<00:12,  5.24it/s]"
     ]
    },
    {
     "name": "stdout",
     "output_type": "stream",
     "text": [
      "Input shape: torch.Size([512, 3, 32, 32])\n",
      "After patch embedding shape: torch.Size([512, 1, 32])\n",
      "After adding pos_embedding shape: torch.Size([512, 49, 32])\n",
      "Input shape: torch.Size([512, 3, 32, 32])\n",
      "After patch embedding shape: torch.Size([512, 1, 32])\n",
      "After adding pos_embedding shape: torch.Size([512, 49, 32])\n"
     ]
    },
    {
     "name": "stderr",
     "output_type": "stream",
     "text": [
      "loss 1.62548:  34%|███▎      | 33/98 [00:06<00:12,  5.19it/s]"
     ]
    },
    {
     "name": "stdout",
     "output_type": "stream",
     "text": [
      "Input shape: torch.Size([512, 3, 32, 32])\n",
      "After patch embedding shape: torch.Size([512, 1, 32])\n",
      "After adding pos_embedding shape: torch.Size([512, 49, 32])\n",
      "Input shape: torch.Size([512, 3, 32, 32])\n",
      "After patch embedding shape: torch.Size([512, 1, 32])\n",
      "After adding pos_embedding shape: torch.Size([512, 49, 32])\n"
     ]
    },
    {
     "name": "stderr",
     "output_type": "stream",
     "text": [
      "loss 1.63361:  36%|███▌      | 35/98 [00:06<00:12,  5.20it/s]"
     ]
    },
    {
     "name": "stdout",
     "output_type": "stream",
     "text": [
      "Input shape: torch.Size([512, 3, 32, 32])\n",
      "After patch embedding shape: torch.Size([512, 1, 32])\n",
      "After adding pos_embedding shape: torch.Size([512, 49, 32])\n",
      "Input shape: torch.Size([512, 3, 32, 32])\n",
      "After patch embedding shape: torch.Size([512, 1, 32])\n",
      "After adding pos_embedding shape: torch.Size([512, 49, 32])\n"
     ]
    },
    {
     "name": "stderr",
     "output_type": "stream",
     "text": [
      "loss 1.65551:  38%|███▊      | 37/98 [00:07<00:11,  5.23it/s]"
     ]
    },
    {
     "name": "stdout",
     "output_type": "stream",
     "text": [
      "Input shape: torch.Size([512, 3, 32, 32])\n",
      "After patch embedding shape: torch.Size([512, 1, 32])\n",
      "After adding pos_embedding shape: torch.Size([512, 49, 32])\n",
      "Input shape: torch.Size([512, 3, 32, 32])\n",
      "After patch embedding shape: torch.Size([512, 1, 32])\n",
      "After adding pos_embedding shape: torch.Size([512, 49, 32])\n"
     ]
    },
    {
     "name": "stderr",
     "output_type": "stream",
     "text": [
      "loss 1.63942:  40%|███▉      | 39/98 [00:07<00:11,  5.25it/s]"
     ]
    },
    {
     "name": "stdout",
     "output_type": "stream",
     "text": [
      "Input shape: torch.Size([512, 3, 32, 32])\n",
      "After patch embedding shape: torch.Size([512, 1, 32])\n",
      "After adding pos_embedding shape: torch.Size([512, 49, 32])\n",
      "Input shape: torch.Size([512, 3, 32, 32])\n",
      "After patch embedding shape: torch.Size([512, 1, 32])\n",
      "After adding pos_embedding shape: torch.Size([512, 49, 32])\n"
     ]
    },
    {
     "name": "stderr",
     "output_type": "stream",
     "text": [
      "loss 1.67288:  42%|████▏     | 41/98 [00:07<00:10,  5.25it/s]"
     ]
    },
    {
     "name": "stdout",
     "output_type": "stream",
     "text": [
      "Input shape: torch.Size([512, 3, 32, 32])\n",
      "After patch embedding shape: torch.Size([512, 1, 32])\n",
      "After adding pos_embedding shape: torch.Size([512, 49, 32])\n",
      "Input shape: torch.Size([512, 3, 32, 32])\n",
      "After patch embedding shape: torch.Size([512, 1, 32])\n",
      "After adding pos_embedding shape: torch.Size([512, 49, 32])\n"
     ]
    },
    {
     "name": "stderr",
     "output_type": "stream",
     "text": [
      "loss 1.63230:  44%|████▍     | 43/98 [00:08<00:10,  5.23it/s]"
     ]
    },
    {
     "name": "stdout",
     "output_type": "stream",
     "text": [
      "Input shape: torch.Size([512, 3, 32, 32])\n",
      "After patch embedding shape: torch.Size([512, 1, 32])\n",
      "After adding pos_embedding shape: torch.Size([512, 49, 32])\n",
      "Input shape: torch.Size([512, 3, 32, 32])\n",
      "After patch embedding shape: torch.Size([512, 1, 32])\n",
      "After adding pos_embedding shape: torch.Size([512, 49, 32])\n"
     ]
    },
    {
     "name": "stderr",
     "output_type": "stream",
     "text": [
      "loss 1.60545:  46%|████▌     | 45/98 [00:08<00:10,  5.24it/s]"
     ]
    },
    {
     "name": "stdout",
     "output_type": "stream",
     "text": [
      "Input shape: torch.Size([512, 3, 32, 32])\n",
      "After patch embedding shape: torch.Size([512, 1, 32])\n",
      "After adding pos_embedding shape: torch.Size([512, 49, 32])\n",
      "Input shape: torch.Size([512, 3, 32, 32])\n",
      "After patch embedding shape: torch.Size([512, 1, 32])\n",
      "After adding pos_embedding shape: torch.Size([512, 49, 32])\n"
     ]
    },
    {
     "name": "stderr",
     "output_type": "stream",
     "text": [
      "loss 1.63529:  48%|████▊     | 47/98 [00:09<00:09,  5.25it/s]"
     ]
    },
    {
     "name": "stdout",
     "output_type": "stream",
     "text": [
      "Input shape: torch.Size([512, 3, 32, 32])\n",
      "After patch embedding shape: torch.Size([512, 1, 32])\n",
      "After adding pos_embedding shape: torch.Size([512, 49, 32])\n",
      "Input shape: torch.Size([512, 3, 32, 32])\n",
      "After patch embedding shape: torch.Size([512, 1, 32])\n",
      "After adding pos_embedding shape: torch.Size([512, 49, 32])\n"
     ]
    },
    {
     "name": "stderr",
     "output_type": "stream",
     "text": [
      "loss 1.66592:  50%|█████     | 49/98 [00:09<00:09,  5.25it/s]"
     ]
    },
    {
     "name": "stdout",
     "output_type": "stream",
     "text": [
      "Input shape: torch.Size([512, 3, 32, 32])\n",
      "After patch embedding shape: torch.Size([512, 1, 32])\n",
      "After adding pos_embedding shape: torch.Size([512, 49, 32])\n",
      "Input shape: torch.Size([512, 3, 32, 32])\n",
      "After patch embedding shape: torch.Size([512, 1, 32])\n",
      "After adding pos_embedding shape: torch.Size([512, 49, 32])\n"
     ]
    },
    {
     "name": "stderr",
     "output_type": "stream",
     "text": [
      "loss 1.63297:  52%|█████▏    | 51/98 [00:09<00:08,  5.26it/s]"
     ]
    },
    {
     "name": "stdout",
     "output_type": "stream",
     "text": [
      "Input shape: torch.Size([512, 3, 32, 32])\n",
      "After patch embedding shape: torch.Size([512, 1, 32])\n",
      "After adding pos_embedding shape: torch.Size([512, 49, 32])\n",
      "Input shape: torch.Size([512, 3, 32, 32])\n",
      "After patch embedding shape: torch.Size([512, 1, 32])\n",
      "After adding pos_embedding shape: torch.Size([512, 49, 32])\n"
     ]
    },
    {
     "name": "stderr",
     "output_type": "stream",
     "text": [
      "loss 1.66268:  54%|█████▍    | 53/98 [00:10<00:08,  5.23it/s]"
     ]
    },
    {
     "name": "stdout",
     "output_type": "stream",
     "text": [
      "Input shape: torch.Size([512, 3, 32, 32])\n",
      "After patch embedding shape: torch.Size([512, 1, 32])\n",
      "After adding pos_embedding shape: torch.Size([512, 49, 32])\n",
      "Input shape: torch.Size([512, 3, 32, 32])\n",
      "After patch embedding shape: torch.Size([512, 1, 32])\n",
      "After adding pos_embedding shape: torch.Size([512, 49, 32])\n"
     ]
    },
    {
     "name": "stderr",
     "output_type": "stream",
     "text": [
      "loss 1.60187:  56%|█████▌    | 55/98 [00:10<00:08,  5.25it/s]"
     ]
    },
    {
     "name": "stdout",
     "output_type": "stream",
     "text": [
      "Input shape: torch.Size([512, 3, 32, 32])\n",
      "After patch embedding shape: torch.Size([512, 1, 32])\n",
      "After adding pos_embedding shape: torch.Size([512, 49, 32])\n",
      "Input shape: torch.Size([512, 3, 32, 32])\n",
      "After patch embedding shape: torch.Size([512, 1, 32])\n",
      "After adding pos_embedding shape: torch.Size([512, 49, 32])\n"
     ]
    },
    {
     "name": "stderr",
     "output_type": "stream",
     "text": [
      "loss 1.60104:  58%|█████▊    | 57/98 [00:10<00:07,  5.29it/s]"
     ]
    },
    {
     "name": "stdout",
     "output_type": "stream",
     "text": [
      "Input shape: torch.Size([512, 3, 32, 32])\n",
      "After patch embedding shape: torch.Size([512, 1, 32])\n",
      "After adding pos_embedding shape: torch.Size([512, 49, 32])\n",
      "Input shape: torch.Size([512, 3, 32, 32])\n",
      "After patch embedding shape: torch.Size([512, 1, 32])\n",
      "After adding pos_embedding shape: torch.Size([512, 49, 32])\n"
     ]
    },
    {
     "name": "stderr",
     "output_type": "stream",
     "text": [
      "loss 1.64599:  60%|██████    | 59/98 [00:11<00:07,  5.28it/s]"
     ]
    },
    {
     "name": "stdout",
     "output_type": "stream",
     "text": [
      "Input shape: torch.Size([512, 3, 32, 32])\n",
      "After patch embedding shape: torch.Size([512, 1, 32])\n",
      "After adding pos_embedding shape: torch.Size([512, 49, 32])\n",
      "Input shape: torch.Size([512, 3, 32, 32])\n",
      "After patch embedding shape: torch.Size([512, 1, 32])\n",
      "After adding pos_embedding shape: torch.Size([512, 49, 32])\n"
     ]
    },
    {
     "name": "stderr",
     "output_type": "stream",
     "text": [
      "loss 1.63391:  62%|██████▏   | 61/98 [00:11<00:07,  5.27it/s]"
     ]
    },
    {
     "name": "stdout",
     "output_type": "stream",
     "text": [
      "Input shape: torch.Size([512, 3, 32, 32])\n",
      "After patch embedding shape: torch.Size([512, 1, 32])\n",
      "After adding pos_embedding shape: torch.Size([512, 49, 32])\n"
     ]
    },
    {
     "name": "stderr",
     "output_type": "stream",
     "text": [
      "loss 1.67060:  63%|██████▎   | 62/98 [00:11<00:07,  5.11it/s]"
     ]
    },
    {
     "name": "stdout",
     "output_type": "stream",
     "text": [
      "Input shape: torch.Size([512, 3, 32, 32])\n",
      "After patch embedding shape: torch.Size([512, 1, 32])\n",
      "After adding pos_embedding shape: torch.Size([512, 49, 32])\n",
      "Input shape: torch.Size([512, 3, 32, 32])\n",
      "After patch embedding shape: torch.Size([512, 1, 32])\n",
      "After adding pos_embedding shape: torch.Size([512, 49, 32])\n"
     ]
    },
    {
     "name": "stderr",
     "output_type": "stream",
     "text": [
      "loss 1.68074:  65%|██████▌   | 64/98 [00:12<00:06,  5.20it/s]"
     ]
    },
    {
     "name": "stdout",
     "output_type": "stream",
     "text": [
      "Input shape: torch.Size([512, 3, 32, 32])\n",
      "After patch embedding shape: torch.Size([512, 1, 32])\n",
      "After adding pos_embedding shape: torch.Size([512, 49, 32])\n",
      "Input shape: torch.Size([512, 3, 32, 32])\n",
      "After patch embedding shape: torch.Size([512, 1, 32])\n",
      "After adding pos_embedding shape: torch.Size([512, 49, 32])\n"
     ]
    },
    {
     "name": "stderr",
     "output_type": "stream",
     "text": [
      "loss 1.65949:  67%|██████▋   | 66/98 [00:12<00:06,  5.25it/s]"
     ]
    },
    {
     "name": "stdout",
     "output_type": "stream",
     "text": [
      "Input shape: torch.Size([512, 3, 32, 32])\n",
      "After patch embedding shape: torch.Size([512, 1, 32])\n",
      "After adding pos_embedding shape: torch.Size([512, 49, 32])\n",
      "Input shape: torch.Size([512, 3, 32, 32])\n",
      "After patch embedding shape: torch.Size([512, 1, 32])\n",
      "After adding pos_embedding shape: torch.Size([512, 49, 32])\n"
     ]
    },
    {
     "name": "stderr",
     "output_type": "stream",
     "text": [
      "loss 1.62660:  69%|██████▉   | 68/98 [00:13<00:05,  5.29it/s]"
     ]
    },
    {
     "name": "stdout",
     "output_type": "stream",
     "text": [
      "Input shape: torch.Size([512, 3, 32, 32])\n",
      "After patch embedding shape: torch.Size([512, 1, 32])\n",
      "After adding pos_embedding shape: torch.Size([512, 49, 32])\n",
      "Input shape: torch.Size([512, 3, 32, 32])\n",
      "After patch embedding shape: torch.Size([512, 1, 32])\n",
      "After adding pos_embedding shape: torch.Size([512, 49, 32])\n"
     ]
    },
    {
     "name": "stderr",
     "output_type": "stream",
     "text": [
      "loss 1.63508:  71%|███████▏  | 70/98 [00:13<00:05,  5.30it/s]"
     ]
    },
    {
     "name": "stdout",
     "output_type": "stream",
     "text": [
      "Input shape: torch.Size([512, 3, 32, 32])\n",
      "After patch embedding shape: torch.Size([512, 1, 32])\n",
      "After adding pos_embedding shape: torch.Size([512, 49, 32])\n",
      "Input shape: torch.Size([512, 3, 32, 32])\n",
      "After patch embedding shape: torch.Size([512, 1, 32])\n",
      "After adding pos_embedding shape: torch.Size([512, 49, 32])\n"
     ]
    },
    {
     "name": "stderr",
     "output_type": "stream",
     "text": [
      "loss 1.56156:  73%|███████▎  | 72/98 [00:13<00:05,  5.12it/s]"
     ]
    },
    {
     "name": "stdout",
     "output_type": "stream",
     "text": [
      "Input shape: torch.Size([512, 3, 32, 32])\n",
      "After patch embedding shape: torch.Size([512, 1, 32])\n",
      "After adding pos_embedding shape: torch.Size([512, 49, 32])\n",
      "Input shape: torch.Size([512, 3, 32, 32])\n",
      "After patch embedding shape: torch.Size([512, 1, 32])\n",
      "After adding pos_embedding shape: torch.Size([512, 49, 32])\n"
     ]
    },
    {
     "name": "stderr",
     "output_type": "stream",
     "text": [
      "loss 1.62038:  76%|███████▌  | 74/98 [00:14<00:04,  5.23it/s]"
     ]
    },
    {
     "name": "stdout",
     "output_type": "stream",
     "text": [
      "Input shape: torch.Size([512, 3, 32, 32])\n",
      "After patch embedding shape: torch.Size([512, 1, 32])\n",
      "After adding pos_embedding shape: torch.Size([512, 49, 32])\n",
      "Input shape: torch.Size([512, 3, 32, 32])\n",
      "After patch embedding shape: torch.Size([512, 1, 32])\n",
      "After adding pos_embedding shape: torch.Size([512, 49, 32])\n"
     ]
    },
    {
     "name": "stderr",
     "output_type": "stream",
     "text": [
      "loss 1.64920:  78%|███████▊  | 76/98 [00:14<00:04,  5.28it/s]"
     ]
    },
    {
     "name": "stdout",
     "output_type": "stream",
     "text": [
      "Input shape: torch.Size([512, 3, 32, 32])\n",
      "After patch embedding shape: torch.Size([512, 1, 32])\n",
      "After adding pos_embedding shape: torch.Size([512, 49, 32])\n",
      "Input shape: torch.Size([512, 3, 32, 32])\n",
      "After patch embedding shape: torch.Size([512, 1, 32])\n",
      "After adding pos_embedding shape: torch.Size([512, 49, 32])\n"
     ]
    },
    {
     "name": "stderr",
     "output_type": "stream",
     "text": [
      "loss 1.55909:  80%|███████▉  | 78/98 [00:14<00:03,  5.27it/s]"
     ]
    },
    {
     "name": "stdout",
     "output_type": "stream",
     "text": [
      "Input shape: torch.Size([512, 3, 32, 32])\n",
      "After patch embedding shape: torch.Size([512, 1, 32])\n",
      "After adding pos_embedding shape: torch.Size([512, 49, 32])\n",
      "Input shape: torch.Size([512, 3, 32, 32])\n",
      "After patch embedding shape: torch.Size([512, 1, 32])\n",
      "After adding pos_embedding shape: torch.Size([512, 49, 32])\n"
     ]
    },
    {
     "name": "stderr",
     "output_type": "stream",
     "text": [
      "loss 1.61836:  82%|████████▏ | 80/98 [00:15<00:03,  5.29it/s]"
     ]
    },
    {
     "name": "stdout",
     "output_type": "stream",
     "text": [
      "Input shape: torch.Size([512, 3, 32, 32])\n",
      "After patch embedding shape: torch.Size([512, 1, 32])\n",
      "After adding pos_embedding shape: torch.Size([512, 49, 32])\n",
      "Input shape: torch.Size([512, 3, 32, 32])\n",
      "After patch embedding shape: torch.Size([512, 1, 32])\n",
      "After adding pos_embedding shape: torch.Size([512, 49, 32])\n"
     ]
    },
    {
     "name": "stderr",
     "output_type": "stream",
     "text": [
      "loss 1.64935:  84%|████████▎ | 82/98 [00:15<00:03,  5.12it/s]"
     ]
    },
    {
     "name": "stdout",
     "output_type": "stream",
     "text": [
      "Input shape: torch.Size([512, 3, 32, 32])\n",
      "After patch embedding shape: torch.Size([512, 1, 32])\n",
      "After adding pos_embedding shape: torch.Size([512, 49, 32])\n",
      "Input shape: torch.Size([512, 3, 32, 32])\n",
      "After patch embedding shape: torch.Size([512, 1, 32])\n",
      "After adding pos_embedding shape: torch.Size([512, 49, 32])\n"
     ]
    },
    {
     "name": "stderr",
     "output_type": "stream",
     "text": [
      "loss 1.62303:  86%|████████▌ | 84/98 [00:16<00:02,  5.22it/s]"
     ]
    },
    {
     "name": "stdout",
     "output_type": "stream",
     "text": [
      "Input shape: torch.Size([512, 3, 32, 32])\n",
      "After patch embedding shape: torch.Size([512, 1, 32])\n",
      "After adding pos_embedding shape: torch.Size([512, 49, 32])\n",
      "Input shape: torch.Size([512, 3, 32, 32])\n",
      "After patch embedding shape: torch.Size([512, 1, 32])\n",
      "After adding pos_embedding shape: torch.Size([512, 49, 32])\n"
     ]
    },
    {
     "name": "stderr",
     "output_type": "stream",
     "text": [
      "loss 1.62400:  88%|████████▊ | 86/98 [00:16<00:02,  5.27it/s]"
     ]
    },
    {
     "name": "stdout",
     "output_type": "stream",
     "text": [
      "Input shape: torch.Size([512, 3, 32, 32])\n",
      "After patch embedding shape: torch.Size([512, 1, 32])\n",
      "After adding pos_embedding shape: torch.Size([512, 49, 32])\n",
      "Input shape: torch.Size([512, 3, 32, 32])\n",
      "After patch embedding shape: torch.Size([512, 1, 32])\n",
      "After adding pos_embedding shape: torch.Size([512, 49, 32])\n"
     ]
    },
    {
     "name": "stderr",
     "output_type": "stream",
     "text": [
      "loss 1.57951:  90%|████████▉ | 88/98 [00:16<00:01,  5.21it/s]"
     ]
    },
    {
     "name": "stdout",
     "output_type": "stream",
     "text": [
      "Input shape: torch.Size([512, 3, 32, 32])\n",
      "After patch embedding shape: torch.Size([512, 1, 32])\n",
      "After adding pos_embedding shape: torch.Size([512, 49, 32])\n"
     ]
    },
    {
     "name": "stderr",
     "output_type": "stream",
     "text": [
      "loss 1.67235:  91%|█████████ | 89/98 [00:17<00:01,  5.10it/s]"
     ]
    },
    {
     "name": "stdout",
     "output_type": "stream",
     "text": [
      "Input shape: torch.Size([512, 3, 32, 32])\n",
      "After patch embedding shape: torch.Size([512, 1, 32])\n",
      "After adding pos_embedding shape: torch.Size([512, 49, 32])\n"
     ]
    },
    {
     "name": "stderr",
     "output_type": "stream",
     "text": [
      "loss 1.66639:  92%|█████████▏| 90/98 [00:17<00:01,  5.06it/s]"
     ]
    },
    {
     "name": "stdout",
     "output_type": "stream",
     "text": [
      "Input shape: torch.Size([512, 3, 32, 32])\n",
      "After patch embedding shape: torch.Size([512, 1, 32])\n",
      "After adding pos_embedding shape: torch.Size([512, 49, 32])\n"
     ]
    },
    {
     "name": "stderr",
     "output_type": "stream",
     "text": [
      "loss 1.57524:  93%|█████████▎| 91/98 [00:17<00:01,  4.64it/s]"
     ]
    },
    {
     "name": "stdout",
     "output_type": "stream",
     "text": [
      "Input shape: torch.Size([512, 3, 32, 32])\n",
      "After patch embedding shape: torch.Size([512, 1, 32])\n",
      "After adding pos_embedding shape: torch.Size([512, 49, 32])\n"
     ]
    },
    {
     "name": "stderr",
     "output_type": "stream",
     "text": [
      "loss 1.66844:  94%|█████████▍| 92/98 [00:17<00:01,  4.67it/s]"
     ]
    },
    {
     "name": "stdout",
     "output_type": "stream",
     "text": [
      "Input shape: torch.Size([512, 3, 32, 32])\n",
      "After patch embedding shape: torch.Size([512, 1, 32])\n",
      "After adding pos_embedding shape: torch.Size([512, 49, 32])\n",
      "Input shape: torch.Size([512, 3, 32, 32])\n",
      "After patch embedding shape: torch.Size([512, 1, 32])\n",
      "After adding pos_embedding shape: torch.Size([512, 49, 32])\n"
     ]
    },
    {
     "name": "stderr",
     "output_type": "stream",
     "text": [
      "loss 1.64629:  96%|█████████▌| 94/98 [00:18<00:00,  4.98it/s]"
     ]
    },
    {
     "name": "stdout",
     "output_type": "stream",
     "text": [
      "Input shape: torch.Size([512, 3, 32, 32])\n",
      "After patch embedding shape: torch.Size([512, 1, 32])\n",
      "After adding pos_embedding shape: torch.Size([512, 49, 32])\n",
      "Input shape: torch.Size([512, 3, 32, 32])\n",
      "After patch embedding shape: torch.Size([512, 1, 32])\n",
      "After adding pos_embedding shape: torch.Size([512, 49, 32])\n"
     ]
    },
    {
     "name": "stderr",
     "output_type": "stream",
     "text": [
      "loss 1.70564:  98%|█████████▊| 96/98 [00:18<00:00,  5.15it/s]"
     ]
    },
    {
     "name": "stdout",
     "output_type": "stream",
     "text": [
      "Input shape: torch.Size([512, 3, 32, 32])\n",
      "After patch embedding shape: torch.Size([512, 1, 32])\n",
      "After adding pos_embedding shape: torch.Size([512, 49, 32])\n",
      "Input shape: torch.Size([512, 3, 32, 32])\n",
      "After patch embedding shape: torch.Size([512, 1, 32])\n",
      "After adding pos_embedding shape: torch.Size([512, 49, 32])\n"
     ]
    },
    {
     "name": "stderr",
     "output_type": "stream",
     "text": [
      "loss 1.66985: 100%|██████████| 98/98 [00:18<00:00,  5.20it/s]\n"
     ]
    },
    {
     "name": "stdout",
     "output_type": "stream",
     "text": [
      "Input shape: torch.Size([336, 3, 32, 32])\n",
      "After patch embedding shape: torch.Size([336, 1, 32])\n",
      "After adding pos_embedding shape: torch.Size([336, 49, 32])\n",
      "Época 6/10\n"
     ]
    },
    {
     "name": "stderr",
     "output_type": "stream",
     "text": [
      "  0%|          | 0/98 [00:00<?, ?it/s]"
     ]
    },
    {
     "name": "stdout",
     "output_type": "stream",
     "text": [
      "Input shape: torch.Size([512, 3, 32, 32])\n",
      "After patch embedding shape: torch.Size([512, 1, 32])\n",
      "After adding pos_embedding shape: torch.Size([512, 49, 32])\n"
     ]
    },
    {
     "name": "stderr",
     "output_type": "stream",
     "text": [
      "loss 1.63199:   1%|          | 1/98 [00:00<00:18,  5.13it/s]"
     ]
    },
    {
     "name": "stdout",
     "output_type": "stream",
     "text": [
      "Input shape: torch.Size([512, 3, 32, 32])\n",
      "After patch embedding shape: torch.Size([512, 1, 32])\n",
      "After adding pos_embedding shape: torch.Size([512, 49, 32])\n"
     ]
    },
    {
     "name": "stderr",
     "output_type": "stream",
     "text": [
      "loss 1.57844:   2%|▏         | 2/98 [00:00<00:18,  5.20it/s]"
     ]
    },
    {
     "name": "stdout",
     "output_type": "stream",
     "text": [
      "Input shape: torch.Size([512, 3, 32, 32])\n",
      "After patch embedding shape: torch.Size([512, 1, 32])\n",
      "After adding pos_embedding shape: torch.Size([512, 49, 32])\n"
     ]
    },
    {
     "name": "stderr",
     "output_type": "stream",
     "text": [
      "loss 1.70663:   3%|▎         | 3/98 [00:00<00:18,  5.21it/s]"
     ]
    },
    {
     "name": "stdout",
     "output_type": "stream",
     "text": [
      "Input shape: torch.Size([512, 3, 32, 32])\n",
      "After patch embedding shape: torch.Size([512, 1, 32])\n",
      "After adding pos_embedding shape: torch.Size([512, 49, 32])\n"
     ]
    },
    {
     "name": "stderr",
     "output_type": "stream",
     "text": [
      "loss 1.60039:   4%|▍         | 4/98 [00:00<00:18,  5.22it/s]"
     ]
    },
    {
     "name": "stdout",
     "output_type": "stream",
     "text": [
      "Input shape: torch.Size([512, 3, 32, 32])\n",
      "After patch embedding shape: torch.Size([512, 1, 32])\n",
      "After adding pos_embedding shape: torch.Size([512, 49, 32])\n"
     ]
    },
    {
     "name": "stderr",
     "output_type": "stream",
     "text": [
      "loss 1.63264:   5%|▌         | 5/98 [00:00<00:17,  5.19it/s]"
     ]
    },
    {
     "name": "stdout",
     "output_type": "stream",
     "text": [
      "Input shape: torch.Size([512, 3, 32, 32])\n",
      "After patch embedding shape: torch.Size([512, 1, 32])\n",
      "After adding pos_embedding shape: torch.Size([512, 49, 32])\n"
     ]
    },
    {
     "name": "stderr",
     "output_type": "stream",
     "text": [
      "loss 1.61752:   7%|▋         | 7/98 [00:01<00:18,  4.90it/s]"
     ]
    },
    {
     "name": "stdout",
     "output_type": "stream",
     "text": [
      "Input shape: torch.Size([512, 3, 32, 32])\n",
      "After patch embedding shape: torch.Size([512, 1, 32])\n",
      "After adding pos_embedding shape: torch.Size([512, 49, 32])\n"
     ]
    },
    {
     "name": "stderr",
     "output_type": "stream",
     "text": [
      "loss 1.60439:   8%|▊         | 8/98 [00:01<00:19,  4.66it/s]"
     ]
    },
    {
     "name": "stdout",
     "output_type": "stream",
     "text": [
      "Input shape: torch.Size([512, 3, 32, 32])\n",
      "After patch embedding shape: torch.Size([512, 1, 32])\n",
      "After adding pos_embedding shape: torch.Size([512, 49, 32])\n"
     ]
    },
    {
     "name": "stderr",
     "output_type": "stream",
     "text": [
      "loss 1.62304:   9%|▉         | 9/98 [00:01<00:18,  4.82it/s]"
     ]
    },
    {
     "name": "stdout",
     "output_type": "stream",
     "text": [
      "Input shape: torch.Size([512, 3, 32, 32])\n",
      "After patch embedding shape: torch.Size([512, 1, 32])\n",
      "After adding pos_embedding shape: torch.Size([512, 49, 32])\n",
      "Input shape: torch.Size([512, 3, 32, 32])\n",
      "After patch embedding shape: torch.Size([512, 1, 32])\n",
      "After adding pos_embedding shape: torch.Size([512, 49, 32])\n"
     ]
    },
    {
     "name": "stderr",
     "output_type": "stream",
     "text": [
      "loss 1.63038:  11%|█         | 11/98 [00:02<00:17,  5.02it/s]"
     ]
    },
    {
     "name": "stdout",
     "output_type": "stream",
     "text": [
      "Input shape: torch.Size([512, 3, 32, 32])\n",
      "After patch embedding shape: torch.Size([512, 1, 32])\n",
      "After adding pos_embedding shape: torch.Size([512, 49, 32])\n",
      "Input shape: torch.Size([512, 3, 32, 32])\n",
      "After patch embedding shape: torch.Size([512, 1, 32])\n",
      "After adding pos_embedding shape: torch.Size([512, 49, 32])\n"
     ]
    },
    {
     "name": "stderr",
     "output_type": "stream",
     "text": [
      "loss 1.59515:  13%|█▎        | 13/98 [00:02<00:16,  5.17it/s]"
     ]
    },
    {
     "name": "stdout",
     "output_type": "stream",
     "text": [
      "Input shape: torch.Size([512, 3, 32, 32])\n",
      "After patch embedding shape: torch.Size([512, 1, 32])\n",
      "After adding pos_embedding shape: torch.Size([512, 49, 32])\n",
      "Input shape: torch.Size([512, 3, 32, 32])\n",
      "After patch embedding shape: torch.Size([512, 1, 32])\n",
      "After adding pos_embedding shape: torch.Size([512, 49, 32])\n"
     ]
    },
    {
     "name": "stderr",
     "output_type": "stream",
     "text": [
      "loss 1.60281:  15%|█▌        | 15/98 [00:02<00:16,  4.95it/s]"
     ]
    },
    {
     "name": "stdout",
     "output_type": "stream",
     "text": [
      "Input shape: torch.Size([512, 3, 32, 32])\n",
      "After patch embedding shape: torch.Size([512, 1, 32])\n",
      "After adding pos_embedding shape: torch.Size([512, 49, 32])\n"
     ]
    },
    {
     "name": "stderr",
     "output_type": "stream",
     "text": [
      "loss 1.68494:  16%|█▋        | 16/98 [00:03<00:16,  4.86it/s]"
     ]
    },
    {
     "name": "stdout",
     "output_type": "stream",
     "text": [
      "Input shape: torch.Size([512, 3, 32, 32])\n",
      "After patch embedding shape: torch.Size([512, 1, 32])\n",
      "After adding pos_embedding shape: torch.Size([512, 49, 32])\n"
     ]
    },
    {
     "name": "stderr",
     "output_type": "stream",
     "text": [
      "loss 1.61526:  17%|█▋        | 17/98 [00:03<00:16,  4.83it/s]"
     ]
    },
    {
     "name": "stdout",
     "output_type": "stream",
     "text": [
      "Input shape: torch.Size([512, 3, 32, 32])\n",
      "After patch embedding shape: torch.Size([512, 1, 32])\n",
      "After adding pos_embedding shape: torch.Size([512, 49, 32])\n",
      "Input shape: torch.Size([512, 3, 32, 32])\n",
      "After patch embedding shape: torch.Size([512, 1, 32])\n",
      "After adding pos_embedding shape: torch.Size([512, 49, 32])\n"
     ]
    },
    {
     "name": "stderr",
     "output_type": "stream",
     "text": [
      "loss 1.64003:  19%|█▉        | 19/98 [00:03<00:15,  5.06it/s]"
     ]
    },
    {
     "name": "stdout",
     "output_type": "stream",
     "text": [
      "Input shape: torch.Size([512, 3, 32, 32])\n",
      "After patch embedding shape: torch.Size([512, 1, 32])\n",
      "After adding pos_embedding shape: torch.Size([512, 49, 32])\n",
      "Input shape: torch.Size([512, 3, 32, 32])\n",
      "After patch embedding shape: torch.Size([512, 1, 32])\n",
      "After adding pos_embedding shape: torch.Size([512, 49, 32])\n"
     ]
    },
    {
     "name": "stderr",
     "output_type": "stream",
     "text": [
      "loss 1.64951:  21%|██▏       | 21/98 [00:04<00:14,  5.17it/s]"
     ]
    },
    {
     "name": "stdout",
     "output_type": "stream",
     "text": [
      "Input shape: torch.Size([512, 3, 32, 32])\n",
      "After patch embedding shape: torch.Size([512, 1, 32])\n",
      "After adding pos_embedding shape: torch.Size([512, 49, 32])\n",
      "Input shape: torch.Size([512, 3, 32, 32])\n",
      "After patch embedding shape: torch.Size([512, 1, 32])\n",
      "After adding pos_embedding shape: torch.Size([512, 49, 32])\n"
     ]
    },
    {
     "name": "stderr",
     "output_type": "stream",
     "text": [
      "loss 1.65076:  23%|██▎       | 23/98 [00:04<00:14,  5.24it/s]"
     ]
    },
    {
     "name": "stdout",
     "output_type": "stream",
     "text": [
      "Input shape: torch.Size([512, 3, 32, 32])\n",
      "After patch embedding shape: torch.Size([512, 1, 32])\n",
      "After adding pos_embedding shape: torch.Size([512, 49, 32])\n",
      "Input shape: torch.Size([512, 3, 32, 32])\n",
      "After patch embedding shape: torch.Size([512, 1, 32])\n",
      "After adding pos_embedding shape: torch.Size([512, 49, 32])\n"
     ]
    },
    {
     "name": "stderr",
     "output_type": "stream",
     "text": [
      "loss 1.55464:  26%|██▌       | 25/98 [00:04<00:13,  5.28it/s]"
     ]
    },
    {
     "name": "stdout",
     "output_type": "stream",
     "text": [
      "Input shape: torch.Size([512, 3, 32, 32])\n",
      "After patch embedding shape: torch.Size([512, 1, 32])\n",
      "After adding pos_embedding shape: torch.Size([512, 49, 32])\n"
     ]
    },
    {
     "name": "stderr",
     "output_type": "stream",
     "text": [
      "loss 1.67357:  27%|██▋       | 26/98 [00:05<00:14,  5.12it/s]"
     ]
    },
    {
     "name": "stdout",
     "output_type": "stream",
     "text": [
      "Input shape: torch.Size([512, 3, 32, 32])\n",
      "After patch embedding shape: torch.Size([512, 1, 32])\n",
      "After adding pos_embedding shape: torch.Size([512, 49, 32])\n",
      "Input shape: torch.Size([512, 3, 32, 32])\n",
      "After patch embedding shape: torch.Size([512, 1, 32])\n",
      "After adding pos_embedding shape: torch.Size([512, 49, 32])\n"
     ]
    },
    {
     "name": "stderr",
     "output_type": "stream",
     "text": [
      "loss 1.63900:  29%|██▊       | 28/98 [00:05<00:13,  5.22it/s]"
     ]
    },
    {
     "name": "stdout",
     "output_type": "stream",
     "text": [
      "Input shape: torch.Size([512, 3, 32, 32])\n",
      "After patch embedding shape: torch.Size([512, 1, 32])\n",
      "After adding pos_embedding shape: torch.Size([512, 49, 32])\n",
      "Input shape: torch.Size([512, 3, 32, 32])\n",
      "After patch embedding shape: torch.Size([512, 1, 32])\n",
      "After adding pos_embedding shape: torch.Size([512, 49, 32])\n"
     ]
    },
    {
     "name": "stderr",
     "output_type": "stream",
     "text": [
      "loss 1.63816:  31%|███       | 30/98 [00:05<00:12,  5.27it/s]"
     ]
    },
    {
     "name": "stdout",
     "output_type": "stream",
     "text": [
      "Input shape: torch.Size([512, 3, 32, 32])\n",
      "After patch embedding shape: torch.Size([512, 1, 32])\n",
      "After adding pos_embedding shape: torch.Size([512, 49, 32])\n",
      "Input shape: torch.Size([512, 3, 32, 32])\n",
      "After patch embedding shape: torch.Size([512, 1, 32])\n",
      "After adding pos_embedding shape: torch.Size([512, 49, 32])\n"
     ]
    },
    {
     "name": "stderr",
     "output_type": "stream",
     "text": [
      "loss 1.63714:  33%|███▎      | 32/98 [00:06<00:12,  5.29it/s]"
     ]
    },
    {
     "name": "stdout",
     "output_type": "stream",
     "text": [
      "Input shape: torch.Size([512, 3, 32, 32])\n",
      "After patch embedding shape: torch.Size([512, 1, 32])\n",
      "After adding pos_embedding shape: torch.Size([512, 49, 32])\n",
      "Input shape: torch.Size([512, 3, 32, 32])\n",
      "After patch embedding shape: torch.Size([512, 1, 32])\n",
      "After adding pos_embedding shape: torch.Size([512, 49, 32])\n"
     ]
    },
    {
     "name": "stderr",
     "output_type": "stream",
     "text": [
      "loss 1.63025:  35%|███▍      | 34/98 [00:06<00:12,  5.31it/s]"
     ]
    },
    {
     "name": "stdout",
     "output_type": "stream",
     "text": [
      "Input shape: torch.Size([512, 3, 32, 32])\n",
      "After patch embedding shape: torch.Size([512, 1, 32])\n",
      "After adding pos_embedding shape: torch.Size([512, 49, 32])\n"
     ]
    },
    {
     "name": "stderr",
     "output_type": "stream",
     "text": [
      "loss 1.65863:  36%|███▌      | 35/98 [00:06<00:12,  5.14it/s]"
     ]
    },
    {
     "name": "stdout",
     "output_type": "stream",
     "text": [
      "Input shape: torch.Size([512, 3, 32, 32])\n",
      "After patch embedding shape: torch.Size([512, 1, 32])\n",
      "After adding pos_embedding shape: torch.Size([512, 49, 32])\n",
      "Input shape: torch.Size([512, 3, 32, 32])\n",
      "After patch embedding shape: torch.Size([512, 1, 32])\n",
      "After adding pos_embedding shape: torch.Size([512, 49, 32])\n"
     ]
    },
    {
     "name": "stderr",
     "output_type": "stream",
     "text": [
      "loss 1.62846:  38%|███▊      | 37/98 [00:07<00:11,  5.23it/s]"
     ]
    },
    {
     "name": "stdout",
     "output_type": "stream",
     "text": [
      "Input shape: torch.Size([512, 3, 32, 32])\n",
      "After patch embedding shape: torch.Size([512, 1, 32])\n",
      "After adding pos_embedding shape: torch.Size([512, 49, 32])\n",
      "Input shape: torch.Size([512, 3, 32, 32])\n",
      "After patch embedding shape: torch.Size([512, 1, 32])\n",
      "After adding pos_embedding shape: torch.Size([512, 49, 32])\n"
     ]
    },
    {
     "name": "stderr",
     "output_type": "stream",
     "text": [
      "loss 1.57610:  40%|███▉      | 39/98 [00:07<00:11,  5.26it/s]"
     ]
    },
    {
     "name": "stdout",
     "output_type": "stream",
     "text": [
      "Input shape: torch.Size([512, 3, 32, 32])\n",
      "After patch embedding shape: torch.Size([512, 1, 32])\n",
      "After adding pos_embedding shape: torch.Size([512, 49, 32])\n",
      "Input shape: torch.Size([512, 3, 32, 32])\n",
      "After patch embedding shape: torch.Size([512, 1, 32])\n",
      "After adding pos_embedding shape: torch.Size([512, 49, 32])\n"
     ]
    },
    {
     "name": "stderr",
     "output_type": "stream",
     "text": [
      "loss 1.67433:  42%|████▏     | 41/98 [00:07<00:10,  5.27it/s]"
     ]
    },
    {
     "name": "stdout",
     "output_type": "stream",
     "text": [
      "Input shape: torch.Size([512, 3, 32, 32])\n",
      "After patch embedding shape: torch.Size([512, 1, 32])\n",
      "After adding pos_embedding shape: torch.Size([512, 49, 32])\n",
      "Input shape: torch.Size([512, 3, 32, 32])\n",
      "After patch embedding shape: torch.Size([512, 1, 32])\n",
      "After adding pos_embedding shape: torch.Size([512, 49, 32])\n"
     ]
    },
    {
     "name": "stderr",
     "output_type": "stream",
     "text": [
      "loss 1.60958:  44%|████▍     | 43/98 [00:08<00:10,  5.29it/s]"
     ]
    },
    {
     "name": "stdout",
     "output_type": "stream",
     "text": [
      "Input shape: torch.Size([512, 3, 32, 32])\n",
      "After patch embedding shape: torch.Size([512, 1, 32])\n",
      "After adding pos_embedding shape: torch.Size([512, 49, 32])\n",
      "Input shape: torch.Size([512, 3, 32, 32])\n",
      "After patch embedding shape: torch.Size([512, 1, 32])\n",
      "After adding pos_embedding shape: torch.Size([512, 49, 32])\n"
     ]
    },
    {
     "name": "stderr",
     "output_type": "stream",
     "text": [
      "loss 1.58894:  46%|████▌     | 45/98 [00:08<00:10,  4.96it/s]"
     ]
    },
    {
     "name": "stdout",
     "output_type": "stream",
     "text": [
      "Input shape: torch.Size([512, 3, 32, 32])\n",
      "After patch embedding shape: torch.Size([512, 1, 32])\n",
      "After adding pos_embedding shape: torch.Size([512, 49, 32])\n"
     ]
    },
    {
     "name": "stderr",
     "output_type": "stream",
     "text": [
      "loss 1.57983:  47%|████▋     | 46/98 [00:09<00:10,  4.75it/s]"
     ]
    },
    {
     "name": "stdout",
     "output_type": "stream",
     "text": [
      "Input shape: torch.Size([512, 3, 32, 32])\n",
      "After patch embedding shape: torch.Size([512, 1, 32])\n",
      "After adding pos_embedding shape: torch.Size([512, 49, 32])\n"
     ]
    },
    {
     "name": "stderr",
     "output_type": "stream",
     "text": [
      "loss 1.61740:  48%|████▊     | 47/98 [00:09<00:10,  4.87it/s]"
     ]
    },
    {
     "name": "stdout",
     "output_type": "stream",
     "text": [
      "Input shape: torch.Size([512, 3, 32, 32])\n",
      "After patch embedding shape: torch.Size([512, 1, 32])\n",
      "After adding pos_embedding shape: torch.Size([512, 49, 32])\n",
      "Input shape: torch.Size([512, 3, 32, 32])\n",
      "After patch embedding shape: torch.Size([512, 1, 32])\n",
      "After adding pos_embedding shape: torch.Size([512, 49, 32])\n"
     ]
    },
    {
     "name": "stderr",
     "output_type": "stream",
     "text": [
      "loss 1.67470:  50%|█████     | 49/98 [00:09<00:09,  5.09it/s]"
     ]
    },
    {
     "name": "stdout",
     "output_type": "stream",
     "text": [
      "Input shape: torch.Size([512, 3, 32, 32])\n",
      "After patch embedding shape: torch.Size([512, 1, 32])\n",
      "After adding pos_embedding shape: torch.Size([512, 49, 32])\n",
      "Input shape: torch.Size([512, 3, 32, 32])\n",
      "After patch embedding shape: torch.Size([512, 1, 32])\n",
      "After adding pos_embedding shape: torch.Size([512, 49, 32])\n"
     ]
    },
    {
     "name": "stderr",
     "output_type": "stream",
     "text": [
      "loss 1.66137:  52%|█████▏    | 51/98 [00:09<00:09,  5.19it/s]"
     ]
    },
    {
     "name": "stdout",
     "output_type": "stream",
     "text": [
      "Input shape: torch.Size([512, 3, 32, 32])\n",
      "After patch embedding shape: torch.Size([512, 1, 32])\n",
      "After adding pos_embedding shape: torch.Size([512, 49, 32])\n",
      "Input shape: torch.Size([512, 3, 32, 32])\n",
      "After patch embedding shape: torch.Size([512, 1, 32])\n",
      "After adding pos_embedding shape: torch.Size([512, 49, 32])\n"
     ]
    },
    {
     "name": "stderr",
     "output_type": "stream",
     "text": [
      "loss 1.59324:  54%|█████▍    | 53/98 [00:10<00:09,  4.88it/s]"
     ]
    },
    {
     "name": "stdout",
     "output_type": "stream",
     "text": [
      "Input shape: torch.Size([512, 3, 32, 32])\n",
      "After patch embedding shape: torch.Size([512, 1, 32])\n",
      "After adding pos_embedding shape: torch.Size([512, 49, 32])\n",
      "Input shape: torch.Size([512, 3, 32, 32])\n",
      "After patch embedding shape: torch.Size([512, 1, 32])\n",
      "After adding pos_embedding shape: torch.Size([512, 49, 32])\n"
     ]
    },
    {
     "name": "stderr",
     "output_type": "stream",
     "text": [
      "loss 1.56638:  56%|█████▌    | 55/98 [00:10<00:08,  5.10it/s]"
     ]
    },
    {
     "name": "stdout",
     "output_type": "stream",
     "text": [
      "Input shape: torch.Size([512, 3, 32, 32])\n",
      "After patch embedding shape: torch.Size([512, 1, 32])\n",
      "After adding pos_embedding shape: torch.Size([512, 49, 32])\n",
      "Input shape: torch.Size([512, 3, 32, 32])\n",
      "After patch embedding shape: torch.Size([512, 1, 32])\n",
      "After adding pos_embedding shape: torch.Size([512, 49, 32])\n"
     ]
    },
    {
     "name": "stderr",
     "output_type": "stream",
     "text": [
      "loss 1.61230:  58%|█████▊    | 57/98 [00:11<00:07,  5.18it/s]"
     ]
    },
    {
     "name": "stdout",
     "output_type": "stream",
     "text": [
      "Input shape: torch.Size([512, 3, 32, 32])\n",
      "After patch embedding shape: torch.Size([512, 1, 32])\n",
      "After adding pos_embedding shape: torch.Size([512, 49, 32])\n",
      "Input shape: torch.Size([512, 3, 32, 32])\n",
      "After patch embedding shape: torch.Size([512, 1, 32])\n",
      "After adding pos_embedding shape: torch.Size([512, 49, 32])\n"
     ]
    },
    {
     "name": "stderr",
     "output_type": "stream",
     "text": [
      "loss 1.62703:  60%|██████    | 59/98 [00:11<00:07,  5.26it/s]"
     ]
    },
    {
     "name": "stdout",
     "output_type": "stream",
     "text": [
      "Input shape: torch.Size([512, 3, 32, 32])\n",
      "After patch embedding shape: torch.Size([512, 1, 32])\n",
      "After adding pos_embedding shape: torch.Size([512, 49, 32])\n",
      "Input shape: torch.Size([512, 3, 32, 32])\n",
      "After patch embedding shape: torch.Size([512, 1, 32])\n",
      "After adding pos_embedding shape: torch.Size([512, 49, 32])\n"
     ]
    },
    {
     "name": "stderr",
     "output_type": "stream",
     "text": [
      "loss 1.66466:  62%|██████▏   | 61/98 [00:11<00:06,  5.30it/s]"
     ]
    },
    {
     "name": "stdout",
     "output_type": "stream",
     "text": [
      "Input shape: torch.Size([512, 3, 32, 32])\n",
      "After patch embedding shape: torch.Size([512, 1, 32])\n",
      "After adding pos_embedding shape: torch.Size([512, 49, 32])\n",
      "Input shape: torch.Size([512, 3, 32, 32])\n",
      "After patch embedding shape: torch.Size([512, 1, 32])\n",
      "After adding pos_embedding shape: torch.Size([512, 49, 32])\n"
     ]
    },
    {
     "name": "stderr",
     "output_type": "stream",
     "text": [
      "loss 1.62573:  64%|██████▍   | 63/98 [00:12<00:06,  5.09it/s]"
     ]
    },
    {
     "name": "stdout",
     "output_type": "stream",
     "text": [
      "Input shape: torch.Size([512, 3, 32, 32])\n",
      "After patch embedding shape: torch.Size([512, 1, 32])\n",
      "After adding pos_embedding shape: torch.Size([512, 49, 32])\n",
      "Input shape: torch.Size([512, 3, 32, 32])\n",
      "After patch embedding shape: torch.Size([512, 1, 32])\n",
      "After adding pos_embedding shape: torch.Size([512, 49, 32])\n"
     ]
    },
    {
     "name": "stderr",
     "output_type": "stream",
     "text": [
      "loss 1.67310:  66%|██████▋   | 65/98 [00:12<00:06,  5.15it/s]"
     ]
    },
    {
     "name": "stdout",
     "output_type": "stream",
     "text": [
      "Input shape: torch.Size([512, 3, 32, 32])\n",
      "After patch embedding shape: torch.Size([512, 1, 32])\n",
      "After adding pos_embedding shape: torch.Size([512, 49, 32])\n",
      "Input shape: torch.Size([512, 3, 32, 32])\n",
      "After patch embedding shape: torch.Size([512, 1, 32])\n",
      "After adding pos_embedding shape: torch.Size([512, 49, 32])\n"
     ]
    },
    {
     "name": "stderr",
     "output_type": "stream",
     "text": [
      "loss 1.69111:  68%|██████▊   | 67/98 [00:13<00:06,  5.15it/s]"
     ]
    },
    {
     "name": "stdout",
     "output_type": "stream",
     "text": [
      "Input shape: torch.Size([512, 3, 32, 32])\n",
      "After patch embedding shape: torch.Size([512, 1, 32])\n",
      "After adding pos_embedding shape: torch.Size([512, 49, 32])\n",
      "Input shape: torch.Size([512, 3, 32, 32])\n",
      "After patch embedding shape: torch.Size([512, 1, 32])\n",
      "After adding pos_embedding shape: torch.Size([512, 49, 32])\n"
     ]
    },
    {
     "name": "stderr",
     "output_type": "stream",
     "text": [
      "loss 1.59277:  70%|███████   | 69/98 [00:13<00:05,  5.17it/s]"
     ]
    },
    {
     "name": "stdout",
     "output_type": "stream",
     "text": [
      "Input shape: torch.Size([512, 3, 32, 32])\n",
      "After patch embedding shape: torch.Size([512, 1, 32])\n",
      "After adding pos_embedding shape: torch.Size([512, 49, 32])\n",
      "Input shape: torch.Size([512, 3, 32, 32])\n",
      "After patch embedding shape: torch.Size([512, 1, 32])\n",
      "After adding pos_embedding shape: torch.Size([512, 49, 32])\n"
     ]
    },
    {
     "name": "stderr",
     "output_type": "stream",
     "text": [
      "loss 1.59754:  72%|███████▏  | 71/98 [00:13<00:05,  5.21it/s]"
     ]
    },
    {
     "name": "stdout",
     "output_type": "stream",
     "text": [
      "Input shape: torch.Size([512, 3, 32, 32])\n",
      "After patch embedding shape: torch.Size([512, 1, 32])\n",
      "After adding pos_embedding shape: torch.Size([512, 49, 32])\n",
      "Input shape: torch.Size([512, 3, 32, 32])\n",
      "After patch embedding shape: torch.Size([512, 1, 32])\n",
      "After adding pos_embedding shape: torch.Size([512, 49, 32])\n"
     ]
    },
    {
     "name": "stderr",
     "output_type": "stream",
     "text": [
      "loss 1.66057:  74%|███████▍  | 73/98 [00:14<00:04,  5.13it/s]"
     ]
    },
    {
     "name": "stdout",
     "output_type": "stream",
     "text": [
      "Input shape: torch.Size([512, 3, 32, 32])\n",
      "After patch embedding shape: torch.Size([512, 1, 32])\n",
      "After adding pos_embedding shape: torch.Size([512, 49, 32])\n",
      "Input shape: torch.Size([512, 3, 32, 32])\n",
      "After patch embedding shape: torch.Size([512, 1, 32])\n",
      "After adding pos_embedding shape: torch.Size([512, 49, 32])\n"
     ]
    },
    {
     "name": "stderr",
     "output_type": "stream",
     "text": [
      "loss 1.60966:  77%|███████▋  | 75/98 [00:14<00:04,  5.22it/s]"
     ]
    },
    {
     "name": "stdout",
     "output_type": "stream",
     "text": [
      "Input shape: torch.Size([512, 3, 32, 32])\n",
      "After patch embedding shape: torch.Size([512, 1, 32])\n",
      "After adding pos_embedding shape: torch.Size([512, 49, 32])\n",
      "Input shape: torch.Size([512, 3, 32, 32])\n",
      "After patch embedding shape: torch.Size([512, 1, 32])\n",
      "After adding pos_embedding shape: torch.Size([512, 49, 32])\n"
     ]
    },
    {
     "name": "stderr",
     "output_type": "stream",
     "text": [
      "loss 1.65290:  79%|███████▊  | 77/98 [00:14<00:03,  5.27it/s]"
     ]
    },
    {
     "name": "stdout",
     "output_type": "stream",
     "text": [
      "Input shape: torch.Size([512, 3, 32, 32])\n",
      "After patch embedding shape: torch.Size([512, 1, 32])\n",
      "After adding pos_embedding shape: torch.Size([512, 49, 32])\n",
      "Input shape: torch.Size([512, 3, 32, 32])\n",
      "After patch embedding shape: torch.Size([512, 1, 32])\n",
      "After adding pos_embedding shape: torch.Size([512, 49, 32])\n"
     ]
    },
    {
     "name": "stderr",
     "output_type": "stream",
     "text": [
      "loss 1.65991:  81%|████████  | 79/98 [00:15<00:03,  5.30it/s]"
     ]
    },
    {
     "name": "stdout",
     "output_type": "stream",
     "text": [
      "Input shape: torch.Size([512, 3, 32, 32])\n",
      "After patch embedding shape: torch.Size([512, 1, 32])\n",
      "After adding pos_embedding shape: torch.Size([512, 49, 32])\n",
      "Input shape: torch.Size([512, 3, 32, 32])\n",
      "After patch embedding shape: torch.Size([512, 1, 32])\n",
      "After adding pos_embedding shape: torch.Size([512, 49, 32])\n"
     ]
    },
    {
     "name": "stderr",
     "output_type": "stream",
     "text": [
      "loss 1.61356:  83%|████████▎ | 81/98 [00:15<00:03,  5.30it/s]"
     ]
    },
    {
     "name": "stdout",
     "output_type": "stream",
     "text": [
      "Input shape: torch.Size([512, 3, 32, 32])\n",
      "After patch embedding shape: torch.Size([512, 1, 32])\n",
      "After adding pos_embedding shape: torch.Size([512, 49, 32])\n",
      "Input shape: torch.Size([512, 3, 32, 32])\n",
      "After patch embedding shape: torch.Size([512, 1, 32])\n",
      "After adding pos_embedding shape: torch.Size([512, 49, 32])\n"
     ]
    },
    {
     "name": "stderr",
     "output_type": "stream",
     "text": [
      "loss 1.66364:  85%|████████▍ | 83/98 [00:16<00:02,  5.27it/s]"
     ]
    },
    {
     "name": "stdout",
     "output_type": "stream",
     "text": [
      "Input shape: torch.Size([512, 3, 32, 32])\n",
      "After patch embedding shape: torch.Size([512, 1, 32])\n",
      "After adding pos_embedding shape: torch.Size([512, 49, 32])\n",
      "Input shape: torch.Size([512, 3, 32, 32])\n",
      "After patch embedding shape: torch.Size([512, 1, 32])\n",
      "After adding pos_embedding shape: torch.Size([512, 49, 32])\n"
     ]
    },
    {
     "name": "stderr",
     "output_type": "stream",
     "text": [
      "loss 1.55962:  87%|████████▋ | 85/98 [00:16<00:02,  5.27it/s]"
     ]
    },
    {
     "name": "stdout",
     "output_type": "stream",
     "text": [
      "Input shape: torch.Size([512, 3, 32, 32])\n",
      "After patch embedding shape: torch.Size([512, 1, 32])\n",
      "After adding pos_embedding shape: torch.Size([512, 49, 32])\n",
      "Input shape: torch.Size([512, 3, 32, 32])\n",
      "After patch embedding shape: torch.Size([512, 1, 32])\n",
      "After adding pos_embedding shape: torch.Size([512, 49, 32])\n"
     ]
    },
    {
     "name": "stderr",
     "output_type": "stream",
     "text": [
      "loss 1.59025:  89%|████████▉ | 87/98 [00:16<00:02,  5.31it/s]"
     ]
    },
    {
     "name": "stdout",
     "output_type": "stream",
     "text": [
      "Input shape: torch.Size([512, 3, 32, 32])\n",
      "After patch embedding shape: torch.Size([512, 1, 32])\n",
      "After adding pos_embedding shape: torch.Size([512, 49, 32])\n",
      "Input shape: torch.Size([512, 3, 32, 32])\n",
      "After patch embedding shape: torch.Size([512, 1, 32])\n",
      "After adding pos_embedding shape: torch.Size([512, 49, 32])\n"
     ]
    },
    {
     "name": "stderr",
     "output_type": "stream",
     "text": [
      "loss 1.58321:  91%|█████████ | 89/98 [00:17<00:01,  5.30it/s]"
     ]
    },
    {
     "name": "stdout",
     "output_type": "stream",
     "text": [
      "Input shape: torch.Size([512, 3, 32, 32])\n",
      "After patch embedding shape: torch.Size([512, 1, 32])\n",
      "After adding pos_embedding shape: torch.Size([512, 49, 32])\n",
      "Input shape: torch.Size([512, 3, 32, 32])\n",
      "After patch embedding shape: torch.Size([512, 1, 32])\n",
      "After adding pos_embedding shape: torch.Size([512, 49, 32])\n"
     ]
    },
    {
     "name": "stderr",
     "output_type": "stream",
     "text": [
      "loss 1.63981:  93%|█████████▎| 91/98 [00:17<00:01,  5.30it/s]"
     ]
    },
    {
     "name": "stdout",
     "output_type": "stream",
     "text": [
      "Input shape: torch.Size([512, 3, 32, 32])\n",
      "After patch embedding shape: torch.Size([512, 1, 32])\n",
      "After adding pos_embedding shape: torch.Size([512, 49, 32])\n",
      "Input shape: torch.Size([512, 3, 32, 32])\n",
      "After patch embedding shape: torch.Size([512, 1, 32])\n",
      "After adding pos_embedding shape: torch.Size([512, 49, 32])\n"
     ]
    },
    {
     "name": "stderr",
     "output_type": "stream",
     "text": [
      "loss 1.61384:  95%|█████████▍| 93/98 [00:18<00:00,  5.27it/s]"
     ]
    },
    {
     "name": "stdout",
     "output_type": "stream",
     "text": [
      "Input shape: torch.Size([512, 3, 32, 32])\n",
      "After patch embedding shape: torch.Size([512, 1, 32])\n",
      "After adding pos_embedding shape: torch.Size([512, 49, 32])\n",
      "Input shape: torch.Size([512, 3, 32, 32])\n",
      "After patch embedding shape: torch.Size([512, 1, 32])\n",
      "After adding pos_embedding shape: torch.Size([512, 49, 32])\n"
     ]
    },
    {
     "name": "stderr",
     "output_type": "stream",
     "text": [
      "loss 1.65621:  97%|█████████▋| 95/98 [00:18<00:00,  5.29it/s]"
     ]
    },
    {
     "name": "stdout",
     "output_type": "stream",
     "text": [
      "Input shape: torch.Size([512, 3, 32, 32])\n",
      "After patch embedding shape: torch.Size([512, 1, 32])\n",
      "After adding pos_embedding shape: torch.Size([512, 49, 32])\n",
      "Input shape: torch.Size([512, 3, 32, 32])\n",
      "After patch embedding shape: torch.Size([512, 1, 32])\n",
      "After adding pos_embedding shape: torch.Size([512, 49, 32])\n"
     ]
    },
    {
     "name": "stderr",
     "output_type": "stream",
     "text": [
      "loss 1.65581:  99%|█████████▉| 97/98 [00:18<00:00,  5.29it/s]"
     ]
    },
    {
     "name": "stdout",
     "output_type": "stream",
     "text": [
      "Input shape: torch.Size([512, 3, 32, 32])\n",
      "After patch embedding shape: torch.Size([512, 1, 32])\n",
      "After adding pos_embedding shape: torch.Size([512, 49, 32])\n",
      "Input shape: torch.Size([336, 3, 32, 32])\n",
      "After patch embedding shape: torch.Size([336, 1, 32])\n",
      "After adding pos_embedding shape: torch.Size([336, 49, 32])\n"
     ]
    },
    {
     "name": "stderr",
     "output_type": "stream",
     "text": [
      "loss 1.53319: 100%|██████████| 98/98 [00:18<00:00,  5.19it/s]\n"
     ]
    },
    {
     "name": "stdout",
     "output_type": "stream",
     "text": [
      "Época 7/10\n"
     ]
    },
    {
     "name": "stderr",
     "output_type": "stream",
     "text": [
      "loss 1.60956:   1%|          | 1/98 [00:00<00:18,  5.27it/s]"
     ]
    },
    {
     "name": "stdout",
     "output_type": "stream",
     "text": [
      "Input shape: torch.Size([512, 3, 32, 32])\n",
      "After patch embedding shape: torch.Size([512, 1, 32])\n",
      "After adding pos_embedding shape: torch.Size([512, 49, 32])\n"
     ]
    },
    {
     "name": "stderr",
     "output_type": "stream",
     "text": [
      "loss 1.59496:   2%|▏         | 2/98 [00:00<00:19,  4.96it/s]"
     ]
    },
    {
     "name": "stdout",
     "output_type": "stream",
     "text": [
      "Input shape: torch.Size([512, 3, 32, 32])\n",
      "After patch embedding shape: torch.Size([512, 1, 32])\n",
      "After adding pos_embedding shape: torch.Size([512, 49, 32])\n",
      "Input shape: torch.Size([512, 3, 32, 32])\n",
      "After patch embedding shape: torch.Size([512, 1, 32])\n",
      "After adding pos_embedding shape: torch.Size([512, 49, 32])\n"
     ]
    },
    {
     "name": "stderr",
     "output_type": "stream",
     "text": [
      "loss 1.53973:   4%|▍         | 4/98 [00:00<00:18,  5.16it/s]"
     ]
    },
    {
     "name": "stdout",
     "output_type": "stream",
     "text": [
      "Input shape: torch.Size([512, 3, 32, 32])\n",
      "After patch embedding shape: torch.Size([512, 1, 32])\n",
      "After adding pos_embedding shape: torch.Size([512, 49, 32])\n",
      "Input shape: torch.Size([512, 3, 32, 32])\n",
      "After patch embedding shape: torch.Size([512, 1, 32])\n",
      "After adding pos_embedding shape: torch.Size([512, 49, 32])\n"
     ]
    },
    {
     "name": "stderr",
     "output_type": "stream",
     "text": [
      "loss 1.64348:   6%|▌         | 6/98 [00:01<00:17,  5.25it/s]"
     ]
    },
    {
     "name": "stdout",
     "output_type": "stream",
     "text": [
      "Input shape: torch.Size([512, 3, 32, 32])\n",
      "After patch embedding shape: torch.Size([512, 1, 32])\n",
      "After adding pos_embedding shape: torch.Size([512, 49, 32])\n",
      "Input shape: torch.Size([512, 3, 32, 32])\n",
      "After patch embedding shape: torch.Size([512, 1, 32])\n",
      "After adding pos_embedding shape: torch.Size([512, 49, 32])\n"
     ]
    },
    {
     "name": "stderr",
     "output_type": "stream",
     "text": [
      "loss 1.70013:   8%|▊         | 8/98 [00:01<00:16,  5.29it/s]"
     ]
    },
    {
     "name": "stdout",
     "output_type": "stream",
     "text": [
      "Input shape: torch.Size([512, 3, 32, 32])\n",
      "After patch embedding shape: torch.Size([512, 1, 32])\n",
      "After adding pos_embedding shape: torch.Size([512, 49, 32])\n",
      "Input shape: torch.Size([512, 3, 32, 32])\n",
      "After patch embedding shape: torch.Size([512, 1, 32])\n",
      "After adding pos_embedding shape: torch.Size([512, 49, 32])\n"
     ]
    },
    {
     "name": "stderr",
     "output_type": "stream",
     "text": [
      "loss 1.64334:  10%|█         | 10/98 [00:01<00:16,  5.32it/s]"
     ]
    },
    {
     "name": "stdout",
     "output_type": "stream",
     "text": [
      "Input shape: torch.Size([512, 3, 32, 32])\n",
      "After patch embedding shape: torch.Size([512, 1, 32])\n",
      "After adding pos_embedding shape: torch.Size([512, 49, 32])\n",
      "Input shape: torch.Size([512, 3, 32, 32])\n",
      "After patch embedding shape: torch.Size([512, 1, 32])\n",
      "After adding pos_embedding shape: torch.Size([512, 49, 32])\n"
     ]
    },
    {
     "name": "stderr",
     "output_type": "stream",
     "text": [
      "loss 1.62992:  12%|█▏        | 12/98 [00:02<00:16,  5.27it/s]"
     ]
    },
    {
     "name": "stdout",
     "output_type": "stream",
     "text": [
      "Input shape: torch.Size([512, 3, 32, 32])\n",
      "After patch embedding shape: torch.Size([512, 1, 32])\n",
      "After adding pos_embedding shape: torch.Size([512, 49, 32])\n",
      "Input shape: torch.Size([512, 3, 32, 32])\n",
      "After patch embedding shape: torch.Size([512, 1, 32])\n",
      "After adding pos_embedding shape: torch.Size([512, 49, 32])\n"
     ]
    },
    {
     "name": "stderr",
     "output_type": "stream",
     "text": [
      "loss 1.65988:  14%|█▍        | 14/98 [00:02<00:15,  5.29it/s]"
     ]
    },
    {
     "name": "stdout",
     "output_type": "stream",
     "text": [
      "Input shape: torch.Size([512, 3, 32, 32])\n",
      "After patch embedding shape: torch.Size([512, 1, 32])\n",
      "After adding pos_embedding shape: torch.Size([512, 49, 32])\n",
      "Input shape: torch.Size([512, 3, 32, 32])\n",
      "After patch embedding shape: torch.Size([512, 1, 32])\n",
      "After adding pos_embedding shape: torch.Size([512, 49, 32])\n"
     ]
    },
    {
     "name": "stderr",
     "output_type": "stream",
     "text": [
      "loss 1.66170:  16%|█▋        | 16/98 [00:03<00:15,  5.31it/s]"
     ]
    },
    {
     "name": "stdout",
     "output_type": "stream",
     "text": [
      "Input shape: torch.Size([512, 3, 32, 32])\n",
      "After patch embedding shape: torch.Size([512, 1, 32])\n",
      "After adding pos_embedding shape: torch.Size([512, 49, 32])\n",
      "Input shape: torch.Size([512, 3, 32, 32])\n",
      "After patch embedding shape: torch.Size([512, 1, 32])\n",
      "After adding pos_embedding shape: torch.Size([512, 49, 32])\n"
     ]
    },
    {
     "name": "stderr",
     "output_type": "stream",
     "text": [
      "loss 1.63873:  18%|█▊        | 18/98 [00:03<00:15,  5.30it/s]"
     ]
    },
    {
     "name": "stdout",
     "output_type": "stream",
     "text": [
      "Input shape: torch.Size([512, 3, 32, 32])\n",
      "After patch embedding shape: torch.Size([512, 1, 32])\n",
      "After adding pos_embedding shape: torch.Size([512, 49, 32])\n",
      "Input shape: torch.Size([512, 3, 32, 32])\n",
      "After patch embedding shape: torch.Size([512, 1, 32])\n",
      "After adding pos_embedding shape: torch.Size([512, 49, 32])\n"
     ]
    },
    {
     "name": "stderr",
     "output_type": "stream",
     "text": [
      "loss 1.58005:  20%|██        | 20/98 [00:03<00:14,  5.31it/s]"
     ]
    },
    {
     "name": "stdout",
     "output_type": "stream",
     "text": [
      "Input shape: torch.Size([512, 3, 32, 32])\n",
      "After patch embedding shape: torch.Size([512, 1, 32])\n",
      "After adding pos_embedding shape: torch.Size([512, 49, 32])\n",
      "Input shape: torch.Size([512, 3, 32, 32])\n",
      "After patch embedding shape: torch.Size([512, 1, 32])\n",
      "After adding pos_embedding shape: torch.Size([512, 49, 32])\n"
     ]
    },
    {
     "name": "stderr",
     "output_type": "stream",
     "text": [
      "loss 1.57894:  22%|██▏       | 22/98 [00:04<00:14,  5.29it/s]"
     ]
    },
    {
     "name": "stdout",
     "output_type": "stream",
     "text": [
      "Input shape: torch.Size([512, 3, 32, 32])\n",
      "After patch embedding shape: torch.Size([512, 1, 32])\n",
      "After adding pos_embedding shape: torch.Size([512, 49, 32])\n",
      "Input shape: torch.Size([512, 3, 32, 32])\n",
      "After patch embedding shape: torch.Size([512, 1, 32])\n",
      "After adding pos_embedding shape: torch.Size([512, 49, 32])\n"
     ]
    },
    {
     "name": "stderr",
     "output_type": "stream",
     "text": [
      "loss 1.61382:  24%|██▍       | 24/98 [00:04<00:14,  5.13it/s]"
     ]
    },
    {
     "name": "stdout",
     "output_type": "stream",
     "text": [
      "Input shape: torch.Size([512, 3, 32, 32])\n",
      "After patch embedding shape: torch.Size([512, 1, 32])\n",
      "After adding pos_embedding shape: torch.Size([512, 49, 32])\n"
     ]
    },
    {
     "name": "stderr",
     "output_type": "stream",
     "text": [
      "loss 1.65726:  26%|██▌       | 25/98 [00:04<00:14,  5.04it/s]"
     ]
    },
    {
     "name": "stdout",
     "output_type": "stream",
     "text": [
      "Input shape: torch.Size([512, 3, 32, 32])\n",
      "After patch embedding shape: torch.Size([512, 1, 32])\n",
      "After adding pos_embedding shape: torch.Size([512, 49, 32])\n",
      "Input shape: torch.Size([512, 3, 32, 32])\n",
      "After patch embedding shape: torch.Size([512, 1, 32])\n",
      "After adding pos_embedding shape: torch.Size([512, 49, 32])\n"
     ]
    },
    {
     "name": "stderr",
     "output_type": "stream",
     "text": [
      "loss 1.58705:  28%|██▊       | 27/98 [00:05<00:13,  5.18it/s]"
     ]
    },
    {
     "name": "stdout",
     "output_type": "stream",
     "text": [
      "Input shape: torch.Size([512, 3, 32, 32])\n",
      "After patch embedding shape: torch.Size([512, 1, 32])\n",
      "After adding pos_embedding shape: torch.Size([512, 49, 32])\n"
     ]
    },
    {
     "name": "stderr",
     "output_type": "stream",
     "text": [
      "loss 1.63855:  29%|██▊       | 28/98 [00:05<00:13,  5.02it/s]"
     ]
    },
    {
     "name": "stdout",
     "output_type": "stream",
     "text": [
      "Input shape: torch.Size([512, 3, 32, 32])\n",
      "After patch embedding shape: torch.Size([512, 1, 32])\n",
      "After adding pos_embedding shape: torch.Size([512, 49, 32])\n",
      "Input shape: torch.Size([512, 3, 32, 32])\n",
      "After patch embedding shape: torch.Size([512, 1, 32])\n",
      "After adding pos_embedding shape: torch.Size([512, 49, 32])\n"
     ]
    },
    {
     "name": "stderr",
     "output_type": "stream",
     "text": [
      "loss 1.67394:  31%|███       | 30/98 [00:05<00:13,  4.98it/s]"
     ]
    },
    {
     "name": "stdout",
     "output_type": "stream",
     "text": [
      "Input shape: torch.Size([512, 3, 32, 32])\n",
      "After patch embedding shape: torch.Size([512, 1, 32])\n",
      "After adding pos_embedding shape: torch.Size([512, 49, 32])\n",
      "Input shape: torch.Size([512, 3, 32, 32])\n",
      "After patch embedding shape: torch.Size([512, 1, 32])\n",
      "After adding pos_embedding shape: torch.Size([512, 49, 32])\n"
     ]
    },
    {
     "name": "stderr",
     "output_type": "stream",
     "text": [
      "loss 1.57430:  33%|███▎      | 32/98 [00:06<00:12,  5.16it/s]"
     ]
    },
    {
     "name": "stdout",
     "output_type": "stream",
     "text": [
      "Input shape: torch.Size([512, 3, 32, 32])\n",
      "After patch embedding shape: torch.Size([512, 1, 32])\n",
      "After adding pos_embedding shape: torch.Size([512, 49, 32])\n",
      "Input shape: torch.Size([512, 3, 32, 32])\n",
      "After patch embedding shape: torch.Size([512, 1, 32])\n",
      "After adding pos_embedding shape: torch.Size([512, 49, 32])\n"
     ]
    },
    {
     "name": "stderr",
     "output_type": "stream",
     "text": [
      "loss 1.61011:  35%|███▍      | 34/98 [00:06<00:12,  5.25it/s]"
     ]
    },
    {
     "name": "stdout",
     "output_type": "stream",
     "text": [
      "Input shape: torch.Size([512, 3, 32, 32])\n",
      "After patch embedding shape: torch.Size([512, 1, 32])\n",
      "After adding pos_embedding shape: torch.Size([512, 49, 32])\n",
      "Input shape: torch.Size([512, 3, 32, 32])\n",
      "After patch embedding shape: torch.Size([512, 1, 32])\n",
      "After adding pos_embedding shape: torch.Size([512, 49, 32])\n"
     ]
    },
    {
     "name": "stderr",
     "output_type": "stream",
     "text": [
      "loss 1.60703:  37%|███▋      | 36/98 [00:06<00:11,  5.25it/s]"
     ]
    },
    {
     "name": "stdout",
     "output_type": "stream",
     "text": [
      "Input shape: torch.Size([512, 3, 32, 32])\n",
      "After patch embedding shape: torch.Size([512, 1, 32])\n",
      "After adding pos_embedding shape: torch.Size([512, 49, 32])\n",
      "Input shape: torch.Size([512, 3, 32, 32])\n",
      "After patch embedding shape: torch.Size([512, 1, 32])\n",
      "After adding pos_embedding shape: torch.Size([512, 49, 32])\n"
     ]
    },
    {
     "name": "stderr",
     "output_type": "stream",
     "text": [
      "loss 1.67482:  39%|███▉      | 38/98 [00:07<00:11,  5.28it/s]"
     ]
    },
    {
     "name": "stdout",
     "output_type": "stream",
     "text": [
      "Input shape: torch.Size([512, 3, 32, 32])\n",
      "After patch embedding shape: torch.Size([512, 1, 32])\n",
      "After adding pos_embedding shape: torch.Size([512, 49, 32])\n",
      "Input shape: torch.Size([512, 3, 32, 32])\n",
      "After patch embedding shape: torch.Size([512, 1, 32])\n",
      "After adding pos_embedding shape: torch.Size([512, 49, 32])\n"
     ]
    },
    {
     "name": "stderr",
     "output_type": "stream",
     "text": [
      "loss 1.63183:  41%|████      | 40/98 [00:07<00:10,  5.29it/s]"
     ]
    },
    {
     "name": "stdout",
     "output_type": "stream",
     "text": [
      "Input shape: torch.Size([512, 3, 32, 32])\n",
      "After patch embedding shape: torch.Size([512, 1, 32])\n",
      "After adding pos_embedding shape: torch.Size([512, 49, 32])\n",
      "Input shape: torch.Size([512, 3, 32, 32])\n",
      "After patch embedding shape: torch.Size([512, 1, 32])\n",
      "After adding pos_embedding shape: torch.Size([512, 49, 32])\n"
     ]
    },
    {
     "name": "stderr",
     "output_type": "stream",
     "text": [
      "loss 1.61134:  43%|████▎     | 42/98 [00:08<00:10,  5.33it/s]"
     ]
    },
    {
     "name": "stdout",
     "output_type": "stream",
     "text": [
      "Input shape: torch.Size([512, 3, 32, 32])\n",
      "After patch embedding shape: torch.Size([512, 1, 32])\n",
      "After adding pos_embedding shape: torch.Size([512, 49, 32])\n",
      "Input shape: torch.Size([512, 3, 32, 32])\n",
      "After patch embedding shape: torch.Size([512, 1, 32])\n",
      "After adding pos_embedding shape: torch.Size([512, 49, 32])\n"
     ]
    },
    {
     "name": "stderr",
     "output_type": "stream",
     "text": [
      "loss 1.69709:  45%|████▍     | 44/98 [00:08<00:10,  5.34it/s]"
     ]
    },
    {
     "name": "stdout",
     "output_type": "stream",
     "text": [
      "Input shape: torch.Size([512, 3, 32, 32])\n",
      "After patch embedding shape: torch.Size([512, 1, 32])\n",
      "After adding pos_embedding shape: torch.Size([512, 49, 32])\n",
      "Input shape: torch.Size([512, 3, 32, 32])\n",
      "After patch embedding shape: torch.Size([512, 1, 32])\n",
      "After adding pos_embedding shape: torch.Size([512, 49, 32])\n"
     ]
    },
    {
     "name": "stderr",
     "output_type": "stream",
     "text": [
      "loss 1.58351:  47%|████▋     | 46/98 [00:08<00:09,  5.31it/s]"
     ]
    },
    {
     "name": "stdout",
     "output_type": "stream",
     "text": [
      "Input shape: torch.Size([512, 3, 32, 32])\n",
      "After patch embedding shape: torch.Size([512, 1, 32])\n",
      "After adding pos_embedding shape: torch.Size([512, 49, 32])\n",
      "Input shape: torch.Size([512, 3, 32, 32])\n",
      "After patch embedding shape: torch.Size([512, 1, 32])\n",
      "After adding pos_embedding shape: torch.Size([512, 49, 32])\n"
     ]
    },
    {
     "name": "stderr",
     "output_type": "stream",
     "text": [
      "loss 1.62177:  49%|████▉     | 48/98 [00:09<00:09,  5.31it/s]"
     ]
    },
    {
     "name": "stdout",
     "output_type": "stream",
     "text": [
      "Input shape: torch.Size([512, 3, 32, 32])\n",
      "After patch embedding shape: torch.Size([512, 1, 32])\n",
      "After adding pos_embedding shape: torch.Size([512, 49, 32])\n",
      "Input shape: torch.Size([512, 3, 32, 32])\n",
      "After patch embedding shape: torch.Size([512, 1, 32])\n",
      "After adding pos_embedding shape: torch.Size([512, 49, 32])\n"
     ]
    },
    {
     "name": "stderr",
     "output_type": "stream",
     "text": [
      "loss 1.57530:  51%|█████     | 50/98 [00:09<00:09,  5.30it/s]"
     ]
    },
    {
     "name": "stdout",
     "output_type": "stream",
     "text": [
      "Input shape: torch.Size([512, 3, 32, 32])\n",
      "After patch embedding shape: torch.Size([512, 1, 32])\n",
      "After adding pos_embedding shape: torch.Size([512, 49, 32])\n",
      "Input shape: torch.Size([512, 3, 32, 32])\n",
      "After patch embedding shape: torch.Size([512, 1, 32])\n",
      "After adding pos_embedding shape: torch.Size([512, 49, 32])\n"
     ]
    },
    {
     "name": "stderr",
     "output_type": "stream",
     "text": [
      "loss 1.66492:  53%|█████▎    | 52/98 [00:09<00:08,  5.32it/s]"
     ]
    },
    {
     "name": "stdout",
     "output_type": "stream",
     "text": [
      "Input shape: torch.Size([512, 3, 32, 32])\n",
      "After patch embedding shape: torch.Size([512, 1, 32])\n",
      "After adding pos_embedding shape: torch.Size([512, 49, 32])\n"
     ]
    },
    {
     "name": "stderr",
     "output_type": "stream",
     "text": [
      "loss 1.61108:  54%|█████▍    | 53/98 [00:10<00:08,  5.14it/s]"
     ]
    },
    {
     "name": "stdout",
     "output_type": "stream",
     "text": [
      "Input shape: torch.Size([512, 3, 32, 32])\n",
      "After patch embedding shape: torch.Size([512, 1, 32])\n",
      "After adding pos_embedding shape: torch.Size([512, 49, 32])\n"
     ]
    },
    {
     "name": "stderr",
     "output_type": "stream",
     "text": [
      "loss 1.66865:  55%|█████▌    | 54/98 [00:10<00:09,  4.82it/s]"
     ]
    },
    {
     "name": "stdout",
     "output_type": "stream",
     "text": [
      "Input shape: torch.Size([512, 3, 32, 32])\n",
      "After patch embedding shape: torch.Size([512, 1, 32])\n",
      "After adding pos_embedding shape: torch.Size([512, 49, 32])\n"
     ]
    },
    {
     "name": "stderr",
     "output_type": "stream",
     "text": [
      "loss 1.67608:  56%|█████▌    | 55/98 [00:10<00:09,  4.75it/s]"
     ]
    },
    {
     "name": "stdout",
     "output_type": "stream",
     "text": [
      "Input shape: torch.Size([512, 3, 32, 32])\n",
      "After patch embedding shape: torch.Size([512, 1, 32])\n",
      "After adding pos_embedding shape: torch.Size([512, 49, 32])\n"
     ]
    },
    {
     "name": "stderr",
     "output_type": "stream",
     "text": [
      "loss 1.64816:  57%|█████▋    | 56/98 [00:10<00:08,  4.75it/s]"
     ]
    },
    {
     "name": "stdout",
     "output_type": "stream",
     "text": [
      "Input shape: torch.Size([512, 3, 32, 32])\n",
      "After patch embedding shape: torch.Size([512, 1, 32])\n",
      "After adding pos_embedding shape: torch.Size([512, 49, 32])\n",
      "Input shape: torch.Size([512, 3, 32, 32])\n",
      "After patch embedding shape: torch.Size([512, 1, 32])\n",
      "After adding pos_embedding shape: torch.Size([512, 49, 32])\n"
     ]
    },
    {
     "name": "stderr",
     "output_type": "stream",
     "text": [
      "loss 1.65892:  59%|█████▉    | 58/98 [00:11<00:07,  5.04it/s]"
     ]
    },
    {
     "name": "stdout",
     "output_type": "stream",
     "text": [
      "Input shape: torch.Size([512, 3, 32, 32])\n",
      "After patch embedding shape: torch.Size([512, 1, 32])\n",
      "After adding pos_embedding shape: torch.Size([512, 49, 32])\n",
      "Input shape: torch.Size([512, 3, 32, 32])\n",
      "After patch embedding shape: torch.Size([512, 1, 32])\n",
      "After adding pos_embedding shape: torch.Size([512, 49, 32])\n"
     ]
    },
    {
     "name": "stderr",
     "output_type": "stream",
     "text": [
      "loss 1.56301:  61%|██████    | 60/98 [00:11<00:07,  5.17it/s]"
     ]
    },
    {
     "name": "stdout",
     "output_type": "stream",
     "text": [
      "Input shape: torch.Size([512, 3, 32, 32])\n",
      "After patch embedding shape: torch.Size([512, 1, 32])\n",
      "After adding pos_embedding shape: torch.Size([512, 49, 32])\n",
      "Input shape: torch.Size([512, 3, 32, 32])\n",
      "After patch embedding shape: torch.Size([512, 1, 32])\n",
      "After adding pos_embedding shape: torch.Size([512, 49, 32])\n"
     ]
    },
    {
     "name": "stderr",
     "output_type": "stream",
     "text": [
      "loss 1.66433:  63%|██████▎   | 62/98 [00:11<00:07,  4.99it/s]"
     ]
    },
    {
     "name": "stdout",
     "output_type": "stream",
     "text": [
      "Input shape: torch.Size([512, 3, 32, 32])\n",
      "After patch embedding shape: torch.Size([512, 1, 32])\n",
      "After adding pos_embedding shape: torch.Size([512, 49, 32])\n"
     ]
    },
    {
     "name": "stderr",
     "output_type": "stream",
     "text": [
      "loss 1.60488:  64%|██████▍   | 63/98 [00:12<00:06,  5.09it/s]"
     ]
    },
    {
     "name": "stdout",
     "output_type": "stream",
     "text": [
      "Input shape: torch.Size([512, 3, 32, 32])\n",
      "After patch embedding shape: torch.Size([512, 1, 32])\n",
      "After adding pos_embedding shape: torch.Size([512, 49, 32])\n",
      "Input shape: torch.Size([512, 3, 32, 32])\n",
      "After patch embedding shape: torch.Size([512, 1, 32])\n",
      "After adding pos_embedding shape: torch.Size([512, 49, 32])\n"
     ]
    },
    {
     "name": "stderr",
     "output_type": "stream",
     "text": [
      "loss 1.60986:  66%|██████▋   | 65/98 [00:12<00:06,  5.18it/s]"
     ]
    },
    {
     "name": "stdout",
     "output_type": "stream",
     "text": [
      "Input shape: torch.Size([512, 3, 32, 32])\n",
      "After patch embedding shape: torch.Size([512, 1, 32])\n",
      "After adding pos_embedding shape: torch.Size([512, 49, 32])\n",
      "Input shape: torch.Size([512, 3, 32, 32])\n",
      "After patch embedding shape: torch.Size([512, 1, 32])\n",
      "After adding pos_embedding shape: torch.Size([512, 49, 32])\n"
     ]
    },
    {
     "name": "stderr",
     "output_type": "stream",
     "text": [
      "loss 1.63442:  68%|██████▊   | 67/98 [00:12<00:05,  5.25it/s]"
     ]
    },
    {
     "name": "stdout",
     "output_type": "stream",
     "text": [
      "Input shape: torch.Size([512, 3, 32, 32])\n",
      "After patch embedding shape: torch.Size([512, 1, 32])\n",
      "After adding pos_embedding shape: torch.Size([512, 49, 32])\n",
      "Input shape: torch.Size([512, 3, 32, 32])\n",
      "After patch embedding shape: torch.Size([512, 1, 32])\n",
      "After adding pos_embedding shape: torch.Size([512, 49, 32])\n"
     ]
    },
    {
     "name": "stderr",
     "output_type": "stream",
     "text": [
      "loss 1.59712:  70%|███████   | 69/98 [00:13<00:05,  5.28it/s]"
     ]
    },
    {
     "name": "stdout",
     "output_type": "stream",
     "text": [
      "Input shape: torch.Size([512, 3, 32, 32])\n",
      "After patch embedding shape: torch.Size([512, 1, 32])\n",
      "After adding pos_embedding shape: torch.Size([512, 49, 32])\n",
      "Input shape: torch.Size([512, 3, 32, 32])\n",
      "After patch embedding shape: torch.Size([512, 1, 32])\n",
      "After adding pos_embedding shape: torch.Size([512, 49, 32])\n"
     ]
    },
    {
     "name": "stderr",
     "output_type": "stream",
     "text": [
      "loss 1.65063:  72%|███████▏  | 71/98 [00:13<00:05,  5.14it/s]"
     ]
    },
    {
     "name": "stdout",
     "output_type": "stream",
     "text": [
      "Input shape: torch.Size([512, 3, 32, 32])\n",
      "After patch embedding shape: torch.Size([512, 1, 32])\n",
      "After adding pos_embedding shape: torch.Size([512, 49, 32])\n",
      "Input shape: torch.Size([512, 3, 32, 32])\n",
      "After patch embedding shape: torch.Size([512, 1, 32])\n",
      "After adding pos_embedding shape: torch.Size([512, 49, 32])\n"
     ]
    },
    {
     "name": "stderr",
     "output_type": "stream",
     "text": [
      "loss 1.62617:  74%|███████▍  | 73/98 [00:14<00:04,  5.24it/s]"
     ]
    },
    {
     "name": "stdout",
     "output_type": "stream",
     "text": [
      "Input shape: torch.Size([512, 3, 32, 32])\n",
      "After patch embedding shape: torch.Size([512, 1, 32])\n",
      "After adding pos_embedding shape: torch.Size([512, 49, 32])\n",
      "Input shape: torch.Size([512, 3, 32, 32])\n",
      "After patch embedding shape: torch.Size([512, 1, 32])\n",
      "After adding pos_embedding shape: torch.Size([512, 49, 32])\n"
     ]
    },
    {
     "name": "stderr",
     "output_type": "stream",
     "text": [
      "loss 1.58733:  77%|███████▋  | 75/98 [00:14<00:04,  5.28it/s]"
     ]
    },
    {
     "name": "stdout",
     "output_type": "stream",
     "text": [
      "Input shape: torch.Size([512, 3, 32, 32])\n",
      "After patch embedding shape: torch.Size([512, 1, 32])\n",
      "After adding pos_embedding shape: torch.Size([512, 49, 32])\n",
      "Input shape: torch.Size([512, 3, 32, 32])\n",
      "After patch embedding shape: torch.Size([512, 1, 32])\n",
      "After adding pos_embedding shape: torch.Size([512, 49, 32])\n"
     ]
    },
    {
     "name": "stderr",
     "output_type": "stream",
     "text": [
      "loss 1.59010:  79%|███████▊  | 77/98 [00:14<00:03,  5.31it/s]"
     ]
    },
    {
     "name": "stdout",
     "output_type": "stream",
     "text": [
      "Input shape: torch.Size([512, 3, 32, 32])\n",
      "After patch embedding shape: torch.Size([512, 1, 32])\n",
      "After adding pos_embedding shape: torch.Size([512, 49, 32])\n",
      "Input shape: torch.Size([512, 3, 32, 32])\n",
      "After patch embedding shape: torch.Size([512, 1, 32])\n",
      "After adding pos_embedding shape: torch.Size([512, 49, 32])\n"
     ]
    },
    {
     "name": "stderr",
     "output_type": "stream",
     "text": [
      "loss 1.62445:  81%|████████  | 79/98 [00:15<00:03,  5.33it/s]"
     ]
    },
    {
     "name": "stdout",
     "output_type": "stream",
     "text": [
      "Input shape: torch.Size([512, 3, 32, 32])\n",
      "After patch embedding shape: torch.Size([512, 1, 32])\n",
      "After adding pos_embedding shape: torch.Size([512, 49, 32])\n",
      "Input shape: torch.Size([512, 3, 32, 32])\n",
      "After patch embedding shape: torch.Size([512, 1, 32])\n",
      "After adding pos_embedding shape: torch.Size([512, 49, 32])\n"
     ]
    },
    {
     "name": "stderr",
     "output_type": "stream",
     "text": [
      "loss 1.61351:  83%|████████▎ | 81/98 [00:15<00:03,  5.17it/s]"
     ]
    },
    {
     "name": "stdout",
     "output_type": "stream",
     "text": [
      "Input shape: torch.Size([512, 3, 32, 32])\n",
      "After patch embedding shape: torch.Size([512, 1, 32])\n",
      "After adding pos_embedding shape: torch.Size([512, 49, 32])\n",
      "Input shape: torch.Size([512, 3, 32, 32])\n",
      "After patch embedding shape: torch.Size([512, 1, 32])\n",
      "After adding pos_embedding shape: torch.Size([512, 49, 32])\n"
     ]
    },
    {
     "name": "stderr",
     "output_type": "stream",
     "text": [
      "loss 1.57908:  85%|████████▍ | 83/98 [00:15<00:02,  5.24it/s]"
     ]
    },
    {
     "name": "stdout",
     "output_type": "stream",
     "text": [
      "Input shape: torch.Size([512, 3, 32, 32])\n",
      "After patch embedding shape: torch.Size([512, 1, 32])\n",
      "After adding pos_embedding shape: torch.Size([512, 49, 32])\n",
      "Input shape: torch.Size([512, 3, 32, 32])\n",
      "After patch embedding shape: torch.Size([512, 1, 32])\n",
      "After adding pos_embedding shape: torch.Size([512, 49, 32])\n"
     ]
    },
    {
     "name": "stderr",
     "output_type": "stream",
     "text": [
      "loss 1.59763:  87%|████████▋ | 85/98 [00:16<00:02,  5.30it/s]"
     ]
    },
    {
     "name": "stdout",
     "output_type": "stream",
     "text": [
      "Input shape: torch.Size([512, 3, 32, 32])\n",
      "After patch embedding shape: torch.Size([512, 1, 32])\n",
      "After adding pos_embedding shape: torch.Size([512, 49, 32])\n",
      "Input shape: torch.Size([512, 3, 32, 32])\n",
      "After patch embedding shape: torch.Size([512, 1, 32])\n",
      "After adding pos_embedding shape: torch.Size([512, 49, 32])\n"
     ]
    },
    {
     "name": "stderr",
     "output_type": "stream",
     "text": [
      "loss 1.59957:  89%|████████▉ | 87/98 [00:16<00:02,  5.32it/s]"
     ]
    },
    {
     "name": "stdout",
     "output_type": "stream",
     "text": [
      "Input shape: torch.Size([512, 3, 32, 32])\n",
      "After patch embedding shape: torch.Size([512, 1, 32])\n",
      "After adding pos_embedding shape: torch.Size([512, 49, 32])\n",
      "Input shape: torch.Size([512, 3, 32, 32])\n",
      "After patch embedding shape: torch.Size([512, 1, 32])\n",
      "After adding pos_embedding shape: torch.Size([512, 49, 32])\n"
     ]
    },
    {
     "name": "stderr",
     "output_type": "stream",
     "text": [
      "loss 1.65351:  91%|█████████ | 89/98 [00:17<00:01,  5.33it/s]"
     ]
    },
    {
     "name": "stdout",
     "output_type": "stream",
     "text": [
      "Input shape: torch.Size([512, 3, 32, 32])\n",
      "After patch embedding shape: torch.Size([512, 1, 32])\n",
      "After adding pos_embedding shape: torch.Size([512, 49, 32])\n",
      "Input shape: torch.Size([512, 3, 32, 32])\n",
      "After patch embedding shape: torch.Size([512, 1, 32])\n",
      "After adding pos_embedding shape: torch.Size([512, 49, 32])\n"
     ]
    },
    {
     "name": "stderr",
     "output_type": "stream",
     "text": [
      "loss 1.69095:  93%|█████████▎| 91/98 [00:17<00:01,  5.27it/s]"
     ]
    },
    {
     "name": "stdout",
     "output_type": "stream",
     "text": [
      "Input shape: torch.Size([512, 3, 32, 32])\n",
      "After patch embedding shape: torch.Size([512, 1, 32])\n",
      "After adding pos_embedding shape: torch.Size([512, 49, 32])\n",
      "Input shape: torch.Size([512, 3, 32, 32])\n",
      "After patch embedding shape: torch.Size([512, 1, 32])\n",
      "After adding pos_embedding shape: torch.Size([512, 49, 32])\n"
     ]
    },
    {
     "name": "stderr",
     "output_type": "stream",
     "text": [
      "loss 1.62547:  95%|█████████▍| 93/98 [00:17<00:00,  5.29it/s]"
     ]
    },
    {
     "name": "stdout",
     "output_type": "stream",
     "text": [
      "Input shape: torch.Size([512, 3, 32, 32])\n",
      "After patch embedding shape: torch.Size([512, 1, 32])\n",
      "After adding pos_embedding shape: torch.Size([512, 49, 32])\n",
      "Input shape: torch.Size([512, 3, 32, 32])\n",
      "After patch embedding shape: torch.Size([512, 1, 32])\n",
      "After adding pos_embedding shape: torch.Size([512, 49, 32])\n"
     ]
    },
    {
     "name": "stderr",
     "output_type": "stream",
     "text": [
      "loss 1.65253:  97%|█████████▋| 95/98 [00:18<00:00,  5.32it/s]"
     ]
    },
    {
     "name": "stdout",
     "output_type": "stream",
     "text": [
      "Input shape: torch.Size([512, 3, 32, 32])\n",
      "After patch embedding shape: torch.Size([512, 1, 32])\n",
      "After adding pos_embedding shape: torch.Size([512, 49, 32])\n",
      "Input shape: torch.Size([512, 3, 32, 32])\n",
      "After patch embedding shape: torch.Size([512, 1, 32])\n",
      "After adding pos_embedding shape: torch.Size([512, 49, 32])\n"
     ]
    },
    {
     "name": "stderr",
     "output_type": "stream",
     "text": [
      "loss 1.63926:  99%|█████████▉| 97/98 [00:18<00:00,  5.32it/s]"
     ]
    },
    {
     "name": "stdout",
     "output_type": "stream",
     "text": [
      "Input shape: torch.Size([512, 3, 32, 32])\n",
      "After patch embedding shape: torch.Size([512, 1, 32])\n",
      "After adding pos_embedding shape: torch.Size([512, 49, 32])\n",
      "Input shape: torch.Size([336, 3, 32, 32])\n",
      "After patch embedding shape: torch.Size([336, 1, 32])\n",
      "After adding pos_embedding shape: torch.Size([336, 49, 32])\n"
     ]
    },
    {
     "name": "stderr",
     "output_type": "stream",
     "text": [
      "loss 1.66007: 100%|██████████| 98/98 [00:18<00:00,  5.24it/s]\n"
     ]
    },
    {
     "name": "stdout",
     "output_type": "stream",
     "text": [
      "Época 8/10\n"
     ]
    },
    {
     "name": "stderr",
     "output_type": "stream",
     "text": [
      "loss 1.67337:   1%|          | 1/98 [00:00<00:18,  5.17it/s]"
     ]
    },
    {
     "name": "stdout",
     "output_type": "stream",
     "text": [
      "Input shape: torch.Size([512, 3, 32, 32])\n",
      "After patch embedding shape: torch.Size([512, 1, 32])\n",
      "After adding pos_embedding shape: torch.Size([512, 49, 32])\n",
      "Input shape: torch.Size([512, 3, 32, 32])\n",
      "After patch embedding shape: torch.Size([512, 1, 32])\n",
      "After adding pos_embedding shape: torch.Size([512, 49, 32])\n"
     ]
    },
    {
     "name": "stderr",
     "output_type": "stream",
     "text": [
      "loss 1.63186:   2%|▏         | 2/98 [00:00<00:18,  5.25it/s]"
     ]
    },
    {
     "name": "stdout",
     "output_type": "stream",
     "text": [
      "Input shape: torch.Size([512, 3, 32, 32])\n",
      "After patch embedding shape: torch.Size([512, 1, 32])\n",
      "After adding pos_embedding shape: torch.Size([512, 49, 32])\n"
     ]
    },
    {
     "name": "stderr",
     "output_type": "stream",
     "text": [
      "loss 1.69991:   3%|▎         | 3/98 [00:00<00:17,  5.29it/s]"
     ]
    },
    {
     "name": "stdout",
     "output_type": "stream",
     "text": [
      "Input shape: torch.Size([512, 3, 32, 32])\n",
      "After patch embedding shape: torch.Size([512, 1, 32])\n",
      "After adding pos_embedding shape: torch.Size([512, 49, 32])\n"
     ]
    },
    {
     "name": "stderr",
     "output_type": "stream",
     "text": [
      "loss 1.58707:   4%|▍         | 4/98 [00:00<00:17,  5.30it/s]"
     ]
    },
    {
     "name": "stdout",
     "output_type": "stream",
     "text": [
      "Input shape: torch.Size([512, 3, 32, 32])\n",
      "After patch embedding shape: torch.Size([512, 1, 32])\n",
      "After adding pos_embedding shape: torch.Size([512, 49, 32])\n"
     ]
    },
    {
     "name": "stderr",
     "output_type": "stream",
     "text": [
      "loss 1.57927:   5%|▌         | 5/98 [00:00<00:17,  5.30it/s]"
     ]
    },
    {
     "name": "stdout",
     "output_type": "stream",
     "text": [
      "Input shape: torch.Size([512, 3, 32, 32])\n",
      "After patch embedding shape: torch.Size([512, 1, 32])\n",
      "After adding pos_embedding shape: torch.Size([512, 49, 32])\n"
     ]
    },
    {
     "name": "stderr",
     "output_type": "stream",
     "text": [
      "loss 1.63730:   6%|▌         | 6/98 [00:01<00:17,  5.31it/s]"
     ]
    },
    {
     "name": "stdout",
     "output_type": "stream",
     "text": [
      "Input shape: torch.Size([512, 3, 32, 32])\n",
      "After patch embedding shape: torch.Size([512, 1, 32])\n",
      "After adding pos_embedding shape: torch.Size([512, 49, 32])\n"
     ]
    },
    {
     "name": "stderr",
     "output_type": "stream",
     "text": [
      "loss 1.55212:   7%|▋         | 7/98 [00:01<00:17,  5.27it/s]"
     ]
    },
    {
     "name": "stdout",
     "output_type": "stream",
     "text": [
      "Input shape: torch.Size([512, 3, 32, 32])\n",
      "After patch embedding shape: torch.Size([512, 1, 32])\n",
      "After adding pos_embedding shape: torch.Size([512, 49, 32])\n"
     ]
    },
    {
     "name": "stderr",
     "output_type": "stream",
     "text": [
      "loss 1.62774:   8%|▊         | 8/98 [00:01<00:16,  5.29it/s]"
     ]
    },
    {
     "name": "stdout",
     "output_type": "stream",
     "text": [
      "Input shape: torch.Size([512, 3, 32, 32])\n",
      "After patch embedding shape: torch.Size([512, 1, 32])\n",
      "After adding pos_embedding shape: torch.Size([512, 49, 32])\n"
     ]
    },
    {
     "name": "stderr",
     "output_type": "stream",
     "text": [
      "loss 1.62263:   9%|▉         | 9/98 [00:01<00:16,  5.28it/s]"
     ]
    },
    {
     "name": "stdout",
     "output_type": "stream",
     "text": [
      "Input shape: torch.Size([512, 3, 32, 32])\n",
      "After patch embedding shape: torch.Size([512, 1, 32])\n",
      "After adding pos_embedding shape: torch.Size([512, 49, 32])\n"
     ]
    },
    {
     "name": "stderr",
     "output_type": "stream",
     "text": [
      "loss 1.68930:  10%|█         | 10/98 [00:01<00:16,  5.29it/s]"
     ]
    },
    {
     "name": "stdout",
     "output_type": "stream",
     "text": [
      "Input shape: torch.Size([512, 3, 32, 32])\n",
      "After patch embedding shape: torch.Size([512, 1, 32])\n",
      "After adding pos_embedding shape: torch.Size([512, 49, 32])\n"
     ]
    },
    {
     "name": "stderr",
     "output_type": "stream",
     "text": [
      "loss 1.65426:  11%|█         | 11/98 [00:02<00:16,  5.30it/s]"
     ]
    },
    {
     "name": "stdout",
     "output_type": "stream",
     "text": [
      "Input shape: torch.Size([512, 3, 32, 32])\n",
      "After patch embedding shape: torch.Size([512, 1, 32])\n",
      "After adding pos_embedding shape: torch.Size([512, 49, 32])\n"
     ]
    },
    {
     "name": "stderr",
     "output_type": "stream",
     "text": [
      "loss 1.58295:  12%|█▏        | 12/98 [00:02<00:16,  5.31it/s]"
     ]
    },
    {
     "name": "stdout",
     "output_type": "stream",
     "text": [
      "Input shape: torch.Size([512, 3, 32, 32])\n",
      "After patch embedding shape: torch.Size([512, 1, 32])\n",
      "After adding pos_embedding shape: torch.Size([512, 49, 32])\n"
     ]
    },
    {
     "name": "stderr",
     "output_type": "stream",
     "text": [
      "loss 1.63339:  13%|█▎        | 13/98 [00:02<00:16,  5.27it/s]"
     ]
    },
    {
     "name": "stdout",
     "output_type": "stream",
     "text": [
      "Input shape: torch.Size([512, 3, 32, 32])\n",
      "After patch embedding shape: torch.Size([512, 1, 32])\n",
      "After adding pos_embedding shape: torch.Size([512, 49, 32])\n"
     ]
    },
    {
     "name": "stderr",
     "output_type": "stream",
     "text": [
      "loss 1.61256:  14%|█▍        | 14/98 [00:02<00:15,  5.28it/s]"
     ]
    },
    {
     "name": "stdout",
     "output_type": "stream",
     "text": [
      "Input shape: torch.Size([512, 3, 32, 32])\n",
      "After patch embedding shape: torch.Size([512, 1, 32])\n",
      "After adding pos_embedding shape: torch.Size([512, 49, 32])\n"
     ]
    },
    {
     "name": "stderr",
     "output_type": "stream",
     "text": [
      "loss 1.61989:  15%|█▌        | 15/98 [00:02<00:15,  5.29it/s]"
     ]
    },
    {
     "name": "stdout",
     "output_type": "stream",
     "text": [
      "Input shape: torch.Size([512, 3, 32, 32])\n",
      "After patch embedding shape: torch.Size([512, 1, 32])\n",
      "After adding pos_embedding shape: torch.Size([512, 49, 32])\n"
     ]
    },
    {
     "name": "stderr",
     "output_type": "stream",
     "text": [
      "loss 1.57639:  16%|█▋        | 16/98 [00:03<00:15,  5.30it/s]"
     ]
    },
    {
     "name": "stdout",
     "output_type": "stream",
     "text": [
      "Input shape: torch.Size([512, 3, 32, 32])\n",
      "After patch embedding shape: torch.Size([512, 1, 32])\n",
      "After adding pos_embedding shape: torch.Size([512, 49, 32])\n"
     ]
    },
    {
     "name": "stderr",
     "output_type": "stream",
     "text": [
      "loss 1.66118:  17%|█▋        | 17/98 [00:03<00:15,  5.31it/s]"
     ]
    },
    {
     "name": "stdout",
     "output_type": "stream",
     "text": [
      "Input shape: torch.Size([512, 3, 32, 32])\n",
      "After patch embedding shape: torch.Size([512, 1, 32])\n",
      "After adding pos_embedding shape: torch.Size([512, 49, 32])\n"
     ]
    },
    {
     "name": "stderr",
     "output_type": "stream",
     "text": [
      "loss 1.69657:  19%|█▉        | 19/98 [00:03<00:15,  5.13it/s]"
     ]
    },
    {
     "name": "stdout",
     "output_type": "stream",
     "text": [
      "Input shape: torch.Size([512, 3, 32, 32])\n",
      "After patch embedding shape: torch.Size([512, 1, 32])\n",
      "After adding pos_embedding shape: torch.Size([512, 49, 32])\n",
      "Input shape: torch.Size([512, 3, 32, 32])\n",
      "After patch embedding shape: torch.Size([512, 1, 32])\n",
      "After adding pos_embedding shape: torch.Size([512, 49, 32])\n"
     ]
    },
    {
     "name": "stderr",
     "output_type": "stream",
     "text": [
      "loss 1.64329:  21%|██▏       | 21/98 [00:03<00:14,  5.24it/s]"
     ]
    },
    {
     "name": "stdout",
     "output_type": "stream",
     "text": [
      "Input shape: torch.Size([512, 3, 32, 32])\n",
      "After patch embedding shape: torch.Size([512, 1, 32])\n",
      "After adding pos_embedding shape: torch.Size([512, 49, 32])\n",
      "Input shape: torch.Size([512, 3, 32, 32])\n",
      "After patch embedding shape: torch.Size([512, 1, 32])\n",
      "After adding pos_embedding shape: torch.Size([512, 49, 32])\n"
     ]
    },
    {
     "name": "stderr",
     "output_type": "stream",
     "text": [
      "loss 1.60091:  23%|██▎       | 23/98 [00:04<00:14,  5.27it/s]"
     ]
    },
    {
     "name": "stdout",
     "output_type": "stream",
     "text": [
      "Input shape: torch.Size([512, 3, 32, 32])\n",
      "After patch embedding shape: torch.Size([512, 1, 32])\n",
      "After adding pos_embedding shape: torch.Size([512, 49, 32])\n",
      "Input shape: torch.Size([512, 3, 32, 32])\n",
      "After patch embedding shape: torch.Size([512, 1, 32])\n",
      "After adding pos_embedding shape: torch.Size([512, 49, 32])\n"
     ]
    },
    {
     "name": "stderr",
     "output_type": "stream",
     "text": [
      "loss 1.58830:  26%|██▌       | 25/98 [00:04<00:13,  5.29it/s]"
     ]
    },
    {
     "name": "stdout",
     "output_type": "stream",
     "text": [
      "Input shape: torch.Size([512, 3, 32, 32])\n",
      "After patch embedding shape: torch.Size([512, 1, 32])\n",
      "After adding pos_embedding shape: torch.Size([512, 49, 32])\n",
      "Input shape: torch.Size([512, 3, 32, 32])\n",
      "After patch embedding shape: torch.Size([512, 1, 32])\n",
      "After adding pos_embedding shape: torch.Size([512, 49, 32])\n"
     ]
    },
    {
     "name": "stderr",
     "output_type": "stream",
     "text": [
      "loss 1.62553:  28%|██▊       | 27/98 [00:05<00:13,  5.20it/s]"
     ]
    },
    {
     "name": "stdout",
     "output_type": "stream",
     "text": [
      "Input shape: torch.Size([512, 3, 32, 32])\n",
      "After patch embedding shape: torch.Size([512, 1, 32])\n",
      "After adding pos_embedding shape: torch.Size([512, 49, 32])\n",
      "Input shape: torch.Size([512, 3, 32, 32])\n",
      "After patch embedding shape: torch.Size([512, 1, 32])\n",
      "After adding pos_embedding shape: torch.Size([512, 49, 32])\n"
     ]
    },
    {
     "name": "stderr",
     "output_type": "stream",
     "text": [
      "loss 1.61541:  30%|██▉       | 29/98 [00:05<00:13,  5.20it/s]"
     ]
    },
    {
     "name": "stdout",
     "output_type": "stream",
     "text": [
      "Input shape: torch.Size([512, 3, 32, 32])\n",
      "After patch embedding shape: torch.Size([512, 1, 32])\n",
      "After adding pos_embedding shape: torch.Size([512, 49, 32])\n",
      "Input shape: torch.Size([512, 3, 32, 32])\n",
      "After patch embedding shape: torch.Size([512, 1, 32])\n",
      "After adding pos_embedding shape: torch.Size([512, 49, 32])\n"
     ]
    },
    {
     "name": "stderr",
     "output_type": "stream",
     "text": [
      "loss 1.64187:  32%|███▏      | 31/98 [00:05<00:12,  5.19it/s]"
     ]
    },
    {
     "name": "stdout",
     "output_type": "stream",
     "text": [
      "Input shape: torch.Size([512, 3, 32, 32])\n",
      "After patch embedding shape: torch.Size([512, 1, 32])\n",
      "After adding pos_embedding shape: torch.Size([512, 49, 32])\n",
      "Input shape: torch.Size([512, 3, 32, 32])\n",
      "After patch embedding shape: torch.Size([512, 1, 32])\n",
      "After adding pos_embedding shape: torch.Size([512, 49, 32])\n"
     ]
    },
    {
     "name": "stderr",
     "output_type": "stream",
     "text": [
      "loss 1.60130:  34%|███▎      | 33/98 [00:06<00:12,  5.21it/s]"
     ]
    },
    {
     "name": "stdout",
     "output_type": "stream",
     "text": [
      "Input shape: torch.Size([512, 3, 32, 32])\n",
      "After patch embedding shape: torch.Size([512, 1, 32])\n",
      "After adding pos_embedding shape: torch.Size([512, 49, 32])\n",
      "Input shape: torch.Size([512, 3, 32, 32])\n",
      "After patch embedding shape: torch.Size([512, 1, 32])\n",
      "After adding pos_embedding shape: torch.Size([512, 49, 32])\n"
     ]
    },
    {
     "name": "stderr",
     "output_type": "stream",
     "text": [
      "loss 1.65360:  36%|███▌      | 35/98 [00:06<00:12,  5.23it/s]"
     ]
    },
    {
     "name": "stdout",
     "output_type": "stream",
     "text": [
      "Input shape: torch.Size([512, 3, 32, 32])\n",
      "After patch embedding shape: torch.Size([512, 1, 32])\n",
      "After adding pos_embedding shape: torch.Size([512, 49, 32])\n",
      "Input shape: torch.Size([512, 3, 32, 32])\n",
      "After patch embedding shape: torch.Size([512, 1, 32])\n",
      "After adding pos_embedding shape: torch.Size([512, 49, 32])\n"
     ]
    },
    {
     "name": "stderr",
     "output_type": "stream",
     "text": [
      "loss 1.64662:  38%|███▊      | 37/98 [00:07<00:12,  5.07it/s]"
     ]
    },
    {
     "name": "stdout",
     "output_type": "stream",
     "text": [
      "Input shape: torch.Size([512, 3, 32, 32])\n",
      "After patch embedding shape: torch.Size([512, 1, 32])\n",
      "After adding pos_embedding shape: torch.Size([512, 49, 32])\n",
      "Input shape: torch.Size([512, 3, 32, 32])\n",
      "After patch embedding shape: torch.Size([512, 1, 32])\n",
      "After adding pos_embedding shape: torch.Size([512, 49, 32])\n"
     ]
    },
    {
     "name": "stderr",
     "output_type": "stream",
     "text": [
      "loss 1.60650:  40%|███▉      | 39/98 [00:07<00:11,  5.17it/s]"
     ]
    },
    {
     "name": "stdout",
     "output_type": "stream",
     "text": [
      "Input shape: torch.Size([512, 3, 32, 32])\n",
      "After patch embedding shape: torch.Size([512, 1, 32])\n",
      "After adding pos_embedding shape: torch.Size([512, 49, 32])\n",
      "Input shape: torch.Size([512, 3, 32, 32])\n",
      "After patch embedding shape: torch.Size([512, 1, 32])\n",
      "After adding pos_embedding shape: torch.Size([512, 49, 32])\n"
     ]
    },
    {
     "name": "stderr",
     "output_type": "stream",
     "text": [
      "loss 1.68195:  42%|████▏     | 41/98 [00:07<00:10,  5.22it/s]"
     ]
    },
    {
     "name": "stdout",
     "output_type": "stream",
     "text": [
      "Input shape: torch.Size([512, 3, 32, 32])\n",
      "After patch embedding shape: torch.Size([512, 1, 32])\n",
      "After adding pos_embedding shape: torch.Size([512, 49, 32])\n",
      "Input shape: torch.Size([512, 3, 32, 32])\n",
      "After patch embedding shape: torch.Size([512, 1, 32])\n",
      "After adding pos_embedding shape: torch.Size([512, 49, 32])\n"
     ]
    },
    {
     "name": "stderr",
     "output_type": "stream",
     "text": [
      "loss 1.63084:  44%|████▍     | 43/98 [00:08<00:10,  5.25it/s]"
     ]
    },
    {
     "name": "stdout",
     "output_type": "stream",
     "text": [
      "Input shape: torch.Size([512, 3, 32, 32])\n",
      "After patch embedding shape: torch.Size([512, 1, 32])\n",
      "After adding pos_embedding shape: torch.Size([512, 49, 32])\n",
      "Input shape: torch.Size([512, 3, 32, 32])\n",
      "After patch embedding shape: torch.Size([512, 1, 32])\n",
      "After adding pos_embedding shape: torch.Size([512, 49, 32])\n"
     ]
    },
    {
     "name": "stderr",
     "output_type": "stream",
     "text": [
      "loss 1.59280:  46%|████▌     | 45/98 [00:08<00:10,  5.29it/s]"
     ]
    },
    {
     "name": "stdout",
     "output_type": "stream",
     "text": [
      "Input shape: torch.Size([512, 3, 32, 32])\n",
      "After patch embedding shape: torch.Size([512, 1, 32])\n",
      "After adding pos_embedding shape: torch.Size([512, 49, 32])\n"
     ]
    },
    {
     "name": "stderr",
     "output_type": "stream",
     "text": [
      "loss 1.66779:  47%|████▋     | 46/98 [00:08<00:10,  5.14it/s]"
     ]
    },
    {
     "name": "stdout",
     "output_type": "stream",
     "text": [
      "Input shape: torch.Size([512, 3, 32, 32])\n",
      "After patch embedding shape: torch.Size([512, 1, 32])\n",
      "After adding pos_embedding shape: torch.Size([512, 49, 32])\n",
      "Input shape: torch.Size([512, 3, 32, 32])\n",
      "After patch embedding shape: torch.Size([512, 1, 32])\n",
      "After adding pos_embedding shape: torch.Size([512, 49, 32])\n"
     ]
    },
    {
     "name": "stderr",
     "output_type": "stream",
     "text": [
      "loss 1.67205:  49%|████▉     | 48/98 [00:09<00:09,  5.24it/s]"
     ]
    },
    {
     "name": "stdout",
     "output_type": "stream",
     "text": [
      "Input shape: torch.Size([512, 3, 32, 32])\n",
      "After patch embedding shape: torch.Size([512, 1, 32])\n",
      "After adding pos_embedding shape: torch.Size([512, 49, 32])\n",
      "Input shape: torch.Size([512, 3, 32, 32])\n",
      "After patch embedding shape: torch.Size([512, 1, 32])\n",
      "After adding pos_embedding shape: torch.Size([512, 49, 32])\n"
     ]
    },
    {
     "name": "stderr",
     "output_type": "stream",
     "text": [
      "loss 1.64719:  51%|█████     | 50/98 [00:09<00:09,  5.29it/s]"
     ]
    },
    {
     "name": "stdout",
     "output_type": "stream",
     "text": [
      "Input shape: torch.Size([512, 3, 32, 32])\n",
      "After patch embedding shape: torch.Size([512, 1, 32])\n",
      "After adding pos_embedding shape: torch.Size([512, 49, 32])\n",
      "Input shape: torch.Size([512, 3, 32, 32])\n",
      "After patch embedding shape: torch.Size([512, 1, 32])\n",
      "After adding pos_embedding shape: torch.Size([512, 49, 32])\n"
     ]
    },
    {
     "name": "stderr",
     "output_type": "stream",
     "text": [
      "loss 1.65609:  53%|█████▎    | 52/98 [00:09<00:08,  5.23it/s]"
     ]
    },
    {
     "name": "stdout",
     "output_type": "stream",
     "text": [
      "Input shape: torch.Size([512, 3, 32, 32])\n",
      "After patch embedding shape: torch.Size([512, 1, 32])\n",
      "After adding pos_embedding shape: torch.Size([512, 49, 32])\n",
      "Input shape: torch.Size([512, 3, 32, 32])\n",
      "After patch embedding shape: torch.Size([512, 1, 32])\n",
      "After adding pos_embedding shape: torch.Size([512, 49, 32])\n"
     ]
    },
    {
     "name": "stderr",
     "output_type": "stream",
     "text": [
      "loss 1.59958:  55%|█████▌    | 54/98 [00:10<00:08,  5.06it/s]"
     ]
    },
    {
     "name": "stdout",
     "output_type": "stream",
     "text": [
      "Input shape: torch.Size([512, 3, 32, 32])\n",
      "After patch embedding shape: torch.Size([512, 1, 32])\n",
      "After adding pos_embedding shape: torch.Size([512, 49, 32])\n",
      "Input shape: torch.Size([512, 3, 32, 32])\n",
      "After patch embedding shape: torch.Size([512, 1, 32])\n",
      "After adding pos_embedding shape: torch.Size([512, 49, 32])\n"
     ]
    },
    {
     "name": "stderr",
     "output_type": "stream",
     "text": [
      "loss 1.64559:  57%|█████▋    | 56/98 [00:10<00:08,  5.16it/s]"
     ]
    },
    {
     "name": "stdout",
     "output_type": "stream",
     "text": [
      "Input shape: torch.Size([512, 3, 32, 32])\n",
      "After patch embedding shape: torch.Size([512, 1, 32])\n",
      "After adding pos_embedding shape: torch.Size([512, 49, 32])\n",
      "Input shape: torch.Size([512, 3, 32, 32])\n",
      "After patch embedding shape: torch.Size([512, 1, 32])\n",
      "After adding pos_embedding shape: torch.Size([512, 49, 32])\n"
     ]
    },
    {
     "name": "stderr",
     "output_type": "stream",
     "text": [
      "loss 1.60790:  59%|█████▉    | 58/98 [00:11<00:07,  5.21it/s]"
     ]
    },
    {
     "name": "stdout",
     "output_type": "stream",
     "text": [
      "Input shape: torch.Size([512, 3, 32, 32])\n",
      "After patch embedding shape: torch.Size([512, 1, 32])\n",
      "After adding pos_embedding shape: torch.Size([512, 49, 32])\n",
      "Input shape: torch.Size([512, 3, 32, 32])\n",
      "After patch embedding shape: torch.Size([512, 1, 32])\n",
      "After adding pos_embedding shape: torch.Size([512, 49, 32])\n"
     ]
    },
    {
     "name": "stderr",
     "output_type": "stream",
     "text": [
      "loss 1.59886:  61%|██████    | 60/98 [00:11<00:07,  5.26it/s]"
     ]
    },
    {
     "name": "stdout",
     "output_type": "stream",
     "text": [
      "Input shape: torch.Size([512, 3, 32, 32])\n",
      "After patch embedding shape: torch.Size([512, 1, 32])\n",
      "After adding pos_embedding shape: torch.Size([512, 49, 32])\n",
      "Input shape: torch.Size([512, 3, 32, 32])\n",
      "After patch embedding shape: torch.Size([512, 1, 32])\n",
      "After adding pos_embedding shape: torch.Size([512, 49, 32])\n"
     ]
    },
    {
     "name": "stderr",
     "output_type": "stream",
     "text": [
      "loss 1.65937:  63%|██████▎   | 62/98 [00:11<00:06,  5.24it/s]"
     ]
    },
    {
     "name": "stdout",
     "output_type": "stream",
     "text": [
      "Input shape: torch.Size([512, 3, 32, 32])\n",
      "After patch embedding shape: torch.Size([512, 1, 32])\n",
      "After adding pos_embedding shape: torch.Size([512, 49, 32])\n",
      "Input shape: torch.Size([512, 3, 32, 32])\n",
      "After patch embedding shape: torch.Size([512, 1, 32])\n",
      "After adding pos_embedding shape: torch.Size([512, 49, 32])\n"
     ]
    },
    {
     "name": "stderr",
     "output_type": "stream",
     "text": [
      "loss 1.67678:  65%|██████▌   | 64/98 [00:12<00:06,  5.24it/s]"
     ]
    },
    {
     "name": "stdout",
     "output_type": "stream",
     "text": [
      "Input shape: torch.Size([512, 3, 32, 32])\n",
      "After patch embedding shape: torch.Size([512, 1, 32])\n",
      "After adding pos_embedding shape: torch.Size([512, 49, 32])\n",
      "Input shape: torch.Size([512, 3, 32, 32])\n",
      "After patch embedding shape: torch.Size([512, 1, 32])\n",
      "After adding pos_embedding shape: torch.Size([512, 49, 32])\n"
     ]
    },
    {
     "name": "stderr",
     "output_type": "stream",
     "text": [
      "loss 1.62497:  67%|██████▋   | 66/98 [00:12<00:06,  5.29it/s]"
     ]
    },
    {
     "name": "stdout",
     "output_type": "stream",
     "text": [
      "Input shape: torch.Size([512, 3, 32, 32])\n",
      "After patch embedding shape: torch.Size([512, 1, 32])\n",
      "After adding pos_embedding shape: torch.Size([512, 49, 32])\n",
      "Input shape: torch.Size([512, 3, 32, 32])\n",
      "After patch embedding shape: torch.Size([512, 1, 32])\n",
      "After adding pos_embedding shape: torch.Size([512, 49, 32])\n"
     ]
    },
    {
     "name": "stderr",
     "output_type": "stream",
     "text": [
      "loss 1.65917:  69%|██████▉   | 68/98 [00:12<00:05,  5.26it/s]"
     ]
    },
    {
     "name": "stdout",
     "output_type": "stream",
     "text": [
      "Input shape: torch.Size([512, 3, 32, 32])\n",
      "After patch embedding shape: torch.Size([512, 1, 32])\n",
      "After adding pos_embedding shape: torch.Size([512, 49, 32])\n",
      "Input shape: torch.Size([512, 3, 32, 32])\n",
      "After patch embedding shape: torch.Size([512, 1, 32])\n",
      "After adding pos_embedding shape: torch.Size([512, 49, 32])\n"
     ]
    },
    {
     "name": "stderr",
     "output_type": "stream",
     "text": [
      "loss 1.56833:  71%|███████▏  | 70/98 [00:13<00:05,  5.28it/s]"
     ]
    },
    {
     "name": "stdout",
     "output_type": "stream",
     "text": [
      "Input shape: torch.Size([512, 3, 32, 32])\n",
      "After patch embedding shape: torch.Size([512, 1, 32])\n",
      "After adding pos_embedding shape: torch.Size([512, 49, 32])\n",
      "Input shape: torch.Size([512, 3, 32, 32])\n",
      "After patch embedding shape: torch.Size([512, 1, 32])\n",
      "After adding pos_embedding shape: torch.Size([512, 49, 32])\n"
     ]
    },
    {
     "name": "stderr",
     "output_type": "stream",
     "text": [
      "loss 1.59333:  73%|███████▎  | 72/98 [00:13<00:05,  5.05it/s]"
     ]
    },
    {
     "name": "stdout",
     "output_type": "stream",
     "text": [
      "Input shape: torch.Size([512, 3, 32, 32])\n",
      "After patch embedding shape: torch.Size([512, 1, 32])\n",
      "After adding pos_embedding shape: torch.Size([512, 49, 32])\n",
      "Input shape: torch.Size([512, 3, 32, 32])\n",
      "After patch embedding shape: torch.Size([512, 1, 32])\n",
      "After adding pos_embedding shape: torch.Size([512, 49, 32])\n"
     ]
    },
    {
     "name": "stderr",
     "output_type": "stream",
     "text": [
      "loss 1.57265:  76%|███████▌  | 74/98 [00:14<00:04,  5.15it/s]"
     ]
    },
    {
     "name": "stdout",
     "output_type": "stream",
     "text": [
      "Input shape: torch.Size([512, 3, 32, 32])\n",
      "After patch embedding shape: torch.Size([512, 1, 32])\n",
      "After adding pos_embedding shape: torch.Size([512, 49, 32])\n",
      "Input shape: torch.Size([512, 3, 32, 32])\n",
      "After patch embedding shape: torch.Size([512, 1, 32])\n",
      "After adding pos_embedding shape: torch.Size([512, 49, 32])\n"
     ]
    },
    {
     "name": "stderr",
     "output_type": "stream",
     "text": [
      "loss 1.68071:  78%|███████▊  | 76/98 [00:14<00:04,  5.21it/s]"
     ]
    },
    {
     "name": "stdout",
     "output_type": "stream",
     "text": [
      "Input shape: torch.Size([512, 3, 32, 32])\n",
      "After patch embedding shape: torch.Size([512, 1, 32])\n",
      "After adding pos_embedding shape: torch.Size([512, 49, 32])\n",
      "Input shape: torch.Size([512, 3, 32, 32])\n",
      "After patch embedding shape: torch.Size([512, 1, 32])\n",
      "After adding pos_embedding shape: torch.Size([512, 49, 32])\n"
     ]
    },
    {
     "name": "stderr",
     "output_type": "stream",
     "text": [
      "loss 1.62172:  80%|███████▉  | 78/98 [00:14<00:03,  5.23it/s]"
     ]
    },
    {
     "name": "stdout",
     "output_type": "stream",
     "text": [
      "Input shape: torch.Size([512, 3, 32, 32])\n",
      "After patch embedding shape: torch.Size([512, 1, 32])\n",
      "After adding pos_embedding shape: torch.Size([512, 49, 32])\n",
      "Input shape: torch.Size([512, 3, 32, 32])\n",
      "After patch embedding shape: torch.Size([512, 1, 32])\n",
      "After adding pos_embedding shape: torch.Size([512, 49, 32])\n"
     ]
    },
    {
     "name": "stderr",
     "output_type": "stream",
     "text": [
      "loss 1.67473:  82%|████████▏ | 80/98 [00:15<00:03,  5.26it/s]"
     ]
    },
    {
     "name": "stdout",
     "output_type": "stream",
     "text": [
      "Input shape: torch.Size([512, 3, 32, 32])\n",
      "After patch embedding shape: torch.Size([512, 1, 32])\n",
      "After adding pos_embedding shape: torch.Size([512, 49, 32])\n"
     ]
    },
    {
     "name": "stderr",
     "output_type": "stream",
     "text": [
      "loss 1.63336:  83%|████████▎ | 81/98 [00:15<00:03,  5.04it/s]"
     ]
    },
    {
     "name": "stdout",
     "output_type": "stream",
     "text": [
      "Input shape: torch.Size([512, 3, 32, 32])\n",
      "After patch embedding shape: torch.Size([512, 1, 32])\n",
      "After adding pos_embedding shape: torch.Size([512, 49, 32])\n",
      "Input shape: torch.Size([512, 3, 32, 32])\n",
      "After patch embedding shape: torch.Size([512, 1, 32])\n",
      "After adding pos_embedding shape: torch.Size([512, 49, 32])\n"
     ]
    },
    {
     "name": "stderr",
     "output_type": "stream",
     "text": [
      "loss 1.66270:  85%|████████▍ | 83/98 [00:15<00:02,  5.15it/s]"
     ]
    },
    {
     "name": "stdout",
     "output_type": "stream",
     "text": [
      "Input shape: torch.Size([512, 3, 32, 32])\n",
      "After patch embedding shape: torch.Size([512, 1, 32])\n",
      "After adding pos_embedding shape: torch.Size([512, 49, 32])\n",
      "Input shape: torch.Size([512, 3, 32, 32])\n",
      "After patch embedding shape: torch.Size([512, 1, 32])\n",
      "After adding pos_embedding shape: torch.Size([512, 49, 32])\n"
     ]
    },
    {
     "name": "stderr",
     "output_type": "stream",
     "text": [
      "loss 1.55825:  87%|████████▋ | 85/98 [00:16<00:02,  5.23it/s]"
     ]
    },
    {
     "name": "stdout",
     "output_type": "stream",
     "text": [
      "Input shape: torch.Size([512, 3, 32, 32])\n",
      "After patch embedding shape: torch.Size([512, 1, 32])\n",
      "After adding pos_embedding shape: torch.Size([512, 49, 32])\n",
      "Input shape: torch.Size([512, 3, 32, 32])\n",
      "After patch embedding shape: torch.Size([512, 1, 32])\n",
      "After adding pos_embedding shape: torch.Size([512, 49, 32])\n"
     ]
    },
    {
     "name": "stderr",
     "output_type": "stream",
     "text": [
      "loss 1.63759:  89%|████████▉ | 87/98 [00:16<00:02,  5.10it/s]"
     ]
    },
    {
     "name": "stdout",
     "output_type": "stream",
     "text": [
      "Input shape: torch.Size([512, 3, 32, 32])\n",
      "After patch embedding shape: torch.Size([512, 1, 32])\n",
      "After adding pos_embedding shape: torch.Size([512, 49, 32])\n"
     ]
    },
    {
     "name": "stderr",
     "output_type": "stream",
     "text": [
      "loss 1.59336:  90%|████████▉ | 88/98 [00:16<00:02,  4.87it/s]"
     ]
    },
    {
     "name": "stdout",
     "output_type": "stream",
     "text": [
      "Input shape: torch.Size([512, 3, 32, 32])\n",
      "After patch embedding shape: torch.Size([512, 1, 32])\n",
      "After adding pos_embedding shape: torch.Size([512, 49, 32])\n"
     ]
    },
    {
     "name": "stderr",
     "output_type": "stream",
     "text": [
      "loss 1.68830:  91%|█████████ | 89/98 [00:17<00:01,  4.70it/s]"
     ]
    },
    {
     "name": "stdout",
     "output_type": "stream",
     "text": [
      "Input shape: torch.Size([512, 3, 32, 32])\n",
      "After patch embedding shape: torch.Size([512, 1, 32])\n",
      "After adding pos_embedding shape: torch.Size([512, 49, 32])\n"
     ]
    },
    {
     "name": "stderr",
     "output_type": "stream",
     "text": [
      "loss 1.58537:  92%|█████████▏| 90/98 [00:17<00:01,  4.75it/s]"
     ]
    },
    {
     "name": "stdout",
     "output_type": "stream",
     "text": [
      "Input shape: torch.Size([512, 3, 32, 32])\n",
      "After patch embedding shape: torch.Size([512, 1, 32])\n",
      "After adding pos_embedding shape: torch.Size([512, 49, 32])\n",
      "Input shape: torch.Size([512, 3, 32, 32])\n",
      "After patch embedding shape: torch.Size([512, 1, 32])\n",
      "After adding pos_embedding shape: torch.Size([512, 49, 32])\n"
     ]
    },
    {
     "name": "stderr",
     "output_type": "stream",
     "text": [
      "loss 1.63056:  94%|█████████▍| 92/98 [00:17<00:01,  5.03it/s]"
     ]
    },
    {
     "name": "stdout",
     "output_type": "stream",
     "text": [
      "Input shape: torch.Size([512, 3, 32, 32])\n",
      "After patch embedding shape: torch.Size([512, 1, 32])\n",
      "After adding pos_embedding shape: torch.Size([512, 49, 32])\n",
      "Input shape: torch.Size([512, 3, 32, 32])\n",
      "After patch embedding shape: torch.Size([512, 1, 32])\n",
      "After adding pos_embedding shape: torch.Size([512, 49, 32])\n"
     ]
    },
    {
     "name": "stderr",
     "output_type": "stream",
     "text": [
      "loss 1.64112:  96%|█████████▌| 94/98 [00:18<00:00,  5.12it/s]"
     ]
    },
    {
     "name": "stdout",
     "output_type": "stream",
     "text": [
      "Input shape: torch.Size([512, 3, 32, 32])\n",
      "After patch embedding shape: torch.Size([512, 1, 32])\n",
      "After adding pos_embedding shape: torch.Size([512, 49, 32])\n",
      "Input shape: torch.Size([512, 3, 32, 32])\n",
      "After patch embedding shape: torch.Size([512, 1, 32])\n",
      "After adding pos_embedding shape: torch.Size([512, 49, 32])\n"
     ]
    },
    {
     "name": "stderr",
     "output_type": "stream",
     "text": [
      "loss 1.55231:  98%|█████████▊| 96/98 [00:18<00:00,  4.97it/s]"
     ]
    },
    {
     "name": "stdout",
     "output_type": "stream",
     "text": [
      "Input shape: torch.Size([512, 3, 32, 32])\n",
      "After patch embedding shape: torch.Size([512, 1, 32])\n",
      "After adding pos_embedding shape: torch.Size([512, 49, 32])\n",
      "Input shape: torch.Size([512, 3, 32, 32])\n",
      "After patch embedding shape: torch.Size([512, 1, 32])\n",
      "After adding pos_embedding shape: torch.Size([512, 49, 32])\n"
     ]
    },
    {
     "name": "stderr",
     "output_type": "stream",
     "text": [
      "loss 1.66939: 100%|██████████| 98/98 [00:18<00:00,  5.21it/s]\n"
     ]
    },
    {
     "name": "stdout",
     "output_type": "stream",
     "text": [
      "Input shape: torch.Size([336, 3, 32, 32])\n",
      "After patch embedding shape: torch.Size([336, 1, 32])\n",
      "After adding pos_embedding shape: torch.Size([336, 49, 32])\n",
      "Época 9/10\n"
     ]
    },
    {
     "name": "stderr",
     "output_type": "stream",
     "text": [
      "  0%|          | 0/98 [00:00<?, ?it/s]"
     ]
    },
    {
     "name": "stdout",
     "output_type": "stream",
     "text": [
      "Input shape: torch.Size([512, 3, 32, 32])\n",
      "After patch embedding shape: torch.Size([512, 1, 32])\n",
      "After adding pos_embedding shape: torch.Size([512, 49, 32])\n"
     ]
    },
    {
     "name": "stderr",
     "output_type": "stream",
     "text": [
      "loss 1.62307:   1%|          | 1/98 [00:00<00:18,  5.22it/s]"
     ]
    },
    {
     "name": "stdout",
     "output_type": "stream",
     "text": [
      "Input shape: torch.Size([512, 3, 32, 32])\n",
      "After patch embedding shape: torch.Size([512, 1, 32])\n",
      "After adding pos_embedding shape: torch.Size([512, 49, 32])\n"
     ]
    },
    {
     "name": "stderr",
     "output_type": "stream",
     "text": [
      "loss 1.53618:   2%|▏         | 2/98 [00:00<00:18,  5.22it/s]"
     ]
    },
    {
     "name": "stdout",
     "output_type": "stream",
     "text": [
      "Input shape: torch.Size([512, 3, 32, 32])\n",
      "After patch embedding shape: torch.Size([512, 1, 32])\n",
      "After adding pos_embedding shape: torch.Size([512, 49, 32])\n"
     ]
    },
    {
     "name": "stderr",
     "output_type": "stream",
     "text": [
      "loss 1.64170:   3%|▎         | 3/98 [00:00<00:18,  5.23it/s]"
     ]
    },
    {
     "name": "stdout",
     "output_type": "stream",
     "text": [
      "Input shape: torch.Size([512, 3, 32, 32])\n",
      "After patch embedding shape: torch.Size([512, 1, 32])\n",
      "After adding pos_embedding shape: torch.Size([512, 49, 32])\n"
     ]
    },
    {
     "name": "stderr",
     "output_type": "stream",
     "text": [
      "loss 1.66061:   4%|▍         | 4/98 [00:00<00:18,  5.19it/s]"
     ]
    },
    {
     "name": "stdout",
     "output_type": "stream",
     "text": [
      "Input shape: torch.Size([512, 3, 32, 32])\n",
      "After patch embedding shape: torch.Size([512, 1, 32])\n",
      "After adding pos_embedding shape: torch.Size([512, 49, 32])\n"
     ]
    },
    {
     "name": "stderr",
     "output_type": "stream",
     "text": [
      "loss 1.61547:   5%|▌         | 5/98 [00:00<00:17,  5.20it/s]"
     ]
    },
    {
     "name": "stdout",
     "output_type": "stream",
     "text": [
      "Input shape: torch.Size([512, 3, 32, 32])\n",
      "After patch embedding shape: torch.Size([512, 1, 32])\n",
      "After adding pos_embedding shape: torch.Size([512, 49, 32])\n"
     ]
    },
    {
     "name": "stderr",
     "output_type": "stream",
     "text": [
      "loss 1.64384:   6%|▌         | 6/98 [00:01<00:17,  5.21it/s]"
     ]
    },
    {
     "name": "stdout",
     "output_type": "stream",
     "text": [
      "Input shape: torch.Size([512, 3, 32, 32])\n",
      "After patch embedding shape: torch.Size([512, 1, 32])\n",
      "After adding pos_embedding shape: torch.Size([512, 49, 32])\n"
     ]
    },
    {
     "name": "stderr",
     "output_type": "stream",
     "text": [
      "loss 1.62395:   7%|▋         | 7/98 [00:01<00:17,  5.22it/s]"
     ]
    },
    {
     "name": "stdout",
     "output_type": "stream",
     "text": [
      "Input shape: torch.Size([512, 3, 32, 32])\n",
      "After patch embedding shape: torch.Size([512, 1, 32])\n",
      "After adding pos_embedding shape: torch.Size([512, 49, 32])\n"
     ]
    },
    {
     "name": "stderr",
     "output_type": "stream",
     "text": [
      "loss 1.61778:   8%|▊         | 8/98 [00:01<00:17,  5.24it/s]"
     ]
    },
    {
     "name": "stdout",
     "output_type": "stream",
     "text": [
      "Input shape: torch.Size([512, 3, 32, 32])\n",
      "After patch embedding shape: torch.Size([512, 1, 32])\n",
      "After adding pos_embedding shape: torch.Size([512, 49, 32])\n"
     ]
    },
    {
     "name": "stderr",
     "output_type": "stream",
     "text": [
      "loss 1.67501:  10%|█         | 10/98 [00:01<00:17,  5.09it/s]"
     ]
    },
    {
     "name": "stdout",
     "output_type": "stream",
     "text": [
      "Input shape: torch.Size([512, 3, 32, 32])\n",
      "After patch embedding shape: torch.Size([512, 1, 32])\n",
      "After adding pos_embedding shape: torch.Size([512, 49, 32])\n",
      "Input shape: torch.Size([512, 3, 32, 32])\n",
      "After patch embedding shape: torch.Size([512, 1, 32])\n",
      "After adding pos_embedding shape: torch.Size([512, 49, 32])\n"
     ]
    },
    {
     "name": "stderr",
     "output_type": "stream",
     "text": [
      "loss 1.65295:  12%|█▏        | 12/98 [00:02<00:16,  5.20it/s]"
     ]
    },
    {
     "name": "stdout",
     "output_type": "stream",
     "text": [
      "Input shape: torch.Size([512, 3, 32, 32])\n",
      "After patch embedding shape: torch.Size([512, 1, 32])\n",
      "After adding pos_embedding shape: torch.Size([512, 49, 32])\n",
      "Input shape: torch.Size([512, 3, 32, 32])\n",
      "After patch embedding shape: torch.Size([512, 1, 32])\n",
      "After adding pos_embedding shape: torch.Size([512, 49, 32])\n"
     ]
    },
    {
     "name": "stderr",
     "output_type": "stream",
     "text": [
      "loss 1.59172:  14%|█▍        | 14/98 [00:02<00:16,  5.23it/s]"
     ]
    },
    {
     "name": "stdout",
     "output_type": "stream",
     "text": [
      "Input shape: torch.Size([512, 3, 32, 32])\n",
      "After patch embedding shape: torch.Size([512, 1, 32])\n",
      "After adding pos_embedding shape: torch.Size([512, 49, 32])\n",
      "Input shape: torch.Size([512, 3, 32, 32])\n",
      "After patch embedding shape: torch.Size([512, 1, 32])\n",
      "After adding pos_embedding shape: torch.Size([512, 49, 32])\n"
     ]
    },
    {
     "name": "stderr",
     "output_type": "stream",
     "text": [
      "loss 1.65796:  16%|█▋        | 16/98 [00:03<00:15,  5.26it/s]"
     ]
    },
    {
     "name": "stdout",
     "output_type": "stream",
     "text": [
      "Input shape: torch.Size([512, 3, 32, 32])\n",
      "After patch embedding shape: torch.Size([512, 1, 32])\n",
      "After adding pos_embedding shape: torch.Size([512, 49, 32])\n",
      "Input shape: torch.Size([512, 3, 32, 32])\n",
      "After patch embedding shape: torch.Size([512, 1, 32])\n",
      "After adding pos_embedding shape: torch.Size([512, 49, 32])\n"
     ]
    },
    {
     "name": "stderr",
     "output_type": "stream",
     "text": [
      "loss 1.60029:  18%|█▊        | 18/98 [00:03<00:15,  5.27it/s]"
     ]
    },
    {
     "name": "stdout",
     "output_type": "stream",
     "text": [
      "Input shape: torch.Size([512, 3, 32, 32])\n",
      "After patch embedding shape: torch.Size([512, 1, 32])\n",
      "After adding pos_embedding shape: torch.Size([512, 49, 32])\n"
     ]
    },
    {
     "name": "stderr",
     "output_type": "stream",
     "text": [
      "loss 1.64957:  19%|█▉        | 19/98 [00:03<00:15,  4.98it/s]"
     ]
    },
    {
     "name": "stdout",
     "output_type": "stream",
     "text": [
      "Input shape: torch.Size([512, 3, 32, 32])\n",
      "After patch embedding shape: torch.Size([512, 1, 32])\n",
      "After adding pos_embedding shape: torch.Size([512, 49, 32])\n"
     ]
    },
    {
     "name": "stderr",
     "output_type": "stream",
     "text": [
      "loss 1.58478:  20%|██        | 20/98 [00:03<00:15,  4.89it/s]"
     ]
    },
    {
     "name": "stdout",
     "output_type": "stream",
     "text": [
      "Input shape: torch.Size([512, 3, 32, 32])\n",
      "After patch embedding shape: torch.Size([512, 1, 32])\n",
      "After adding pos_embedding shape: torch.Size([512, 49, 32])\n"
     ]
    },
    {
     "name": "stderr",
     "output_type": "stream",
     "text": [
      "loss 1.58834:  21%|██▏       | 21/98 [00:04<00:15,  4.82it/s]"
     ]
    },
    {
     "name": "stdout",
     "output_type": "stream",
     "text": [
      "Input shape: torch.Size([512, 3, 32, 32])\n",
      "After patch embedding shape: torch.Size([512, 1, 32])\n",
      "After adding pos_embedding shape: torch.Size([512, 49, 32])\n",
      "Input shape: torch.Size([512, 3, 32, 32])\n",
      "After patch embedding shape: torch.Size([512, 1, 32])\n",
      "After adding pos_embedding shape: torch.Size([512, 49, 32])\n"
     ]
    },
    {
     "name": "stderr",
     "output_type": "stream",
     "text": [
      "loss 1.62534:  23%|██▎       | 23/98 [00:04<00:14,  5.06it/s]"
     ]
    },
    {
     "name": "stdout",
     "output_type": "stream",
     "text": [
      "Input shape: torch.Size([512, 3, 32, 32])\n",
      "After patch embedding shape: torch.Size([512, 1, 32])\n",
      "After adding pos_embedding shape: torch.Size([512, 49, 32])\n",
      "Input shape: torch.Size([512, 3, 32, 32])\n",
      "After patch embedding shape: torch.Size([512, 1, 32])\n",
      "After adding pos_embedding shape: torch.Size([512, 49, 32])\n"
     ]
    },
    {
     "name": "stderr",
     "output_type": "stream",
     "text": [
      "loss 1.57418:  26%|██▌       | 25/98 [00:04<00:14,  5.19it/s]"
     ]
    },
    {
     "name": "stdout",
     "output_type": "stream",
     "text": [
      "Input shape: torch.Size([512, 3, 32, 32])\n",
      "After patch embedding shape: torch.Size([512, 1, 32])\n",
      "After adding pos_embedding shape: torch.Size([512, 49, 32])\n"
     ]
    },
    {
     "name": "stderr",
     "output_type": "stream",
     "text": [
      "loss 1.59637:  27%|██▋       | 26/98 [00:05<00:14,  5.05it/s]"
     ]
    },
    {
     "name": "stdout",
     "output_type": "stream",
     "text": [
      "Input shape: torch.Size([512, 3, 32, 32])\n",
      "After patch embedding shape: torch.Size([512, 1, 32])\n",
      "After adding pos_embedding shape: torch.Size([512, 49, 32])\n"
     ]
    },
    {
     "name": "stderr",
     "output_type": "stream",
     "text": [
      "loss 1.60524:  28%|██▊       | 27/98 [00:05<00:14,  4.97it/s]"
     ]
    },
    {
     "name": "stdout",
     "output_type": "stream",
     "text": [
      "Input shape: torch.Size([512, 3, 32, 32])\n",
      "After patch embedding shape: torch.Size([512, 1, 32])\n",
      "After adding pos_embedding shape: torch.Size([512, 49, 32])\n",
      "Input shape: torch.Size([512, 3, 32, 32])\n",
      "After patch embedding shape: torch.Size([512, 1, 32])\n",
      "After adding pos_embedding shape: torch.Size([512, 49, 32])\n"
     ]
    },
    {
     "name": "stderr",
     "output_type": "stream",
     "text": [
      "loss 1.66470:  30%|██▉       | 29/98 [00:05<00:13,  5.09it/s]"
     ]
    },
    {
     "name": "stdout",
     "output_type": "stream",
     "text": [
      "Input shape: torch.Size([512, 3, 32, 32])\n",
      "After patch embedding shape: torch.Size([512, 1, 32])\n",
      "After adding pos_embedding shape: torch.Size([512, 49, 32])\n",
      "Input shape: torch.Size([512, 3, 32, 32])\n",
      "After patch embedding shape: torch.Size([512, 1, 32])\n",
      "After adding pos_embedding shape: torch.Size([512, 49, 32])\n"
     ]
    },
    {
     "name": "stderr",
     "output_type": "stream",
     "text": [
      "loss 1.61260:  32%|███▏      | 31/98 [00:06<00:12,  5.21it/s]"
     ]
    },
    {
     "name": "stdout",
     "output_type": "stream",
     "text": [
      "Input shape: torch.Size([512, 3, 32, 32])\n",
      "After patch embedding shape: torch.Size([512, 1, 32])\n",
      "After adding pos_embedding shape: torch.Size([512, 49, 32])\n",
      "Input shape: torch.Size([512, 3, 32, 32])\n",
      "After patch embedding shape: torch.Size([512, 1, 32])\n",
      "After adding pos_embedding shape: torch.Size([512, 49, 32])\n"
     ]
    },
    {
     "name": "stderr",
     "output_type": "stream",
     "text": [
      "loss 1.69909:  34%|███▎      | 33/98 [00:06<00:12,  5.11it/s]"
     ]
    },
    {
     "name": "stdout",
     "output_type": "stream",
     "text": [
      "Input shape: torch.Size([512, 3, 32, 32])\n",
      "After patch embedding shape: torch.Size([512, 1, 32])\n",
      "After adding pos_embedding shape: torch.Size([512, 49, 32])\n",
      "Input shape: torch.Size([512, 3, 32, 32])\n",
      "After patch embedding shape: torch.Size([512, 1, 32])\n",
      "After adding pos_embedding shape: torch.Size([512, 49, 32])\n"
     ]
    },
    {
     "name": "stderr",
     "output_type": "stream",
     "text": [
      "loss 1.62359:  36%|███▌      | 35/98 [00:06<00:12,  5.21it/s]"
     ]
    },
    {
     "name": "stdout",
     "output_type": "stream",
     "text": [
      "Input shape: torch.Size([512, 3, 32, 32])\n",
      "After patch embedding shape: torch.Size([512, 1, 32])\n",
      "After adding pos_embedding shape: torch.Size([512, 49, 32])\n",
      "Input shape: torch.Size([512, 3, 32, 32])\n",
      "After patch embedding shape: torch.Size([512, 1, 32])\n",
      "After adding pos_embedding shape: torch.Size([512, 49, 32])\n"
     ]
    },
    {
     "name": "stderr",
     "output_type": "stream",
     "text": [
      "loss 1.67509:  38%|███▊      | 37/98 [00:07<00:11,  5.28it/s]"
     ]
    },
    {
     "name": "stdout",
     "output_type": "stream",
     "text": [
      "Input shape: torch.Size([512, 3, 32, 32])\n",
      "After patch embedding shape: torch.Size([512, 1, 32])\n",
      "After adding pos_embedding shape: torch.Size([512, 49, 32])\n",
      "Input shape: torch.Size([512, 3, 32, 32])\n",
      "After patch embedding shape: torch.Size([512, 1, 32])\n",
      "After adding pos_embedding shape: torch.Size([512, 49, 32])\n"
     ]
    },
    {
     "name": "stderr",
     "output_type": "stream",
     "text": [
      "loss 1.67914:  40%|███▉      | 39/98 [00:07<00:11,  5.29it/s]"
     ]
    },
    {
     "name": "stdout",
     "output_type": "stream",
     "text": [
      "Input shape: torch.Size([512, 3, 32, 32])\n",
      "After patch embedding shape: torch.Size([512, 1, 32])\n",
      "After adding pos_embedding shape: torch.Size([512, 49, 32])\n",
      "Input shape: torch.Size([512, 3, 32, 32])\n",
      "After patch embedding shape: torch.Size([512, 1, 32])\n",
      "After adding pos_embedding shape: torch.Size([512, 49, 32])\n"
     ]
    },
    {
     "name": "stderr",
     "output_type": "stream",
     "text": [
      "loss 1.55768:  42%|████▏     | 41/98 [00:07<00:11,  5.13it/s]"
     ]
    },
    {
     "name": "stdout",
     "output_type": "stream",
     "text": [
      "Input shape: torch.Size([512, 3, 32, 32])\n",
      "After patch embedding shape: torch.Size([512, 1, 32])\n",
      "After adding pos_embedding shape: torch.Size([512, 49, 32])\n"
     ]
    },
    {
     "name": "stderr",
     "output_type": "stream",
     "text": [
      "loss 1.56870:  43%|████▎     | 42/98 [00:08<00:10,  5.13it/s]"
     ]
    },
    {
     "name": "stdout",
     "output_type": "stream",
     "text": [
      "Input shape: torch.Size([512, 3, 32, 32])\n",
      "After patch embedding shape: torch.Size([512, 1, 32])\n",
      "After adding pos_embedding shape: torch.Size([512, 49, 32])\n",
      "Input shape: torch.Size([512, 3, 32, 32])\n",
      "After patch embedding shape: torch.Size([512, 1, 32])\n",
      "After adding pos_embedding shape: torch.Size([512, 49, 32])\n"
     ]
    },
    {
     "name": "stderr",
     "output_type": "stream",
     "text": [
      "loss 1.66524:  45%|████▍     | 44/98 [00:08<00:10,  5.20it/s]"
     ]
    },
    {
     "name": "stdout",
     "output_type": "stream",
     "text": [
      "Input shape: torch.Size([512, 3, 32, 32])\n",
      "After patch embedding shape: torch.Size([512, 1, 32])\n",
      "After adding pos_embedding shape: torch.Size([512, 49, 32])\n",
      "Input shape: torch.Size([512, 3, 32, 32])\n",
      "After patch embedding shape: torch.Size([512, 1, 32])\n",
      "After adding pos_embedding shape: torch.Size([512, 49, 32])\n"
     ]
    },
    {
     "name": "stderr",
     "output_type": "stream",
     "text": [
      "loss 1.56510:  47%|████▋     | 46/98 [00:08<00:09,  5.25it/s]"
     ]
    },
    {
     "name": "stdout",
     "output_type": "stream",
     "text": [
      "Input shape: torch.Size([512, 3, 32, 32])\n",
      "After patch embedding shape: torch.Size([512, 1, 32])\n",
      "After adding pos_embedding shape: torch.Size([512, 49, 32])\n",
      "Input shape: torch.Size([512, 3, 32, 32])\n",
      "After patch embedding shape: torch.Size([512, 1, 32])\n",
      "After adding pos_embedding shape: torch.Size([512, 49, 32])\n"
     ]
    },
    {
     "name": "stderr",
     "output_type": "stream",
     "text": [
      "loss 1.58717:  49%|████▉     | 48/98 [00:09<00:09,  5.29it/s]"
     ]
    },
    {
     "name": "stdout",
     "output_type": "stream",
     "text": [
      "Input shape: torch.Size([512, 3, 32, 32])\n",
      "After patch embedding shape: torch.Size([512, 1, 32])\n",
      "After adding pos_embedding shape: torch.Size([512, 49, 32])\n",
      "Input shape: torch.Size([512, 3, 32, 32])\n",
      "After patch embedding shape: torch.Size([512, 1, 32])\n",
      "After adding pos_embedding shape: torch.Size([512, 49, 32])\n"
     ]
    },
    {
     "name": "stderr",
     "output_type": "stream",
     "text": [
      "loss 1.64248:  51%|█████     | 50/98 [00:09<00:09,  5.13it/s]"
     ]
    },
    {
     "name": "stdout",
     "output_type": "stream",
     "text": [
      "Input shape: torch.Size([512, 3, 32, 32])\n",
      "After patch embedding shape: torch.Size([512, 1, 32])\n",
      "After adding pos_embedding shape: torch.Size([512, 49, 32])\n",
      "Input shape: torch.Size([512, 3, 32, 32])\n",
      "After patch embedding shape: torch.Size([512, 1, 32])\n",
      "After adding pos_embedding shape: torch.Size([512, 49, 32])\n"
     ]
    },
    {
     "name": "stderr",
     "output_type": "stream",
     "text": [
      "loss 1.64746:  53%|█████▎    | 52/98 [00:10<00:08,  5.22it/s]"
     ]
    },
    {
     "name": "stdout",
     "output_type": "stream",
     "text": [
      "Input shape: torch.Size([512, 3, 32, 32])\n",
      "After patch embedding shape: torch.Size([512, 1, 32])\n",
      "After adding pos_embedding shape: torch.Size([512, 49, 32])\n",
      "Input shape: torch.Size([512, 3, 32, 32])\n",
      "After patch embedding shape: torch.Size([512, 1, 32])\n",
      "After adding pos_embedding shape: torch.Size([512, 49, 32])\n"
     ]
    },
    {
     "name": "stderr",
     "output_type": "stream",
     "text": [
      "loss 1.69064:  55%|█████▌    | 54/98 [00:10<00:08,  5.30it/s]"
     ]
    },
    {
     "name": "stdout",
     "output_type": "stream",
     "text": [
      "Input shape: torch.Size([512, 3, 32, 32])\n",
      "After patch embedding shape: torch.Size([512, 1, 32])\n",
      "After adding pos_embedding shape: torch.Size([512, 49, 32])\n",
      "Input shape: torch.Size([512, 3, 32, 32])\n",
      "After patch embedding shape: torch.Size([512, 1, 32])\n",
      "After adding pos_embedding shape: torch.Size([512, 49, 32])\n"
     ]
    },
    {
     "name": "stderr",
     "output_type": "stream",
     "text": [
      "loss 1.54970:  57%|█████▋    | 56/98 [00:10<00:08,  5.14it/s]"
     ]
    },
    {
     "name": "stdout",
     "output_type": "stream",
     "text": [
      "Input shape: torch.Size([512, 3, 32, 32])\n",
      "After patch embedding shape: torch.Size([512, 1, 32])\n",
      "After adding pos_embedding shape: torch.Size([512, 49, 32])\n"
     ]
    },
    {
     "name": "stderr",
     "output_type": "stream",
     "text": [
      "loss 1.67999:  58%|█████▊    | 57/98 [00:11<00:08,  5.11it/s]"
     ]
    },
    {
     "name": "stdout",
     "output_type": "stream",
     "text": [
      "Input shape: torch.Size([512, 3, 32, 32])\n",
      "After patch embedding shape: torch.Size([512, 1, 32])\n",
      "After adding pos_embedding shape: torch.Size([512, 49, 32])\n"
     ]
    },
    {
     "name": "stderr",
     "output_type": "stream",
     "text": [
      "loss 1.58746:  59%|█████▉    | 58/98 [00:11<00:08,  4.67it/s]"
     ]
    },
    {
     "name": "stdout",
     "output_type": "stream",
     "text": [
      "Input shape: torch.Size([512, 3, 32, 32])\n",
      "After patch embedding shape: torch.Size([512, 1, 32])\n",
      "After adding pos_embedding shape: torch.Size([512, 49, 32])\n"
     ]
    },
    {
     "name": "stderr",
     "output_type": "stream",
     "text": [
      "loss 1.66712:  60%|██████    | 59/98 [00:11<00:08,  4.66it/s]"
     ]
    },
    {
     "name": "stdout",
     "output_type": "stream",
     "text": [
      "Input shape: torch.Size([512, 3, 32, 32])\n",
      "After patch embedding shape: torch.Size([512, 1, 32])\n",
      "After adding pos_embedding shape: torch.Size([512, 49, 32])\n"
     ]
    },
    {
     "name": "stderr",
     "output_type": "stream",
     "text": [
      "loss 1.72634:  61%|██████    | 60/98 [00:11<00:08,  4.58it/s]"
     ]
    },
    {
     "name": "stdout",
     "output_type": "stream",
     "text": [
      "Input shape: torch.Size([512, 3, 32, 32])\n",
      "After patch embedding shape: torch.Size([512, 1, 32])\n",
      "After adding pos_embedding shape: torch.Size([512, 49, 32])\n"
     ]
    },
    {
     "name": "stderr",
     "output_type": "stream",
     "text": [
      "loss 1.60347:  62%|██████▏   | 61/98 [00:11<00:07,  4.67it/s]"
     ]
    },
    {
     "name": "stdout",
     "output_type": "stream",
     "text": [
      "Input shape: torch.Size([512, 3, 32, 32])\n",
      "After patch embedding shape: torch.Size([512, 1, 32])\n",
      "After adding pos_embedding shape: torch.Size([512, 49, 32])\n"
     ]
    },
    {
     "name": "stderr",
     "output_type": "stream",
     "text": [
      "loss 1.66544:  63%|██████▎   | 62/98 [00:12<00:07,  4.74it/s]"
     ]
    },
    {
     "name": "stdout",
     "output_type": "stream",
     "text": [
      "Input shape: torch.Size([512, 3, 32, 32])\n",
      "After patch embedding shape: torch.Size([512, 1, 32])\n",
      "After adding pos_embedding shape: torch.Size([512, 49, 32])\n"
     ]
    },
    {
     "name": "stderr",
     "output_type": "stream",
     "text": [
      "loss 1.63571:  64%|██████▍   | 63/98 [00:12<00:07,  4.77it/s]"
     ]
    },
    {
     "name": "stdout",
     "output_type": "stream",
     "text": [
      "Input shape: torch.Size([512, 3, 32, 32])\n",
      "After patch embedding shape: torch.Size([512, 1, 32])\n",
      "After adding pos_embedding shape: torch.Size([512, 49, 32])\n"
     ]
    },
    {
     "name": "stderr",
     "output_type": "stream",
     "text": [
      "loss 1.61389:  65%|██████▌   | 64/98 [00:12<00:07,  4.80it/s]"
     ]
    },
    {
     "name": "stdout",
     "output_type": "stream",
     "text": [
      "Input shape: torch.Size([512, 3, 32, 32])\n",
      "After patch embedding shape: torch.Size([512, 1, 32])\n",
      "After adding pos_embedding shape: torch.Size([512, 49, 32])\n"
     ]
    },
    {
     "name": "stderr",
     "output_type": "stream",
     "text": [
      "loss 1.62647:  66%|██████▋   | 65/98 [00:12<00:06,  4.84it/s]"
     ]
    },
    {
     "name": "stdout",
     "output_type": "stream",
     "text": [
      "Input shape: torch.Size([512, 3, 32, 32])\n",
      "After patch embedding shape: torch.Size([512, 1, 32])\n",
      "After adding pos_embedding shape: torch.Size([512, 49, 32])\n"
     ]
    },
    {
     "name": "stderr",
     "output_type": "stream",
     "text": [
      "loss 1.61448:  67%|██████▋   | 66/98 [00:12<00:07,  4.51it/s]"
     ]
    },
    {
     "name": "stdout",
     "output_type": "stream",
     "text": [
      "Input shape: torch.Size([512, 3, 32, 32])\n",
      "After patch embedding shape: torch.Size([512, 1, 32])\n",
      "After adding pos_embedding shape: torch.Size([512, 49, 32])\n"
     ]
    },
    {
     "name": "stderr",
     "output_type": "stream",
     "text": [
      "loss 1.65494:  68%|██████▊   | 67/98 [00:13<00:06,  4.60it/s]"
     ]
    },
    {
     "name": "stdout",
     "output_type": "stream",
     "text": [
      "Input shape: torch.Size([512, 3, 32, 32])\n",
      "After patch embedding shape: torch.Size([512, 1, 32])\n",
      "After adding pos_embedding shape: torch.Size([512, 49, 32])\n"
     ]
    },
    {
     "name": "stderr",
     "output_type": "stream",
     "text": [
      "loss 1.60774:  69%|██████▉   | 68/98 [00:13<00:06,  4.64it/s]"
     ]
    },
    {
     "name": "stdout",
     "output_type": "stream",
     "text": [
      "Input shape: torch.Size([512, 3, 32, 32])\n",
      "After patch embedding shape: torch.Size([512, 1, 32])\n",
      "After adding pos_embedding shape: torch.Size([512, 49, 32])\n"
     ]
    },
    {
     "name": "stderr",
     "output_type": "stream",
     "text": [
      "loss 1.67479:  70%|███████   | 69/98 [00:13<00:06,  4.68it/s]"
     ]
    },
    {
     "name": "stdout",
     "output_type": "stream",
     "text": [
      "Input shape: torch.Size([512, 3, 32, 32])\n",
      "After patch embedding shape: torch.Size([512, 1, 32])\n",
      "After adding pos_embedding shape: torch.Size([512, 49, 32])\n"
     ]
    },
    {
     "name": "stderr",
     "output_type": "stream",
     "text": [
      "loss 1.67732:  71%|███████▏  | 70/98 [00:13<00:05,  4.74it/s]"
     ]
    },
    {
     "name": "stdout",
     "output_type": "stream",
     "text": [
      "Input shape: torch.Size([512, 3, 32, 32])\n",
      "After patch embedding shape: torch.Size([512, 1, 32])\n",
      "After adding pos_embedding shape: torch.Size([512, 49, 32])\n"
     ]
    },
    {
     "name": "stderr",
     "output_type": "stream",
     "text": [
      "loss 1.68939:  72%|███████▏  | 71/98 [00:14<00:05,  4.78it/s]"
     ]
    },
    {
     "name": "stdout",
     "output_type": "stream",
     "text": [
      "Input shape: torch.Size([512, 3, 32, 32])\n",
      "After patch embedding shape: torch.Size([512, 1, 32])\n",
      "After adding pos_embedding shape: torch.Size([512, 49, 32])\n"
     ]
    },
    {
     "name": "stderr",
     "output_type": "stream",
     "text": [
      "loss 1.62862:  73%|███████▎  | 72/98 [00:14<00:05,  4.81it/s]"
     ]
    },
    {
     "name": "stdout",
     "output_type": "stream",
     "text": [
      "Input shape: torch.Size([512, 3, 32, 32])\n",
      "After patch embedding shape: torch.Size([512, 1, 32])\n",
      "After adding pos_embedding shape: torch.Size([512, 49, 32])\n"
     ]
    },
    {
     "name": "stderr",
     "output_type": "stream",
     "text": [
      "loss 1.58056:  74%|███████▍  | 73/98 [00:14<00:05,  4.82it/s]"
     ]
    },
    {
     "name": "stdout",
     "output_type": "stream",
     "text": [
      "Input shape: torch.Size([512, 3, 32, 32])\n",
      "After patch embedding shape: torch.Size([512, 1, 32])\n",
      "After adding pos_embedding shape: torch.Size([512, 49, 32])\n"
     ]
    },
    {
     "name": "stderr",
     "output_type": "stream",
     "text": [
      "loss 1.62869:  76%|███████▌  | 74/98 [00:14<00:04,  4.83it/s]"
     ]
    },
    {
     "name": "stdout",
     "output_type": "stream",
     "text": [
      "Input shape: torch.Size([512, 3, 32, 32])\n",
      "After patch embedding shape: torch.Size([512, 1, 32])\n",
      "After adding pos_embedding shape: torch.Size([512, 49, 32])\n"
     ]
    },
    {
     "name": "stderr",
     "output_type": "stream",
     "text": [
      "loss 1.66781:  77%|███████▋  | 75/98 [00:14<00:04,  4.82it/s]"
     ]
    },
    {
     "name": "stdout",
     "output_type": "stream",
     "text": [
      "Input shape: torch.Size([512, 3, 32, 32])\n",
      "After patch embedding shape: torch.Size([512, 1, 32])\n",
      "After adding pos_embedding shape: torch.Size([512, 49, 32])\n"
     ]
    },
    {
     "name": "stderr",
     "output_type": "stream",
     "text": [
      "loss 1.60300:  78%|███████▊  | 76/98 [00:15<00:04,  4.84it/s]"
     ]
    },
    {
     "name": "stdout",
     "output_type": "stream",
     "text": [
      "Input shape: torch.Size([512, 3, 32, 32])\n",
      "After patch embedding shape: torch.Size([512, 1, 32])\n",
      "After adding pos_embedding shape: torch.Size([512, 49, 32])\n"
     ]
    },
    {
     "name": "stderr",
     "output_type": "stream",
     "text": [
      "loss 1.57376:  79%|███████▊  | 77/98 [00:15<00:04,  4.87it/s]"
     ]
    },
    {
     "name": "stdout",
     "output_type": "stream",
     "text": [
      "Input shape: torch.Size([512, 3, 32, 32])\n",
      "After patch embedding shape: torch.Size([512, 1, 32])\n",
      "After adding pos_embedding shape: torch.Size([512, 49, 32])\n"
     ]
    },
    {
     "name": "stderr",
     "output_type": "stream",
     "text": [
      "loss 1.62495:  80%|███████▉  | 78/98 [00:15<00:04,  4.85it/s]"
     ]
    },
    {
     "name": "stdout",
     "output_type": "stream",
     "text": [
      "Input shape: torch.Size([512, 3, 32, 32])\n",
      "After patch embedding shape: torch.Size([512, 1, 32])\n",
      "After adding pos_embedding shape: torch.Size([512, 49, 32])\n"
     ]
    },
    {
     "name": "stderr",
     "output_type": "stream",
     "text": [
      "loss 1.60378:  81%|████████  | 79/98 [00:15<00:03,  4.86it/s]"
     ]
    },
    {
     "name": "stdout",
     "output_type": "stream",
     "text": [
      "Input shape: torch.Size([512, 3, 32, 32])\n",
      "After patch embedding shape: torch.Size([512, 1, 32])\n",
      "After adding pos_embedding shape: torch.Size([512, 49, 32])\n"
     ]
    },
    {
     "name": "stderr",
     "output_type": "stream",
     "text": [
      "loss 1.70806:  82%|████████▏ | 80/98 [00:15<00:03,  4.86it/s]"
     ]
    },
    {
     "name": "stdout",
     "output_type": "stream",
     "text": [
      "Input shape: torch.Size([512, 3, 32, 32])\n",
      "After patch embedding shape: torch.Size([512, 1, 32])\n",
      "After adding pos_embedding shape: torch.Size([512, 49, 32])\n"
     ]
    },
    {
     "name": "stderr",
     "output_type": "stream",
     "text": [
      "loss 1.58740:  83%|████████▎ | 81/98 [00:16<00:03,  4.85it/s]"
     ]
    },
    {
     "name": "stdout",
     "output_type": "stream",
     "text": [
      "Input shape: torch.Size([512, 3, 32, 32])\n",
      "After patch embedding shape: torch.Size([512, 1, 32])\n",
      "After adding pos_embedding shape: torch.Size([512, 49, 32])\n"
     ]
    },
    {
     "name": "stderr",
     "output_type": "stream",
     "text": [
      "loss 1.60447:  84%|████████▎ | 82/98 [00:16<00:03,  4.87it/s]"
     ]
    },
    {
     "name": "stdout",
     "output_type": "stream",
     "text": [
      "Input shape: torch.Size([512, 3, 32, 32])\n",
      "After patch embedding shape: torch.Size([512, 1, 32])\n",
      "After adding pos_embedding shape: torch.Size([512, 49, 32])\n"
     ]
    },
    {
     "name": "stderr",
     "output_type": "stream",
     "text": [
      "loss 1.68690:  85%|████████▍ | 83/98 [00:16<00:03,  4.86it/s]"
     ]
    },
    {
     "name": "stdout",
     "output_type": "stream",
     "text": [
      "Input shape: torch.Size([512, 3, 32, 32])\n",
      "After patch embedding shape: torch.Size([512, 1, 32])\n",
      "After adding pos_embedding shape: torch.Size([512, 49, 32])\n"
     ]
    },
    {
     "name": "stderr",
     "output_type": "stream",
     "text": [
      "loss 1.62189:  86%|████████▌ | 84/98 [00:16<00:02,  4.90it/s]"
     ]
    },
    {
     "name": "stdout",
     "output_type": "stream",
     "text": [
      "Input shape: torch.Size([512, 3, 32, 32])\n",
      "After patch embedding shape: torch.Size([512, 1, 32])\n",
      "After adding pos_embedding shape: torch.Size([512, 49, 32])\n",
      "Input shape: torch.Size([512, 3, 32, 32])\n",
      "After patch embedding shape: torch.Size([512, 1, 32])\n",
      "After adding pos_embedding shape: torch.Size([512, 49, 32])\n"
     ]
    },
    {
     "name": "stderr",
     "output_type": "stream",
     "text": [
      "loss 1.62325:  88%|████████▊ | 86/98 [00:17<00:02,  5.01it/s]"
     ]
    },
    {
     "name": "stdout",
     "output_type": "stream",
     "text": [
      "Input shape: torch.Size([512, 3, 32, 32])\n",
      "After patch embedding shape: torch.Size([512, 1, 32])\n",
      "After adding pos_embedding shape: torch.Size([512, 49, 32])\n",
      "Input shape: torch.Size([512, 3, 32, 32])\n",
      "After patch embedding shape: torch.Size([512, 1, 32])\n",
      "After adding pos_embedding shape: torch.Size([512, 49, 32])\n"
     ]
    },
    {
     "name": "stderr",
     "output_type": "stream",
     "text": [
      "loss 1.53277:  90%|████████▉ | 88/98 [00:17<00:01,  5.04it/s]"
     ]
    },
    {
     "name": "stdout",
     "output_type": "stream",
     "text": [
      "Input shape: torch.Size([512, 3, 32, 32])\n",
      "After patch embedding shape: torch.Size([512, 1, 32])\n",
      "After adding pos_embedding shape: torch.Size([512, 49, 32])\n",
      "Input shape: torch.Size([512, 3, 32, 32])\n",
      "After patch embedding shape: torch.Size([512, 1, 32])\n",
      "After adding pos_embedding shape: torch.Size([512, 49, 32])\n"
     ]
    },
    {
     "name": "stderr",
     "output_type": "stream",
     "text": [
      "loss 1.58217:  92%|█████████▏| 90/98 [00:17<00:01,  5.04it/s]"
     ]
    },
    {
     "name": "stdout",
     "output_type": "stream",
     "text": [
      "Input shape: torch.Size([512, 3, 32, 32])\n",
      "After patch embedding shape: torch.Size([512, 1, 32])\n",
      "After adding pos_embedding shape: torch.Size([512, 49, 32])\n",
      "Input shape: torch.Size([512, 3, 32, 32])\n",
      "After patch embedding shape: torch.Size([512, 1, 32])\n",
      "After adding pos_embedding shape: torch.Size([512, 49, 32])\n"
     ]
    },
    {
     "name": "stderr",
     "output_type": "stream",
     "text": [
      "loss 1.56640:  94%|█████████▍| 92/98 [00:18<00:01,  5.10it/s]"
     ]
    },
    {
     "name": "stdout",
     "output_type": "stream",
     "text": [
      "Input shape: torch.Size([512, 3, 32, 32])\n",
      "After patch embedding shape: torch.Size([512, 1, 32])\n",
      "After adding pos_embedding shape: torch.Size([512, 49, 32])\n",
      "Input shape: torch.Size([512, 3, 32, 32])\n",
      "After patch embedding shape: torch.Size([512, 1, 32])\n",
      "After adding pos_embedding shape: torch.Size([512, 49, 32])\n"
     ]
    },
    {
     "name": "stderr",
     "output_type": "stream",
     "text": [
      "loss 1.59461:  96%|█████████▌| 94/98 [00:18<00:00,  4.95it/s]"
     ]
    },
    {
     "name": "stdout",
     "output_type": "stream",
     "text": [
      "Input shape: torch.Size([512, 3, 32, 32])\n",
      "After patch embedding shape: torch.Size([512, 1, 32])\n",
      "After adding pos_embedding shape: torch.Size([512, 49, 32])\n"
     ]
    },
    {
     "name": "stderr",
     "output_type": "stream",
     "text": [
      "loss 1.65082:  97%|█████████▋| 95/98 [00:18<00:00,  4.60it/s]"
     ]
    },
    {
     "name": "stdout",
     "output_type": "stream",
     "text": [
      "Input shape: torch.Size([512, 3, 32, 32])\n",
      "After patch embedding shape: torch.Size([512, 1, 32])\n",
      "After adding pos_embedding shape: torch.Size([512, 49, 32])\n"
     ]
    },
    {
     "name": "stderr",
     "output_type": "stream",
     "text": [
      "loss 1.61273:  98%|█████████▊| 96/98 [00:19<00:00,  4.66it/s]"
     ]
    },
    {
     "name": "stdout",
     "output_type": "stream",
     "text": [
      "Input shape: torch.Size([512, 3, 32, 32])\n",
      "After patch embedding shape: torch.Size([512, 1, 32])\n",
      "After adding pos_embedding shape: torch.Size([512, 49, 32])\n"
     ]
    },
    {
     "name": "stderr",
     "output_type": "stream",
     "text": [
      "loss 1.60080:  99%|█████████▉| 97/98 [00:19<00:00,  4.67it/s]"
     ]
    },
    {
     "name": "stdout",
     "output_type": "stream",
     "text": [
      "Input shape: torch.Size([512, 3, 32, 32])\n",
      "After patch embedding shape: torch.Size([512, 1, 32])\n",
      "After adding pos_embedding shape: torch.Size([512, 49, 32])\n"
     ]
    },
    {
     "name": "stderr",
     "output_type": "stream",
     "text": [
      "loss 1.65482: 100%|██████████| 98/98 [00:19<00:00,  5.02it/s]\n"
     ]
    },
    {
     "name": "stdout",
     "output_type": "stream",
     "text": [
      "Input shape: torch.Size([336, 3, 32, 32])\n",
      "After patch embedding shape: torch.Size([336, 1, 32])\n",
      "After adding pos_embedding shape: torch.Size([336, 49, 32])\n",
      "Época 10/10\n"
     ]
    },
    {
     "name": "stderr",
     "output_type": "stream",
     "text": [
      "  0%|          | 0/98 [00:00<?, ?it/s]"
     ]
    },
    {
     "name": "stdout",
     "output_type": "stream",
     "text": [
      "Input shape: torch.Size([512, 3, 32, 32])\n",
      "After patch embedding shape: torch.Size([512, 1, 32])\n",
      "After adding pos_embedding shape: torch.Size([512, 49, 32])\n"
     ]
    },
    {
     "name": "stderr",
     "output_type": "stream",
     "text": [
      "loss 1.63571:   2%|▏         | 2/98 [00:00<00:20,  4.69it/s]"
     ]
    },
    {
     "name": "stdout",
     "output_type": "stream",
     "text": [
      "Input shape: torch.Size([512, 3, 32, 32])\n",
      "After patch embedding shape: torch.Size([512, 1, 32])\n",
      "After adding pos_embedding shape: torch.Size([512, 49, 32])\n"
     ]
    },
    {
     "name": "stderr",
     "output_type": "stream",
     "text": [
      "loss 1.61983:   3%|▎         | 3/98 [00:00<00:19,  4.87it/s]"
     ]
    },
    {
     "name": "stdout",
     "output_type": "stream",
     "text": [
      "Input shape: torch.Size([512, 3, 32, 32])\n",
      "After patch embedding shape: torch.Size([512, 1, 32])\n",
      "After adding pos_embedding shape: torch.Size([512, 49, 32])\n",
      "Input shape: torch.Size([512, 3, 32, 32])\n",
      "After patch embedding shape: torch.Size([512, 1, 32])\n",
      "After adding pos_embedding shape: torch.Size([512, 49, 32])\n"
     ]
    },
    {
     "name": "stderr",
     "output_type": "stream",
     "text": [
      "loss 1.67521:   5%|▌         | 5/98 [00:01<00:18,  4.95it/s]"
     ]
    },
    {
     "name": "stdout",
     "output_type": "stream",
     "text": [
      "Input shape: torch.Size([512, 3, 32, 32])\n",
      "After patch embedding shape: torch.Size([512, 1, 32])\n",
      "After adding pos_embedding shape: torch.Size([512, 49, 32])\n",
      "Input shape: torch.Size([512, 3, 32, 32])\n",
      "After patch embedding shape: torch.Size([512, 1, 32])\n",
      "After adding pos_embedding shape: torch.Size([512, 49, 32])\n"
     ]
    },
    {
     "name": "stderr",
     "output_type": "stream",
     "text": [
      "loss 1.67123:   7%|▋         | 7/98 [00:01<00:18,  4.80it/s]"
     ]
    },
    {
     "name": "stdout",
     "output_type": "stream",
     "text": [
      "Input shape: torch.Size([512, 3, 32, 32])\n",
      "After patch embedding shape: torch.Size([512, 1, 32])\n",
      "After adding pos_embedding shape: torch.Size([512, 49, 32])\n",
      "Input shape: torch.Size([512, 3, 32, 32])\n",
      "After patch embedding shape: torch.Size([512, 1, 32])\n",
      "After adding pos_embedding shape: torch.Size([512, 49, 32])\n"
     ]
    },
    {
     "name": "stderr",
     "output_type": "stream",
     "text": [
      "loss 1.68038:   9%|▉         | 9/98 [00:02<00:30,  2.95it/s]"
     ]
    },
    {
     "name": "stdout",
     "output_type": "stream",
     "text": [
      "Input shape: torch.Size([512, 3, 32, 32])\n",
      "After patch embedding shape: torch.Size([512, 1, 32])\n",
      "After adding pos_embedding shape: torch.Size([512, 49, 32])\n",
      "Input shape: torch.Size([512, 3, 32, 32])\n",
      "After patch embedding shape: torch.Size([512, 1, 32])\n",
      "After adding pos_embedding shape: torch.Size([512, 49, 32])\n"
     ]
    },
    {
     "name": "stderr",
     "output_type": "stream",
     "text": [
      "loss 1.65911:  11%|█         | 11/98 [00:02<00:23,  3.70it/s]"
     ]
    },
    {
     "name": "stdout",
     "output_type": "stream",
     "text": [
      "Input shape: torch.Size([512, 3, 32, 32])\n",
      "After patch embedding shape: torch.Size([512, 1, 32])\n",
      "After adding pos_embedding shape: torch.Size([512, 49, 32])\n",
      "Input shape: torch.Size([512, 3, 32, 32])\n",
      "After patch embedding shape: torch.Size([512, 1, 32])\n",
      "After adding pos_embedding shape: torch.Size([512, 49, 32])\n"
     ]
    },
    {
     "name": "stderr",
     "output_type": "stream",
     "text": [
      "loss 1.66443:  13%|█▎        | 13/98 [00:03<00:20,  4.12it/s]"
     ]
    },
    {
     "name": "stdout",
     "output_type": "stream",
     "text": [
      "Input shape: torch.Size([512, 3, 32, 32])\n",
      "After patch embedding shape: torch.Size([512, 1, 32])\n",
      "After adding pos_embedding shape: torch.Size([512, 49, 32])\n"
     ]
    },
    {
     "name": "stderr",
     "output_type": "stream",
     "text": [
      "loss 1.62852:  14%|█▍        | 14/98 [00:03<00:19,  4.24it/s]"
     ]
    },
    {
     "name": "stdout",
     "output_type": "stream",
     "text": [
      "Input shape: torch.Size([512, 3, 32, 32])\n",
      "After patch embedding shape: torch.Size([512, 1, 32])\n",
      "After adding pos_embedding shape: torch.Size([512, 49, 32])\n"
     ]
    },
    {
     "name": "stderr",
     "output_type": "stream",
     "text": [
      "loss 1.61886:  15%|█▌        | 15/98 [00:03<00:18,  4.46it/s]"
     ]
    },
    {
     "name": "stdout",
     "output_type": "stream",
     "text": [
      "Input shape: torch.Size([512, 3, 32, 32])\n",
      "After patch embedding shape: torch.Size([512, 1, 32])\n",
      "After adding pos_embedding shape: torch.Size([512, 49, 32])\n",
      "Input shape: torch.Size([512, 3, 32, 32])\n",
      "After patch embedding shape: torch.Size([512, 1, 32])\n",
      "After adding pos_embedding shape: torch.Size([512, 49, 32])\n"
     ]
    },
    {
     "name": "stderr",
     "output_type": "stream",
     "text": [
      "loss 1.59644:  17%|█▋        | 17/98 [00:03<00:17,  4.57it/s]"
     ]
    },
    {
     "name": "stdout",
     "output_type": "stream",
     "text": [
      "Input shape: torch.Size([512, 3, 32, 32])\n",
      "After patch embedding shape: torch.Size([512, 1, 32])\n",
      "After adding pos_embedding shape: torch.Size([512, 49, 32])\n",
      "Input shape: torch.Size([512, 3, 32, 32])\n",
      "After patch embedding shape: torch.Size([512, 1, 32])\n",
      "After adding pos_embedding shape: torch.Size([512, 49, 32])\n"
     ]
    },
    {
     "name": "stderr",
     "output_type": "stream",
     "text": [
      "loss 1.61012:  19%|█▉        | 19/98 [00:04<00:16,  4.81it/s]"
     ]
    },
    {
     "name": "stdout",
     "output_type": "stream",
     "text": [
      "Input shape: torch.Size([512, 3, 32, 32])\n",
      "After patch embedding shape: torch.Size([512, 1, 32])\n",
      "After adding pos_embedding shape: torch.Size([512, 49, 32])\n",
      "Input shape: torch.Size([512, 3, 32, 32])\n",
      "After patch embedding shape: torch.Size([512, 1, 32])\n",
      "After adding pos_embedding shape: torch.Size([512, 49, 32])\n"
     ]
    },
    {
     "name": "stderr",
     "output_type": "stream",
     "text": [
      "loss 1.65418:  21%|██▏       | 21/98 [00:04<00:15,  4.99it/s]"
     ]
    },
    {
     "name": "stdout",
     "output_type": "stream",
     "text": [
      "Input shape: torch.Size([512, 3, 32, 32])\n",
      "After patch embedding shape: torch.Size([512, 1, 32])\n",
      "After adding pos_embedding shape: torch.Size([512, 49, 32])\n",
      "Input shape: torch.Size([512, 3, 32, 32])\n",
      "After patch embedding shape: torch.Size([512, 1, 32])\n",
      "After adding pos_embedding shape: torch.Size([512, 49, 32])\n"
     ]
    },
    {
     "name": "stderr",
     "output_type": "stream",
     "text": [
      "loss 1.60461:  23%|██▎       | 23/98 [00:05<00:15,  4.98it/s]"
     ]
    },
    {
     "name": "stdout",
     "output_type": "stream",
     "text": [
      "Input shape: torch.Size([512, 3, 32, 32])\n",
      "After patch embedding shape: torch.Size([512, 1, 32])\n",
      "After adding pos_embedding shape: torch.Size([512, 49, 32])\n"
     ]
    },
    {
     "name": "stderr",
     "output_type": "stream",
     "text": [
      "loss 1.64983:  24%|██▍       | 24/98 [00:05<00:14,  4.98it/s]"
     ]
    },
    {
     "name": "stdout",
     "output_type": "stream",
     "text": [
      "Input shape: torch.Size([512, 3, 32, 32])\n",
      "After patch embedding shape: torch.Size([512, 1, 32])\n",
      "After adding pos_embedding shape: torch.Size([512, 49, 32])\n"
     ]
    },
    {
     "name": "stderr",
     "output_type": "stream",
     "text": [
      "loss 1.65371:  26%|██▌       | 25/98 [00:05<00:14,  5.00it/s]"
     ]
    },
    {
     "name": "stdout",
     "output_type": "stream",
     "text": [
      "Input shape: torch.Size([512, 3, 32, 32])\n",
      "After patch embedding shape: torch.Size([512, 1, 32])\n",
      "After adding pos_embedding shape: torch.Size([512, 49, 32])\n",
      "Input shape: torch.Size([512, 3, 32, 32])\n",
      "After patch embedding shape: torch.Size([512, 1, 32])\n",
      "After adding pos_embedding shape: torch.Size([512, 49, 32])\n"
     ]
    },
    {
     "name": "stderr",
     "output_type": "stream",
     "text": [
      "loss 1.66855:  28%|██▊       | 27/98 [00:05<00:13,  5.08it/s]"
     ]
    },
    {
     "name": "stdout",
     "output_type": "stream",
     "text": [
      "Input shape: torch.Size([512, 3, 32, 32])\n",
      "After patch embedding shape: torch.Size([512, 1, 32])\n",
      "After adding pos_embedding shape: torch.Size([512, 49, 32])\n",
      "Input shape: torch.Size([512, 3, 32, 32])\n",
      "After patch embedding shape: torch.Size([512, 1, 32])\n",
      "After adding pos_embedding shape: torch.Size([512, 49, 32])\n"
     ]
    },
    {
     "name": "stderr",
     "output_type": "stream",
     "text": [
      "loss 1.68011:  30%|██▉       | 29/98 [00:06<00:13,  5.10it/s]"
     ]
    },
    {
     "name": "stdout",
     "output_type": "stream",
     "text": [
      "Input shape: torch.Size([512, 3, 32, 32])\n",
      "After patch embedding shape: torch.Size([512, 1, 32])\n",
      "After adding pos_embedding shape: torch.Size([512, 49, 32])\n",
      "Input shape: torch.Size([512, 3, 32, 32])\n",
      "After patch embedding shape: torch.Size([512, 1, 32])\n",
      "After adding pos_embedding shape: torch.Size([512, 49, 32])\n"
     ]
    },
    {
     "name": "stderr",
     "output_type": "stream",
     "text": [
      "loss 1.57074:  32%|███▏      | 31/98 [00:06<00:13,  4.93it/s]"
     ]
    },
    {
     "name": "stdout",
     "output_type": "stream",
     "text": [
      "Input shape: torch.Size([512, 3, 32, 32])\n",
      "After patch embedding shape: torch.Size([512, 1, 32])\n",
      "After adding pos_embedding shape: torch.Size([512, 49, 32])\n",
      "Input shape: torch.Size([512, 3, 32, 32])\n",
      "After patch embedding shape: torch.Size([512, 1, 32])\n",
      "After adding pos_embedding shape: torch.Size([512, 49, 32])\n"
     ]
    },
    {
     "name": "stderr",
     "output_type": "stream",
     "text": [
      "loss 1.67971:  34%|███▎      | 33/98 [00:07<00:13,  5.00it/s]"
     ]
    },
    {
     "name": "stdout",
     "output_type": "stream",
     "text": [
      "Input shape: torch.Size([512, 3, 32, 32])\n",
      "After patch embedding shape: torch.Size([512, 1, 32])\n",
      "After adding pos_embedding shape: torch.Size([512, 49, 32])\n",
      "Input shape: torch.Size([512, 3, 32, 32])\n",
      "After patch embedding shape: torch.Size([512, 1, 32])\n",
      "After adding pos_embedding shape: torch.Size([512, 49, 32])\n"
     ]
    },
    {
     "name": "stderr",
     "output_type": "stream",
     "text": [
      "loss 1.63993:  36%|███▌      | 35/98 [00:07<00:12,  5.04it/s]"
     ]
    },
    {
     "name": "stdout",
     "output_type": "stream",
     "text": [
      "Input shape: torch.Size([512, 3, 32, 32])\n",
      "After patch embedding shape: torch.Size([512, 1, 32])\n",
      "After adding pos_embedding shape: torch.Size([512, 49, 32])\n",
      "Input shape: torch.Size([512, 3, 32, 32])\n",
      "After patch embedding shape: torch.Size([512, 1, 32])\n",
      "After adding pos_embedding shape: torch.Size([512, 49, 32])\n"
     ]
    },
    {
     "name": "stderr",
     "output_type": "stream",
     "text": [
      "loss 1.62192:  38%|███▊      | 37/98 [00:07<00:11,  5.11it/s]"
     ]
    },
    {
     "name": "stdout",
     "output_type": "stream",
     "text": [
      "Input shape: torch.Size([512, 3, 32, 32])\n",
      "After patch embedding shape: torch.Size([512, 1, 32])\n",
      "After adding pos_embedding shape: torch.Size([512, 49, 32])\n",
      "Input shape: torch.Size([512, 3, 32, 32])\n",
      "After patch embedding shape: torch.Size([512, 1, 32])\n",
      "After adding pos_embedding shape: torch.Size([512, 49, 32])\n"
     ]
    },
    {
     "name": "stderr",
     "output_type": "stream",
     "text": [
      "loss 1.67205:  40%|███▉      | 39/98 [00:08<00:11,  5.02it/s]"
     ]
    },
    {
     "name": "stdout",
     "output_type": "stream",
     "text": [
      "Input shape: torch.Size([512, 3, 32, 32])\n",
      "After patch embedding shape: torch.Size([512, 1, 32])\n",
      "After adding pos_embedding shape: torch.Size([512, 49, 32])\n"
     ]
    },
    {
     "name": "stderr",
     "output_type": "stream",
     "text": [
      "loss 1.57555:  41%|████      | 40/98 [00:08<00:11,  5.09it/s]"
     ]
    },
    {
     "name": "stdout",
     "output_type": "stream",
     "text": [
      "Input shape: torch.Size([512, 3, 32, 32])\n",
      "After patch embedding shape: torch.Size([512, 1, 32])\n",
      "After adding pos_embedding shape: torch.Size([512, 49, 32])\n",
      "Input shape: torch.Size([512, 3, 32, 32])\n",
      "After patch embedding shape: torch.Size([512, 1, 32])\n",
      "After adding pos_embedding shape: torch.Size([512, 49, 32])\n"
     ]
    },
    {
     "name": "stderr",
     "output_type": "stream",
     "text": [
      "loss 1.63670:  43%|████▎     | 42/98 [00:08<00:10,  5.14it/s]"
     ]
    },
    {
     "name": "stdout",
     "output_type": "stream",
     "text": [
      "Input shape: torch.Size([512, 3, 32, 32])\n",
      "After patch embedding shape: torch.Size([512, 1, 32])\n",
      "After adding pos_embedding shape: torch.Size([512, 49, 32])\n",
      "Input shape: torch.Size([512, 3, 32, 32])\n",
      "After patch embedding shape: torch.Size([512, 1, 32])\n",
      "After adding pos_embedding shape: torch.Size([512, 49, 32])\n"
     ]
    },
    {
     "name": "stderr",
     "output_type": "stream",
     "text": [
      "loss 1.65116:  45%|████▍     | 44/98 [00:09<00:10,  5.14it/s]"
     ]
    },
    {
     "name": "stdout",
     "output_type": "stream",
     "text": [
      "Input shape: torch.Size([512, 3, 32, 32])\n",
      "After patch embedding shape: torch.Size([512, 1, 32])\n",
      "After adding pos_embedding shape: torch.Size([512, 49, 32])\n",
      "Input shape: torch.Size([512, 3, 32, 32])\n",
      "After patch embedding shape: torch.Size([512, 1, 32])\n",
      "After adding pos_embedding shape: torch.Size([512, 49, 32])\n"
     ]
    },
    {
     "name": "stderr",
     "output_type": "stream",
     "text": [
      "loss 1.64036:  47%|████▋     | 46/98 [00:09<00:10,  5.15it/s]"
     ]
    },
    {
     "name": "stdout",
     "output_type": "stream",
     "text": [
      "Input shape: torch.Size([512, 3, 32, 32])\n",
      "After patch embedding shape: torch.Size([512, 1, 32])\n",
      "After adding pos_embedding shape: torch.Size([512, 49, 32])\n",
      "Input shape: torch.Size([512, 3, 32, 32])\n",
      "After patch embedding shape: torch.Size([512, 1, 32])\n",
      "After adding pos_embedding shape: torch.Size([512, 49, 32])\n"
     ]
    },
    {
     "name": "stderr",
     "output_type": "stream",
     "text": [
      "loss 1.65177:  49%|████▉     | 48/98 [00:10<00:09,  5.14it/s]"
     ]
    },
    {
     "name": "stdout",
     "output_type": "stream",
     "text": [
      "Input shape: torch.Size([512, 3, 32, 32])\n",
      "After patch embedding shape: torch.Size([512, 1, 32])\n",
      "After adding pos_embedding shape: torch.Size([512, 49, 32])\n",
      "Input shape: torch.Size([512, 3, 32, 32])\n",
      "After patch embedding shape: torch.Size([512, 1, 32])\n",
      "After adding pos_embedding shape: torch.Size([512, 49, 32])\n"
     ]
    },
    {
     "name": "stderr",
     "output_type": "stream",
     "text": [
      "loss 1.61239:  51%|█████     | 50/98 [00:10<00:09,  5.17it/s]"
     ]
    },
    {
     "name": "stdout",
     "output_type": "stream",
     "text": [
      "Input shape: torch.Size([512, 3, 32, 32])\n",
      "After patch embedding shape: torch.Size([512, 1, 32])\n",
      "After adding pos_embedding shape: torch.Size([512, 49, 32])\n",
      "Input shape: torch.Size([512, 3, 32, 32])\n",
      "After patch embedding shape: torch.Size([512, 1, 32])\n",
      "After adding pos_embedding shape: torch.Size([512, 49, 32])\n"
     ]
    },
    {
     "name": "stderr",
     "output_type": "stream",
     "text": [
      "loss 1.61668:  53%|█████▎    | 52/98 [00:10<00:08,  5.19it/s]"
     ]
    },
    {
     "name": "stdout",
     "output_type": "stream",
     "text": [
      "Input shape: torch.Size([512, 3, 32, 32])\n",
      "After patch embedding shape: torch.Size([512, 1, 32])\n",
      "After adding pos_embedding shape: torch.Size([512, 49, 32])\n",
      "Input shape: torch.Size([512, 3, 32, 32])\n",
      "After patch embedding shape: torch.Size([512, 1, 32])\n",
      "After adding pos_embedding shape: torch.Size([512, 49, 32])\n"
     ]
    },
    {
     "name": "stderr",
     "output_type": "stream",
     "text": [
      "loss 1.67795:  55%|█████▌    | 54/98 [00:11<00:08,  5.18it/s]"
     ]
    },
    {
     "name": "stdout",
     "output_type": "stream",
     "text": [
      "Input shape: torch.Size([512, 3, 32, 32])\n",
      "After patch embedding shape: torch.Size([512, 1, 32])\n",
      "After adding pos_embedding shape: torch.Size([512, 49, 32])\n",
      "Input shape: torch.Size([512, 3, 32, 32])\n",
      "After patch embedding shape: torch.Size([512, 1, 32])\n",
      "After adding pos_embedding shape: torch.Size([512, 49, 32])\n"
     ]
    },
    {
     "name": "stderr",
     "output_type": "stream",
     "text": [
      "loss 1.65006:  57%|█████▋    | 56/98 [00:11<00:08,  5.13it/s]"
     ]
    },
    {
     "name": "stdout",
     "output_type": "stream",
     "text": [
      "Input shape: torch.Size([512, 3, 32, 32])\n",
      "After patch embedding shape: torch.Size([512, 1, 32])\n",
      "After adding pos_embedding shape: torch.Size([512, 49, 32])\n",
      "Input shape: torch.Size([512, 3, 32, 32])\n",
      "After patch embedding shape: torch.Size([512, 1, 32])\n",
      "After adding pos_embedding shape: torch.Size([512, 49, 32])\n"
     ]
    },
    {
     "name": "stderr",
     "output_type": "stream",
     "text": [
      "loss 1.59501:  59%|█████▉    | 58/98 [00:11<00:07,  5.09it/s]"
     ]
    },
    {
     "name": "stdout",
     "output_type": "stream",
     "text": [
      "Input shape: torch.Size([512, 3, 32, 32])\n",
      "After patch embedding shape: torch.Size([512, 1, 32])\n",
      "After adding pos_embedding shape: torch.Size([512, 49, 32])\n",
      "Input shape: torch.Size([512, 3, 32, 32])\n",
      "After patch embedding shape: torch.Size([512, 1, 32])\n",
      "After adding pos_embedding shape: torch.Size([512, 49, 32])\n"
     ]
    },
    {
     "name": "stderr",
     "output_type": "stream",
     "text": [
      "loss 1.57025:  61%|██████    | 60/98 [00:12<00:07,  5.07it/s]"
     ]
    },
    {
     "name": "stdout",
     "output_type": "stream",
     "text": [
      "Input shape: torch.Size([512, 3, 32, 32])\n",
      "After patch embedding shape: torch.Size([512, 1, 32])\n",
      "After adding pos_embedding shape: torch.Size([512, 49, 32])\n",
      "Input shape: torch.Size([512, 3, 32, 32])\n",
      "After patch embedding shape: torch.Size([512, 1, 32])\n",
      "After adding pos_embedding shape: torch.Size([512, 49, 32])\n"
     ]
    },
    {
     "name": "stderr",
     "output_type": "stream",
     "text": [
      "loss 1.64267:  63%|██████▎   | 62/98 [00:12<00:07,  5.07it/s]"
     ]
    },
    {
     "name": "stdout",
     "output_type": "stream",
     "text": [
      "Input shape: torch.Size([512, 3, 32, 32])\n",
      "After patch embedding shape: torch.Size([512, 1, 32])\n",
      "After adding pos_embedding shape: torch.Size([512, 49, 32])\n",
      "Input shape: torch.Size([512, 3, 32, 32])\n",
      "After patch embedding shape: torch.Size([512, 1, 32])\n",
      "After adding pos_embedding shape: torch.Size([512, 49, 32])\n"
     ]
    },
    {
     "name": "stderr",
     "output_type": "stream",
     "text": [
      "loss 1.71328:  65%|██████▌   | 64/98 [00:13<00:06,  4.93it/s]"
     ]
    },
    {
     "name": "stdout",
     "output_type": "stream",
     "text": [
      "Input shape: torch.Size([512, 3, 32, 32])\n",
      "After patch embedding shape: torch.Size([512, 1, 32])\n",
      "After adding pos_embedding shape: torch.Size([512, 49, 32])\n",
      "Input shape: torch.Size([512, 3, 32, 32])\n",
      "After patch embedding shape: torch.Size([512, 1, 32])\n",
      "After adding pos_embedding shape: torch.Size([512, 49, 32])\n"
     ]
    },
    {
     "name": "stderr",
     "output_type": "stream",
     "text": [
      "loss 1.63585:  67%|██████▋   | 66/98 [00:13<00:06,  5.04it/s]"
     ]
    },
    {
     "name": "stdout",
     "output_type": "stream",
     "text": [
      "Input shape: torch.Size([512, 3, 32, 32])\n",
      "After patch embedding shape: torch.Size([512, 1, 32])\n",
      "After adding pos_embedding shape: torch.Size([512, 49, 32])\n",
      "Input shape: torch.Size([512, 3, 32, 32])\n",
      "After patch embedding shape: torch.Size([512, 1, 32])\n",
      "After adding pos_embedding shape: torch.Size([512, 49, 32])\n"
     ]
    },
    {
     "name": "stderr",
     "output_type": "stream",
     "text": [
      "loss 1.59620:  69%|██████▉   | 68/98 [00:13<00:05,  5.09it/s]"
     ]
    },
    {
     "name": "stdout",
     "output_type": "stream",
     "text": [
      "Input shape: torch.Size([512, 3, 32, 32])\n",
      "After patch embedding shape: torch.Size([512, 1, 32])\n",
      "After adding pos_embedding shape: torch.Size([512, 49, 32])\n",
      "Input shape: torch.Size([512, 3, 32, 32])\n",
      "After patch embedding shape: torch.Size([512, 1, 32])\n",
      "After adding pos_embedding shape: torch.Size([512, 49, 32])\n"
     ]
    },
    {
     "name": "stderr",
     "output_type": "stream",
     "text": [
      "loss 1.65090:  71%|███████▏  | 70/98 [00:14<00:05,  5.01it/s]"
     ]
    },
    {
     "name": "stdout",
     "output_type": "stream",
     "text": [
      "Input shape: torch.Size([512, 3, 32, 32])\n",
      "After patch embedding shape: torch.Size([512, 1, 32])\n",
      "After adding pos_embedding shape: torch.Size([512, 49, 32])\n",
      "Input shape: torch.Size([512, 3, 32, 32])\n",
      "After patch embedding shape: torch.Size([512, 1, 32])\n",
      "After adding pos_embedding shape: torch.Size([512, 49, 32])\n"
     ]
    },
    {
     "name": "stderr",
     "output_type": "stream",
     "text": [
      "loss 1.62864:  73%|███████▎  | 72/98 [00:14<00:05,  4.66it/s]"
     ]
    },
    {
     "name": "stdout",
     "output_type": "stream",
     "text": [
      "Input shape: torch.Size([512, 3, 32, 32])\n",
      "After patch embedding shape: torch.Size([512, 1, 32])\n",
      "After adding pos_embedding shape: torch.Size([512, 49, 32])\n"
     ]
    },
    {
     "name": "stderr",
     "output_type": "stream",
     "text": [
      "loss 1.69374:  74%|███████▍  | 73/98 [00:15<00:05,  4.56it/s]"
     ]
    },
    {
     "name": "stdout",
     "output_type": "stream",
     "text": [
      "Input shape: torch.Size([512, 3, 32, 32])\n",
      "After patch embedding shape: torch.Size([512, 1, 32])\n",
      "After adding pos_embedding shape: torch.Size([512, 49, 32])\n"
     ]
    },
    {
     "name": "stderr",
     "output_type": "stream",
     "text": [
      "loss 1.58553:  76%|███████▌  | 74/98 [00:15<00:05,  4.40it/s]"
     ]
    },
    {
     "name": "stdout",
     "output_type": "stream",
     "text": [
      "Input shape: torch.Size([512, 3, 32, 32])\n",
      "After patch embedding shape: torch.Size([512, 1, 32])\n",
      "After adding pos_embedding shape: torch.Size([512, 49, 32])\n"
     ]
    },
    {
     "name": "stderr",
     "output_type": "stream",
     "text": [
      "loss 1.52301:  77%|███████▋  | 75/98 [00:15<00:05,  4.34it/s]"
     ]
    },
    {
     "name": "stdout",
     "output_type": "stream",
     "text": [
      "Input shape: torch.Size([512, 3, 32, 32])\n",
      "After patch embedding shape: torch.Size([512, 1, 32])\n",
      "After adding pos_embedding shape: torch.Size([512, 49, 32])\n"
     ]
    },
    {
     "name": "stderr",
     "output_type": "stream",
     "text": [
      "loss 1.55959:  78%|███████▊  | 76/98 [00:15<00:04,  4.47it/s]"
     ]
    },
    {
     "name": "stdout",
     "output_type": "stream",
     "text": [
      "Input shape: torch.Size([512, 3, 32, 32])\n",
      "After patch embedding shape: torch.Size([512, 1, 32])\n",
      "After adding pos_embedding shape: torch.Size([512, 49, 32])\n"
     ]
    },
    {
     "name": "stderr",
     "output_type": "stream",
     "text": [
      "loss 1.66142:  79%|███████▊  | 77/98 [00:15<00:04,  4.59it/s]"
     ]
    },
    {
     "name": "stdout",
     "output_type": "stream",
     "text": [
      "Input shape: torch.Size([512, 3, 32, 32])\n",
      "After patch embedding shape: torch.Size([512, 1, 32])\n",
      "After adding pos_embedding shape: torch.Size([512, 49, 32])\n"
     ]
    },
    {
     "name": "stderr",
     "output_type": "stream",
     "text": [
      "loss 1.59985:  80%|███████▉  | 78/98 [00:16<00:04,  4.69it/s]"
     ]
    },
    {
     "name": "stdout",
     "output_type": "stream",
     "text": [
      "Input shape: torch.Size([512, 3, 32, 32])\n",
      "After patch embedding shape: torch.Size([512, 1, 32])\n",
      "After adding pos_embedding shape: torch.Size([512, 49, 32])\n"
     ]
    },
    {
     "name": "stderr",
     "output_type": "stream",
     "text": [
      "loss 1.56349:  81%|████████  | 79/98 [00:16<00:04,  4.74it/s]"
     ]
    },
    {
     "name": "stdout",
     "output_type": "stream",
     "text": [
      "Input shape: torch.Size([512, 3, 32, 32])\n",
      "After patch embedding shape: torch.Size([512, 1, 32])\n",
      "After adding pos_embedding shape: torch.Size([512, 49, 32])\n"
     ]
    },
    {
     "name": "stderr",
     "output_type": "stream",
     "text": [
      "loss 1.64738:  82%|████████▏ | 80/98 [00:16<00:03,  4.63it/s]"
     ]
    },
    {
     "name": "stdout",
     "output_type": "stream",
     "text": [
      "Input shape: torch.Size([512, 3, 32, 32])\n",
      "After patch embedding shape: torch.Size([512, 1, 32])\n",
      "After adding pos_embedding shape: torch.Size([512, 49, 32])\n"
     ]
    },
    {
     "name": "stderr",
     "output_type": "stream",
     "text": [
      "loss 1.61621:  83%|████████▎ | 81/98 [00:16<00:03,  4.65it/s]"
     ]
    },
    {
     "name": "stdout",
     "output_type": "stream",
     "text": [
      "Input shape: torch.Size([512, 3, 32, 32])\n",
      "After patch embedding shape: torch.Size([512, 1, 32])\n",
      "After adding pos_embedding shape: torch.Size([512, 49, 32])\n"
     ]
    },
    {
     "name": "stderr",
     "output_type": "stream",
     "text": [
      "loss 1.65865:  84%|████████▎ | 82/98 [00:17<00:03,  4.69it/s]"
     ]
    },
    {
     "name": "stdout",
     "output_type": "stream",
     "text": [
      "Input shape: torch.Size([512, 3, 32, 32])\n",
      "After patch embedding shape: torch.Size([512, 1, 32])\n",
      "After adding pos_embedding shape: torch.Size([512, 49, 32])\n"
     ]
    },
    {
     "name": "stderr",
     "output_type": "stream",
     "text": [
      "loss 1.58720:  85%|████████▍ | 83/98 [00:17<00:03,  4.74it/s]"
     ]
    },
    {
     "name": "stdout",
     "output_type": "stream",
     "text": [
      "Input shape: torch.Size([512, 3, 32, 32])\n",
      "After patch embedding shape: torch.Size([512, 1, 32])\n",
      "After adding pos_embedding shape: torch.Size([512, 49, 32])\n"
     ]
    },
    {
     "name": "stderr",
     "output_type": "stream",
     "text": [
      "loss 1.67431:  86%|████████▌ | 84/98 [00:17<00:02,  4.76it/s]"
     ]
    },
    {
     "name": "stdout",
     "output_type": "stream",
     "text": [
      "Input shape: torch.Size([512, 3, 32, 32])\n",
      "After patch embedding shape: torch.Size([512, 1, 32])\n",
      "After adding pos_embedding shape: torch.Size([512, 49, 32])\n"
     ]
    },
    {
     "name": "stderr",
     "output_type": "stream",
     "text": [
      "loss 1.63875:  87%|████████▋ | 85/98 [00:17<00:02,  4.78it/s]"
     ]
    },
    {
     "name": "stdout",
     "output_type": "stream",
     "text": [
      "Input shape: torch.Size([512, 3, 32, 32])\n",
      "After patch embedding shape: torch.Size([512, 1, 32])\n",
      "After adding pos_embedding shape: torch.Size([512, 49, 32])\n"
     ]
    },
    {
     "name": "stderr",
     "output_type": "stream",
     "text": [
      "loss 1.65987:  88%|████████▊ | 86/98 [00:17<00:02,  4.81it/s]"
     ]
    },
    {
     "name": "stdout",
     "output_type": "stream",
     "text": [
      "Input shape: torch.Size([512, 3, 32, 32])\n",
      "After patch embedding shape: torch.Size([512, 1, 32])\n",
      "After adding pos_embedding shape: torch.Size([512, 49, 32])\n"
     ]
    },
    {
     "name": "stderr",
     "output_type": "stream",
     "text": [
      "loss 1.67262:  89%|████████▉ | 87/98 [00:18<00:02,  4.78it/s]"
     ]
    },
    {
     "name": "stdout",
     "output_type": "stream",
     "text": [
      "Input shape: torch.Size([512, 3, 32, 32])\n",
      "After patch embedding shape: torch.Size([512, 1, 32])\n",
      "After adding pos_embedding shape: torch.Size([512, 49, 32])\n"
     ]
    },
    {
     "name": "stderr",
     "output_type": "stream",
     "text": [
      "loss 1.61677:  90%|████████▉ | 88/98 [00:18<00:02,  4.80it/s]"
     ]
    },
    {
     "name": "stdout",
     "output_type": "stream",
     "text": [
      "Input shape: torch.Size([512, 3, 32, 32])\n",
      "After patch embedding shape: torch.Size([512, 1, 32])\n",
      "After adding pos_embedding shape: torch.Size([512, 49, 32])\n"
     ]
    },
    {
     "name": "stderr",
     "output_type": "stream",
     "text": [
      "loss 1.62704:  91%|█████████ | 89/98 [00:18<00:01,  4.83it/s]"
     ]
    },
    {
     "name": "stdout",
     "output_type": "stream",
     "text": [
      "Input shape: torch.Size([512, 3, 32, 32])\n",
      "After patch embedding shape: torch.Size([512, 1, 32])\n",
      "After adding pos_embedding shape: torch.Size([512, 49, 32])\n"
     ]
    },
    {
     "name": "stderr",
     "output_type": "stream",
     "text": [
      "loss 1.59167:  92%|█████████▏| 90/98 [00:18<00:01,  4.84it/s]"
     ]
    },
    {
     "name": "stdout",
     "output_type": "stream",
     "text": [
      "Input shape: torch.Size([512, 3, 32, 32])\n",
      "After patch embedding shape: torch.Size([512, 1, 32])\n",
      "After adding pos_embedding shape: torch.Size([512, 49, 32])\n"
     ]
    },
    {
     "name": "stderr",
     "output_type": "stream",
     "text": [
      "loss 1.60424:  93%|█████████▎| 91/98 [00:18<00:01,  4.88it/s]"
     ]
    },
    {
     "name": "stdout",
     "output_type": "stream",
     "text": [
      "Input shape: torch.Size([512, 3, 32, 32])\n",
      "After patch embedding shape: torch.Size([512, 1, 32])\n",
      "After adding pos_embedding shape: torch.Size([512, 49, 32])\n"
     ]
    },
    {
     "name": "stderr",
     "output_type": "stream",
     "text": [
      "loss 1.63811:  94%|█████████▍| 92/98 [00:19<00:01,  4.83it/s]"
     ]
    },
    {
     "name": "stdout",
     "output_type": "stream",
     "text": [
      "Input shape: torch.Size([512, 3, 32, 32])\n",
      "After patch embedding shape: torch.Size([512, 1, 32])\n",
      "After adding pos_embedding shape: torch.Size([512, 49, 32])\n"
     ]
    },
    {
     "name": "stderr",
     "output_type": "stream",
     "text": [
      "loss 1.66969:  95%|█████████▍| 93/98 [00:19<00:01,  4.89it/s]"
     ]
    },
    {
     "name": "stdout",
     "output_type": "stream",
     "text": [
      "Input shape: torch.Size([512, 3, 32, 32])\n",
      "After patch embedding shape: torch.Size([512, 1, 32])\n",
      "After adding pos_embedding shape: torch.Size([512, 49, 32])\n",
      "Input shape: torch.Size([512, 3, 32, 32])\n",
      "After patch embedding shape: torch.Size([512, 1, 32])\n",
      "After adding pos_embedding shape: torch.Size([512, 49, 32])\n"
     ]
    },
    {
     "name": "stderr",
     "output_type": "stream",
     "text": [
      "loss 1.66453:  97%|█████████▋| 95/98 [00:19<00:00,  5.05it/s]"
     ]
    },
    {
     "name": "stdout",
     "output_type": "stream",
     "text": [
      "Input shape: torch.Size([512, 3, 32, 32])\n",
      "After patch embedding shape: torch.Size([512, 1, 32])\n",
      "After adding pos_embedding shape: torch.Size([512, 49, 32])\n",
      "Input shape: torch.Size([512, 3, 32, 32])\n",
      "After patch embedding shape: torch.Size([512, 1, 32])\n",
      "After adding pos_embedding shape: torch.Size([512, 49, 32])\n"
     ]
    },
    {
     "name": "stderr",
     "output_type": "stream",
     "text": [
      "loss 1.64413:  99%|█████████▉| 97/98 [00:20<00:00,  5.13it/s]"
     ]
    },
    {
     "name": "stdout",
     "output_type": "stream",
     "text": [
      "Input shape: torch.Size([512, 3, 32, 32])\n",
      "After patch embedding shape: torch.Size([512, 1, 32])\n",
      "After adding pos_embedding shape: torch.Size([512, 49, 32])\n",
      "Input shape: torch.Size([336, 3, 32, 32])\n",
      "After patch embedding shape: torch.Size([336, 1, 32])\n",
      "After adding pos_embedding shape: torch.Size([336, 49, 32])\n"
     ]
    },
    {
     "name": "stderr",
     "output_type": "stream",
     "text": [
      "loss 1.60080: 100%|██████████| 98/98 [00:20<00:00,  4.84it/s]\n"
     ]
    }
   ],
   "source": [
    "trainer = Trainer(model, train_loader, test_loader, criterion, optimizer, device)\n",
    "\n",
    "for epoch in range(num_epochs):\n",
    "    print(f\"Época {epoch+1}/{num_epochs}\")\n",
    "    trainer.train_model(use_amp=True)\n",
    "    scheduler.step()"
   ]
  },
  {
   "cell_type": "code",
   "execution_count": 83,
   "metadata": {},
   "outputs": [],
   "source": [
    "def visualize_classification(model, data_loader, class_names, device, num_images=16):\n",
    "    model.eval()\n",
    "    images_shown = 0\n",
    "    fig = plt.figure(figsize=(15, 15))\n",
    "    with torch.no_grad():\n",
    "        for images, labels in data_loader:\n",
    "            images, labels = images.to(device), labels.to(device)\n",
    "            outputs = model(images)\n",
    "            _, preds = torch.max(outputs, 1)\n",
    "            for i in range(images.size(0)):\n",
    "                images_shown += 1\n",
    "                ax = plt.subplot(num_images // 4, 4, images_shown)\n",
    "                ax.axis('off')\n",
    "                ax.set_title(f'True: {class_names[labels[i]]}\\nPred: {class_names[preds[i]]}')\n",
    "                img = images[i].cpu().numpy().transpose((1, 2, 0))\n",
    "                img = img * [0.24703223, 0.24348513, 0.26158784] + [0.49139968, 0.48215841, 0.44653091]\n",
    "                img = np.clip(img, 0, 1)\n",
    "                ax.imshow(img)\n",
    "                if images_shown == num_images:\n",
    "                    return\n"
   ]
  },
  {
   "cell_type": "code",
   "execution_count": 84,
   "metadata": {},
   "outputs": [
    {
     "name": "stdout",
     "output_type": "stream",
     "text": [
      "Input shape: torch.Size([512, 3, 32, 32])\n",
      "After patch embedding shape: torch.Size([512, 1, 32])\n",
      "After adding pos_embedding shape: torch.Size([512, 49, 32])\n"
     ]
    },
    {
     "data": {
      "image/png": "[encoded data removed]",
      "text/plain": [
       "<Figure size 1500x1500 with 16 Axes>"
      ]
     },
     "metadata": {},
     "output_type": "display_data"
    }
   ],
   "source": [
    "class_names = train_dataset.classes\n",
    "visualize_classification(model, test_loader, class_names, device)\n",
    "plt.show()"
   ]
  },
  {
   "cell_type": "code",
   "execution_count": 85,
   "metadata": {},
   "outputs": [
    {
     "data": {
      "text/plain": [
       "(32, 32, 3)"
      ]
     },
     "execution_count": 85,
     "metadata": {},
     "output_type": "execute_result"
    }
   ],
   "source": [
    "train_dataset.data[0].shape"
   ]
  },
  {
   "cell_type": "markdown",
   "metadata": {},
   "source": [
    "## Cambiando parámetros y aumentando los datos"
   ]
  },
  {
   "cell_type": "code",
   "execution_count": 275,
   "metadata": {},
   "outputs": [],
   "source": [
    "# Hiperparámetros\n",
    "num_epochs = 10 \n",
    "img_size = 32 # de cifar10\n",
    "patch_size = 32\n",
    "embed_dim = 64  # Aumenta la dimensión de embedding\n",
    "num_heads = 2\n",
    "ff_dim = 128  # Aumenta la dimensión de la capa feed-forward\n",
    "num_layers = 4\n",
    "num_classes = 10\n",
    "dropout = 0.3 \n",
    "batch_size = 128\n",
    "learning_rate = 1e-4"
   ]
  },
  {
   "cell_type": "code",
   "execution_count": 282,
   "metadata": {},
   "outputs": [],
   "source": [
    "def eval_model(model, loss_fn, device):\n",
    "    \"\"\"\n",
    "    Evalúa el modelo en el conjunto de datos de prueba y calcula la pérdida y la precisión.\n",
    "\n",
    "    :param model: El modelo a evaluar.\n",
    "    :param loss_fn: Función de pérdida que se utiliza para calcular la pérdida.\n",
    "    :param device: Dispositivo (CPU/GPU) donde se encuentra el modelo y los datos.\n",
    "\n",
    "    :return: Tupla (val_loss, accuracy), donde:\n",
    "        - val_loss: La pérdida promedio en el conjunto de prueba.\n",
    "        - accuracy: La precisión en el conjunto de prueba.\n",
    "    \"\"\"\n",
    "    model = model.eval()\n",
    "    losses = []\n",
    "    correct = 0\n",
    "    total = 0\n",
    "    bar = tqdm(test_loader, desc=\"Evaluando\", leave=False)\n",
    "\n",
    "    with torch.no_grad():\n",
    "        for val_input, val_mask in bar:\n",
    "            val_input, val_mask = val_input.to(device), val_mask.to(device)\n",
    "            outputs = model(val_input)\n",
    "\n",
    "            # Cálculo de la pérdida\n",
    "            loss = loss_fn(outputs, val_mask)\n",
    "            losses.append(loss.item())\n",
    "\n",
    "            # Cálculo de precisión (accuracy)\n",
    "            _, predicted = torch.max(outputs, 1)\n",
    "            total += val_mask.size(0)\n",
    "            correct += (predicted == val_mask).sum().item()\n",
    "\n",
    "            bar.set_description(f\"Val Loss: {loss:.5f}, Accuracy: {100 * correct / total:.2f}%\")\n",
    "\n",
    "    avg_loss = np.mean(losses)\n",
    "    accuracy = correct / total * 100\n",
    "    return avg_loss, accuracy"
   ]
  },
  {
   "cell_type": "markdown",
   "metadata": {},
   "source": [
    "### Transformaciones"
   ]
  },
  {
   "cell_type": "code",
   "execution_count": 283,
   "metadata": {},
   "outputs": [],
   "source": [
    "# Transforms (Aumento de datos)\n",
    "transform_train = transforms.Compose([\n",
    "    transforms.RandomHorizontalFlip(),\n",
    "    transforms.RandomCrop(32, padding=4),\n",
    "    transforms.ToTensor(),\n",
    "    transforms.Normalize(mean=[0.485, 0.456, 0.406], std=[0.229, 0.224, 0.225]),\n",
    "])\n",
    "transform_test = transforms.Compose([\n",
    "    transforms.ToTensor(),\n",
    "    transforms.Normalize(mean=[0.485, 0.456, 0.406], std=[0.229, 0.224, 0.225]),\n",
    "])"
   ]
  },
  {
   "cell_type": "code",
   "execution_count": 284,
   "metadata": {},
   "outputs": [
    {
     "name": "stdout",
     "output_type": "stream",
     "text": [
      "Files already downloaded and verified\n",
      "Files already downloaded and verified\n"
     ]
    }
   ],
   "source": [
    "# Carga del dataset CIFAR10 a partir de las transformaciones\n",
    "train_dataset = datasets.CIFAR10(root='./data', train=True, download=True, transform=transform_train)\n",
    "train_loader = torch.utils.data.DataLoader(train_dataset, batch_size=batch_size, shuffle=True)\n",
    "\n",
    "test_dataset = datasets.CIFAR10(root='./data', train=False, download=True, transform=transform_test)\n",
    "test_loader = torch.utils.data.DataLoader(test_dataset, batch_size=batch_size, shuffle=True)"
   ]
  },
  {
   "cell_type": "code",
   "execution_count": 285,
   "metadata": {},
   "outputs": [],
   "source": [
    "# Inicializar modelo\n",
    "model_with_augmentation = VisionTransformer(\n",
    "    img_size=img_size, \n",
    "    patch_size=patch_size, \n",
    "    num_classes=num_classes, \n",
    "    embed_dim=embed_dim, \n",
    "    num_heads=num_heads, \n",
    "    ff_dim=ff_dim, \n",
    "    num_layers=num_layers, \n",
    "    dropout=dropout\n",
    ").to(device)"
   ]
  },
  {
   "cell_type": "code",
   "execution_count": 290,
   "metadata": {},
   "outputs": [],
   "source": [
    "# Funciones de pérdida y optimizador, se prueba con otro optimizador (SGD)\n",
    "criterion = nn.CrossEntropyLoss()\n",
    "optimizer = optim.SGD(model_with_augmentation.parameters(), lr=learning_rate, momentum=0.9) \n",
    "scheduler = StepLR(optimizer, step_size=2, gamma=0.1)\n",
    "\n",
    "model_2 = model_with_augmentation.to(device)\n",
    "\n",
    "try:\n",
    "    model_2 = torch.compile(model_2)\n",
    "except Exception as e:\n",
    "    print(\"Se produjo error durante la compilación:\", e)"
   ]
  },
  {
   "cell_type": "code",
   "execution_count": 291,
   "metadata": {},
   "outputs": [
    {
     "name": "stdout",
     "output_type": "stream",
     "text": [
      "Número de parámetros: 0.33 millones\n"
     ]
    }
   ],
   "source": [
    "print(\"Número de parámetros: {:.2f} millones\".format(count_parameters(model_2)))"
   ]
  },
  {
   "cell_type": "markdown",
   "metadata": {},
   "source": [
    "### Entrenamiento"
   ]
  },
  {
   "cell_type": "code",
   "execution_count": 292,
   "metadata": {},
   "outputs": [
    {
     "name": "stdout",
     "output_type": "stream",
     "text": [
      "Época 1/10\n"
     ]
    },
    {
     "name": "stderr",
     "output_type": "stream",
     "text": [
      "  0%|          | 0/391 [00:00<?, ?it/s]/opt/anaconda3/envs/anaconda_python_3_11/lib/python3.11/site-packages/torch/amp/autocast_mode.py:250: UserWarning: User provided device_type of 'cuda', but CUDA is not available. Disabling\n",
      "  warnings.warn(\n",
      "[2024-11-07 18:18:29,959] torch._dynamo.convert_frame: [WARNING] WON'T CONVERT forward /var/folders/ml/g_sxsst10mj890krz6gpp0980000gn/T/ipykernel_52446/3905544069.py line 28 \n",
      "[2024-11-07 18:18:29,959] torch._dynamo.convert_frame: [WARNING] due to: \n",
      "[2024-11-07 18:18:29,959] torch._dynamo.convert_frame: [WARNING] Traceback (most recent call last):\n",
      "[2024-11-07 18:18:29,959] torch._dynamo.convert_frame: [WARNING]   File \"/opt/anaconda3/envs/anaconda_python_3_11/lib/python3.11/site-packages/torch/_dynamo/convert_frame.py\", line 727, in _convert_frame\n",
      "[2024-11-07 18:18:29,959] torch._dynamo.convert_frame: [WARNING]     result = inner_convert(frame, cache_entry, hooks, frame_state)\n",
      "[2024-11-07 18:18:29,959] torch._dynamo.convert_frame: [WARNING]              ^^^^^^^^^^^^^^^^^^^^^^^^^^^^^^^^^^^^^^^^^^^^^^^^^^^^^\n",
      "[2024-11-07 18:18:29,959] torch._dynamo.convert_frame: [WARNING]   File \"/opt/anaconda3/envs/anaconda_python_3_11/lib/python3.11/site-packages/torch/_dynamo/convert_frame.py\", line 383, in _convert_frame_assert\n",
      "[2024-11-07 18:18:29,959] torch._dynamo.convert_frame: [WARNING]     compiled_product = _compile(\n",
      "[2024-11-07 18:18:29,959] torch._dynamo.convert_frame: [WARNING]                        ^^^^^^^^^\n",
      "[2024-11-07 18:18:29,959] torch._dynamo.convert_frame: [WARNING]   File \"/opt/anaconda3/envs/anaconda_python_3_11/lib/python3.11/site-packages/torch/_dynamo/convert_frame.py\", line 646, in _compile\n",
      "[2024-11-07 18:18:29,959] torch._dynamo.convert_frame: [WARNING]     guarded_code = compile_inner(code, one_graph, hooks, transform)\n",
      "[2024-11-07 18:18:29,959] torch._dynamo.convert_frame: [WARNING]                    ^^^^^^^^^^^^^^^^^^^^^^^^^^^^^^^^^^^^^^^^^^^^^^^^\n",
      "[2024-11-07 18:18:29,959] torch._dynamo.convert_frame: [WARNING]   File \"/opt/anaconda3/envs/anaconda_python_3_11/lib/python3.11/site-packages/torch/_dynamo/utils.py\", line 244, in time_wrapper\n",
      "[2024-11-07 18:18:29,959] torch._dynamo.convert_frame: [WARNING]     r = func(*args, **kwargs)\n",
      "[2024-11-07 18:18:29,959] torch._dynamo.convert_frame: [WARNING]         ^^^^^^^^^^^^^^^^^^^^^\n",
      "[2024-11-07 18:18:29,959] torch._dynamo.convert_frame: [WARNING]   File \"/opt/anaconda3/envs/anaconda_python_3_11/lib/python3.11/site-packages/torch/_dynamo/convert_frame.py\", line 562, in compile_inner\n",
      "[2024-11-07 18:18:29,959] torch._dynamo.convert_frame: [WARNING]     out_code = transform_code_object(code, transform)\n",
      "[2024-11-07 18:18:29,959] torch._dynamo.convert_frame: [WARNING]                ^^^^^^^^^^^^^^^^^^^^^^^^^^^^^^^^^^^^^^\n",
      "[2024-11-07 18:18:29,959] torch._dynamo.convert_frame: [WARNING]   File \"/opt/anaconda3/envs/anaconda_python_3_11/lib/python3.11/site-packages/torch/_dynamo/bytecode_transformation.py\", line 1033, in transform_code_object\n",
      "[2024-11-07 18:18:29,959] torch._dynamo.convert_frame: [WARNING]     transformations(instructions, code_options)\n",
      "[2024-11-07 18:18:29,959] torch._dynamo.convert_frame: [WARNING]   File \"/opt/anaconda3/envs/anaconda_python_3_11/lib/python3.11/site-packages/torch/_dynamo/convert_frame.py\", line 151, in _fn\n",
      "[2024-11-07 18:18:29,959] torch._dynamo.convert_frame: [WARNING]     return fn(*args, **kwargs)\n",
      "[2024-11-07 18:18:29,959] torch._dynamo.convert_frame: [WARNING]            ^^^^^^^^^^^^^^^^^^^\n",
      "[2024-11-07 18:18:29,959] torch._dynamo.convert_frame: [WARNING]   File \"/opt/anaconda3/envs/anaconda_python_3_11/lib/python3.11/site-packages/torch/_dynamo/convert_frame.py\", line 527, in transform\n",
      "[2024-11-07 18:18:29,959] torch._dynamo.convert_frame: [WARNING]     tracer.run()\n",
      "[2024-11-07 18:18:29,959] torch._dynamo.convert_frame: [WARNING]   File \"/opt/anaconda3/envs/anaconda_python_3_11/lib/python3.11/site-packages/torch/_dynamo/symbolic_convert.py\", line 2128, in run\n",
      "[2024-11-07 18:18:29,959] torch._dynamo.convert_frame: [WARNING]     super().run()\n",
      "[2024-11-07 18:18:29,959] torch._dynamo.convert_frame: [WARNING]   File \"/opt/anaconda3/envs/anaconda_python_3_11/lib/python3.11/site-packages/torch/_dynamo/symbolic_convert.py\", line 818, in run\n",
      "[2024-11-07 18:18:29,959] torch._dynamo.convert_frame: [WARNING]     and self.step()\n",
      "[2024-11-07 18:18:29,959] torch._dynamo.convert_frame: [WARNING]         ^^^^^^^^^^^\n",
      "[2024-11-07 18:18:29,959] torch._dynamo.convert_frame: [WARNING]   File \"/opt/anaconda3/envs/anaconda_python_3_11/lib/python3.11/site-packages/torch/_dynamo/symbolic_convert.py\", line 781, in step\n",
      "[2024-11-07 18:18:29,959] torch._dynamo.convert_frame: [WARNING]     getattr(self, inst.opname)(inst)\n",
      "[2024-11-07 18:18:29,959] torch._dynamo.convert_frame: [WARNING]   File \"/opt/anaconda3/envs/anaconda_python_3_11/lib/python3.11/site-packages/torch/_dynamo/symbolic_convert.py\", line 2243, in RETURN_VALUE\n",
      "[2024-11-07 18:18:29,959] torch._dynamo.convert_frame: [WARNING]     self.output.compile_subgraph(\n",
      "[2024-11-07 18:18:29,959] torch._dynamo.convert_frame: [WARNING]   File \"/opt/anaconda3/envs/anaconda_python_3_11/lib/python3.11/site-packages/torch/_dynamo/output_graph.py\", line 919, in compile_subgraph\n",
      "[2024-11-07 18:18:29,959] torch._dynamo.convert_frame: [WARNING]     self.compile_and_call_fx_graph(tx, list(reversed(stack_values)), root)\n",
      "[2024-11-07 18:18:29,959] torch._dynamo.convert_frame: [WARNING]   File \"/opt/anaconda3/envs/anaconda_python_3_11/lib/python3.11/contextlib.py\", line 81, in inner\n",
      "[2024-11-07 18:18:29,959] torch._dynamo.convert_frame: [WARNING]     return func(*args, **kwds)\n",
      "[2024-11-07 18:18:29,959] torch._dynamo.convert_frame: [WARNING]            ^^^^^^^^^^^^^^^^^^^\n",
      "[2024-11-07 18:18:29,959] torch._dynamo.convert_frame: [WARNING]   File \"/opt/anaconda3/envs/anaconda_python_3_11/lib/python3.11/site-packages/torch/_dynamo/output_graph.py\", line 1087, in compile_and_call_fx_graph\n",
      "[2024-11-07 18:18:29,959] torch._dynamo.convert_frame: [WARNING]     compiled_fn = self.call_user_compiler(gm)\n",
      "[2024-11-07 18:18:29,959] torch._dynamo.convert_frame: [WARNING]                   ^^^^^^^^^^^^^^^^^^^^^^^^^^^\n",
      "[2024-11-07 18:18:29,959] torch._dynamo.convert_frame: [WARNING]   File \"/opt/anaconda3/envs/anaconda_python_3_11/lib/python3.11/site-packages/torch/_dynamo/utils.py\", line 244, in time_wrapper\n",
      "[2024-11-07 18:18:29,959] torch._dynamo.convert_frame: [WARNING]     r = func(*args, **kwargs)\n",
      "[2024-11-07 18:18:29,959] torch._dynamo.convert_frame: [WARNING]         ^^^^^^^^^^^^^^^^^^^^^\n",
      "[2024-11-07 18:18:29,959] torch._dynamo.convert_frame: [WARNING]   File \"/opt/anaconda3/envs/anaconda_python_3_11/lib/python3.11/site-packages/torch/_dynamo/output_graph.py\", line 1159, in call_user_compiler\n",
      "[2024-11-07 18:18:29,959] torch._dynamo.convert_frame: [WARNING]     raise BackendCompilerFailed(self.compiler_fn, e).with_traceback(\n",
      "[2024-11-07 18:18:29,959] torch._dynamo.convert_frame: [WARNING]   File \"/opt/anaconda3/envs/anaconda_python_3_11/lib/python3.11/site-packages/torch/_dynamo/output_graph.py\", line 1140, in call_user_compiler\n",
      "[2024-11-07 18:18:29,959] torch._dynamo.convert_frame: [WARNING]     compiled_fn = compiler_fn(gm, self.example_inputs())\n",
      "[2024-11-07 18:18:29,959] torch._dynamo.convert_frame: [WARNING]                   ^^^^^^^^^^^^^^^^^^^^^^^^^^^^^^^^^^^^^^\n",
      "[2024-11-07 18:18:29,959] torch._dynamo.convert_frame: [WARNING]   File \"/opt/anaconda3/envs/anaconda_python_3_11/lib/python3.11/site-packages/torch/_dynamo/repro/after_dynamo.py\", line 117, in debug_wrapper\n",
      "[2024-11-07 18:18:29,959] torch._dynamo.convert_frame: [WARNING]     compiled_gm = compiler_fn(gm, example_inputs)\n",
      "[2024-11-07 18:18:29,959] torch._dynamo.convert_frame: [WARNING]                   ^^^^^^^^^^^^^^^^^^^^^^^^^^^^^^^\n",
      "[2024-11-07 18:18:29,959] torch._dynamo.convert_frame: [WARNING]   File \"/opt/anaconda3/envs/anaconda_python_3_11/lib/python3.11/site-packages/torch/__init__.py\", line 1662, in __call__\n",
      "[2024-11-07 18:18:29,959] torch._dynamo.convert_frame: [WARNING]     return compile_fx(model_, inputs_, config_patches=self.config)\n",
      "[2024-11-07 18:18:29,959] torch._dynamo.convert_frame: [WARNING]            ^^^^^^^^^^^^^^^^^^^^^^^^^^^^^^^^^^^^^^^^^^^^^^^^^^^^^^^\n",
      "[2024-11-07 18:18:29,959] torch._dynamo.convert_frame: [WARNING]   File \"/opt/anaconda3/envs/anaconda_python_3_11/lib/python3.11/site-packages/torch/_inductor/compile_fx.py\", line 1168, in compile_fx\n",
      "[2024-11-07 18:18:29,959] torch._dynamo.convert_frame: [WARNING]     return aot_autograd(\n",
      "[2024-11-07 18:18:29,959] torch._dynamo.convert_frame: [WARNING]            ^^^^^^^^^^^^^\n",
      "[2024-11-07 18:18:29,959] torch._dynamo.convert_frame: [WARNING]   File \"/opt/anaconda3/envs/anaconda_python_3_11/lib/python3.11/site-packages/torch/_dynamo/backends/common.py\", line 55, in compiler_fn\n",
      "[2024-11-07 18:18:29,959] torch._dynamo.convert_frame: [WARNING]     cg = aot_module_simplified(gm, example_inputs, **kwargs)\n",
      "[2024-11-07 18:18:29,959] torch._dynamo.convert_frame: [WARNING]          ^^^^^^^^^^^^^^^^^^^^^^^^^^^^^^^^^^^^^^^^^^^^^^^^^^^\n",
      "[2024-11-07 18:18:29,959] torch._dynamo.convert_frame: [WARNING]   File \"/opt/anaconda3/envs/anaconda_python_3_11/lib/python3.11/site-packages/torch/_functorch/aot_autograd.py\", line 887, in aot_module_simplified\n",
      "[2024-11-07 18:18:29,959] torch._dynamo.convert_frame: [WARNING]     compiled_fn = create_aot_dispatcher_function(\n",
      "[2024-11-07 18:18:29,959] torch._dynamo.convert_frame: [WARNING]                   ^^^^^^^^^^^^^^^^^^^^^^^^^^^^^^^\n",
      "[2024-11-07 18:18:29,959] torch._dynamo.convert_frame: [WARNING]   File \"/opt/anaconda3/envs/anaconda_python_3_11/lib/python3.11/site-packages/torch/_dynamo/utils.py\", line 244, in time_wrapper\n",
      "[2024-11-07 18:18:29,959] torch._dynamo.convert_frame: [WARNING]     r = func(*args, **kwargs)\n",
      "[2024-11-07 18:18:29,959] torch._dynamo.convert_frame: [WARNING]         ^^^^^^^^^^^^^^^^^^^^^\n",
      "[2024-11-07 18:18:29,959] torch._dynamo.convert_frame: [WARNING]   File \"/opt/anaconda3/envs/anaconda_python_3_11/lib/python3.11/site-packages/torch/_functorch/aot_autograd.py\", line 600, in create_aot_dispatcher_function\n",
      "[2024-11-07 18:18:29,959] torch._dynamo.convert_frame: [WARNING]     compiled_fn = compiler_fn(flat_fn, fake_flat_args, aot_config, fw_metadata=fw_metadata)\n",
      "[2024-11-07 18:18:29,959] torch._dynamo.convert_frame: [WARNING]                   ^^^^^^^^^^^^^^^^^^^^^^^^^^^^^^^^^^^^^^^^^^^^^^^^^^^^^^^^^^^^^^^^^^^^^^^^^\n",
      "[2024-11-07 18:18:29,959] torch._dynamo.convert_frame: [WARNING]   File \"/opt/anaconda3/envs/anaconda_python_3_11/lib/python3.11/site-packages/torch/_functorch/_aot_autograd/runtime_wrappers.py\", line 425, in aot_wrapper_dedupe\n",
      "[2024-11-07 18:18:29,959] torch._dynamo.convert_frame: [WARNING]     return compiler_fn(flat_fn, leaf_flat_args, aot_config, fw_metadata=fw_metadata)\n",
      "[2024-11-07 18:18:29,959] torch._dynamo.convert_frame: [WARNING]            ^^^^^^^^^^^^^^^^^^^^^^^^^^^^^^^^^^^^^^^^^^^^^^^^^^^^^^^^^^^^^^^^^^^^^^^^^\n",
      "[2024-11-07 18:18:29,959] torch._dynamo.convert_frame: [WARNING]   File \"/opt/anaconda3/envs/anaconda_python_3_11/lib/python3.11/site-packages/torch/_functorch/_aot_autograd/runtime_wrappers.py\", line 630, in aot_wrapper_synthetic_base\n",
      "[2024-11-07 18:18:29,959] torch._dynamo.convert_frame: [WARNING]     return compiler_fn(flat_fn, flat_args, aot_config, fw_metadata=fw_metadata)\n",
      "[2024-11-07 18:18:29,959] torch._dynamo.convert_frame: [WARNING]            ^^^^^^^^^^^^^^^^^^^^^^^^^^^^^^^^^^^^^^^^^^^^^^^^^^^^^^^^^^^^^^^^^^^^\n",
      "[2024-11-07 18:18:29,959] torch._dynamo.convert_frame: [WARNING]   File \"/opt/anaconda3/envs/anaconda_python_3_11/lib/python3.11/site-packages/torch/_functorch/_aot_autograd/jit_compile_runtime_wrappers.py\", line 295, in aot_dispatch_autograd\n",
      "[2024-11-07 18:18:29,959] torch._dynamo.convert_frame: [WARNING]     compiled_fw_func = aot_config.fw_compiler(fw_module, adjusted_flat_args)\n",
      "[2024-11-07 18:18:29,959] torch._dynamo.convert_frame: [WARNING]                        ^^^^^^^^^^^^^^^^^^^^^^^^^^^^^^^^^^^^^^^^^^^^^^^^^^^^^\n",
      "[2024-11-07 18:18:29,959] torch._dynamo.convert_frame: [WARNING]   File \"/opt/anaconda3/envs/anaconda_python_3_11/lib/python3.11/site-packages/torch/_dynamo/utils.py\", line 244, in time_wrapper\n",
      "[2024-11-07 18:18:29,959] torch._dynamo.convert_frame: [WARNING]     r = func(*args, **kwargs)\n",
      "[2024-11-07 18:18:29,959] torch._dynamo.convert_frame: [WARNING]         ^^^^^^^^^^^^^^^^^^^^^\n",
      "[2024-11-07 18:18:29,959] torch._dynamo.convert_frame: [WARNING]   File \"/opt/anaconda3/envs/anaconda_python_3_11/lib/python3.11/site-packages/torch/_inductor/compile_fx.py\", line 1100, in fw_compiler_base\n",
      "[2024-11-07 18:18:29,959] torch._dynamo.convert_frame: [WARNING]     return inner_compile(\n",
      "[2024-11-07 18:18:29,959] torch._dynamo.convert_frame: [WARNING]            ^^^^^^^^^^^^^^\n",
      "[2024-11-07 18:18:29,959] torch._dynamo.convert_frame: [WARNING]   File \"/opt/anaconda3/envs/anaconda_python_3_11/lib/python3.11/site-packages/torch/_dynamo/repro/after_aot.py\", line 83, in debug_wrapper\n",
      "[2024-11-07 18:18:29,959] torch._dynamo.convert_frame: [WARNING]     inner_compiled_fn = compiler_fn(gm, example_inputs)\n",
      "[2024-11-07 18:18:29,959] torch._dynamo.convert_frame: [WARNING]                         ^^^^^^^^^^^^^^^^^^^^^^^^^^^^^^^\n",
      "[2024-11-07 18:18:29,959] torch._dynamo.convert_frame: [WARNING]   File \"/opt/anaconda3/envs/anaconda_python_3_11/lib/python3.11/site-packages/torch/_inductor/debug.py\", line 305, in inner\n",
      "[2024-11-07 18:18:29,959] torch._dynamo.convert_frame: [WARNING]     return fn(*args, **kwargs)\n",
      "[2024-11-07 18:18:29,959] torch._dynamo.convert_frame: [WARNING]            ^^^^^^^^^^^^^^^^^^^\n",
      "[2024-11-07 18:18:29,959] torch._dynamo.convert_frame: [WARNING]   File \"/opt/anaconda3/envs/anaconda_python_3_11/lib/python3.11/contextlib.py\", line 81, in inner\n",
      "[2024-11-07 18:18:29,959] torch._dynamo.convert_frame: [WARNING]     return func(*args, **kwds)\n",
      "[2024-11-07 18:18:29,959] torch._dynamo.convert_frame: [WARNING]            ^^^^^^^^^^^^^^^^^^^\n",
      "[2024-11-07 18:18:29,959] torch._dynamo.convert_frame: [WARNING]   File \"/opt/anaconda3/envs/anaconda_python_3_11/lib/python3.11/site-packages/torch/_inductor/compile_fx.py\", line 320, in compile_fx_inner\n",
      "[2024-11-07 18:18:29,959] torch._dynamo.convert_frame: [WARNING]     compiled_graph = fx_codegen_and_compile(\n",
      "[2024-11-07 18:18:29,959] torch._dynamo.convert_frame: [WARNING]                      ^^^^^^^^^^^^^^^^^^^^^^^\n",
      "[2024-11-07 18:18:29,959] torch._dynamo.convert_frame: [WARNING]   File \"/opt/anaconda3/envs/anaconda_python_3_11/lib/python3.11/site-packages/torch/_inductor/compile_fx.py\", line 550, in fx_codegen_and_compile\n",
      "[2024-11-07 18:18:29,959] torch._dynamo.convert_frame: [WARNING]     compiled_fn = graph.compile_to_fn()\n",
      "[2024-11-07 18:18:29,959] torch._dynamo.convert_frame: [WARNING]                   ^^^^^^^^^^^^^^^^^^^^^\n",
      "[2024-11-07 18:18:29,959] torch._dynamo.convert_frame: [WARNING]   File \"/opt/anaconda3/envs/anaconda_python_3_11/lib/python3.11/site-packages/torch/_inductor/graph.py\", line 1116, in compile_to_fn\n",
      "[2024-11-07 18:18:29,959] torch._dynamo.convert_frame: [WARNING]     return self.compile_to_module().call\n",
      "[2024-11-07 18:18:29,959] torch._dynamo.convert_frame: [WARNING]            ^^^^^^^^^^^^^^^^^^^^^^^^\n",
      "[2024-11-07 18:18:29,959] torch._dynamo.convert_frame: [WARNING]   File \"/opt/anaconda3/envs/anaconda_python_3_11/lib/python3.11/site-packages/torch/_dynamo/utils.py\", line 244, in time_wrapper\n",
      "[2024-11-07 18:18:29,959] torch._dynamo.convert_frame: [WARNING]     r = func(*args, **kwargs)\n",
      "[2024-11-07 18:18:29,959] torch._dynamo.convert_frame: [WARNING]         ^^^^^^^^^^^^^^^^^^^^^\n",
      "[2024-11-07 18:18:29,959] torch._dynamo.convert_frame: [WARNING]   File \"/opt/anaconda3/envs/anaconda_python_3_11/lib/python3.11/site-packages/torch/_inductor/graph.py\", line 1066, in compile_to_module\n",
      "[2024-11-07 18:18:29,959] torch._dynamo.convert_frame: [WARNING]     self.codegen_with_cpp_wrapper() if self.cpp_wrapper else self.codegen()\n",
      "[2024-11-07 18:18:29,959] torch._dynamo.convert_frame: [WARNING]                                                              ^^^^^^^^^^^^^^\n",
      "[2024-11-07 18:18:29,959] torch._dynamo.convert_frame: [WARNING]   File \"/opt/anaconda3/envs/anaconda_python_3_11/lib/python3.11/site-packages/torch/_inductor/graph.py\", line 1039, in codegen\n",
      "[2024-11-07 18:18:29,959] torch._dynamo.convert_frame: [WARNING]     self.init_wrapper_code()\n",
      "[2024-11-07 18:18:29,959] torch._dynamo.convert_frame: [WARNING]   File \"/opt/anaconda3/envs/anaconda_python_3_11/lib/python3.11/site-packages/torch/_inductor/graph.py\", line 993, in init_wrapper_code\n",
      "[2024-11-07 18:18:29,959] torch._dynamo.convert_frame: [WARNING]     assert wrapper_code_gen_cls is not None, f\"Device {device_type} not supported\"\n",
      "[2024-11-07 18:18:29,959] torch._dynamo.convert_frame: [WARNING]            ^^^^^^^^^^^^^^^^^^^^^^^^^^^^^^^^\n",
      "[2024-11-07 18:18:29,959] torch._dynamo.convert_frame: [WARNING] torch._dynamo.exc.BackendCompilerFailed: backend='inductor' raised:\n",
      "[2024-11-07 18:18:29,959] torch._dynamo.convert_frame: [WARNING] AssertionError: Device mps not supported\n",
      "[2024-11-07 18:18:29,959] torch._dynamo.convert_frame: [WARNING] \n",
      "[2024-11-07 18:18:29,959] torch._dynamo.convert_frame: [WARNING] Set TORCH_LOGS=\"+dynamo\" and TORCHDYNAMO_VERBOSE=1 for more information\n",
      "[2024-11-07 18:18:29,959] torch._dynamo.convert_frame: [WARNING] \n",
      "[2024-11-07 18:18:29,959] torch._dynamo.convert_frame: [WARNING] Traceback (most recent call last):\n",
      "[2024-11-07 18:18:29,959] torch._dynamo.convert_frame: [WARNING]   File \"/opt/anaconda3/envs/anaconda_python_3_11/lib/python3.11/site-packages/torch/_dynamo/convert_frame.py\", line 727, in _convert_frame\n",
      "[2024-11-07 18:18:29,959] torch._dynamo.convert_frame: [WARNING]     result = inner_convert(frame, cache_entry, hooks, frame_state)\n",
      "[2024-11-07 18:18:29,959] torch._dynamo.convert_frame: [WARNING]              ^^^^^^^^^^^^^^^^^^^^^^^^^^^^^^^^^^^^^^^^^^^^^^^^^^^^^\n",
      "[2024-11-07 18:18:29,959] torch._dynamo.convert_frame: [WARNING]   File \"/opt/anaconda3/envs/anaconda_python_3_11/lib/python3.11/site-packages/torch/_dynamo/convert_frame.py\", line 383, in _convert_frame_assert\n",
      "[2024-11-07 18:18:29,959] torch._dynamo.convert_frame: [WARNING]     compiled_product = _compile(\n",
      "[2024-11-07 18:18:29,959] torch._dynamo.convert_frame: [WARNING]                        ^^^^^^^^^\n",
      "[2024-11-07 18:18:29,959] torch._dynamo.convert_frame: [WARNING]   File \"/opt/anaconda3/envs/anaconda_python_3_11/lib/python3.11/site-packages/torch/_dynamo/convert_frame.py\", line 646, in _compile\n",
      "[2024-11-07 18:18:29,959] torch._dynamo.convert_frame: [WARNING]     guarded_code = compile_inner(code, one_graph, hooks, transform)\n",
      "[2024-11-07 18:18:29,959] torch._dynamo.convert_frame: [WARNING]                    ^^^^^^^^^^^^^^^^^^^^^^^^^^^^^^^^^^^^^^^^^^^^^^^^\n",
      "[2024-11-07 18:18:29,959] torch._dynamo.convert_frame: [WARNING]   File \"/opt/anaconda3/envs/anaconda_python_3_11/lib/python3.11/site-packages/torch/_dynamo/utils.py\", line 244, in time_wrapper\n",
      "[2024-11-07 18:18:29,959] torch._dynamo.convert_frame: [WARNING]     r = func(*args, **kwargs)\n",
      "[2024-11-07 18:18:29,959] torch._dynamo.convert_frame: [WARNING]         ^^^^^^^^^^^^^^^^^^^^^\n",
      "[2024-11-07 18:18:29,959] torch._dynamo.convert_frame: [WARNING]   File \"/opt/anaconda3/envs/anaconda_python_3_11/lib/python3.11/site-packages/torch/_dynamo/convert_frame.py\", line 562, in compile_inner\n",
      "[2024-11-07 18:18:29,959] torch._dynamo.convert_frame: [WARNING]     out_code = transform_code_object(code, transform)\n",
      "[2024-11-07 18:18:29,959] torch._dynamo.convert_frame: [WARNING]                ^^^^^^^^^^^^^^^^^^^^^^^^^^^^^^^^^^^^^^\n",
      "[2024-11-07 18:18:29,959] torch._dynamo.convert_frame: [WARNING]   File \"/opt/anaconda3/envs/anaconda_python_3_11/lib/python3.11/site-packages/torch/_dynamo/bytecode_transformation.py\", line 1033, in transform_code_object\n",
      "[2024-11-07 18:18:29,959] torch._dynamo.convert_frame: [WARNING]     transformations(instructions, code_options)\n",
      "[2024-11-07 18:18:29,959] torch._dynamo.convert_frame: [WARNING]   File \"/opt/anaconda3/envs/anaconda_python_3_11/lib/python3.11/site-packages/torch/_dynamo/convert_frame.py\", line 151, in _fn\n",
      "[2024-11-07 18:18:29,959] torch._dynamo.convert_frame: [WARNING]     return fn(*args, **kwargs)\n",
      "[2024-11-07 18:18:29,959] torch._dynamo.convert_frame: [WARNING]            ^^^^^^^^^^^^^^^^^^^\n",
      "[2024-11-07 18:18:29,959] torch._dynamo.convert_frame: [WARNING]   File \"/opt/anaconda3/envs/anaconda_python_3_11/lib/python3.11/site-packages/torch/_dynamo/convert_frame.py\", line 527, in transform\n",
      "[2024-11-07 18:18:29,959] torch._dynamo.convert_frame: [WARNING]     tracer.run()\n",
      "[2024-11-07 18:18:29,959] torch._dynamo.convert_frame: [WARNING]   File \"/opt/anaconda3/envs/anaconda_python_3_11/lib/python3.11/site-packages/torch/_dynamo/symbolic_convert.py\", line 2128, in run\n",
      "[2024-11-07 18:18:29,959] torch._dynamo.convert_frame: [WARNING]     super().run()\n",
      "[2024-11-07 18:18:29,959] torch._dynamo.convert_frame: [WARNING]   File \"/opt/anaconda3/envs/anaconda_python_3_11/lib/python3.11/site-packages/torch/_dynamo/symbolic_convert.py\", line 818, in run\n",
      "[2024-11-07 18:18:29,959] torch._dynamo.convert_frame: [WARNING]     and self.step()\n",
      "[2024-11-07 18:18:29,959] torch._dynamo.convert_frame: [WARNING]         ^^^^^^^^^^^\n",
      "[2024-11-07 18:18:29,959] torch._dynamo.convert_frame: [WARNING]   File \"/opt/anaconda3/envs/anaconda_python_3_11/lib/python3.11/site-packages/torch/_dynamo/symbolic_convert.py\", line 781, in step\n",
      "[2024-11-07 18:18:29,959] torch._dynamo.convert_frame: [WARNING]     getattr(self, inst.opname)(inst)\n",
      "[2024-11-07 18:18:29,959] torch._dynamo.convert_frame: [WARNING]   File \"/opt/anaconda3/envs/anaconda_python_3_11/lib/python3.11/site-packages/torch/_dynamo/symbolic_convert.py\", line 2243, in RETURN_VALUE\n",
      "[2024-11-07 18:18:29,959] torch._dynamo.convert_frame: [WARNING]     self.output.compile_subgraph(\n",
      "[2024-11-07 18:18:29,959] torch._dynamo.convert_frame: [WARNING]   File \"/opt/anaconda3/envs/anaconda_python_3_11/lib/python3.11/site-packages/torch/_dynamo/output_graph.py\", line 919, in compile_subgraph\n",
      "[2024-11-07 18:18:29,959] torch._dynamo.convert_frame: [WARNING]     self.compile_and_call_fx_graph(tx, list(reversed(stack_values)), root)\n",
      "[2024-11-07 18:18:29,959] torch._dynamo.convert_frame: [WARNING]   File \"/opt/anaconda3/envs/anaconda_python_3_11/lib/python3.11/contextlib.py\", line 81, in inner\n",
      "[2024-11-07 18:18:29,959] torch._dynamo.convert_frame: [WARNING]     return func(*args, **kwds)\n",
      "[2024-11-07 18:18:29,959] torch._dynamo.convert_frame: [WARNING]            ^^^^^^^^^^^^^^^^^^^\n",
      "[2024-11-07 18:18:29,959] torch._dynamo.convert_frame: [WARNING]   File \"/opt/anaconda3/envs/anaconda_python_3_11/lib/python3.11/site-packages/torch/_dynamo/output_graph.py\", line 1087, in compile_and_call_fx_graph\n",
      "[2024-11-07 18:18:29,959] torch._dynamo.convert_frame: [WARNING]     compiled_fn = self.call_user_compiler(gm)\n",
      "[2024-11-07 18:18:29,959] torch._dynamo.convert_frame: [WARNING]                   ^^^^^^^^^^^^^^^^^^^^^^^^^^^\n",
      "[2024-11-07 18:18:29,959] torch._dynamo.convert_frame: [WARNING]   File \"/opt/anaconda3/envs/anaconda_python_3_11/lib/python3.11/site-packages/torch/_dynamo/utils.py\", line 244, in time_wrapper\n",
      "[2024-11-07 18:18:29,959] torch._dynamo.convert_frame: [WARNING]     r = func(*args, **kwargs)\n",
      "[2024-11-07 18:18:29,959] torch._dynamo.convert_frame: [WARNING]         ^^^^^^^^^^^^^^^^^^^^^\n",
      "[2024-11-07 18:18:29,959] torch._dynamo.convert_frame: [WARNING]   File \"/opt/anaconda3/envs/anaconda_python_3_11/lib/python3.11/site-packages/torch/_dynamo/output_graph.py\", line 1159, in call_user_compiler\n",
      "[2024-11-07 18:18:29,959] torch._dynamo.convert_frame: [WARNING]     raise BackendCompilerFailed(self.compiler_fn, e).with_traceback(\n",
      "[2024-11-07 18:18:29,959] torch._dynamo.convert_frame: [WARNING]   File \"/opt/anaconda3/envs/anaconda_python_3_11/lib/python3.11/site-packages/torch/_dynamo/output_graph.py\", line 1140, in call_user_compiler\n",
      "[2024-11-07 18:18:29,959] torch._dynamo.convert_frame: [WARNING]     compiled_fn = compiler_fn(gm, self.example_inputs())\n",
      "[2024-11-07 18:18:29,959] torch._dynamo.convert_frame: [WARNING]                   ^^^^^^^^^^^^^^^^^^^^^^^^^^^^^^^^^^^^^^\n",
      "[2024-11-07 18:18:29,959] torch._dynamo.convert_frame: [WARNING]   File \"/opt/anaconda3/envs/anaconda_python_3_11/lib/python3.11/site-packages/torch/_dynamo/repro/after_dynamo.py\", line 117, in debug_wrapper\n",
      "[2024-11-07 18:18:29,959] torch._dynamo.convert_frame: [WARNING]     compiled_gm = compiler_fn(gm, example_inputs)\n",
      "[2024-11-07 18:18:29,959] torch._dynamo.convert_frame: [WARNING]                   ^^^^^^^^^^^^^^^^^^^^^^^^^^^^^^^\n",
      "[2024-11-07 18:18:29,959] torch._dynamo.convert_frame: [WARNING]   File \"/opt/anaconda3/envs/anaconda_python_3_11/lib/python3.11/site-packages/torch/__init__.py\", line 1662, in __call__\n",
      "[2024-11-07 18:18:29,959] torch._dynamo.convert_frame: [WARNING]     return compile_fx(model_, inputs_, config_patches=self.config)\n",
      "[2024-11-07 18:18:29,959] torch._dynamo.convert_frame: [WARNING]            ^^^^^^^^^^^^^^^^^^^^^^^^^^^^^^^^^^^^^^^^^^^^^^^^^^^^^^^\n",
      "[2024-11-07 18:18:29,959] torch._dynamo.convert_frame: [WARNING]   File \"/opt/anaconda3/envs/anaconda_python_3_11/lib/python3.11/site-packages/torch/_inductor/compile_fx.py\", line 1168, in compile_fx\n",
      "[2024-11-07 18:18:29,959] torch._dynamo.convert_frame: [WARNING]     return aot_autograd(\n",
      "[2024-11-07 18:18:29,959] torch._dynamo.convert_frame: [WARNING]            ^^^^^^^^^^^^^\n",
      "[2024-11-07 18:18:29,959] torch._dynamo.convert_frame: [WARNING]   File \"/opt/anaconda3/envs/anaconda_python_3_11/lib/python3.11/site-packages/torch/_dynamo/backends/common.py\", line 55, in compiler_fn\n",
      "[2024-11-07 18:18:29,959] torch._dynamo.convert_frame: [WARNING]     cg = aot_module_simplified(gm, example_inputs, **kwargs)\n",
      "[2024-11-07 18:18:29,959] torch._dynamo.convert_frame: [WARNING]          ^^^^^^^^^^^^^^^^^^^^^^^^^^^^^^^^^^^^^^^^^^^^^^^^^^^\n",
      "[2024-11-07 18:18:29,959] torch._dynamo.convert_frame: [WARNING]   File \"/opt/anaconda3/envs/anaconda_python_3_11/lib/python3.11/site-packages/torch/_functorch/aot_autograd.py\", line 887, in aot_module_simplified\n",
      "[2024-11-07 18:18:29,959] torch._dynamo.convert_frame: [WARNING]     compiled_fn = create_aot_dispatcher_function(\n",
      "[2024-11-07 18:18:29,959] torch._dynamo.convert_frame: [WARNING]                   ^^^^^^^^^^^^^^^^^^^^^^^^^^^^^^^\n",
      "[2024-11-07 18:18:29,959] torch._dynamo.convert_frame: [WARNING]   File \"/opt/anaconda3/envs/anaconda_python_3_11/lib/python3.11/site-packages/torch/_dynamo/utils.py\", line 244, in time_wrapper\n",
      "[2024-11-07 18:18:29,959] torch._dynamo.convert_frame: [WARNING]     r = func(*args, **kwargs)\n",
      "[2024-11-07 18:18:29,959] torch._dynamo.convert_frame: [WARNING]         ^^^^^^^^^^^^^^^^^^^^^\n",
      "[2024-11-07 18:18:29,959] torch._dynamo.convert_frame: [WARNING]   File \"/opt/anaconda3/envs/anaconda_python_3_11/lib/python3.11/site-packages/torch/_functorch/aot_autograd.py\", line 600, in create_aot_dispatcher_function\n",
      "[2024-11-07 18:18:29,959] torch._dynamo.convert_frame: [WARNING]     compiled_fn = compiler_fn(flat_fn, fake_flat_args, aot_config, fw_metadata=fw_metadata)\n",
      "[2024-11-07 18:18:29,959] torch._dynamo.convert_frame: [WARNING]                   ^^^^^^^^^^^^^^^^^^^^^^^^^^^^^^^^^^^^^^^^^^^^^^^^^^^^^^^^^^^^^^^^^^^^^^^^^\n",
      "[2024-11-07 18:18:29,959] torch._dynamo.convert_frame: [WARNING]   File \"/opt/anaconda3/envs/anaconda_python_3_11/lib/python3.11/site-packages/torch/_functorch/_aot_autograd/runtime_wrappers.py\", line 425, in aot_wrapper_dedupe\n",
      "[2024-11-07 18:18:29,959] torch._dynamo.convert_frame: [WARNING]     return compiler_fn(flat_fn, leaf_flat_args, aot_config, fw_metadata=fw_metadata)\n",
      "[2024-11-07 18:18:29,959] torch._dynamo.convert_frame: [WARNING]            ^^^^^^^^^^^^^^^^^^^^^^^^^^^^^^^^^^^^^^^^^^^^^^^^^^^^^^^^^^^^^^^^^^^^^^^^^\n",
      "[2024-11-07 18:18:29,959] torch._dynamo.convert_frame: [WARNING]   File \"/opt/anaconda3/envs/anaconda_python_3_11/lib/python3.11/site-packages/torch/_functorch/_aot_autograd/runtime_wrappers.py\", line 630, in aot_wrapper_synthetic_base\n",
      "[2024-11-07 18:18:29,959] torch._dynamo.convert_frame: [WARNING]     return compiler_fn(flat_fn, flat_args, aot_config, fw_metadata=fw_metadata)\n",
      "[2024-11-07 18:18:29,959] torch._dynamo.convert_frame: [WARNING]            ^^^^^^^^^^^^^^^^^^^^^^^^^^^^^^^^^^^^^^^^^^^^^^^^^^^^^^^^^^^^^^^^^^^^\n",
      "[2024-11-07 18:18:29,959] torch._dynamo.convert_frame: [WARNING]   File \"/opt/anaconda3/envs/anaconda_python_3_11/lib/python3.11/site-packages/torch/_functorch/_aot_autograd/jit_compile_runtime_wrappers.py\", line 295, in aot_dispatch_autograd\n",
      "[2024-11-07 18:18:29,959] torch._dynamo.convert_frame: [WARNING]     compiled_fw_func = aot_config.fw_compiler(fw_module, adjusted_flat_args)\n",
      "[2024-11-07 18:18:29,959] torch._dynamo.convert_frame: [WARNING]                        ^^^^^^^^^^^^^^^^^^^^^^^^^^^^^^^^^^^^^^^^^^^^^^^^^^^^^\n",
      "[2024-11-07 18:18:29,959] torch._dynamo.convert_frame: [WARNING]   File \"/opt/anaconda3/envs/anaconda_python_3_11/lib/python3.11/site-packages/torch/_dynamo/utils.py\", line 244, in time_wrapper\n",
      "[2024-11-07 18:18:29,959] torch._dynamo.convert_frame: [WARNING]     r = func(*args, **kwargs)\n",
      "[2024-11-07 18:18:29,959] torch._dynamo.convert_frame: [WARNING]         ^^^^^^^^^^^^^^^^^^^^^\n",
      "[2024-11-07 18:18:29,959] torch._dynamo.convert_frame: [WARNING]   File \"/opt/anaconda3/envs/anaconda_python_3_11/lib/python3.11/site-packages/torch/_inductor/compile_fx.py\", line 1100, in fw_compiler_base\n",
      "[2024-11-07 18:18:29,959] torch._dynamo.convert_frame: [WARNING]     return inner_compile(\n",
      "[2024-11-07 18:18:29,959] torch._dynamo.convert_frame: [WARNING]            ^^^^^^^^^^^^^^\n",
      "[2024-11-07 18:18:29,959] torch._dynamo.convert_frame: [WARNING]   File \"/opt/anaconda3/envs/anaconda_python_3_11/lib/python3.11/site-packages/torch/_dynamo/repro/after_aot.py\", line 83, in debug_wrapper\n",
      "[2024-11-07 18:18:29,959] torch._dynamo.convert_frame: [WARNING]     inner_compiled_fn = compiler_fn(gm, example_inputs)\n",
      "[2024-11-07 18:18:29,959] torch._dynamo.convert_frame: [WARNING]                         ^^^^^^^^^^^^^^^^^^^^^^^^^^^^^^^\n",
      "[2024-11-07 18:18:29,959] torch._dynamo.convert_frame: [WARNING]   File \"/opt/anaconda3/envs/anaconda_python_3_11/lib/python3.11/site-packages/torch/_inductor/debug.py\", line 305, in inner\n",
      "[2024-11-07 18:18:29,959] torch._dynamo.convert_frame: [WARNING]     return fn(*args, **kwargs)\n",
      "[2024-11-07 18:18:29,959] torch._dynamo.convert_frame: [WARNING]            ^^^^^^^^^^^^^^^^^^^\n",
      "[2024-11-07 18:18:29,959] torch._dynamo.convert_frame: [WARNING]   File \"/opt/anaconda3/envs/anaconda_python_3_11/lib/python3.11/contextlib.py\", line 81, in inner\n",
      "[2024-11-07 18:18:29,959] torch._dynamo.convert_frame: [WARNING]     return func(*args, **kwds)\n",
      "[2024-11-07 18:18:29,959] torch._dynamo.convert_frame: [WARNING]            ^^^^^^^^^^^^^^^^^^^\n",
      "[2024-11-07 18:18:29,959] torch._dynamo.convert_frame: [WARNING]   File \"/opt/anaconda3/envs/anaconda_python_3_11/lib/python3.11/site-packages/torch/_inductor/compile_fx.py\", line 320, in compile_fx_inner\n",
      "[2024-11-07 18:18:29,959] torch._dynamo.convert_frame: [WARNING]     compiled_graph = fx_codegen_and_compile(\n",
      "[2024-11-07 18:18:29,959] torch._dynamo.convert_frame: [WARNING]                      ^^^^^^^^^^^^^^^^^^^^^^^\n",
      "[2024-11-07 18:18:29,959] torch._dynamo.convert_frame: [WARNING]   File \"/opt/anaconda3/envs/anaconda_python_3_11/lib/python3.11/site-packages/torch/_inductor/compile_fx.py\", line 550, in fx_codegen_and_compile\n",
      "[2024-11-07 18:18:29,959] torch._dynamo.convert_frame: [WARNING]     compiled_fn = graph.compile_to_fn()\n",
      "[2024-11-07 18:18:29,959] torch._dynamo.convert_frame: [WARNING]                   ^^^^^^^^^^^^^^^^^^^^^\n",
      "[2024-11-07 18:18:29,959] torch._dynamo.convert_frame: [WARNING]   File \"/opt/anaconda3/envs/anaconda_python_3_11/lib/python3.11/site-packages/torch/_inductor/graph.py\", line 1116, in compile_to_fn\n",
      "[2024-11-07 18:18:29,959] torch._dynamo.convert_frame: [WARNING]     return self.compile_to_module().call\n",
      "[2024-11-07 18:18:29,959] torch._dynamo.convert_frame: [WARNING]            ^^^^^^^^^^^^^^^^^^^^^^^^\n",
      "[2024-11-07 18:18:29,959] torch._dynamo.convert_frame: [WARNING]   File \"/opt/anaconda3/envs/anaconda_python_3_11/lib/python3.11/site-packages/torch/_dynamo/utils.py\", line 244, in time_wrapper\n",
      "[2024-11-07 18:18:29,959] torch._dynamo.convert_frame: [WARNING]     r = func(*args, **kwargs)\n",
      "[2024-11-07 18:18:29,959] torch._dynamo.convert_frame: [WARNING]         ^^^^^^^^^^^^^^^^^^^^^\n",
      "[2024-11-07 18:18:29,959] torch._dynamo.convert_frame: [WARNING]   File \"/opt/anaconda3/envs/anaconda_python_3_11/lib/python3.11/site-packages/torch/_inductor/graph.py\", line 1066, in compile_to_module\n",
      "[2024-11-07 18:18:29,959] torch._dynamo.convert_frame: [WARNING]     self.codegen_with_cpp_wrapper() if self.cpp_wrapper else self.codegen()\n",
      "[2024-11-07 18:18:29,959] torch._dynamo.convert_frame: [WARNING]                                                              ^^^^^^^^^^^^^^\n",
      "[2024-11-07 18:18:29,959] torch._dynamo.convert_frame: [WARNING]   File \"/opt/anaconda3/envs/anaconda_python_3_11/lib/python3.11/site-packages/torch/_inductor/graph.py\", line 1039, in codegen\n",
      "[2024-11-07 18:18:29,959] torch._dynamo.convert_frame: [WARNING]     self.init_wrapper_code()\n",
      "[2024-11-07 18:18:29,959] torch._dynamo.convert_frame: [WARNING]   File \"/opt/anaconda3/envs/anaconda_python_3_11/lib/python3.11/site-packages/torch/_inductor/graph.py\", line 993, in init_wrapper_code\n",
      "[2024-11-07 18:18:29,959] torch._dynamo.convert_frame: [WARNING]     assert wrapper_code_gen_cls is not None, f\"Device {device_type} not supported\"\n",
      "[2024-11-07 18:18:29,959] torch._dynamo.convert_frame: [WARNING]            ^^^^^^^^^^^^^^^^^^^^^^^^^^^^^^^^\n",
      "[2024-11-07 18:18:29,959] torch._dynamo.convert_frame: [WARNING] torch._dynamo.exc.BackendCompilerFailed: backend='inductor' raised:\n",
      "[2024-11-07 18:18:29,959] torch._dynamo.convert_frame: [WARNING] AssertionError: Device mps not supported\n",
      "[2024-11-07 18:18:29,959] torch._dynamo.convert_frame: [WARNING] \n",
      "[2024-11-07 18:18:29,959] torch._dynamo.convert_frame: [WARNING] Set TORCH_LOGS=\"+dynamo\" and TORCHDYNAMO_VERBOSE=1 for more information\n",
      "[2024-11-07 18:18:29,959] torch._dynamo.convert_frame: [WARNING] \n",
      "loss 1.85316:   0%|          | 1/391 [00:02<13:17,  2.05s/it]/opt/anaconda3/envs/anaconda_python_3_11/lib/python3.11/site-packages/torch/amp/autocast_mode.py:250: UserWarning: User provided device_type of 'cuda', but CUDA is not available. Disabling\n",
      "  warnings.warn(\n",
      "loss 1.87263: 100%|██████████| 391/391 [00:16<00:00, 24.24it/s]\n",
      "                                                                                    \r"
     ]
    },
    {
     "name": "stdout",
     "output_type": "stream",
     "text": [
      "Época 1/10, Train Loss: 1.8890704745831697, Validation Loss: 1.8582708669614187, Accuracy: 35.18\n",
      "Época 2/10\n"
     ]
    },
    {
     "name": "stderr",
     "output_type": "stream",
     "text": [
      "loss 1.95932: 100%|██████████| 391/391 [00:14<00:00, 27.53it/s]\n",
      "                                                                                    \r"
     ]
    },
    {
     "name": "stdout",
     "output_type": "stream",
     "text": [
      "Época 2/10, Train Loss: 1.8754578786128013, Validation Loss: 1.8493183881421633, Accuracy: 35.199999999999996\n",
      "Época 3/10\n"
     ]
    },
    {
     "name": "stderr",
     "output_type": "stream",
     "text": [
      "loss 1.92107: 100%|██████████| 391/391 [00:14<00:00, 27.77it/s]\n",
      "                                                                                    \r"
     ]
    },
    {
     "name": "stdout",
     "output_type": "stream",
     "text": [
      "Época 3/10, Train Loss: 1.8638225696275912, Validation Loss: 1.8388218864609924, Accuracy: 35.339999999999996\n",
      "Época 4/10\n"
     ]
    },
    {
     "name": "stderr",
     "output_type": "stream",
     "text": [
      "loss 1.94514: 100%|██████████| 391/391 [00:14<00:00, 27.55it/s]\n",
      "                                                                                    \r"
     ]
    },
    {
     "name": "stdout",
     "output_type": "stream",
     "text": [
      "Época 4/10, Train Loss: 1.8540151564361493, Validation Loss: 1.82764962202386, Accuracy: 35.93\n",
      "Época 5/10\n"
     ]
    },
    {
     "name": "stderr",
     "output_type": "stream",
     "text": [
      "loss 1.71498: 100%|██████████| 391/391 [00:13<00:00, 28.00it/s]\n",
      "                                                                                    \r"
     ]
    },
    {
     "name": "stdout",
     "output_type": "stream",
     "text": [
      "Época 5/10, Train Loss: 1.8457339142289613, Validation Loss: 1.8224718736696848, Accuracy: 36.559999999999995\n",
      "Época 6/10\n"
     ]
    },
    {
     "name": "stderr",
     "output_type": "stream",
     "text": [
      "loss 1.84130: 100%|██████████| 391/391 [00:13<00:00, 28.48it/s]\n",
      "                                                                                    \r"
     ]
    },
    {
     "name": "stdout",
     "output_type": "stream",
     "text": [
      "Época 6/10, Train Loss: 1.8343780071229276, Validation Loss: 1.8135937527765202, Accuracy: 36.57\n",
      "Época 7/10\n"
     ]
    },
    {
     "name": "stderr",
     "output_type": "stream",
     "text": [
      "loss 1.71915: 100%|██████████| 391/391 [00:13<00:00, 28.54it/s]\n",
      "                                                                                    \r"
     ]
    },
    {
     "name": "stdout",
     "output_type": "stream",
     "text": [
      "Época 7/10, Train Loss: 1.8278612651483481, Validation Loss: 1.802623385115515, Accuracy: 36.47\n",
      "Época 8/10\n"
     ]
    },
    {
     "name": "stderr",
     "output_type": "stream",
     "text": [
      "loss 1.76735: 100%|██████████| 391/391 [00:13<00:00, 28.00it/s]\n",
      "                                                                                    \r"
     ]
    },
    {
     "name": "stdout",
     "output_type": "stream",
     "text": [
      "Época 8/10, Train Loss: 1.823718505747178, Validation Loss: 1.793364781367628, Accuracy: 37.14\n",
      "Época 9/10\n"
     ]
    },
    {
     "name": "stderr",
     "output_type": "stream",
     "text": [
      "loss 1.73012: 100%|██████████| 391/391 [00:13<00:00, 28.37it/s]\n",
      "                                                                                    \r"
     ]
    },
    {
     "name": "stdout",
     "output_type": "stream",
     "text": [
      "Época 9/10, Train Loss: 1.8120342227808959, Validation Loss: 1.784661474107187, Accuracy: 37.47\n",
      "Época 10/10\n"
     ]
    },
    {
     "name": "stderr",
     "output_type": "stream",
     "text": [
      "loss 1.77600: 100%|██████████| 391/391 [00:14<00:00, 27.35it/s]\n",
      "                                                                                    "
     ]
    },
    {
     "name": "stdout",
     "output_type": "stream",
     "text": [
      "Época 10/10, Train Loss: 1.8067510868887158, Validation Loss: 1.778958273839347, Accuracy: 37.269999999999996\n"
     ]
    },
    {
     "name": "stderr",
     "output_type": "stream",
     "text": [
      "\r"
     ]
    }
   ],
   "source": [
    "trainer_with_augmentation = Trainer(model_2, train_loader, test_loader, criterion, optimizer, device)\n",
    "\n",
    "for epoch in range(num_epochs):\n",
    "    print(f\"Época {epoch+1}/{num_epochs}\")\n",
    "     # entrenamiento\n",
    "    train_loss = trainer_with_augmentation.train_model(use_amp=True)\n",
    "\n",
    "    # evaluación\n",
    "    val_loss, accuracy = eval_model(model_with_augmentation, criterion, device)\n",
    "    print(f\"Época {epoch+1}/{num_epochs}, Train Loss: {train_loss}, Validation Loss: {val_loss}, Accuracy: {accuracy}\")"
   ]
  },
  {
   "cell_type": "code",
   "execution_count": 293,
   "metadata": {},
   "outputs": [
    {
     "data": {
      "image/png": "[encoded data removed]",
      "text/plain": [
       "<Figure size 1500x1500 with 16 Axes>"
      ]
     },
     "metadata": {},
     "output_type": "display_data"
    }
   ],
   "source": [
    "class_names = train_dataset.classes\n",
    "visualize_classification(model_2, test_loader, class_names, device)\n",
    "plt.show()"
   ]
  },
  {
   "cell_type": "markdown",
   "metadata": {},
   "source": [
    "### Prueba con otros hiperparámetros"
   ]
  },
  {
   "cell_type": "code",
   "execution_count": 294,
   "metadata": {},
   "outputs": [],
   "source": [
    "num_epochs = 20     # se cambia a 20 epocas \n",
    "img_size = 256      # mas info espacial a diferencia de la prueba anterior\n",
    "patch_size = 32     # tamaño del parche (32x32)\n",
    "embed_dim = 128      # dimensión de los embeddings\n",
    "num_heads = 8       # número de cabezas de atención\n",
    "ff_dim = 256        # dimensión de la capa feed-forward\n",
    "num_layers = 8      # número de capas Transformer\n",
    "num_classes = 10    # número de clases (CIFAR-10 tiene 10 clases)\n",
    "dropout = 0.4       # tasa de abandono\n",
    "batch_size = 128\n",
    "learning_rate = 1e-4  # se cambia el lr a un valor más alto\n",
    "early_stopping_patience = 3  # aplicar EarlyStopping si no mejora después de 3 épocas"
   ]
  },
  {
   "cell_type": "code",
   "execution_count": 295,
   "metadata": {},
   "outputs": [
    {
     "name": "stderr",
     "output_type": "stream",
     "text": [
      "/opt/anaconda3/envs/anaconda_python_3_11/lib/python3.11/site-packages/torch/nn/modules/transformer.py:286: UserWarning: enable_nested_tensor is True, but self.use_nested_tensor is False because encoder_layer.self_attn.batch_first was not True(use batch_first for better inference performance)\n",
      "  warnings.warn(f\"enable_nested_tensor is True, but self.use_nested_tensor is False because {why_not_sparsity_fast_path}\")\n",
      "/opt/anaconda3/envs/anaconda_python_3_11/lib/python3.11/site-packages/torch/optim/lr_scheduler.py:28: UserWarning: The verbose parameter is deprecated. Please use get_last_lr() to access the learning rate.\n",
      "  warnings.warn(\"The verbose parameter is deprecated. Please use get_last_lr() \"\n"
     ]
    }
   ],
   "source": [
    "from torch.optim.lr_scheduler import ReduceLROnPlateau\n",
    "from trainer import EarlyStopping \n",
    "\n",
    "model_with_augmentation = VisionTransformer(\n",
    "    img_size=img_size, \n",
    "    patch_size=patch_size, \n",
    "    num_classes=num_classes, \n",
    "    embed_dim=embed_dim, \n",
    "    num_heads=num_heads, \n",
    "    ff_dim=ff_dim, \n",
    "    num_layers=num_layers, \n",
    "    dropout=dropout\n",
    ").to(device)\n",
    "\n",
    "# Funciones de pérdida y optimizador\n",
    "criterion = nn.CrossEntropyLoss()\n",
    "optimizer = optim.Adam(model_with_augmentation.parameters(), lr=learning_rate)  \n",
    "scheduler = ReduceLROnPlateau(optimizer, mode='min', factor=0.1, patience=early_stopping_patience, verbose=True)  # Reducir LR cuando la validación no mejora\n",
    "\n",
    "# EarlyStopping\n",
    "early_stopping = EarlyStopping(patience=early_stopping_patience)\n",
    "\n",
    "model_3 = model_with_augmentation.to(device)\n",
    "\n",
    "try:\n",
    "    model_3 = torch.compile(model_3)\n",
    "except Exception as e:\n",
    "    print(\"Se produjo error durante la compilación:\", e)"
   ]
  },
  {
   "cell_type": "code",
   "execution_count": 296,
   "metadata": {},
   "outputs": [
    {
     "name": "stdout",
     "output_type": "stream",
     "text": [
      "Número de parámetros: 1.46 millones\n"
     ]
    }
   ],
   "source": [
    "print(\"Número de parámetros: {:.2f} millones\".format(count_parameters(model_3)))"
   ]
  },
  {
   "cell_type": "code",
   "execution_count": 297,
   "metadata": {},
   "outputs": [
    {
     "name": "stdout",
     "output_type": "stream",
     "text": [
      "Época 1/20\n"
     ]
    },
    {
     "name": "stderr",
     "output_type": "stream",
     "text": [
      "  0%|          | 0/391 [00:00<?, ?it/s]/opt/anaconda3/envs/anaconda_python_3_11/lib/python3.11/site-packages/torch/amp/autocast_mode.py:250: UserWarning: User provided device_type of 'cuda', but CUDA is not available. Disabling\n",
      "  warnings.warn(\n",
      "loss 1.81902: 100%|██████████| 391/391 [00:55<00:00,  7.05it/s]\n",
      "                                                                                    \r"
     ]
    },
    {
     "name": "stdout",
     "output_type": "stream",
     "text": [
      "Época 1/20, Train Loss: 2.005480601964399, Validation Loss: 1.7778428159182584, Accuracy: 36.33\n",
      "Época 2/20\n"
     ]
    },
    {
     "name": "stderr",
     "output_type": "stream",
     "text": [
      "loss 1.64407: 100%|██████████| 391/391 [00:55<00:00,  7.10it/s]\n",
      "                                                                                    \r"
     ]
    },
    {
     "name": "stdout",
     "output_type": "stream",
     "text": [
      "Época 2/20, Train Loss: 1.8217507082483042, Validation Loss: 1.6624384665790992, Accuracy: 39.58\n",
      "Época 3/20\n"
     ]
    },
    {
     "name": "stderr",
     "output_type": "stream",
     "text": [
      "loss 1.73818: 100%|██████████| 391/391 [00:54<00:00,  7.13it/s]\n",
      "                                                                                    \r"
     ]
    },
    {
     "name": "stdout",
     "output_type": "stream",
     "text": [
      "Época 3/20, Train Loss: 1.7546175084150661, Validation Loss: 1.5954620491100262, Accuracy: 42.21\n",
      "Época 4/20\n"
     ]
    },
    {
     "name": "stderr",
     "output_type": "stream",
     "text": [
      "loss 1.61999: 100%|██████████| 391/391 [00:55<00:00,  7.06it/s]\n",
      "                                                                                    \r"
     ]
    },
    {
     "name": "stdout",
     "output_type": "stream",
     "text": [
      "Época 4/20, Train Loss: 1.7114949781266624, Validation Loss: 1.5794117752509782, Accuracy: 42.559999999999995\n",
      "Época 5/20\n"
     ]
    },
    {
     "name": "stderr",
     "output_type": "stream",
     "text": [
      "loss 1.45570: 100%|██████████| 391/391 [00:55<00:00,  7.09it/s]\n",
      "                                                                                    \r"
     ]
    },
    {
     "name": "stdout",
     "output_type": "stream",
     "text": [
      "Época 5/20, Train Loss: 1.6725155898677113, Validation Loss: 1.5464455975761897, Accuracy: 44.59\n",
      "Época 6/20\n"
     ]
    },
    {
     "name": "stderr",
     "output_type": "stream",
     "text": [
      "loss 1.42790: 100%|██████████| 391/391 [00:55<00:00,  7.01it/s]\n",
      "                                                                                    \r"
     ]
    },
    {
     "name": "stdout",
     "output_type": "stream",
     "text": [
      "Época 6/20, Train Loss: 1.647789820685716, Validation Loss: 1.5113524877572362, Accuracy: 45.33\n",
      "Época 7/20\n"
     ]
    },
    {
     "name": "stderr",
     "output_type": "stream",
     "text": [
      "loss 1.44454: 100%|██████████| 391/391 [00:55<00:00,  7.10it/s]\n",
      "                                                                                    \r"
     ]
    },
    {
     "name": "stdout",
     "output_type": "stream",
     "text": [
      "Época 7/20, Train Loss: 1.6218302838332819, Validation Loss: 1.491852862925469, Accuracy: 46.0\n",
      "Época 8/20\n"
     ]
    },
    {
     "name": "stderr",
     "output_type": "stream",
     "text": [
      "loss 1.74918: 100%|██████████| 391/391 [00:54<00:00,  7.13it/s]\n",
      "                                                                                    \r"
     ]
    },
    {
     "name": "stdout",
     "output_type": "stream",
     "text": [
      "Época 8/20, Train Loss: 1.6005871238001168, Validation Loss: 1.4872501198249528, Accuracy: 45.910000000000004\n",
      "Época 9/20\n"
     ]
    },
    {
     "name": "stderr",
     "output_type": "stream",
     "text": [
      "loss 1.45680: 100%|██████████| 391/391 [00:55<00:00,  7.02it/s]\n",
      "                                                                                    \r"
     ]
    },
    {
     "name": "stdout",
     "output_type": "stream",
     "text": [
      "Época 9/20, Train Loss: 1.582364298498539, Validation Loss: 1.4714809776861457, Accuracy: 47.43\n",
      "Época 10/20\n"
     ]
    },
    {
     "name": "stderr",
     "output_type": "stream",
     "text": [
      "loss 1.60764: 100%|██████████| 391/391 [00:56<00:00,  6.94it/s]\n",
      "                                                                                    \r"
     ]
    },
    {
     "name": "stdout",
     "output_type": "stream",
     "text": [
      "Época 10/20, Train Loss: 1.5661554110934361, Validation Loss: 1.4438780757445324, Accuracy: 48.33\n",
      "Época 11/20\n"
     ]
    },
    {
     "name": "stderr",
     "output_type": "stream",
     "text": [
      "loss 1.72191: 100%|██████████| 391/391 [00:55<00:00,  7.08it/s]\n",
      "                                                                                    \r"
     ]
    },
    {
     "name": "stdout",
     "output_type": "stream",
     "text": [
      "Época 11/20, Train Loss: 1.551601043747514, Validation Loss: 1.4315996185133728, Accuracy: 48.370000000000005\n",
      "Época 12/20\n"
     ]
    },
    {
     "name": "stderr",
     "output_type": "stream",
     "text": [
      "loss 1.61775: 100%|██████████| 391/391 [00:54<00:00,  7.18it/s]\n",
      "                                                                                    \r"
     ]
    },
    {
     "name": "stdout",
     "output_type": "stream",
     "text": [
      "Época 12/20, Train Loss: 1.5391783195993174, Validation Loss: 1.4124976426740237, Accuracy: 49.28\n",
      "Época 13/20\n"
     ]
    },
    {
     "name": "stderr",
     "output_type": "stream",
     "text": [
      "loss 1.58433: 100%|██████████| 391/391 [00:54<00:00,  7.17it/s]\n",
      "                                                                                    \r"
     ]
    },
    {
     "name": "stdout",
     "output_type": "stream",
     "text": [
      "Época 13/20, Train Loss: 1.52765884057945, Validation Loss: 1.4023351276977152, Accuracy: 49.81\n",
      "Época 14/20\n"
     ]
    },
    {
     "name": "stderr",
     "output_type": "stream",
     "text": [
      "loss 1.74706: 100%|██████████| 391/391 [00:54<00:00,  7.17it/s]\n",
      "                                                                                    \r"
     ]
    },
    {
     "name": "stdout",
     "output_type": "stream",
     "text": [
      "Época 14/20, Train Loss: 1.5167054596459468, Validation Loss: 1.4043484066106096, Accuracy: 49.53\n",
      "Época 15/20\n"
     ]
    },
    {
     "name": "stderr",
     "output_type": "stream",
     "text": [
      "loss 1.43703: 100%|██████████| 391/391 [00:54<00:00,  7.17it/s]\n",
      "                                                                                    \r"
     ]
    },
    {
     "name": "stdout",
     "output_type": "stream",
     "text": [
      "Época 15/20, Train Loss: 1.5064568854963687, Validation Loss: 1.3793870225737366, Accuracy: 50.1\n",
      "Época 16/20\n"
     ]
    },
    {
     "name": "stderr",
     "output_type": "stream",
     "text": [
      "loss 1.53325: 100%|██████████| 391/391 [00:55<00:00,  7.02it/s]\n",
      "                                                                                    \r"
     ]
    },
    {
     "name": "stdout",
     "output_type": "stream",
     "text": [
      "Época 16/20, Train Loss: 1.4918264684164921, Validation Loss: 1.3745878859411311, Accuracy: 50.62\n",
      "Época 17/20\n"
     ]
    },
    {
     "name": "stderr",
     "output_type": "stream",
     "text": [
      "loss 1.56076: 100%|██████████| 391/391 [00:55<00:00,  6.99it/s]\n",
      "                                                                                    \r"
     ]
    },
    {
     "name": "stdout",
     "output_type": "stream",
     "text": [
      "Época 17/20, Train Loss: 1.4869344511910167, Validation Loss: 1.3819759269303913, Accuracy: 50.580000000000005\n",
      "Época 18/20\n"
     ]
    },
    {
     "name": "stderr",
     "output_type": "stream",
     "text": [
      "loss 1.57812: 100%|██████████| 391/391 [00:54<00:00,  7.12it/s]\n",
      "                                                                                    \r"
     ]
    },
    {
     "name": "stdout",
     "output_type": "stream",
     "text": [
      "Época 18/20, Train Loss: 1.481069774274021, Validation Loss: 1.3673609208457078, Accuracy: 51.239999999999995\n",
      "Época 19/20\n"
     ]
    },
    {
     "name": "stderr",
     "output_type": "stream",
     "text": [
      "loss 1.51609: 100%|██████████| 391/391 [00:54<00:00,  7.18it/s]\n",
      "                                                                                    \r"
     ]
    },
    {
     "name": "stdout",
     "output_type": "stream",
     "text": [
      "Época 19/20, Train Loss: 1.4683924565839646, Validation Loss: 1.3520158755628369, Accuracy: 51.790000000000006\n",
      "Época 20/20\n"
     ]
    },
    {
     "name": "stderr",
     "output_type": "stream",
     "text": [
      "loss 1.50480: 100%|██████████| 391/391 [00:54<00:00,  7.19it/s]\n",
      "                                                                                    "
     ]
    },
    {
     "name": "stdout",
     "output_type": "stream",
     "text": [
      "Época 20/20, Train Loss: 1.4651611860450882, Validation Loss: 1.3449816552898552, Accuracy: 52.04\n"
     ]
    },
    {
     "name": "stderr",
     "output_type": "stream",
     "text": [
      "\r"
     ]
    }
   ],
   "source": [
    "from trainer import Trainer\n",
    "trainer_with_augmentation = Trainer(model_3, train_loader, test_loader, criterion, optimizer, device)\n",
    "\n",
    "for epoch in range(num_epochs):\n",
    "    print(f\"Época {epoch+1}/{num_epochs}\")\n",
    "    \n",
    "    # entrenamiento\n",
    "    train_loss = trainer_with_augmentation.train_model(use_amp=True)\n",
    "\n",
    "    # evaluación\n",
    "    val_loss, accuracy = eval_model(model_with_augmentation, criterion, device)\n",
    "    print(f\"Época {epoch+1}/{num_epochs}, Train Loss: {train_loss}, Validation Loss: {val_loss}, Accuracy: {accuracy}\")\n",
    "\n",
    "    # actualiza el scheduler\n",
    "    scheduler.step(val_loss)\n",
    "\n",
    "    if early_stopping(model_with_augmentation, val_loss):\n",
    "        print(\"Early stopping\")\n",
    "        break\n"
   ]
  },
  {
   "cell_type": "code",
   "execution_count": 298,
   "metadata": {},
   "outputs": [
    {
     "data": {
      "image/png": "[encoded data removed]",
      "text/plain": [
       "<Figure size 1500x1500 with 16 Axes>"
      ]
     },
     "metadata": {},
     "output_type": "display_data"
    }
   ],
   "source": [
    "class_names = train_dataset.classes\n",
    "visualize_classification(model_with_augmentation, test_loader, class_names, device)\n",
    "plt.show()"
   ]
  },
  {
   "cell_type": "markdown",
   "metadata": {},
   "source": [
    "## Conclusiones de los Modelos\n",
    "### Modelo 1 (original):\n",
    "\n",
    "Configuración: Sin cambios en la arquitectura, usa parámetros iniciales y optimizador Adam.\n",
    "- Resultados:\n",
    "Al parecer, el modelo ha tenido problemas para mejorar significativamente sus métricas.\n",
    "Las métricas como la precisión y la pérdida se han estancado, sugiriendo que el modelo puede estar limitado por la arquitectura y los hiperparámetros iniciales.\n",
    "Este modelo no parece tener un rendimiento competitivo en CIFAR-10, debido por la arquitectura y parámetros de entrenamiento inadecuados para este conjunto de datos.\n",
    "\n",
    "### Modelo 2 (con aumentación de datos):\n",
    "\n",
    "- Configuración: Aumenta embed_dim a 64, ff_dim a 128, y el número de capas a 4. Usa optimizador SGD con tasa de aprendizaje más baja. Batch Size de 128, y dropout de 0.3. Imagen con tamaño CIFAR-10 de 32x32.\n",
    "- Resultados: La pérdida de entrenamiento y validación ha disminuido gradualmente a lo largo de las épocas, con el último Train Loss de 1.81 y Validation Loss de 1.77.\n",
    "Precisión final de 37.27%.\n",
    "Aunque hay mejoras ligeras, la precisión sigue siendo relativamente baja.\n",
    "El uso de SGD y el ajuste de hiperparámetros lograron reducir la pérdida y aumentar la precisión, aunque el modelo aún no generaliza bien en CIFAR-10. Una posible causa es el tamaño de la imagen y el valor bajo de embed_dim, que podrían no capturar suficientes características.\n",
    "\n",
    "### Modelo 3 (con aumentación de datos):\n",
    "\n",
    "- Configuración: img_size incrementado a 256 para captar más detalles. embed_dim aumentado a 128, num_heads a 8, ff_dim a 256 y num_layers a 8. Batch Size de 128, dropout de 0.4. Early Stopping aplicado para evitar el sobreajuste.\n",
    "- Resultados: Pérdida y precisión mejoran consistentemente, con un último Train Loss de 1.53 y Validation Loss de 1.41 en la época 13.\n",
    "La precisión alcanza un 49.28% en la última época reportada, lo cual es un avance considerable en comparación con los otros modelos.\n",
    "El entrenamiento no llegó a 20 épocas completas gracias a Early Stopping, lo que evitó un entrenamiento innecesario.\n",
    "\n",
    "Este modelo muestra un rendimiento mucho más competitivo en CIFAR-10, con una precisión cercana al 50%. La combinación de un tamaño de imagen más grande, mayor dimensión de embedding, y más capas ha permitido capturar mejor las características del dataset.\n",
    "\n",
    "## Rendimiento General: \n",
    "\n",
    "El Modelo 3 mostró el mejor rendimiento, beneficiándose de una configuración más compleja con un embed_dim y ff_dim mayores, así como más capas de atención y una mayor tasa de dropout."
   ]
  }
 ],
 "metadata": {
  "kernelspec": {
   "display_name": "base",
   "language": "python",
   "name": "python3"
  },
  "language_info": {
   "codemirror_mode": {
    "name": "ipython",
    "version": 3
   },
   "file_extension": ".py",
   "mimetype": "text/x-python",
   "name": "python",
   "nbconvert_exporter": "python",
   "pygments_lexer": "ipython3",
   "version": "3.11.0"
  }
 },
 "nbformat": 4,
 "nbformat_minor": 2
}
